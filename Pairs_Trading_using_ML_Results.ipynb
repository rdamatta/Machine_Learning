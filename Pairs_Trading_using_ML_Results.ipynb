{
  "nbformat": 4,
  "nbformat_minor": 0,
  "metadata": {
    "colab": {
      "name": "Cópia Pairs Trading using ML - Results.ipynb",
      "provenance": [],
      "collapsed_sections": [],
      "authorship_tag": "ABX9TyOP6UQBW3l2rcYGWtVAql4n",
      "include_colab_link": true
    },
    "kernelspec": {
      "name": "python3",
      "display_name": "Python 3"
    }
  },
  "cells": [
    {
      "cell_type": "markdown",
      "metadata": {
        "id": "view-in-github",
        "colab_type": "text"
      },
      "source": [
        "<a href=\"https://colab.research.google.com/github/rdamatta/myRepo/blob/master/Pairs_Trading_using_ML_Results.ipynb\" target=\"_parent\"><img src=\"https://colab.research.google.com/assets/colab-badge.svg\" alt=\"Open In Colab\"/></a>"
      ]
    },
    {
      "cell_type": "markdown",
      "metadata": {
        "id": "Pmlb7HA2fhdU",
        "colab_type": "text"
      },
      "source": [
        "# Pairs Trading, a Machine Learning approach"
      ]
    },
    {
      "cell_type": "markdown",
      "metadata": {
        "id": "ROFvMmAXfrdU",
        "colab_type": "text"
      },
      "source": [
        "Pairs Trading is an arbitrage strategy involving two equities which prices have comoved in the past and is expected to do so in the future. The rationale behind is simple: at the entry point, short the stock which outperforms and long the underperforming stock. Afterward, liquidate the position at the exit point.\n",
        "\n",
        "Here we used two Machine Learning algorithms namely, Recurrent Neural Networks (RNN) and Reinforcement Learning (RL) to support a Pairs Trading strategy on High-Frequency Data (HFD) from a set of 2365 stocks from 3 different US exchanges. "
      ]
    },
    {
      "cell_type": "markdown",
      "metadata": {
        "id": "uvgTsLKEf6Sj",
        "colab_type": "text"
      },
      "source": [
        "## 7. Results"
      ]
    },
    {
      "cell_type": "markdown",
      "metadata": {
        "id": "R66nduCzgbQV",
        "colab_type": "text"
      },
      "source": [
        "### 7.1 Time windows"
      ]
    },
    {
      "cell_type": "markdown",
      "metadata": {
        "id": "WXvsouQkgE0m",
        "colab_type": "text"
      },
      "source": [
        "Pairs formation is the first stage of the strategy after pre-processing data. We used 2 days for pair formation and 1 day for trade in a rolling base, which means, the first time window used the first and second working day of the month for pair formation, thus the third working day was for trade. The second time window used the second and the third working day of the month for pair formation, the fourth day was for trade, and so on.\n",
        "\n",
        "![texto alternativo](https://drive.google.com/uc?id=1_oK_WkIo9yvBQ6pV8cfimmhiC1hoMIZh)"
      ]
    },
    {
      "cell_type": "markdown",
      "metadata": {
        "id": "uCziX5-FuuUT",
        "colab_type": "text"
      },
      "source": [
        "In the end, we got 19 time windows where we ran the algorithm to form pairs and then trade."
      ]
    },
    {
      "cell_type": "markdown",
      "metadata": {
        "id": "JrdIbOnCvSkI",
        "colab_type": "text"
      },
      "source": [
        "### 7.2 Performance measures"
      ]
    },
    {
      "cell_type": "markdown",
      "metadata": {
        "id": "E-F6WibgwFx-",
        "colab_type": "text"
      },
      "source": [
        "We employed the following performance criteria to evaluate the results."
      ]
    },
    {
      "cell_type": "markdown",
      "metadata": {
        "id": "t-RX9hnqwUw3",
        "colab_type": "text"
      },
      "source": [
        "#### 7.2.1 Final position"
      ]
    },
    {
      "cell_type": "markdown",
      "metadata": {
        "id": "DlftYG8-z8IP",
        "colab_type": "text"
      },
      "source": [
        "Only the trades within the core session of stock exchanges, that is, from 09:30:00 to 16:00:00 were considered. The **final position** means the  portfolio value at the end of the core session. If any long/short position was still open at that time, it was automatically closed."
      ]
    },
    {
      "cell_type": "markdown",
      "metadata": {
        "id": "nwU_B7vB1ATb",
        "colab_type": "text"
      },
      "source": [
        "#### 7.2.2 Maximum portfolio value"
      ]
    },
    {
      "cell_type": "markdown",
      "metadata": {
        "id": "M_lhWlPF1IEc",
        "colab_type": "text"
      },
      "source": [
        "At every frequency bar, the portfolio value is computed according to the previous portfolio value and the execution of a trade order (if it exists). The **maximum portfolio value** is therefore the highest amount computed."
      ]
    },
    {
      "cell_type": "markdown",
      "metadata": {
        "id": "0HQEtwBIwUtX",
        "colab_type": "text"
      },
      "source": [
        "#### 7.2.3 Return"
      ]
    },
    {
      "cell_type": "markdown",
      "metadata": {
        "id": "iTu0HzmVwUpN",
        "colab_type": "text"
      },
      "source": [
        "The **return** may be expressed as a price difference but is generally termed as a percentual change in value. The resulting dimensionless figure is independent of the price level of the financial instrument under evaluation and makes it possible to compare the results effectively across strategies.\n",
        "\n",
        "Return equation can be illustrated as:\n",
        "\n",
        "$$R_{t} = \\frac{P_{t}}{P_{t-1}} -1$$\n",
        "\n",
        "\n",
        "Where *R<sub>t</sub>* means the return at time *t*, *P<sub>t</sub>* portfolio's value at time *t*, and *P<sub>t-1</sub>* portfolio's value at time *t-1*."
      ]
    },
    {
      "cell_type": "markdown",
      "metadata": {
        "id": "-KeQXGviwUlK",
        "colab_type": "text"
      },
      "source": [
        "#### 7.2.4 Average gain"
      ]
    },
    {
      "cell_type": "markdown",
      "metadata": {
        "id": "BFRAWwpM2uZZ",
        "colab_type": "text"
      },
      "source": [
        "If a positive result is observed, the **average gain** measures the average profitability of the strategy. So, the average gain the expected value of all positive results of the strategy."
      ]
    },
    {
      "cell_type": "markdown",
      "metadata": {
        "id": "rOokMYzQAeKg",
        "colab_type": "text"
      },
      "source": [
        "#### 7.2.5 Average loss"
      ]
    },
    {
      "cell_type": "markdown",
      "metadata": {
        "id": "6K55GIV6Aea5",
        "colab_type": "text"
      },
      "source": [
        "Similarly to the average gain, the **average loss** is the expected value of all negative results of the strategy."
      ]
    },
    {
      "cell_type": "markdown",
      "metadata": {
        "id": "VpNPQhjLA1Rt",
        "colab_type": "text"
      },
      "source": [
        "#### 7.2.6 Win ratio"
      ]
    },
    {
      "cell_type": "markdown",
      "metadata": {
        "id": "I0tMF0yvA1hK",
        "colab_type": "text"
      },
      "source": [
        "The **win ratio** describes how profitable the trades ended. It is basically the ratio between the trading periods which experienced a gain and the total trading periods. Win ratios help to evaluate signals precision since improved predictions lead to better win ratios."
      ]
    },
    {
      "cell_type": "markdown",
      "metadata": {
        "id": "FFbBMUefC_xX",
        "colab_type": "text"
      },
      "source": [
        "#### 7.2.7 Volatility"
      ]
    },
    {
      "cell_type": "markdown",
      "metadata": {
        "id": "KJ9v18bHDa9J",
        "colab_type": "text"
      },
      "source": [
        "Return **volatility** measures how much the return increases and falls about its average value. Volatility is also considered a risk measure. The most common measure of volatility is the simple standard deviation."
      ]
    },
    {
      "cell_type": "markdown",
      "metadata": {
        "id": "NkGtFzlwLK4m",
        "colab_type": "text"
      },
      "source": [
        "#### 7.2.8 Sharpe ratio"
      ]
    },
    {
      "cell_type": "markdown",
      "metadata": {
        "id": "BhEv_1PwLc3b",
        "colab_type": "text"
      },
      "source": [
        "The **Sharpe ratio** is the average return per unit of volatility (or total risk) that exceeds the risk-free rate. The subtraction of risk-free rate from the expected return helps an investor to spot income from risk-taking activities more effectively. \n",
        "\n",
        "The Sharpe ratio can be obtained from the equation:\n",
        "\n",
        "$$S = \\frac{R_{p}-R_{f}}{\\sigma_{p} }$$\n",
        "\n",
        "Where *R<sub>p</sub>* means the expected return of the portfolio, *R<sub>f</sub>* the risk-free rate, and *$\\sigma$<sub>p</sub>* the standard deviation of the portfolio's returns."
      ]
    },
    {
      "cell_type": "markdown",
      "metadata": {
        "id": "PEsOM9mDSQCp",
        "colab_type": "text"
      },
      "source": [
        "#### 7.2.9 Maximum drawdown"
      ]
    },
    {
      "cell_type": "markdown",
      "metadata": {
        "id": "U31ZzUZtShWL",
        "colab_type": "text"
      },
      "source": [
        "The **maximum drawdown** or *MDD* is the average observed loss from a peak into a trough of the portfolio value before hitting a new peak. A maximum drawdown is a downside risk measure for a given time frame.\n",
        "\n",
        "The *MDD* can be computed as follows:\n",
        "\n",
        "$$MDD = \\frac{V_{t}-V_{p}}{V_{p} }$$\n",
        "\n",
        "Where *V<sub>t</sub>* means a trough value and *V<sub>p</sub>* a peak value."
      ]
    },
    {
      "cell_type": "markdown",
      "metadata": {
        "id": "MHwdIba6Urpf",
        "colab_type": "text"
      },
      "source": [
        "####7.2.10 Longs (Shorts)"
      ]
    },
    {
      "cell_type": "markdown",
      "metadata": {
        "id": "w_RHBiFoUyD-",
        "colab_type": "text"
      },
      "source": [
        "It counts how many **long** (or **short**) positions for Stock<sub>1</sub> were entered during the time frame. As a consequence of the Pairs Trading strategy, the algorithm enters the opposite position for Stock<sub>2</sub>."
      ]
    },
    {
      "cell_type": "markdown",
      "metadata": {
        "id": "orJ47RkbswA3",
        "colab_type": "text"
      },
      "source": [
        "### 7.2 Top 10 performers (without costs)"
      ]
    },
    {
      "cell_type": "markdown",
      "metadata": {
        "id": "vzV-2aIit_9G",
        "colab_type": "text"
      },
      "source": [
        "Considering the final portfolio value as the main performance criterion, we built a table with the top 10 performers where *P<sub>n</sub>* means pair *n* within one of the 19 time windows. Please note that the first time window did not form any feasible pair to trade."
      ]
    },
    {
      "cell_type": "code",
      "metadata": {
        "id": "TL7gzAr87v8U",
        "colab_type": "code",
        "colab": {}
      },
      "source": [
        "import pandas as pd\n",
        "\n",
        "# Assemble results in a single data frame\n",
        "for i in range(2,20):\n",
        "  if i == 2:\n",
        "    input_file = './data/formation-{}/overall_res.pkl'.format(i)\n",
        "    res2 = pd.read_pickle(input_file)\n",
        "    res2.insert(0, \"Window\", i)\n",
        "    result2 = res2\n",
        "  else:\n",
        "    input_file = './data/formation-{}/overall_res.pkl'.format(i)\n",
        "    res2 = pd.read_pickle(input_file)\n",
        "    res2.insert(0, \"Window\", i)\n",
        "    result2 = pd.concat([result2,res2])\n"
      ],
      "execution_count": null,
      "outputs": []
    },
    {
      "cell_type": "code",
      "metadata": {
        "id": "jJUdNkdqkYj3",
        "colab_type": "code",
        "colab": {
          "base_uri": "https://localhost:8080/",
          "height": 359
        },
        "outputId": "5eb04f2a-9a39-4d86-faff-4d0838fb9f99"
      },
      "source": [
        "# Sort assembled data frame in descending order \n",
        "result2.sort_values(by='Final', ascending=False).head(10)"
      ],
      "execution_count": null,
      "outputs": [
        {
          "output_type": "execute_result",
          "data": {
            "text/html": [
              "<div>\n",
              "<style scoped>\n",
              "    .dataframe tbody tr th:only-of-type {\n",
              "        vertical-align: middle;\n",
              "    }\n",
              "\n",
              "    .dataframe tbody tr th {\n",
              "        vertical-align: top;\n",
              "    }\n",
              "\n",
              "    .dataframe thead th {\n",
              "        text-align: right;\n",
              "    }\n",
              "</style>\n",
              "<table border=\"1\" class=\"dataframe\">\n",
              "  <thead>\n",
              "    <tr style=\"text-align: right;\">\n",
              "      <th></th>\n",
              "      <th>Window</th>\n",
              "      <th>Final</th>\n",
              "      <th>Max</th>\n",
              "      <th>Return</th>\n",
              "      <th>Gain</th>\n",
              "      <th>Loss</th>\n",
              "      <th>Win</th>\n",
              "      <th>Volatility</th>\n",
              "      <th>Sharpe</th>\n",
              "      <th>MDD</th>\n",
              "      <th>Longs</th>\n",
              "      <th>Shorts</th>\n",
              "    </tr>\n",
              "  </thead>\n",
              "  <tbody>\n",
              "    <tr>\n",
              "      <th>P1</th>\n",
              "      <td>17</td>\n",
              "      <td>1315.7</td>\n",
              "      <td>1786.1</td>\n",
              "      <td>-0.0284468</td>\n",
              "      <td>855.849</td>\n",
              "      <td>-99.126</td>\n",
              "      <td>0.851881</td>\n",
              "      <td>1.39511</td>\n",
              "      <td>-0.0203904</td>\n",
              "      <td>-2.20763</td>\n",
              "      <td>201</td>\n",
              "      <td>215</td>\n",
              "    </tr>\n",
              "    <tr>\n",
              "      <th>P1</th>\n",
              "      <td>19</td>\n",
              "      <td>908.383</td>\n",
              "      <td>1129.56</td>\n",
              "      <td>0.365651</td>\n",
              "      <td>536.671</td>\n",
              "      <td>-160.706</td>\n",
              "      <td>0.843521</td>\n",
              "      <td>23.3189</td>\n",
              "      <td>0.0156804</td>\n",
              "      <td>-1.77965</td>\n",
              "      <td>180</td>\n",
              "      <td>199</td>\n",
              "    </tr>\n",
              "    <tr>\n",
              "      <th>P4</th>\n",
              "      <td>12</td>\n",
              "      <td>856.926</td>\n",
              "      <td>1110.15</td>\n",
              "      <td>0.0323</td>\n",
              "      <td>592.419</td>\n",
              "      <td>-24.4264</td>\n",
              "      <td>0.955329</td>\n",
              "      <td>1.42571</td>\n",
              "      <td>0.0226554</td>\n",
              "      <td>-2.55198</td>\n",
              "      <td>225</td>\n",
              "      <td>208</td>\n",
              "    </tr>\n",
              "    <tr>\n",
              "      <th>P1</th>\n",
              "      <td>11</td>\n",
              "      <td>788.957</td>\n",
              "      <td>1450.72</td>\n",
              "      <td>-0.000178269</td>\n",
              "      <td>877.838</td>\n",
              "      <td>-83.9156</td>\n",
              "      <td>0.931296</td>\n",
              "      <td>2.1605</td>\n",
              "      <td>-8.25129e-05</td>\n",
              "      <td>-2.37276</td>\n",
              "      <td>275</td>\n",
              "      <td>283</td>\n",
              "    </tr>\n",
              "    <tr>\n",
              "      <th>P7</th>\n",
              "      <td>19</td>\n",
              "      <td>746.86</td>\n",
              "      <td>994.52</td>\n",
              "      <td>0.00470036</td>\n",
              "      <td>679.96</td>\n",
              "      <td>-104.854</td>\n",
              "      <td>0.922936</td>\n",
              "      <td>0.278611</td>\n",
              "      <td>0.0168707</td>\n",
              "      <td>-3.55065</td>\n",
              "      <td>183</td>\n",
              "      <td>194</td>\n",
              "    </tr>\n",
              "    <tr>\n",
              "      <th>P3</th>\n",
              "      <td>19</td>\n",
              "      <td>719.735</td>\n",
              "      <td>787.89</td>\n",
              "      <td>0.00506807</td>\n",
              "      <td>300.463</td>\n",
              "      <td>NaN</td>\n",
              "      <td>1</td>\n",
              "      <td>0.157451</td>\n",
              "      <td>0.0321883</td>\n",
              "      <td>-0.925896</td>\n",
              "      <td>52</td>\n",
              "      <td>51</td>\n",
              "    </tr>\n",
              "    <tr>\n",
              "      <th>P5</th>\n",
              "      <td>12</td>\n",
              "      <td>463.351</td>\n",
              "      <td>576.011</td>\n",
              "      <td>0.0181464</td>\n",
              "      <td>295.327</td>\n",
              "      <td>NaN</td>\n",
              "      <td>0.998694</td>\n",
              "      <td>0.386011</td>\n",
              "      <td>0.0470099</td>\n",
              "      <td>-0.964366</td>\n",
              "      <td>192</td>\n",
              "      <td>177</td>\n",
              "    </tr>\n",
              "    <tr>\n",
              "      <th>P31</th>\n",
              "      <td>19</td>\n",
              "      <td>433.175</td>\n",
              "      <td>433.175</td>\n",
              "      <td>0.00214685</td>\n",
              "      <td>283.411</td>\n",
              "      <td>NaN</td>\n",
              "      <td>1</td>\n",
              "      <td>0.0659996</td>\n",
              "      <td>0.0325283</td>\n",
              "      <td>-0.831894</td>\n",
              "      <td>53</td>\n",
              "      <td>54</td>\n",
              "    </tr>\n",
              "    <tr>\n",
              "      <th>P2</th>\n",
              "      <td>3</td>\n",
              "      <td>421.056</td>\n",
              "      <td>557.839</td>\n",
              "      <td>0.00412396</td>\n",
              "      <td>362.22</td>\n",
              "      <td>-46.8929</td>\n",
              "      <td>0.888454</td>\n",
              "      <td>1.55884</td>\n",
              "      <td>0.00264553</td>\n",
              "      <td>-3.11072</td>\n",
              "      <td>202</td>\n",
              "      <td>205</td>\n",
              "    </tr>\n",
              "    <tr>\n",
              "      <th>P1</th>\n",
              "      <td>4</td>\n",
              "      <td>408.974</td>\n",
              "      <td>424.804</td>\n",
              "      <td>-0.00178413</td>\n",
              "      <td>194.631</td>\n",
              "      <td>-5.96114</td>\n",
              "      <td>0.988506</td>\n",
              "      <td>0.214929</td>\n",
              "      <td>-0.00830105</td>\n",
              "      <td>-1.57874</td>\n",
              "      <td>63</td>\n",
              "      <td>62</td>\n",
              "    </tr>\n",
              "  </tbody>\n",
              "</table>\n",
              "</div>"
            ],
            "text/plain": [
              "     Window    Final      Max       Return  ...       Sharpe       MDD Longs Shorts\n",
              "P1       17   1315.7   1786.1   -0.0284468  ...   -0.0203904  -2.20763   201    215\n",
              "P1       19  908.383  1129.56     0.365651  ...    0.0156804  -1.77965   180    199\n",
              "P4       12  856.926  1110.15       0.0323  ...    0.0226554  -2.55198   225    208\n",
              "P1       11  788.957  1450.72 -0.000178269  ... -8.25129e-05  -2.37276   275    283\n",
              "P7       19   746.86   994.52   0.00470036  ...    0.0168707  -3.55065   183    194\n",
              "P3       19  719.735   787.89   0.00506807  ...    0.0321883 -0.925896    52     51\n",
              "P5       12  463.351  576.011    0.0181464  ...    0.0470099 -0.964366   192    177\n",
              "P31      19  433.175  433.175   0.00214685  ...    0.0325283 -0.831894    53     54\n",
              "P2        3  421.056  557.839   0.00412396  ...   0.00264553  -3.11072   202    205\n",
              "P1        4  408.974  424.804  -0.00178413  ...  -0.00830105  -1.57874    63     62\n",
              "\n",
              "[10 rows x 12 columns]"
            ]
          },
          "metadata": {
            "tags": []
          },
          "execution_count": 163
        }
      ]
    },
    {
      "cell_type": "markdown",
      "metadata": {
        "id": "TmCvAZtXtGF3",
        "colab_type": "text"
      },
      "source": [
        "### 7.3 Top 10 performers (with costs)"
      ]
    },
    {
      "cell_type": "markdown",
      "metadata": {
        "id": "QbSW6Lk_wECj",
        "colab_type": "text"
      },
      "source": [
        "Also considering the final portfolio value as the main performance criterion, we built a table with the top 10 performers including trading costs of 50 bps (round-trip)."
      ]
    },
    {
      "cell_type": "code",
      "metadata": {
        "id": "yuhGRSA8oEme",
        "colab_type": "code",
        "colab": {}
      },
      "source": [
        "# Assemble results in a single data frame\n",
        "for i in range(2,20):\n",
        "  if i == 2:\n",
        "    input_file = './data/formation-{}/overall_cos.pkl'.format(i)\n",
        "    res = pd.read_pickle(input_file)\n",
        "    res.insert(0, \"Window\", i)\n",
        "    result = res\n",
        "  else:\n",
        "    input_file = './data/formation-{}/overall_cos.pkl'.format(i)\n",
        "    res = pd.read_pickle(input_file)\n",
        "    res.insert(0, \"Window\", i)\n",
        "    result = pd.concat([result,res])"
      ],
      "execution_count": null,
      "outputs": []
    },
    {
      "cell_type": "code",
      "metadata": {
        "id": "5HOqh2ij7zta",
        "colab_type": "code",
        "colab": {
          "base_uri": "https://localhost:8080/",
          "height": 359
        },
        "outputId": "43bda8ee-c027-4a28-bd15-284d4363966d"
      },
      "source": [
        "# Sort assembled data frame in descending order \n",
        "result.sort_values(by='Final', ascending=False).head(10)"
      ],
      "execution_count": null,
      "outputs": [
        {
          "output_type": "execute_result",
          "data": {
            "text/html": [
              "<div>\n",
              "<style scoped>\n",
              "    .dataframe tbody tr th:only-of-type {\n",
              "        vertical-align: middle;\n",
              "    }\n",
              "\n",
              "    .dataframe tbody tr th {\n",
              "        vertical-align: top;\n",
              "    }\n",
              "\n",
              "    .dataframe thead th {\n",
              "        text-align: right;\n",
              "    }\n",
              "</style>\n",
              "<table border=\"1\" class=\"dataframe\">\n",
              "  <thead>\n",
              "    <tr style=\"text-align: right;\">\n",
              "      <th></th>\n",
              "      <th>Window</th>\n",
              "      <th>Final</th>\n",
              "      <th>Max</th>\n",
              "      <th>Return</th>\n",
              "      <th>Gain</th>\n",
              "      <th>Loss</th>\n",
              "      <th>Win</th>\n",
              "      <th>Volatility</th>\n",
              "      <th>Sharpe</th>\n",
              "      <th>MDD</th>\n",
              "      <th>Longs</th>\n",
              "      <th>Shorts</th>\n",
              "    </tr>\n",
              "  </thead>\n",
              "  <tbody>\n",
              "    <tr>\n",
              "      <th>P6</th>\n",
              "      <td>14</td>\n",
              "      <td>-144.997</td>\n",
              "      <td>15.9334</td>\n",
              "      <td>0.00203462</td>\n",
              "      <td>15.9334</td>\n",
              "      <td>-78.7583</td>\n",
              "      <td>0.000261233</td>\n",
              "      <td>0.0923</td>\n",
              "      <td>0.0220436</td>\n",
              "      <td>-12.877</td>\n",
              "      <td>16</td>\n",
              "      <td>16</td>\n",
              "    </tr>\n",
              "    <tr>\n",
              "      <th>P2</th>\n",
              "      <td>10</td>\n",
              "      <td>-230.065</td>\n",
              "      <td>19.526</td>\n",
              "      <td>0.000943963</td>\n",
              "      <td>19.526</td>\n",
              "      <td>-131.091</td>\n",
              "      <td>0.000261233</td>\n",
              "      <td>0.0491094</td>\n",
              "      <td>0.0192217</td>\n",
              "      <td>-12.7825</td>\n",
              "      <td>22</td>\n",
              "      <td>22</td>\n",
              "    </tr>\n",
              "    <tr>\n",
              "      <th>P2</th>\n",
              "      <td>9</td>\n",
              "      <td>-625.822</td>\n",
              "      <td>11.7884</td>\n",
              "      <td>0.000688309</td>\n",
              "      <td>11.7884</td>\n",
              "      <td>-403.673</td>\n",
              "      <td>0.000261233</td>\n",
              "      <td>0.0983535</td>\n",
              "      <td>0.00699831</td>\n",
              "      <td>-54.0878</td>\n",
              "      <td>18</td>\n",
              "      <td>18</td>\n",
              "    </tr>\n",
              "    <tr>\n",
              "      <th>P3</th>\n",
              "      <td>16</td>\n",
              "      <td>-841.273</td>\n",
              "      <td>4.40345</td>\n",
              "      <td>0.000956959</td>\n",
              "      <td>4.40345</td>\n",
              "      <td>-412.935</td>\n",
              "      <td>0.0023511</td>\n",
              "      <td>0.0826277</td>\n",
              "      <td>0.0115816</td>\n",
              "      <td>-192.049</td>\n",
              "      <td>187</td>\n",
              "      <td>181</td>\n",
              "    </tr>\n",
              "    <tr>\n",
              "      <th>P4</th>\n",
              "      <td>13</td>\n",
              "      <td>-909.947</td>\n",
              "      <td>-25.1497</td>\n",
              "      <td>0.00136927</td>\n",
              "      <td>NaN</td>\n",
              "      <td>-487.908</td>\n",
              "      <td>0</td>\n",
              "      <td>0.0323354</td>\n",
              "      <td>0.0423458</td>\n",
              "      <td>-0</td>\n",
              "      <td>99</td>\n",
              "      <td>100</td>\n",
              "    </tr>\n",
              "    <tr>\n",
              "      <th>P2</th>\n",
              "      <td>17</td>\n",
              "      <td>-947.337</td>\n",
              "      <td>12.5525</td>\n",
              "      <td>0.000809454</td>\n",
              "      <td>12.3529</td>\n",
              "      <td>-474.005</td>\n",
              "      <td>0.0148903</td>\n",
              "      <td>0.131885</td>\n",
              "      <td>0.00613755</td>\n",
              "      <td>-76.4703</td>\n",
              "      <td>177</td>\n",
              "      <td>163</td>\n",
              "    </tr>\n",
              "    <tr>\n",
              "      <th>P7</th>\n",
              "      <td>14</td>\n",
              "      <td>-986.563</td>\n",
              "      <td>0</td>\n",
              "      <td>0.000915206</td>\n",
              "      <td>NaN</td>\n",
              "      <td>-574.876</td>\n",
              "      <td>0</td>\n",
              "      <td>0.0281267</td>\n",
              "      <td>0.0325387</td>\n",
              "      <td>NaN</td>\n",
              "      <td>20</td>\n",
              "      <td>20</td>\n",
              "    </tr>\n",
              "    <tr>\n",
              "      <th>P5</th>\n",
              "      <td>13</td>\n",
              "      <td>-1049.2</td>\n",
              "      <td>0</td>\n",
              "      <td>0.0014749</td>\n",
              "      <td>NaN</td>\n",
              "      <td>-545.214</td>\n",
              "      <td>0</td>\n",
              "      <td>0.0329069</td>\n",
              "      <td>0.0448204</td>\n",
              "      <td>NaN</td>\n",
              "      <td>141</td>\n",
              "      <td>142</td>\n",
              "    </tr>\n",
              "    <tr>\n",
              "      <th>P3</th>\n",
              "      <td>18</td>\n",
              "      <td>-1054.08</td>\n",
              "      <td>0</td>\n",
              "      <td>0.000917548</td>\n",
              "      <td>NaN</td>\n",
              "      <td>-574.112</td>\n",
              "      <td>0</td>\n",
              "      <td>0.0225258</td>\n",
              "      <td>0.0407332</td>\n",
              "      <td>NaN</td>\n",
              "      <td>23</td>\n",
              "      <td>23</td>\n",
              "    </tr>\n",
              "    <tr>\n",
              "      <th>P2</th>\n",
              "      <td>16</td>\n",
              "      <td>-1101.9</td>\n",
              "      <td>2.58027</td>\n",
              "      <td>-0.00207375</td>\n",
              "      <td>0.802005</td>\n",
              "      <td>-546.564</td>\n",
              "      <td>0.00130617</td>\n",
              "      <td>0.230803</td>\n",
              "      <td>-0.00898492</td>\n",
              "      <td>-430.386</td>\n",
              "      <td>392</td>\n",
              "      <td>392</td>\n",
              "    </tr>\n",
              "  </tbody>\n",
              "</table>\n",
              "</div>"
            ],
            "text/plain": [
              "    Window    Final      Max       Return  ...      Sharpe      MDD Longs Shorts\n",
              "P6      14 -144.997  15.9334   0.00203462  ...   0.0220436  -12.877    16     16\n",
              "P2      10 -230.065   19.526  0.000943963  ...   0.0192217 -12.7825    22     22\n",
              "P2       9 -625.822  11.7884  0.000688309  ...  0.00699831 -54.0878    18     18\n",
              "P3      16 -841.273  4.40345  0.000956959  ...   0.0115816 -192.049   187    181\n",
              "P4      13 -909.947 -25.1497   0.00136927  ...   0.0423458       -0    99    100\n",
              "P2      17 -947.337  12.5525  0.000809454  ...  0.00613755 -76.4703   177    163\n",
              "P7      14 -986.563        0  0.000915206  ...   0.0325387      NaN    20     20\n",
              "P5      13  -1049.2        0    0.0014749  ...   0.0448204      NaN   141    142\n",
              "P3      18 -1054.08        0  0.000917548  ...   0.0407332      NaN    23     23\n",
              "P2      16  -1101.9  2.58027  -0.00207375  ... -0.00898492 -430.386   392    392\n",
              "\n",
              "[10 rows x 12 columns]"
            ]
          },
          "metadata": {
            "tags": []
          },
          "execution_count": 165
        }
      ]
    }
  ]
}