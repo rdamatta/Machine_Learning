{
  "nbformat": 4,
  "nbformat_minor": 0,
  "metadata": {
    "accelerator": "GPU",
    "colab": {
      "name": "Copy of v1.0x of Classification using XLNet on IMDB dataset.ipynb",
      "provenance": [],
      "collapsed_sections": []
    },
    "kernelspec": {
      "display_name": "Python 3",
      "name": "python3"
    },
    "widgets": {
      "application/vnd.jupyter.widget-state+json": {
        "37af494f831e46d183709bc76c229d36": {
          "model_module": "@jupyter-widgets/controls",
          "model_name": "HBoxModel",
          "state": {
            "_view_name": "HBoxView",
            "_dom_classes": [],
            "_model_name": "HBoxModel",
            "_view_module": "@jupyter-widgets/controls",
            "_model_module_version": "1.5.0",
            "_view_count": null,
            "_view_module_version": "1.5.0",
            "box_style": "",
            "layout": "IPY_MODEL_82eb219ddbb242898d5cd6232ffc3f35",
            "_model_module": "@jupyter-widgets/controls",
            "children": [
              "IPY_MODEL_aabc8a747fe843c49588c4f675169c6c",
              "IPY_MODEL_ac54dac7e1a340688ebd36e03688d06e"
            ]
          }
        },
        "82eb219ddbb242898d5cd6232ffc3f35": {
          "model_module": "@jupyter-widgets/base",
          "model_name": "LayoutModel",
          "state": {
            "_view_name": "LayoutView",
            "grid_template_rows": null,
            "right": null,
            "justify_content": null,
            "_view_module": "@jupyter-widgets/base",
            "overflow": null,
            "_model_module_version": "1.2.0",
            "_view_count": null,
            "flex_flow": null,
            "width": null,
            "min_width": null,
            "border": null,
            "align_items": null,
            "bottom": null,
            "_model_module": "@jupyter-widgets/base",
            "top": null,
            "grid_column": null,
            "overflow_y": null,
            "overflow_x": null,
            "grid_auto_flow": null,
            "grid_area": null,
            "grid_template_columns": null,
            "flex": null,
            "_model_name": "LayoutModel",
            "justify_items": null,
            "grid_row": null,
            "max_height": null,
            "align_content": null,
            "visibility": null,
            "align_self": null,
            "height": null,
            "min_height": null,
            "padding": null,
            "grid_auto_rows": null,
            "grid_gap": null,
            "max_width": null,
            "order": null,
            "_view_module_version": "1.2.0",
            "grid_template_areas": null,
            "object_position": null,
            "object_fit": null,
            "grid_auto_columns": null,
            "margin": null,
            "display": null,
            "left": null
          }
        },
        "aabc8a747fe843c49588c4f675169c6c": {
          "model_module": "@jupyter-widgets/controls",
          "model_name": "FloatProgressModel",
          "state": {
            "_view_name": "ProgressView",
            "style": "IPY_MODEL_16275139dbe54ed3869373d15ba5423d",
            "_dom_classes": [],
            "description": "Downloading: 100%",
            "_model_name": "FloatProgressModel",
            "bar_style": "success",
            "max": 760,
            "_view_module": "@jupyter-widgets/controls",
            "_model_module_version": "1.5.0",
            "value": 760,
            "_view_count": null,
            "_view_module_version": "1.5.0",
            "orientation": "horizontal",
            "min": 0,
            "description_tooltip": null,
            "_model_module": "@jupyter-widgets/controls",
            "layout": "IPY_MODEL_5b13cd8fc69d40c190e9fac2882d11cb"
          }
        },
        "ac54dac7e1a340688ebd36e03688d06e": {
          "model_module": "@jupyter-widgets/controls",
          "model_name": "HTMLModel",
          "state": {
            "_view_name": "HTMLView",
            "style": "IPY_MODEL_a2e4f16d7ecf4741b8a6081d5441bbe1",
            "_dom_classes": [],
            "description": "",
            "_model_name": "HTMLModel",
            "placeholder": "​",
            "_view_module": "@jupyter-widgets/controls",
            "_model_module_version": "1.5.0",
            "value": " 760/760 [00:00&lt;00:00, 11.3kB/s]",
            "_view_count": null,
            "_view_module_version": "1.5.0",
            "description_tooltip": null,
            "_model_module": "@jupyter-widgets/controls",
            "layout": "IPY_MODEL_ec1fccdc13994bb68fd5aa18e513afd9"
          }
        },
        "16275139dbe54ed3869373d15ba5423d": {
          "model_module": "@jupyter-widgets/controls",
          "model_name": "ProgressStyleModel",
          "state": {
            "_view_name": "StyleView",
            "_model_name": "ProgressStyleModel",
            "description_width": "initial",
            "_view_module": "@jupyter-widgets/base",
            "_model_module_version": "1.5.0",
            "_view_count": null,
            "_view_module_version": "1.2.0",
            "bar_color": null,
            "_model_module": "@jupyter-widgets/controls"
          }
        },
        "5b13cd8fc69d40c190e9fac2882d11cb": {
          "model_module": "@jupyter-widgets/base",
          "model_name": "LayoutModel",
          "state": {
            "_view_name": "LayoutView",
            "grid_template_rows": null,
            "right": null,
            "justify_content": null,
            "_view_module": "@jupyter-widgets/base",
            "overflow": null,
            "_model_module_version": "1.2.0",
            "_view_count": null,
            "flex_flow": null,
            "width": null,
            "min_width": null,
            "border": null,
            "align_items": null,
            "bottom": null,
            "_model_module": "@jupyter-widgets/base",
            "top": null,
            "grid_column": null,
            "overflow_y": null,
            "overflow_x": null,
            "grid_auto_flow": null,
            "grid_area": null,
            "grid_template_columns": null,
            "flex": null,
            "_model_name": "LayoutModel",
            "justify_items": null,
            "grid_row": null,
            "max_height": null,
            "align_content": null,
            "visibility": null,
            "align_self": null,
            "height": null,
            "min_height": null,
            "padding": null,
            "grid_auto_rows": null,
            "grid_gap": null,
            "max_width": null,
            "order": null,
            "_view_module_version": "1.2.0",
            "grid_template_areas": null,
            "object_position": null,
            "object_fit": null,
            "grid_auto_columns": null,
            "margin": null,
            "display": null,
            "left": null
          }
        },
        "a2e4f16d7ecf4741b8a6081d5441bbe1": {
          "model_module": "@jupyter-widgets/controls",
          "model_name": "DescriptionStyleModel",
          "state": {
            "_view_name": "StyleView",
            "_model_name": "DescriptionStyleModel",
            "description_width": "",
            "_view_module": "@jupyter-widgets/base",
            "_model_module_version": "1.5.0",
            "_view_count": null,
            "_view_module_version": "1.2.0",
            "_model_module": "@jupyter-widgets/controls"
          }
        },
        "ec1fccdc13994bb68fd5aa18e513afd9": {
          "model_module": "@jupyter-widgets/base",
          "model_name": "LayoutModel",
          "state": {
            "_view_name": "LayoutView",
            "grid_template_rows": null,
            "right": null,
            "justify_content": null,
            "_view_module": "@jupyter-widgets/base",
            "overflow": null,
            "_model_module_version": "1.2.0",
            "_view_count": null,
            "flex_flow": null,
            "width": null,
            "min_width": null,
            "border": null,
            "align_items": null,
            "bottom": null,
            "_model_module": "@jupyter-widgets/base",
            "top": null,
            "grid_column": null,
            "overflow_y": null,
            "overflow_x": null,
            "grid_auto_flow": null,
            "grid_area": null,
            "grid_template_columns": null,
            "flex": null,
            "_model_name": "LayoutModel",
            "justify_items": null,
            "grid_row": null,
            "max_height": null,
            "align_content": null,
            "visibility": null,
            "align_self": null,
            "height": null,
            "min_height": null,
            "padding": null,
            "grid_auto_rows": null,
            "grid_gap": null,
            "max_width": null,
            "order": null,
            "_view_module_version": "1.2.0",
            "grid_template_areas": null,
            "object_position": null,
            "object_fit": null,
            "grid_auto_columns": null,
            "margin": null,
            "display": null,
            "left": null
          }
        },
        "c6375431175f4d50a53a520b6a0d8cc2": {
          "model_module": "@jupyter-widgets/controls",
          "model_name": "HBoxModel",
          "state": {
            "_view_name": "HBoxView",
            "_dom_classes": [],
            "_model_name": "HBoxModel",
            "_view_module": "@jupyter-widgets/controls",
            "_model_module_version": "1.5.0",
            "_view_count": null,
            "_view_module_version": "1.5.0",
            "box_style": "",
            "layout": "IPY_MODEL_d7cf5a5fdb084e2a90ccb67ffcb377c6",
            "_model_module": "@jupyter-widgets/controls",
            "children": [
              "IPY_MODEL_5d3bbd1096b1426eaeb726be6481025e",
              "IPY_MODEL_43bd7fabba0443599fd489ce9963bf58"
            ]
          }
        },
        "d7cf5a5fdb084e2a90ccb67ffcb377c6": {
          "model_module": "@jupyter-widgets/base",
          "model_name": "LayoutModel",
          "state": {
            "_view_name": "LayoutView",
            "grid_template_rows": null,
            "right": null,
            "justify_content": null,
            "_view_module": "@jupyter-widgets/base",
            "overflow": null,
            "_model_module_version": "1.2.0",
            "_view_count": null,
            "flex_flow": null,
            "width": null,
            "min_width": null,
            "border": null,
            "align_items": null,
            "bottom": null,
            "_model_module": "@jupyter-widgets/base",
            "top": null,
            "grid_column": null,
            "overflow_y": null,
            "overflow_x": null,
            "grid_auto_flow": null,
            "grid_area": null,
            "grid_template_columns": null,
            "flex": null,
            "_model_name": "LayoutModel",
            "justify_items": null,
            "grid_row": null,
            "max_height": null,
            "align_content": null,
            "visibility": null,
            "align_self": null,
            "height": null,
            "min_height": null,
            "padding": null,
            "grid_auto_rows": null,
            "grid_gap": null,
            "max_width": null,
            "order": null,
            "_view_module_version": "1.2.0",
            "grid_template_areas": null,
            "object_position": null,
            "object_fit": null,
            "grid_auto_columns": null,
            "margin": null,
            "display": null,
            "left": null
          }
        },
        "5d3bbd1096b1426eaeb726be6481025e": {
          "model_module": "@jupyter-widgets/controls",
          "model_name": "FloatProgressModel",
          "state": {
            "_view_name": "ProgressView",
            "style": "IPY_MODEL_fd661fa1b0104a7eb8fbc64f7af69a29",
            "_dom_classes": [],
            "description": "Downloading: 100%",
            "_model_name": "FloatProgressModel",
            "bar_style": "success",
            "max": 798011,
            "_view_module": "@jupyter-widgets/controls",
            "_model_module_version": "1.5.0",
            "value": 798011,
            "_view_count": null,
            "_view_module_version": "1.5.0",
            "orientation": "horizontal",
            "min": 0,
            "description_tooltip": null,
            "_model_module": "@jupyter-widgets/controls",
            "layout": "IPY_MODEL_f333e604f8f340ed8401f022c3cfab0d"
          }
        },
        "43bd7fabba0443599fd489ce9963bf58": {
          "model_module": "@jupyter-widgets/controls",
          "model_name": "HTMLModel",
          "state": {
            "_view_name": "HTMLView",
            "style": "IPY_MODEL_c50465dd0d204c9cb484b498b990d659",
            "_dom_classes": [],
            "description": "",
            "_model_name": "HTMLModel",
            "placeholder": "​",
            "_view_module": "@jupyter-widgets/controls",
            "_model_module_version": "1.5.0",
            "value": " 798k/798k [00:38&lt;00:00, 20.7kB/s]",
            "_view_count": null,
            "_view_module_version": "1.5.0",
            "description_tooltip": null,
            "_model_module": "@jupyter-widgets/controls",
            "layout": "IPY_MODEL_dd8947fe624148b4852b342bccfd520c"
          }
        },
        "fd661fa1b0104a7eb8fbc64f7af69a29": {
          "model_module": "@jupyter-widgets/controls",
          "model_name": "ProgressStyleModel",
          "state": {
            "_view_name": "StyleView",
            "_model_name": "ProgressStyleModel",
            "description_width": "initial",
            "_view_module": "@jupyter-widgets/base",
            "_model_module_version": "1.5.0",
            "_view_count": null,
            "_view_module_version": "1.2.0",
            "bar_color": null,
            "_model_module": "@jupyter-widgets/controls"
          }
        },
        "f333e604f8f340ed8401f022c3cfab0d": {
          "model_module": "@jupyter-widgets/base",
          "model_name": "LayoutModel",
          "state": {
            "_view_name": "LayoutView",
            "grid_template_rows": null,
            "right": null,
            "justify_content": null,
            "_view_module": "@jupyter-widgets/base",
            "overflow": null,
            "_model_module_version": "1.2.0",
            "_view_count": null,
            "flex_flow": null,
            "width": null,
            "min_width": null,
            "border": null,
            "align_items": null,
            "bottom": null,
            "_model_module": "@jupyter-widgets/base",
            "top": null,
            "grid_column": null,
            "overflow_y": null,
            "overflow_x": null,
            "grid_auto_flow": null,
            "grid_area": null,
            "grid_template_columns": null,
            "flex": null,
            "_model_name": "LayoutModel",
            "justify_items": null,
            "grid_row": null,
            "max_height": null,
            "align_content": null,
            "visibility": null,
            "align_self": null,
            "height": null,
            "min_height": null,
            "padding": null,
            "grid_auto_rows": null,
            "grid_gap": null,
            "max_width": null,
            "order": null,
            "_view_module_version": "1.2.0",
            "grid_template_areas": null,
            "object_position": null,
            "object_fit": null,
            "grid_auto_columns": null,
            "margin": null,
            "display": null,
            "left": null
          }
        },
        "c50465dd0d204c9cb484b498b990d659": {
          "model_module": "@jupyter-widgets/controls",
          "model_name": "DescriptionStyleModel",
          "state": {
            "_view_name": "StyleView",
            "_model_name": "DescriptionStyleModel",
            "description_width": "",
            "_view_module": "@jupyter-widgets/base",
            "_model_module_version": "1.5.0",
            "_view_count": null,
            "_view_module_version": "1.2.0",
            "_model_module": "@jupyter-widgets/controls"
          }
        },
        "dd8947fe624148b4852b342bccfd520c": {
          "model_module": "@jupyter-widgets/base",
          "model_name": "LayoutModel",
          "state": {
            "_view_name": "LayoutView",
            "grid_template_rows": null,
            "right": null,
            "justify_content": null,
            "_view_module": "@jupyter-widgets/base",
            "overflow": null,
            "_model_module_version": "1.2.0",
            "_view_count": null,
            "flex_flow": null,
            "width": null,
            "min_width": null,
            "border": null,
            "align_items": null,
            "bottom": null,
            "_model_module": "@jupyter-widgets/base",
            "top": null,
            "grid_column": null,
            "overflow_y": null,
            "overflow_x": null,
            "grid_auto_flow": null,
            "grid_area": null,
            "grid_template_columns": null,
            "flex": null,
            "_model_name": "LayoutModel",
            "justify_items": null,
            "grid_row": null,
            "max_height": null,
            "align_content": null,
            "visibility": null,
            "align_self": null,
            "height": null,
            "min_height": null,
            "padding": null,
            "grid_auto_rows": null,
            "grid_gap": null,
            "max_width": null,
            "order": null,
            "_view_module_version": "1.2.0",
            "grid_template_areas": null,
            "object_position": null,
            "object_fit": null,
            "grid_auto_columns": null,
            "margin": null,
            "display": null,
            "left": null
          }
        },
        "684096d42d854ad69c4028f1e7488583": {
          "model_module": "@jupyter-widgets/controls",
          "model_name": "HBoxModel",
          "state": {
            "_view_name": "HBoxView",
            "_dom_classes": [],
            "_model_name": "HBoxModel",
            "_view_module": "@jupyter-widgets/controls",
            "_model_module_version": "1.5.0",
            "_view_count": null,
            "_view_module_version": "1.5.0",
            "box_style": "",
            "layout": "IPY_MODEL_e6e5334456ec441b8d166635aaa0c2d2",
            "_model_module": "@jupyter-widgets/controls",
            "children": [
              "IPY_MODEL_a1dab70309fc460ea7aaab2493e0435c",
              "IPY_MODEL_17b627e212354f9b99cdf546a5e02143"
            ]
          }
        },
        "e6e5334456ec441b8d166635aaa0c2d2": {
          "model_module": "@jupyter-widgets/base",
          "model_name": "LayoutModel",
          "state": {
            "_view_name": "LayoutView",
            "grid_template_rows": null,
            "right": null,
            "justify_content": null,
            "_view_module": "@jupyter-widgets/base",
            "overflow": null,
            "_model_module_version": "1.2.0",
            "_view_count": null,
            "flex_flow": null,
            "width": null,
            "min_width": null,
            "border": null,
            "align_items": null,
            "bottom": null,
            "_model_module": "@jupyter-widgets/base",
            "top": null,
            "grid_column": null,
            "overflow_y": null,
            "overflow_x": null,
            "grid_auto_flow": null,
            "grid_area": null,
            "grid_template_columns": null,
            "flex": null,
            "_model_name": "LayoutModel",
            "justify_items": null,
            "grid_row": null,
            "max_height": null,
            "align_content": null,
            "visibility": null,
            "align_self": null,
            "height": null,
            "min_height": null,
            "padding": null,
            "grid_auto_rows": null,
            "grid_gap": null,
            "max_width": null,
            "order": null,
            "_view_module_version": "1.2.0",
            "grid_template_areas": null,
            "object_position": null,
            "object_fit": null,
            "grid_auto_columns": null,
            "margin": null,
            "display": null,
            "left": null
          }
        },
        "a1dab70309fc460ea7aaab2493e0435c": {
          "model_module": "@jupyter-widgets/controls",
          "model_name": "FloatProgressModel",
          "state": {
            "_view_name": "ProgressView",
            "style": "IPY_MODEL_cd74859b78e4464d8e9faef73b51ba42",
            "_dom_classes": [],
            "description": "Downloading: 100%",
            "_model_name": "FloatProgressModel",
            "bar_style": "success",
            "max": 565485600,
            "_view_module": "@jupyter-widgets/controls",
            "_model_module_version": "1.5.0",
            "value": 565485600,
            "_view_count": null,
            "_view_module_version": "1.5.0",
            "orientation": "horizontal",
            "min": 0,
            "description_tooltip": null,
            "_model_module": "@jupyter-widgets/controls",
            "layout": "IPY_MODEL_619a267cf23343c5bdba31f9683b549a"
          }
        },
        "17b627e212354f9b99cdf546a5e02143": {
          "model_module": "@jupyter-widgets/controls",
          "model_name": "HTMLModel",
          "state": {
            "_view_name": "HTMLView",
            "style": "IPY_MODEL_a26ba2514fa2495792dde7fb986b0070",
            "_dom_classes": [],
            "description": "",
            "_model_name": "HTMLModel",
            "placeholder": "​",
            "_view_module": "@jupyter-widgets/controls",
            "_model_module_version": "1.5.0",
            "value": " 565M/565M [00:19&lt;00:00, 29.0MB/s]",
            "_view_count": null,
            "_view_module_version": "1.5.0",
            "description_tooltip": null,
            "_model_module": "@jupyter-widgets/controls",
            "layout": "IPY_MODEL_90591cb95de143e1816346e362a3263d"
          }
        },
        "cd74859b78e4464d8e9faef73b51ba42": {
          "model_module": "@jupyter-widgets/controls",
          "model_name": "ProgressStyleModel",
          "state": {
            "_view_name": "StyleView",
            "_model_name": "ProgressStyleModel",
            "description_width": "initial",
            "_view_module": "@jupyter-widgets/base",
            "_model_module_version": "1.5.0",
            "_view_count": null,
            "_view_module_version": "1.2.0",
            "bar_color": null,
            "_model_module": "@jupyter-widgets/controls"
          }
        },
        "619a267cf23343c5bdba31f9683b549a": {
          "model_module": "@jupyter-widgets/base",
          "model_name": "LayoutModel",
          "state": {
            "_view_name": "LayoutView",
            "grid_template_rows": null,
            "right": null,
            "justify_content": null,
            "_view_module": "@jupyter-widgets/base",
            "overflow": null,
            "_model_module_version": "1.2.0",
            "_view_count": null,
            "flex_flow": null,
            "width": null,
            "min_width": null,
            "border": null,
            "align_items": null,
            "bottom": null,
            "_model_module": "@jupyter-widgets/base",
            "top": null,
            "grid_column": null,
            "overflow_y": null,
            "overflow_x": null,
            "grid_auto_flow": null,
            "grid_area": null,
            "grid_template_columns": null,
            "flex": null,
            "_model_name": "LayoutModel",
            "justify_items": null,
            "grid_row": null,
            "max_height": null,
            "align_content": null,
            "visibility": null,
            "align_self": null,
            "height": null,
            "min_height": null,
            "padding": null,
            "grid_auto_rows": null,
            "grid_gap": null,
            "max_width": null,
            "order": null,
            "_view_module_version": "1.2.0",
            "grid_template_areas": null,
            "object_position": null,
            "object_fit": null,
            "grid_auto_columns": null,
            "margin": null,
            "display": null,
            "left": null
          }
        },
        "a26ba2514fa2495792dde7fb986b0070": {
          "model_module": "@jupyter-widgets/controls",
          "model_name": "DescriptionStyleModel",
          "state": {
            "_view_name": "StyleView",
            "_model_name": "DescriptionStyleModel",
            "description_width": "",
            "_view_module": "@jupyter-widgets/base",
            "_model_module_version": "1.5.0",
            "_view_count": null,
            "_view_module_version": "1.2.0",
            "_model_module": "@jupyter-widgets/controls"
          }
        },
        "90591cb95de143e1816346e362a3263d": {
          "model_module": "@jupyter-widgets/base",
          "model_name": "LayoutModel",
          "state": {
            "_view_name": "LayoutView",
            "grid_template_rows": null,
            "right": null,
            "justify_content": null,
            "_view_module": "@jupyter-widgets/base",
            "overflow": null,
            "_model_module_version": "1.2.0",
            "_view_count": null,
            "flex_flow": null,
            "width": null,
            "min_width": null,
            "border": null,
            "align_items": null,
            "bottom": null,
            "_model_module": "@jupyter-widgets/base",
            "top": null,
            "grid_column": null,
            "overflow_y": null,
            "overflow_x": null,
            "grid_auto_flow": null,
            "grid_area": null,
            "grid_template_columns": null,
            "flex": null,
            "_model_name": "LayoutModel",
            "justify_items": null,
            "grid_row": null,
            "max_height": null,
            "align_content": null,
            "visibility": null,
            "align_self": null,
            "height": null,
            "min_height": null,
            "padding": null,
            "grid_auto_rows": null,
            "grid_gap": null,
            "max_width": null,
            "order": null,
            "_view_module_version": "1.2.0",
            "grid_template_areas": null,
            "object_position": null,
            "object_fit": null,
            "grid_auto_columns": null,
            "margin": null,
            "display": null,
            "left": null
          }
        }
      }
    }
  },
  "cells": [
    {
      "cell_type": "markdown",
      "metadata": {
        "id": "DgfHNcOPbOk3"
      },
      "source": [
        "#Classification using XLNet on IMDB dataset\n",
        "\n",
        "In this mini-project, we use a pre-trained neural network as XLNet to predict the sentiment of movie reviews extracted from a large dataset before and after performing data augmentation.\n",
        "\n",
        "Due to the deluge of unstructured data produced nowadays like in text messages, social media, forums, blogs, news publishing platforms, web searches, and many other channels, it is imperative to develop efficient NLP algorithms to handle such a large volume of text data.\n",
        "\n",
        "Over the last decade, NLP technology has seen an incredible leap, with much progress made by Deep Learning. Started by Word2Vec the breakthroughs within the domain are numerous and made possible the creation (or revamp) of applications like machine translation, speech recognition, chatbots, and so on.\n",
        "\n",
        "For this task, we will use various Python libraries to perform data wrangling, exploratory analysis, model building, training, and evaluation."
      ]
    },
    {
      "cell_type": "markdown",
      "metadata": {
        "id": "VNfPfsebBWVZ"
      },
      "source": [
        "## 1.Data gathering\n",
        "\n",
        "We start by gathering the movie reviews from raw text files made available from Stanford AI Lab at this [link](https://ai.stanford.edu/~amaas/data/sentiment/).\n",
        "\n",
        "The text files names follow a convention: [id]_[rating].txt where [id] is a unique id and [rating] is the star rating for that review on a 1-10 scale.\n",
        "\n",
        "In the labeled _Train_/_Test_ subsets, a **negative** review has a score <= 4 out of 10,\n",
        "and a **positive** review has a score >= 7 out of 10. Thus reviews with\n",
        "more neutral ratings are not included.\n",
        "\n",
        "Here, we will extract the review information from each file name and assign a label accordingly."
      ]
    },
    {
      "cell_type": "code",
      "metadata": {
        "colab": {
          "base_uri": "https://localhost:8080/"
        },
        "id": "mm6K5U0K_pHn",
        "outputId": "128f22d5-0480-4d30-ed00-a490cc54a0a5"
      },
      "source": [
        "# Mount a virtual drive from GDrive\n",
        "from google.colab import drive\n",
        "drive.mount('/content/drive')"
      ],
      "execution_count": null,
      "outputs": [
        {
          "output_type": "stream",
          "text": [
            "Mounted at /content/drive\n"
          ],
          "name": "stdout"
        }
      ]
    },
    {
      "cell_type": "code",
      "metadata": {
        "colab": {
          "base_uri": "https://localhost:8080/",
          "height": 206
        },
        "id": "x0J8G0VSHyTt",
        "outputId": "fcf66102-5bfc-4d32-d95f-5a1cbf079c01"
      },
      "source": [
        "import pandas as pd\n",
        "import os\n",
        "\n",
        "# Create a list object to import positive reviews from train directory\n",
        "file_names_pos = os.listdir('/content/drive/My Drive/data/aclImdb_v1.tar.gz/aclImdb/train/pos/')\n",
        "\n",
        "# Create dataframe to store scores, labels, and texts\n",
        "train_pos = pd.DataFrame(columns=['text', 'score','label'])\n",
        "\n",
        "for i in range(0,len(file_names_pos)):\n",
        "  ending = file_names_pos[i].split('_')[-1]\n",
        "  res = [int(i) for i in ending.split('.') if i.isdigit()]\n",
        "  train_pos.loc[i,'score'] = res[0]\n",
        "  train_pos.loc[i,'label'] = 'positive'\n",
        "  with open('/content/drive/My Drive/data/aclImdb_v1.tar.gz/aclImdb/train/pos/' + file_names_pos[i], \"r\") as pos_file:\n",
        "    train_pos.loc[i,'text'] = pos_file.read()\n",
        "        \n",
        "# Create a list object to import negative reviews from train directory\n",
        "file_names_neg = os.listdir('/content/drive/My Drive/data/aclImdb_v1.tar.gz/aclImdb/train/neg/')\n",
        "\n",
        "# Create dataframe to store scores, labels, and texts\n",
        "train_neg = pd.DataFrame(columns=['text', 'score','label'])\n",
        "\n",
        "for i in range(0,len(file_names_neg)):\n",
        "  ending = file_names_neg[i].split('_')[-1]\n",
        "  res = [int(i) for i in ending.split('.') if i.isdigit()]\n",
        "  train_neg.loc[i,'score'] = res[0]\n",
        "  train_neg.loc[i,'label'] = 'negative'\n",
        "  with open('/content/drive/My Drive/data/aclImdb_v1.tar.gz/aclImdb/train/neg/' + file_names_neg[i], \"r\") as neg_file:\n",
        "    train_neg.loc[i,'text'] = neg_file.read()\n",
        "\n",
        "# Concatenate both positive and negative reviews dataframes\n",
        "df_train = pd.concat([train_pos,train_neg], ignore_index=True)\n",
        "df_train.head() # display the first 5 rows"
      ],
      "execution_count": null,
      "outputs": [
        {
          "output_type": "execute_result",
          "data": {
            "text/html": [
              "<div>\n",
              "<style scoped>\n",
              "    .dataframe tbody tr th:only-of-type {\n",
              "        vertical-align: middle;\n",
              "    }\n",
              "\n",
              "    .dataframe tbody tr th {\n",
              "        vertical-align: top;\n",
              "    }\n",
              "\n",
              "    .dataframe thead th {\n",
              "        text-align: right;\n",
              "    }\n",
              "</style>\n",
              "<table border=\"1\" class=\"dataframe\">\n",
              "  <thead>\n",
              "    <tr style=\"text-align: right;\">\n",
              "      <th></th>\n",
              "      <th>text</th>\n",
              "      <th>score</th>\n",
              "      <th>label</th>\n",
              "    </tr>\n",
              "  </thead>\n",
              "  <tbody>\n",
              "    <tr>\n",
              "      <th>0</th>\n",
              "      <td>Nicely and intelligently played by the two you...</td>\n",
              "      <td>10</td>\n",
              "      <td>positive</td>\n",
              "    </tr>\n",
              "    <tr>\n",
              "      <th>1</th>\n",
              "      <td>S.S. Van Dine must have been a shrewd business...</td>\n",
              "      <td>8</td>\n",
              "      <td>positive</td>\n",
              "    </tr>\n",
              "    <tr>\n",
              "      <th>2</th>\n",
              "      <td>EDMUND LOWE (who reminds me somewhat of Warren...</td>\n",
              "      <td>7</td>\n",
              "      <td>positive</td>\n",
              "    </tr>\n",
              "    <tr>\n",
              "      <th>3</th>\n",
              "      <td>When Philo Vance (Edmund Lowe) is standing pre...</td>\n",
              "      <td>9</td>\n",
              "      <td>positive</td>\n",
              "    </tr>\n",
              "    <tr>\n",
              "      <th>4</th>\n",
              "      <td>Etienne Girardot is just a character actor--th...</td>\n",
              "      <td>7</td>\n",
              "      <td>positive</td>\n",
              "    </tr>\n",
              "  </tbody>\n",
              "</table>\n",
              "</div>"
            ],
            "text/plain": [
              "                                                text score     label\n",
              "0  Nicely and intelligently played by the two you...    10  positive\n",
              "1  S.S. Van Dine must have been a shrewd business...     8  positive\n",
              "2  EDMUND LOWE (who reminds me somewhat of Warren...     7  positive\n",
              "3  When Philo Vance (Edmund Lowe) is standing pre...     9  positive\n",
              "4  Etienne Girardot is just a character actor--th...     7  positive"
            ]
          },
          "metadata": {
            "tags": []
          },
          "execution_count": 3
        }
      ]
    },
    {
      "cell_type": "code",
      "metadata": {
        "colab": {
          "base_uri": "https://localhost:8080/",
          "height": 206
        },
        "id": "JJMABb5UHyhE",
        "outputId": "a3c12187-adc8-45a5-d0f6-d0a24ced8648"
      },
      "source": [
        "# Create a list object to import positive reviews from test directory\n",
        "file_names_pos = os.listdir('/content/drive/My Drive/data/aclImdb_v1.tar.gz/aclImdb/test/pos/')\n",
        "\n",
        "# Create dataframe to store scores, labels, and texts\n",
        "test_pos = pd.DataFrame(columns=['text', 'score','label'])\n",
        "\n",
        "for i in range(0,len(file_names_pos)):\n",
        "  ending = file_names_pos[i].split('_')[-1]\n",
        "  res = [int(i) for i in ending.split('.') if i.isdigit()]\n",
        "  test_pos.loc[i,'score'] = res[0]\n",
        "  test_pos.loc[i,'label'] = 'positive'\n",
        "  with open('/content/drive/My Drive/data/aclImdb_v1.tar.gz/aclImdb/test/pos/' + file_names_pos[i], \"r\") as pos_file:\n",
        "    test_pos.loc[i,'text'] = pos_file.read()\n",
        "        \n",
        "# Create a list object to import negative reviews from test directory\n",
        "file_names_neg = os.listdir('/content/drive/My Drive/data/aclImdb_v1.tar.gz/aclImdb/test/neg/')\n",
        "\n",
        "# Create dataframe to store scores, labels, and texts\n",
        "test_neg = pd.DataFrame(columns=['text', 'score','label'])\n",
        "\n",
        "for i in range(0,len(file_names_neg)):\n",
        "  ending = file_names_neg[i].split('_')[-1]\n",
        "  res = [int(i) for i in ending.split('.') if i.isdigit()]\n",
        "  test_neg.loc[i,'score'] = res[0]\n",
        "  test_neg.loc[i,'label'] = 'negative'\n",
        "  with open('/content/drive/My Drive/data/aclImdb_v1.tar.gz/aclImdb/test/neg/' + file_names_neg[i], \"r\") as neg_file:\n",
        "    test_neg.loc[i,'text'] = neg_file.read()\n",
        "\n",
        "# Concatenate both positive and negative reviews dataframes\n",
        "df_test = pd.concat([test_pos,test_neg], ignore_index=True)\n",
        "df_test.head() # display the first 5 rows"
      ],
      "execution_count": null,
      "outputs": [
        {
          "output_type": "execute_result",
          "data": {
            "text/html": [
              "<div>\n",
              "<style scoped>\n",
              "    .dataframe tbody tr th:only-of-type {\n",
              "        vertical-align: middle;\n",
              "    }\n",
              "\n",
              "    .dataframe tbody tr th {\n",
              "        vertical-align: top;\n",
              "    }\n",
              "\n",
              "    .dataframe thead th {\n",
              "        text-align: right;\n",
              "    }\n",
              "</style>\n",
              "<table border=\"1\" class=\"dataframe\">\n",
              "  <thead>\n",
              "    <tr style=\"text-align: right;\">\n",
              "      <th></th>\n",
              "      <th>text</th>\n",
              "      <th>score</th>\n",
              "      <th>label</th>\n",
              "    </tr>\n",
              "  </thead>\n",
              "  <tbody>\n",
              "    <tr>\n",
              "      <th>0</th>\n",
              "      <td>Simon Wests pg-13 thriller about a babysitter ...</td>\n",
              "      <td>7</td>\n",
              "      <td>positive</td>\n",
              "    </tr>\n",
              "    <tr>\n",
              "      <th>1</th>\n",
              "      <td>I was recently at a sleepover birthday party w...</td>\n",
              "      <td>9</td>\n",
              "      <td>positive</td>\n",
              "    </tr>\n",
              "    <tr>\n",
              "      <th>2</th>\n",
              "      <td>A hundred miles away from the scene of a grizz...</td>\n",
              "      <td>7</td>\n",
              "      <td>positive</td>\n",
              "    </tr>\n",
              "    <tr>\n",
              "      <th>3</th>\n",
              "      <td>If you have ever babysat in a house you didn't...</td>\n",
              "      <td>7</td>\n",
              "      <td>positive</td>\n",
              "    </tr>\n",
              "    <tr>\n",
              "      <th>4</th>\n",
              "      <td>People say that this film is a 'typical teen h...</td>\n",
              "      <td>8</td>\n",
              "      <td>positive</td>\n",
              "    </tr>\n",
              "  </tbody>\n",
              "</table>\n",
              "</div>"
            ],
            "text/plain": [
              "                                                text score     label\n",
              "0  Simon Wests pg-13 thriller about a babysitter ...     7  positive\n",
              "1  I was recently at a sleepover birthday party w...     9  positive\n",
              "2  A hundred miles away from the scene of a grizz...     7  positive\n",
              "3  If you have ever babysat in a house you didn't...     7  positive\n",
              "4  People say that this film is a 'typical teen h...     8  positive"
            ]
          },
          "metadata": {
            "tags": []
          },
          "execution_count": 6
        }
      ]
    },
    {
      "cell_type": "markdown",
      "metadata": {
        "id": "SEYW57KYxZnV"
      },
      "source": [
        "## 2. Exploratory Analysis\n",
        "\n",
        "Before start is always a good practice to understand the data. So, let's do some exploratory data analysis;"
      ]
    },
    {
      "cell_type": "code",
      "metadata": {
        "colab": {
          "base_uri": "https://localhost:8080/",
          "height": 175
        },
        "id": "8C7Mg3S7wL5S",
        "outputId": "ff96b5bf-d83a-4909-b632-7630ff1b2392"
      },
      "source": [
        "# Get preliminaries from dataset\n",
        "df_train.describe()"
      ],
      "execution_count": null,
      "outputs": [
        {
          "output_type": "execute_result",
          "data": {
            "text/html": [
              "<div>\n",
              "<style scoped>\n",
              "    .dataframe tbody tr th:only-of-type {\n",
              "        vertical-align: middle;\n",
              "    }\n",
              "\n",
              "    .dataframe tbody tr th {\n",
              "        vertical-align: top;\n",
              "    }\n",
              "\n",
              "    .dataframe thead th {\n",
              "        text-align: right;\n",
              "    }\n",
              "</style>\n",
              "<table border=\"1\" class=\"dataframe\">\n",
              "  <thead>\n",
              "    <tr style=\"text-align: right;\">\n",
              "      <th></th>\n",
              "      <th>text</th>\n",
              "      <th>score</th>\n",
              "      <th>label</th>\n",
              "    </tr>\n",
              "  </thead>\n",
              "  <tbody>\n",
              "    <tr>\n",
              "      <th>count</th>\n",
              "      <td>25000</td>\n",
              "      <td>25000</td>\n",
              "      <td>25000</td>\n",
              "    </tr>\n",
              "    <tr>\n",
              "      <th>unique</th>\n",
              "      <td>24904</td>\n",
              "      <td>8</td>\n",
              "      <td>2</td>\n",
              "    </tr>\n",
              "    <tr>\n",
              "      <th>top</th>\n",
              "      <td>This show comes up with interesting locations ...</td>\n",
              "      <td>1</td>\n",
              "      <td>negative</td>\n",
              "    </tr>\n",
              "    <tr>\n",
              "      <th>freq</th>\n",
              "      <td>3</td>\n",
              "      <td>5100</td>\n",
              "      <td>12500</td>\n",
              "    </tr>\n",
              "  </tbody>\n",
              "</table>\n",
              "</div>"
            ],
            "text/plain": [
              "                                                     text  score     label\n",
              "count                                               25000  25000     25000\n",
              "unique                                              24904      8         2\n",
              "top     This show comes up with interesting locations ...      1  negative\n",
              "freq                                                    3   5100     12500"
            ]
          },
          "metadata": {
            "tags": []
          },
          "execution_count": 157
        }
      ]
    },
    {
      "cell_type": "markdown",
      "metadata": {
        "id": "Wq2XeL8Rx4ZN"
      },
      "source": [
        "As we see, the _Train_ subset has 25,000 rows. However, not all of them are unique, that means, there are some duplicates that we need to deal with."
      ]
    },
    {
      "cell_type": "code",
      "metadata": {
        "colab": {
          "base_uri": "https://localhost:8080/",
          "height": 424
        },
        "id": "c1rknqAZzNuz",
        "outputId": "035d19f7-32cf-4aa6-f281-44a5d71709d8"
      },
      "source": [
        "# Display duplicates\n",
        "duplicated = df_train[df_train.duplicated(keep=False)]\n",
        "duplicated.sort_values(\"text\")"
      ],
      "execution_count": null,
      "outputs": [
        {
          "output_type": "execute_result",
          "data": {
            "text/html": [
              "<div>\n",
              "<style scoped>\n",
              "    .dataframe tbody tr th:only-of-type {\n",
              "        vertical-align: middle;\n",
              "    }\n",
              "\n",
              "    .dataframe tbody tr th {\n",
              "        vertical-align: top;\n",
              "    }\n",
              "\n",
              "    .dataframe thead th {\n",
              "        text-align: right;\n",
              "    }\n",
              "</style>\n",
              "<table border=\"1\" class=\"dataframe\">\n",
              "  <thead>\n",
              "    <tr style=\"text-align: right;\">\n",
              "      <th></th>\n",
              "      <th>text</th>\n",
              "      <th>score</th>\n",
              "      <th>label</th>\n",
              "    </tr>\n",
              "  </thead>\n",
              "  <tbody>\n",
              "    <tr>\n",
              "      <th>21217</th>\n",
              "      <td>'Dead Letter Office' is a low-budget film abou...</td>\n",
              "      <td>4</td>\n",
              "      <td>negative</td>\n",
              "    </tr>\n",
              "    <tr>\n",
              "      <th>23936</th>\n",
              "      <td>'Dead Letter Office' is a low-budget film abou...</td>\n",
              "      <td>4</td>\n",
              "      <td>negative</td>\n",
              "    </tr>\n",
              "    <tr>\n",
              "      <th>6591</th>\n",
              "      <td>.......Playing Kaddiddlehopper, Col San Fernan...</td>\n",
              "      <td>8</td>\n",
              "      <td>positive</td>\n",
              "    </tr>\n",
              "    <tr>\n",
              "      <th>3741</th>\n",
              "      <td>.......Playing Kaddiddlehopper, Col San Fernan...</td>\n",
              "      <td>8</td>\n",
              "      <td>positive</td>\n",
              "    </tr>\n",
              "    <tr>\n",
              "      <th>18177</th>\n",
              "      <td>&lt;br /&gt;&lt;br /&gt;Back in his youth, the old man had...</td>\n",
              "      <td>2</td>\n",
              "      <td>negative</td>\n",
              "    </tr>\n",
              "    <tr>\n",
              "      <th>...</th>\n",
              "      <td>...</td>\n",
              "      <td>...</td>\n",
              "      <td>...</td>\n",
              "    </tr>\n",
              "    <tr>\n",
              "      <th>17877</th>\n",
              "      <td>in this movie, joe pesci slams dunks a basketb...</td>\n",
              "      <td>3</td>\n",
              "      <td>negative</td>\n",
              "    </tr>\n",
              "    <tr>\n",
              "      <th>3123</th>\n",
              "      <td>it's amazing that so many people that i know h...</td>\n",
              "      <td>9</td>\n",
              "      <td>positive</td>\n",
              "    </tr>\n",
              "    <tr>\n",
              "      <th>3126</th>\n",
              "      <td>it's amazing that so many people that i know h...</td>\n",
              "      <td>9</td>\n",
              "      <td>positive</td>\n",
              "    </tr>\n",
              "    <tr>\n",
              "      <th>20027</th>\n",
              "      <td>this movie begins with an ordinary funeral... ...</td>\n",
              "      <td>1</td>\n",
              "      <td>negative</td>\n",
              "    </tr>\n",
              "    <tr>\n",
              "      <th>17542</th>\n",
              "      <td>this movie begins with an ordinary funeral... ...</td>\n",
              "      <td>1</td>\n",
              "      <td>negative</td>\n",
              "    </tr>\n",
              "  </tbody>\n",
              "</table>\n",
              "<p>186 rows × 3 columns</p>\n",
              "</div>"
            ],
            "text/plain": [
              "                                                    text score     label\n",
              "21217  'Dead Letter Office' is a low-budget film abou...     4  negative\n",
              "23936  'Dead Letter Office' is a low-budget film abou...     4  negative\n",
              "6591   .......Playing Kaddiddlehopper, Col San Fernan...     8  positive\n",
              "3741   .......Playing Kaddiddlehopper, Col San Fernan...     8  positive\n",
              "18177  <br /><br />Back in his youth, the old man had...     2  negative\n",
              "...                                                  ...   ...       ...\n",
              "17877  in this movie, joe pesci slams dunks a basketb...     3  negative\n",
              "3123   it's amazing that so many people that i know h...     9  positive\n",
              "3126   it's amazing that so many people that i know h...     9  positive\n",
              "20027  this movie begins with an ordinary funeral... ...     1  negative\n",
              "17542  this movie begins with an ordinary funeral... ...     1  negative\n",
              "\n",
              "[186 rows x 3 columns]"
            ]
          },
          "metadata": {
            "tags": []
          },
          "execution_count": 158
        }
      ]
    },
    {
      "cell_type": "code",
      "metadata": {
        "colab": {
          "base_uri": "https://localhost:8080/"
        },
        "id": "NBzbN_7_yOCt",
        "outputId": "13d48788-bbf3-4653-b27e-bc0f1c99e2f1"
      },
      "source": [
        "# Drop the duplicates\n",
        "df_train = pd.DataFrame.drop_duplicates(df_train, ignore_index=True)\n",
        "df_train.shape"
      ],
      "execution_count": null,
      "outputs": [
        {
          "output_type": "execute_result",
          "data": {
            "text/plain": [
              "(24905, 3)"
            ]
          },
          "metadata": {
            "tags": []
          },
          "execution_count": 3
        }
      ]
    },
    {
      "cell_type": "markdown",
      "metadata": {
        "id": "2n8Lajgc_3Gf"
      },
      "source": [
        "From 25,000 rows 24,905 were left. Let's check again for uniquiness."
      ]
    },
    {
      "cell_type": "code",
      "metadata": {
        "colab": {
          "base_uri": "https://localhost:8080/",
          "height": 175
        },
        "id": "KnOSWaiO3Nje",
        "outputId": "9b49caf5-6a35-4bea-d2e2-11b23dc36cc6"
      },
      "source": [
        "# Check the result\n",
        "df_train.describe()"
      ],
      "execution_count": null,
      "outputs": [
        {
          "output_type": "execute_result",
          "data": {
            "text/html": [
              "<div>\n",
              "<style scoped>\n",
              "    .dataframe tbody tr th:only-of-type {\n",
              "        vertical-align: middle;\n",
              "    }\n",
              "\n",
              "    .dataframe tbody tr th {\n",
              "        vertical-align: top;\n",
              "    }\n",
              "\n",
              "    .dataframe thead th {\n",
              "        text-align: right;\n",
              "    }\n",
              "</style>\n",
              "<table border=\"1\" class=\"dataframe\">\n",
              "  <thead>\n",
              "    <tr style=\"text-align: right;\">\n",
              "      <th></th>\n",
              "      <th>text</th>\n",
              "      <th>score</th>\n",
              "      <th>label</th>\n",
              "    </tr>\n",
              "  </thead>\n",
              "  <tbody>\n",
              "    <tr>\n",
              "      <th>count</th>\n",
              "      <td>24905</td>\n",
              "      <td>24905</td>\n",
              "      <td>24905</td>\n",
              "    </tr>\n",
              "    <tr>\n",
              "      <th>unique</th>\n",
              "      <td>24904</td>\n",
              "      <td>8</td>\n",
              "      <td>2</td>\n",
              "    </tr>\n",
              "    <tr>\n",
              "      <th>top</th>\n",
              "      <td>Sondra Locke stinks in this film, but then she...</td>\n",
              "      <td>1</td>\n",
              "      <td>positive</td>\n",
              "    </tr>\n",
              "    <tr>\n",
              "      <th>freq</th>\n",
              "      <td>2</td>\n",
              "      <td>5068</td>\n",
              "      <td>12472</td>\n",
              "    </tr>\n",
              "  </tbody>\n",
              "</table>\n",
              "</div>"
            ],
            "text/plain": [
              "                                                     text  score     label\n",
              "count                                               24905  24905     24905\n",
              "unique                                              24904      8         2\n",
              "top     Sondra Locke stinks in this film, but then she...      1  positive\n",
              "freq                                                    2   5068     12472"
            ]
          },
          "metadata": {
            "tags": []
          },
          "execution_count": 160
        }
      ]
    },
    {
      "cell_type": "markdown",
      "metadata": {
        "id": "FeTDyLv0AGkz"
      },
      "source": [
        "Still a problem. There is an issue with the row with text about _Sondra Locke's_ film. Let's investigate."
      ]
    },
    {
      "cell_type": "code",
      "metadata": {
        "colab": {
          "base_uri": "https://localhost:8080/",
          "height": 112
        },
        "id": "AqkojEOg4CnS",
        "outputId": "38ed4f1f-dba1-4a58-93ae-0fd919596a8d"
      },
      "source": [
        "# Display rows with the same text about Sondra Locke\n",
        "df_train[df_train['text'].str.contains(\"Sondra Locke stinks in this film, but then she\")]"
      ],
      "execution_count": null,
      "outputs": [
        {
          "output_type": "execute_result",
          "data": {
            "text/html": [
              "<div>\n",
              "<style scoped>\n",
              "    .dataframe tbody tr th:only-of-type {\n",
              "        vertical-align: middle;\n",
              "    }\n",
              "\n",
              "    .dataframe tbody tr th {\n",
              "        vertical-align: top;\n",
              "    }\n",
              "\n",
              "    .dataframe thead th {\n",
              "        text-align: right;\n",
              "    }\n",
              "</style>\n",
              "<table border=\"1\" class=\"dataframe\">\n",
              "  <thead>\n",
              "    <tr style=\"text-align: right;\">\n",
              "      <th></th>\n",
              "      <th>text</th>\n",
              "      <th>score</th>\n",
              "      <th>label</th>\n",
              "    </tr>\n",
              "  </thead>\n",
              "  <tbody>\n",
              "    <tr>\n",
              "      <th>13436</th>\n",
              "      <td>Sondra Locke stinks in this film, but then she...</td>\n",
              "      <td>3</td>\n",
              "      <td>negative</td>\n",
              "    </tr>\n",
              "    <tr>\n",
              "      <th>13438</th>\n",
              "      <td>Sondra Locke stinks in this film, but then she...</td>\n",
              "      <td>4</td>\n",
              "      <td>negative</td>\n",
              "    </tr>\n",
              "  </tbody>\n",
              "</table>\n",
              "</div>"
            ],
            "text/plain": [
              "                                                    text score     label\n",
              "13436  Sondra Locke stinks in this film, but then she...     3  negative\n",
              "13438  Sondra Locke stinks in this film, but then she...     4  negative"
            ]
          },
          "metadata": {
            "tags": []
          },
          "execution_count": 161
        }
      ]
    },
    {
      "cell_type": "markdown",
      "metadata": {
        "id": "6nxjHdUicUcu"
      },
      "source": [
        "The previous cleaning method didn't catch this issue because it did not considered those rows as duplicates since the scores are different. Let's handle that."
      ]
    },
    {
      "cell_type": "code",
      "metadata": {
        "id": "Ns6kwp705Co3"
      },
      "source": [
        "# Drop the duplicate\n",
        "df_train = df_train.drop(df_train.index[13438])"
      ],
      "execution_count": null,
      "outputs": []
    },
    {
      "cell_type": "code",
      "metadata": {
        "colab": {
          "base_uri": "https://localhost:8080/",
          "height": 173
        },
        "id": "Ny8195Tf3Nvp",
        "outputId": "c99db45d-1152-45d6-84bb-7eb61c4a74fb"
      },
      "source": [
        "# Check the result\n",
        "df_train.describe()"
      ],
      "execution_count": null,
      "outputs": [
        {
          "output_type": "execute_result",
          "data": {
            "text/html": [
              "<div>\n",
              "<style scoped>\n",
              "    .dataframe tbody tr th:only-of-type {\n",
              "        vertical-align: middle;\n",
              "    }\n",
              "\n",
              "    .dataframe tbody tr th {\n",
              "        vertical-align: top;\n",
              "    }\n",
              "\n",
              "    .dataframe thead th {\n",
              "        text-align: right;\n",
              "    }\n",
              "</style>\n",
              "<table border=\"1\" class=\"dataframe\">\n",
              "  <thead>\n",
              "    <tr style=\"text-align: right;\">\n",
              "      <th></th>\n",
              "      <th>text</th>\n",
              "      <th>score</th>\n",
              "      <th>label</th>\n",
              "    </tr>\n",
              "  </thead>\n",
              "  <tbody>\n",
              "    <tr>\n",
              "      <th>count</th>\n",
              "      <td>24904</td>\n",
              "      <td>24904</td>\n",
              "      <td>24904</td>\n",
              "    </tr>\n",
              "    <tr>\n",
              "      <th>unique</th>\n",
              "      <td>24904</td>\n",
              "      <td>8</td>\n",
              "      <td>2</td>\n",
              "    </tr>\n",
              "    <tr>\n",
              "      <th>top</th>\n",
              "      <td>I'm certainly glad that a film was made about ...</td>\n",
              "      <td>1</td>\n",
              "      <td>positive</td>\n",
              "    </tr>\n",
              "    <tr>\n",
              "      <th>freq</th>\n",
              "      <td>1</td>\n",
              "      <td>5068</td>\n",
              "      <td>12472</td>\n",
              "    </tr>\n",
              "  </tbody>\n",
              "</table>\n",
              "</div>"
            ],
            "text/plain": [
              "                                                     text  score     label\n",
              "count                                               24904  24904     24904\n",
              "unique                                              24904      8         2\n",
              "top     I'm certainly glad that a film was made about ...      1  positive\n",
              "freq                                                    1   5068     12472"
            ]
          },
          "metadata": {
            "tags": []
          },
          "execution_count": 5
        }
      ]
    },
    {
      "cell_type": "markdown",
      "metadata": {
        "id": "6Ogfgi1cA5s1"
      },
      "source": [
        "We are good to go. Now, let's check for the distribution of _scores_ and _labels_. But first we need to check on each column data type."
      ]
    },
    {
      "cell_type": "code",
      "metadata": {
        "colab": {
          "base_uri": "https://localhost:8080/"
        },
        "id": "zuEV-NbnBqoU",
        "outputId": "0394f925-8f76-4cd9-9d8a-3a2516af33ae"
      },
      "source": [
        "# Check columns data type\n",
        "df_train.dtypes"
      ],
      "execution_count": null,
      "outputs": [
        {
          "output_type": "execute_result",
          "data": {
            "text/plain": [
              "text     object\n",
              "score    object\n",
              "label    object\n",
              "dtype: object"
            ]
          },
          "metadata": {
            "tags": []
          },
          "execution_count": 164
        }
      ]
    },
    {
      "cell_type": "markdown",
      "metadata": {
        "id": "uNDXcSIxF-1-"
      },
      "source": [
        "Before plotting we need to convert each column values accordingly."
      ]
    },
    {
      "cell_type": "code",
      "metadata": {
        "id": "Lci7sFcvB_Bb"
      },
      "source": [
        "df_train['score'] = df_train['score'].astype(int) # convert into integers\n",
        "df_train['label'] = pd.Categorical(df_train.label) # convert into categorical"
      ],
      "execution_count": null,
      "outputs": []
    },
    {
      "cell_type": "code",
      "metadata": {
        "colab": {
          "base_uri": "https://localhost:8080/",
          "height": 285
        },
        "id": "CWh1rn92BH10",
        "outputId": "31879a42-cc06-417c-fc92-d2a0eef1205c"
      },
      "source": [
        "import seaborn as sns\n",
        "\n",
        "sns.set(color_codes=True)\n",
        "sns.set(style=\"white\", palette=\"muted\")\n",
        "\n",
        "# Plot histogram of the scores\n",
        "score =sns.histplot(data=df_train, x=\"score\", bins=8)"
      ],
      "execution_count": null,
      "outputs": [
        {
          "output_type": "display_data",
          "data": {
            "image/png": "[encoded data removed]",
            "text/plain": [
              "<Figure size 432x288 with 1 Axes>"
            ]
          },
          "metadata": {
            "tags": []
          }
        }
      ]
    },
    {
      "cell_type": "markdown",
      "metadata": {
        "id": "01IGzHVoGSEl"
      },
      "source": [
        "The graph above is pratically symmetric with no values between 5 and 6 (as previously noted) which indicates that the distribuition of negatives and positive labels may be uniform. Let's check."
      ]
    },
    {
      "cell_type": "code",
      "metadata": {
        "colab": {
          "base_uri": "https://localhost:8080/",
          "height": 382
        },
        "id": "wl-rklsBDbAD",
        "outputId": "2b5f0973-312b-405c-d415-3e218b8be78c"
      },
      "source": [
        "# Print labels bar plor\n",
        "label = sns.catplot(x=\"label\", kind=\"count\", data=df_train)"
      ],
      "execution_count": null,
      "outputs": [
        {
          "output_type": "display_data",
          "data": {
            "image/png": "[encoded data removed]",
            "text/plain": [
              "<Figure size 360x360 with 1 Axes>"
            ]
          },
          "metadata": {
            "tags": []
          }
        }
      ]
    },
    {
      "cell_type": "markdown",
      "metadata": {
        "id": "oWuUZWP-RzS4"
      },
      "source": [
        "As we can verify from the graph above, the labels are not significantly imbalanced and we do not have to worry about doing under(over)sampling or creating synthetic data."
      ]
    },
    {
      "cell_type": "markdown",
      "metadata": {
        "id": "ABHoN2TIS9Sj"
      },
      "source": [
        "Let's do a similar check on _Test_ subset."
      ]
    },
    {
      "cell_type": "code",
      "metadata": {
        "colab": {
          "base_uri": "https://localhost:8080/",
          "height": 175
        },
        "id": "2Ymurgh4LcPk",
        "outputId": "9bf7ac23-c1ba-475f-eee9-a0a118778d00"
      },
      "source": [
        "# Get preliminaries from datases\n",
        "df_test.describe()"
      ],
      "execution_count": null,
      "outputs": [
        {
          "output_type": "execute_result",
          "data": {
            "text/html": [
              "<div>\n",
              "<style scoped>\n",
              "    .dataframe tbody tr th:only-of-type {\n",
              "        vertical-align: middle;\n",
              "    }\n",
              "\n",
              "    .dataframe tbody tr th {\n",
              "        vertical-align: top;\n",
              "    }\n",
              "\n",
              "    .dataframe thead th {\n",
              "        text-align: right;\n",
              "    }\n",
              "</style>\n",
              "<table border=\"1\" class=\"dataframe\">\n",
              "  <thead>\n",
              "    <tr style=\"text-align: right;\">\n",
              "      <th></th>\n",
              "      <th>text</th>\n",
              "      <th>score</th>\n",
              "      <th>label</th>\n",
              "    </tr>\n",
              "  </thead>\n",
              "  <tbody>\n",
              "    <tr>\n",
              "      <th>count</th>\n",
              "      <td>25000</td>\n",
              "      <td>25000</td>\n",
              "      <td>25000</td>\n",
              "    </tr>\n",
              "    <tr>\n",
              "      <th>unique</th>\n",
              "      <td>24801</td>\n",
              "      <td>8</td>\n",
              "      <td>2</td>\n",
              "    </tr>\n",
              "    <tr>\n",
              "      <th>top</th>\n",
              "      <td>Loved today's show!!! It was a variety and not...</td>\n",
              "      <td>1</td>\n",
              "      <td>positive</td>\n",
              "    </tr>\n",
              "    <tr>\n",
              "      <th>freq</th>\n",
              "      <td>5</td>\n",
              "      <td>5022</td>\n",
              "      <td>12500</td>\n",
              "    </tr>\n",
              "  </tbody>\n",
              "</table>\n",
              "</div>"
            ],
            "text/plain": [
              "                                                     text  score     label\n",
              "count                                               25000  25000     25000\n",
              "unique                                              24801      8         2\n",
              "top     Loved today's show!!! It was a variety and not...      1  positive\n",
              "freq                                                    5   5022     12500"
            ]
          },
          "metadata": {
            "tags": []
          },
          "execution_count": 4
        }
      ]
    },
    {
      "cell_type": "markdown",
      "metadata": {
        "id": "23jywIZfTKC0"
      },
      "source": [
        "There are also issues with duplicated rows. Now that we are aware, we will not  remove duplicates considering all columns values but only _text_ duplicates."
      ]
    },
    {
      "cell_type": "code",
      "metadata": {
        "id": "LJVzX6cAPLoP"
      },
      "source": [
        "# Remove row duplicates based on text\n",
        "df_test = df_test.drop_duplicates(subset=['text'])"
      ],
      "execution_count": null,
      "outputs": []
    },
    {
      "cell_type": "code",
      "metadata": {
        "colab": {
          "base_uri": "https://localhost:8080/",
          "height": 173
        },
        "id": "ppM_uu8Yn-xK",
        "outputId": "7a04134a-43ea-41f2-d6bb-52412132a452"
      },
      "source": [
        "# Check the result\n",
        "df_test.describe()"
      ],
      "execution_count": null,
      "outputs": [
        {
          "output_type": "execute_result",
          "data": {
            "text/html": [
              "<div>\n",
              "<style scoped>\n",
              "    .dataframe tbody tr th:only-of-type {\n",
              "        vertical-align: middle;\n",
              "    }\n",
              "\n",
              "    .dataframe tbody tr th {\n",
              "        vertical-align: top;\n",
              "    }\n",
              "\n",
              "    .dataframe thead th {\n",
              "        text-align: right;\n",
              "    }\n",
              "</style>\n",
              "<table border=\"1\" class=\"dataframe\">\n",
              "  <thead>\n",
              "    <tr style=\"text-align: right;\">\n",
              "      <th></th>\n",
              "      <th>text</th>\n",
              "      <th>score</th>\n",
              "      <th>label</th>\n",
              "    </tr>\n",
              "  </thead>\n",
              "  <tbody>\n",
              "    <tr>\n",
              "      <th>count</th>\n",
              "      <td>24801</td>\n",
              "      <td>24801</td>\n",
              "      <td>24801</td>\n",
              "    </tr>\n",
              "    <tr>\n",
              "      <th>unique</th>\n",
              "      <td>24801</td>\n",
              "      <td>8</td>\n",
              "      <td>2</td>\n",
              "    </tr>\n",
              "    <tr>\n",
              "      <th>top</th>\n",
              "      <td>The first thing I noticed about this movie was...</td>\n",
              "      <td>10</td>\n",
              "      <td>positive</td>\n",
              "    </tr>\n",
              "    <tr>\n",
              "      <th>freq</th>\n",
              "      <td>1</td>\n",
              "      <td>4965</td>\n",
              "      <td>12440</td>\n",
              "    </tr>\n",
              "  </tbody>\n",
              "</table>\n",
              "</div>"
            ],
            "text/plain": [
              "                                                     text  score     label\n",
              "count                                               24801  24801     24801\n",
              "unique                                              24801      8         2\n",
              "top     The first thing I noticed about this movie was...     10  positive\n",
              "freq                                                    1   4965     12440"
            ]
          },
          "metadata": {
            "tags": []
          },
          "execution_count": 9
        }
      ]
    },
    {
      "cell_type": "code",
      "metadata": {
        "id": "oE_cq59YVVhE"
      },
      "source": [
        "df_test['score'] = df_test['score'].astype(int) # convert into integers\n",
        "df_test['label'] = pd.Categorical(df_test.label) # convert into categorical"
      ],
      "execution_count": null,
      "outputs": []
    },
    {
      "cell_type": "code",
      "metadata": {
        "colab": {
          "base_uri": "https://localhost:8080/"
        },
        "id": "yFHu_PF8SjpR",
        "outputId": "76adcb35-4ba9-45c9-dae4-835e6a5a73a5"
      },
      "source": [
        "# Count labels for each category\n",
        "df_test['label'].value_counts()"
      ],
      "execution_count": null,
      "outputs": [
        {
          "output_type": "execute_result",
          "data": {
            "text/plain": [
              "positive    12440\n",
              "negative    12361\n",
              "Name: label, dtype: int64"
            ]
          },
          "metadata": {
            "tags": []
          },
          "execution_count": 13
        }
      ]
    },
    {
      "cell_type": "markdown",
      "metadata": {
        "id": "R-0LcIGbqCyL"
      },
      "source": [
        "## 2. Data Pre-processing\n",
        "\n",
        "In every NLP task it is necessary to perform some pre-processing on data, like removing some characters from text that do not bring much information  like urls, tags, accents, emoticons, and stop words. Sometimes it is desirable to go for words' decapitalization and use word stems."
      ]
    },
    {
      "cell_type": "code",
      "metadata": {
        "id": "NTBeXR473G0h"
      },
      "source": [
        "import re\n",
        "\n",
        "# Define a function to remove unecessary characters from the text\n",
        "def clean_text(text):\n",
        "    # text = text.lower() #lower case\n",
        "    text = re.sub(r\"<[^>]*>\", ' ', text)\n",
        "    text = re.sub(r\"@[A-Za-z0-9]+\", ' ', text)\n",
        "    text = re.sub(r\"https?://[A-Za-z0-9./]+\", ' ', text)\n",
        "    text = re.sub(r\"[^a-zA-z.!?'0-9]\", ' ', text)\n",
        "    text = re.sub('\\t', ' ',  text)\n",
        "    text = re.sub(r\" +\", ' ', text)\n",
        "    return text"
      ],
      "execution_count": null,
      "outputs": []
    },
    {
      "cell_type": "code",
      "metadata": {
        "colab": {
          "base_uri": "https://localhost:8080/",
          "height": 204
        },
        "id": "VH7AN2mN3Ino",
        "outputId": "99dd9fa4-821d-4184-db4b-b2d3f1dece8b"
      },
      "source": [
        "# Apply the clean_text function of both data sets\n",
        "df_train['text'] = df_train['text'].apply(clean_text)\n",
        "df_test['text'] = df_test['text'].apply(clean_text)\n",
        "df_train.head() # display the first 5 rows of Train subset"
      ],
      "execution_count": null,
      "outputs": [
        {
          "output_type": "execute_result",
          "data": {
            "text/html": [
              "<div>\n",
              "<style scoped>\n",
              "    .dataframe tbody tr th:only-of-type {\n",
              "        vertical-align: middle;\n",
              "    }\n",
              "\n",
              "    .dataframe tbody tr th {\n",
              "        vertical-align: top;\n",
              "    }\n",
              "\n",
              "    .dataframe thead th {\n",
              "        text-align: right;\n",
              "    }\n",
              "</style>\n",
              "<table border=\"1\" class=\"dataframe\">\n",
              "  <thead>\n",
              "    <tr style=\"text-align: right;\">\n",
              "      <th></th>\n",
              "      <th>text</th>\n",
              "      <th>score</th>\n",
              "      <th>label</th>\n",
              "    </tr>\n",
              "  </thead>\n",
              "  <tbody>\n",
              "    <tr>\n",
              "      <th>0</th>\n",
              "      <td>Nicely and intelligently played by the two you...</td>\n",
              "      <td>10</td>\n",
              "      <td>positive</td>\n",
              "    </tr>\n",
              "    <tr>\n",
              "      <th>1</th>\n",
              "      <td>S.S. Van Dine must have been a shrewd business...</td>\n",
              "      <td>8</td>\n",
              "      <td>positive</td>\n",
              "    </tr>\n",
              "    <tr>\n",
              "      <th>2</th>\n",
              "      <td>EDMUND LOWE who reminds me somewhat of Warren ...</td>\n",
              "      <td>7</td>\n",
              "      <td>positive</td>\n",
              "    </tr>\n",
              "    <tr>\n",
              "      <th>3</th>\n",
              "      <td>When Philo Vance Edmund Lowe is standing preca...</td>\n",
              "      <td>9</td>\n",
              "      <td>positive</td>\n",
              "    </tr>\n",
              "    <tr>\n",
              "      <th>4</th>\n",
              "      <td>Etienne Girardot is just a character actor the...</td>\n",
              "      <td>7</td>\n",
              "      <td>positive</td>\n",
              "    </tr>\n",
              "  </tbody>\n",
              "</table>\n",
              "</div>"
            ],
            "text/plain": [
              "                                                text  score     label\n",
              "0  Nicely and intelligently played by the two you...     10  positive\n",
              "1  S.S. Van Dine must have been a shrewd business...      8  positive\n",
              "2  EDMUND LOWE who reminds me somewhat of Warren ...      7  positive\n",
              "3  When Philo Vance Edmund Lowe is standing preca...      9  positive\n",
              "4  Etienne Girardot is just a character actor the...      7  positive"
            ]
          },
          "metadata": {
            "tags": []
          },
          "execution_count": 12
        }
      ]
    },
    {
      "cell_type": "markdown",
      "metadata": {
        "id": "ap5UwFshtHWV"
      },
      "source": [
        "Now we will replace the categorical values of the labels by numbers, that means, positive = 1, and negative = 0."
      ]
    },
    {
      "cell_type": "code",
      "metadata": {
        "colab": {
          "base_uri": "https://localhost:8080/",
          "height": 204
        },
        "id": "q21TmgqmuXEL",
        "outputId": "e9a1fcae-e734-4926-d0e7-37adba6006c1"
      },
      "source": [
        "# Replace labels with numbers on both subsets\n",
        "df_train['label'] = df_train['label'].map({'positive':1, 'negative':0})\n",
        "df_test['label'] = df_test['label'].map({'positive':1, 'negative':0})\n",
        "df_test.head() # display the first 5 rows of Test subset"
      ],
      "execution_count": null,
      "outputs": [
        {
          "output_type": "execute_result",
          "data": {
            "text/html": [
              "<div>\n",
              "<style scoped>\n",
              "    .dataframe tbody tr th:only-of-type {\n",
              "        vertical-align: middle;\n",
              "    }\n",
              "\n",
              "    .dataframe tbody tr th {\n",
              "        vertical-align: top;\n",
              "    }\n",
              "\n",
              "    .dataframe thead th {\n",
              "        text-align: right;\n",
              "    }\n",
              "</style>\n",
              "<table border=\"1\" class=\"dataframe\">\n",
              "  <thead>\n",
              "    <tr style=\"text-align: right;\">\n",
              "      <th></th>\n",
              "      <th>text</th>\n",
              "      <th>score</th>\n",
              "      <th>label</th>\n",
              "    </tr>\n",
              "  </thead>\n",
              "  <tbody>\n",
              "    <tr>\n",
              "      <th>0</th>\n",
              "      <td>Simon Wests pg 13 thriller about a babysitter ...</td>\n",
              "      <td>7</td>\n",
              "      <td>1</td>\n",
              "    </tr>\n",
              "    <tr>\n",
              "      <th>1</th>\n",
              "      <td>I was recently at a sleepover birthday party w...</td>\n",
              "      <td>9</td>\n",
              "      <td>1</td>\n",
              "    </tr>\n",
              "    <tr>\n",
              "      <th>2</th>\n",
              "      <td>A hundred miles away from the scene of a grizz...</td>\n",
              "      <td>7</td>\n",
              "      <td>1</td>\n",
              "    </tr>\n",
              "    <tr>\n",
              "      <th>3</th>\n",
              "      <td>If you have ever babysat in a house you didn't...</td>\n",
              "      <td>7</td>\n",
              "      <td>1</td>\n",
              "    </tr>\n",
              "    <tr>\n",
              "      <th>4</th>\n",
              "      <td>People say that this film is a 'typical teen h...</td>\n",
              "      <td>8</td>\n",
              "      <td>1</td>\n",
              "    </tr>\n",
              "  </tbody>\n",
              "</table>\n",
              "</div>"
            ],
            "text/plain": [
              "                                                text  score label\n",
              "0  Simon Wests pg 13 thriller about a babysitter ...      7     1\n",
              "1  I was recently at a sleepover birthday party w...      9     1\n",
              "2  A hundred miles away from the scene of a grizz...      7     1\n",
              "3  If you have ever babysat in a house you didn't...      7     1\n",
              "4  People say that this film is a 'typical teen h...      8     1"
            ]
          },
          "metadata": {
            "tags": []
          },
          "execution_count": 13
        }
      ]
    },
    {
      "cell_type": "markdown",
      "metadata": {
        "id": "o5LqO3p6u-1d"
      },
      "source": [
        "## 3. Modeling\n",
        "\n",
        "Now we are ready to build a model, train, and test it."
      ]
    },
    {
      "cell_type": "code",
      "metadata": {
        "colab": {
          "base_uri": "https://localhost:8080/"
        },
        "id": "BDBNS4iNXuUL",
        "outputId": "1e904b37-7706-4073-f606-20ee271d2b71"
      },
      "source": [
        "!pip3 install -q tensorflow_gpu #==2.1.0"
      ],
      "execution_count": null,
      "outputs": [
        {
          "output_type": "stream",
          "text": [
            "\u001b[K     |████████████████████████████████| 320.4MB 56kB/s \n",
            "\u001b[?25h"
          ],
          "name": "stdout"
        }
      ]
    },
    {
      "cell_type": "code",
      "metadata": {
        "colab": {
          "base_uri": "https://localhost:8080/"
        },
        "id": "MAA46kq4X0C_",
        "outputId": "90e93631-741a-4392-9fb5-feb969aa7d3c"
      },
      "source": [
        "import tensorflow as tf\n",
        "print(tf.__version__)"
      ],
      "execution_count": null,
      "outputs": [
        {
          "output_type": "stream",
          "text": [
            "2.3.1\n"
          ],
          "name": "stdout"
        }
      ]
    },
    {
      "cell_type": "code",
      "metadata": {
        "colab": {
          "base_uri": "https://localhost:8080/"
        },
        "id": "sAYBZG2SX4nP",
        "outputId": "c6299e81-c3bf-4a49-f884-ad6631948fbe"
      },
      "source": [
        "!pip3 install -q ktrain"
      ],
      "execution_count": null,
      "outputs": [
        {
          "output_type": "stream",
          "text": [
            "\u001b[K     |████████████████████████████████| 25.3MB 30.8MB/s \n",
            "\u001b[K     |████████████████████████████████| 983kB 48.6MB/s \n",
            "\u001b[K     |████████████████████████████████| 266kB 53.8MB/s \n",
            "\u001b[K     |████████████████████████████████| 1.3MB 47.5MB/s \n",
            "\u001b[K     |████████████████████████████████| 1.1MB 54.4MB/s \n",
            "\u001b[K     |████████████████████████████████| 471kB 46.4MB/s \n",
            "\u001b[K     |████████████████████████████████| 2.9MB 52.8MB/s \n",
            "\u001b[K     |████████████████████████████████| 890kB 51.5MB/s \n",
            "\u001b[?25h  Building wheel for ktrain (setup.py) ... \u001b[?25l\u001b[?25hdone\n",
            "  Building wheel for langdetect (setup.py) ... \u001b[?25l\u001b[?25hdone\n",
            "  Building wheel for syntok (setup.py) ... \u001b[?25l\u001b[?25hdone\n",
            "  Building wheel for seqeval (setup.py) ... \u001b[?25l\u001b[?25hdone\n",
            "  Building wheel for keras-bert (setup.py) ... \u001b[?25l\u001b[?25hdone\n",
            "  Building wheel for sacremoses (setup.py) ... \u001b[?25l\u001b[?25hdone\n",
            "  Building wheel for keras-transformer (setup.py) ... \u001b[?25l\u001b[?25hdone\n",
            "  Building wheel for keras-pos-embd (setup.py) ... \u001b[?25l\u001b[?25hdone\n",
            "  Building wheel for keras-multi-head (setup.py) ... \u001b[?25l\u001b[?25hdone\n",
            "  Building wheel for keras-layer-normalization (setup.py) ... \u001b[?25l\u001b[?25hdone\n",
            "  Building wheel for keras-position-wise-feed-forward (setup.py) ... \u001b[?25l\u001b[?25hdone\n",
            "  Building wheel for keras-embed-sim (setup.py) ... \u001b[?25l\u001b[?25hdone\n",
            "  Building wheel for keras-self-attention (setup.py) ... \u001b[?25l\u001b[?25hdone\n",
            "\u001b[31mERROR: transformers 3.5.1 has requirement sentencepiece==0.1.91, but you'll have sentencepiece 0.1.94 which is incompatible.\u001b[0m\n"
          ],
          "name": "stdout"
        }
      ]
    },
    {
      "cell_type": "markdown",
      "metadata": {
        "id": "5BFcFbww9GmO"
      },
      "source": [
        "It is imperative to shuffle rows since we concatenated positive observations on top of negative ones."
      ]
    },
    {
      "cell_type": "code",
      "metadata": {
        "id": "rfnB04WQ_xoU"
      },
      "source": [
        "from sklearn.utils import shuffle\n",
        "\n",
        "# Shuffle rows\n",
        "df_train = shuffle(df_train)\n",
        "df_test = shuffle(df_test)"
      ],
      "execution_count": null,
      "outputs": []
    },
    {
      "cell_type": "markdown",
      "metadata": {
        "id": "0dA_uLnU9ps2"
      },
      "source": [
        "Models based on Transformers like XLNet consume lots of computational resources. Even using a GPU it would take a significant amount of time to train and validade the model. That is why we decided to reduce the number of rows.\n",
        "\n"
      ]
    },
    {
      "cell_type": "code",
      "metadata": {
        "id": "DaYAah0g_4Nl"
      },
      "source": [
        "# Reduce number of rows\n",
        "df_train = df_train[:12000]\n",
        "df_test = df_test[:12000]"
      ],
      "execution_count": null,
      "outputs": []
    },
    {
      "cell_type": "code",
      "metadata": {
        "id": "jyaoR6gJ4ysb"
      },
      "source": [
        "# Get Train and Test features and labels\n",
        "X_train = df_train.text; X_test = df_test.text; y_train = df_train.label; y_test = df_test.label\n",
        "\n",
        "# Transform from series into lists/arrays\n",
        "X_train = X_train.tolist()\n",
        "X_test = X_test.tolist()\n",
        "y_test = y_test.to_numpy()\n",
        "y_train = y_train.to_numpy()"
      ],
      "execution_count": null,
      "outputs": []
    },
    {
      "cell_type": "code",
      "metadata": {
        "colab": {
          "base_uri": "https://localhost:8080/"
        },
        "id": "V2N7Lx8dj-uL",
        "outputId": "59ce0476-a690-46ed-d959-decb2909cb29"
      },
      "source": [
        "# Check size of Train and Test subsets\n",
        "len(X_train), len(X_test)"
      ],
      "execution_count": null,
      "outputs": [
        {
          "output_type": "execute_result",
          "data": {
            "text/plain": [
              "(12000, 12000)"
            ]
          },
          "metadata": {
            "tags": []
          },
          "execution_count": 19
        }
      ]
    },
    {
      "cell_type": "markdown",
      "metadata": {
        "id": "8g2QjD2w-0uG"
      },
      "source": [
        "Now we are ready to build the model."
      ]
    },
    {
      "cell_type": "code",
      "metadata": {
        "colab": {
          "base_uri": "https://localhost:8080/",
          "height": 419,
          "referenced_widgets": [
            "37af494f831e46d183709bc76c229d36",
            "82eb219ddbb242898d5cd6232ffc3f35",
            "aabc8a747fe843c49588c4f675169c6c",
            "ac54dac7e1a340688ebd36e03688d06e",
            "16275139dbe54ed3869373d15ba5423d",
            "5b13cd8fc69d40c190e9fac2882d11cb",
            "a2e4f16d7ecf4741b8a6081d5441bbe1",
            "ec1fccdc13994bb68fd5aa18e513afd9",
            "c6375431175f4d50a53a520b6a0d8cc2",
            "d7cf5a5fdb084e2a90ccb67ffcb377c6",
            "5d3bbd1096b1426eaeb726be6481025e",
            "43bd7fabba0443599fd489ce9963bf58",
            "fd661fa1b0104a7eb8fbc64f7af69a29",
            "f333e604f8f340ed8401f022c3cfab0d",
            "c50465dd0d204c9cb484b498b990d659",
            "dd8947fe624148b4852b342bccfd520c",
            "684096d42d854ad69c4028f1e7488583",
            "e6e5334456ec441b8d166635aaa0c2d2",
            "a1dab70309fc460ea7aaab2493e0435c",
            "17b627e212354f9b99cdf546a5e02143",
            "cd74859b78e4464d8e9faef73b51ba42",
            "619a267cf23343c5bdba31f9683b549a",
            "a26ba2514fa2495792dde7fb986b0070",
            "90591cb95de143e1816346e362a3263d"
          ]
        },
        "id": "5phkVc7ZYnue",
        "outputId": "2e84ab75-dd92-4f88-9e05-ccbf30564f48"
      },
      "source": [
        "import ktrain\n",
        "from ktrain import text\n",
        "\n",
        "# Create Transformer model\n",
        "MODEL_NAME = 'xlnet-base-cased'\n",
        "t = text.Transformer(MODEL_NAME, maxlen=500, classes=['positive','negative'])\n",
        "trn = t.preprocess_train(X_train, y_train)\n",
        "val = t.preprocess_test(X_test, y_test)\n",
        "model = t.get_classifier()\n",
        "learner = ktrain.get_learner(model, train_data=trn, val_data=val, batch_size=6)"
      ],
      "execution_count": null,
      "outputs": [
        {
          "output_type": "stream",
          "text": [
            "/usr/local/lib/python3.6/dist-packages/ktrain/text/preprocessor.py:414: UserWarning: The class_names argument is replacing the classes argument. Please update your code.\n",
            "  warnings.warn('The class_names argument is replacing the classes argument. Please update your code.')\n"
          ],
          "name": "stderr"
        },
        {
          "output_type": "display_data",
          "data": {
            "application/vnd.jupyter.widget-view+json": {
              "model_id": "37af494f831e46d183709bc76c229d36",
              "version_minor": 0,
              "version_major": 2
            },
            "text/plain": [
              "HBox(children=(FloatProgress(value=0.0, description='Downloading', max=760.0, style=ProgressStyle(description_…"
            ]
          },
          "metadata": {
            "tags": []
          }
        },
        {
          "output_type": "stream",
          "text": [
            "\n",
            "preprocessing train...\n",
            "language: en\n",
            "train sequence lengths:\n",
            "\tmean : 235\n",
            "\t95percentile : 598\n",
            "\t99percentile : 894\n"
          ],
          "name": "stdout"
        },
        {
          "output_type": "display_data",
          "data": {
            "application/vnd.jupyter.widget-view+json": {
              "model_id": "c6375431175f4d50a53a520b6a0d8cc2",
              "version_minor": 0,
              "version_major": 2
            },
            "text/plain": [
              "HBox(children=(FloatProgress(value=0.0, description='Downloading', max=798011.0, style=ProgressStyle(descripti…"
            ]
          },
          "metadata": {
            "tags": []
          }
        },
        {
          "output_type": "stream",
          "text": [
            "\n"
          ],
          "name": "stdout"
        },
        {
          "output_type": "display_data",
          "data": {
            "text/html": [
              ""
            ],
            "text/plain": [
              "<IPython.core.display.HTML object>"
            ]
          },
          "metadata": {
            "tags": []
          }
        },
        {
          "output_type": "stream",
          "text": [
            "Is Multi-Label? False\n",
            "preprocessing test...\n",
            "language: en\n",
            "test sequence lengths:\n",
            "\tmean : 229\n",
            "\t95percentile : 577\n",
            "\t99percentile : 889\n"
          ],
          "name": "stdout"
        },
        {
          "output_type": "display_data",
          "data": {
            "text/html": [
              ""
            ],
            "text/plain": [
              "<IPython.core.display.HTML object>"
            ]
          },
          "metadata": {
            "tags": []
          }
        },
        {
          "output_type": "display_data",
          "data": {
            "application/vnd.jupyter.widget-view+json": {
              "model_id": "684096d42d854ad69c4028f1e7488583",
              "version_minor": 0,
              "version_major": 2
            },
            "text/plain": [
              "HBox(children=(FloatProgress(value=0.0, description='Downloading', max=565485600.0, style=ProgressStyle(descri…"
            ]
          },
          "metadata": {
            "tags": []
          }
        },
        {
          "output_type": "stream",
          "text": [
            "\n"
          ],
          "name": "stdout"
        }
      ]
    },
    {
      "cell_type": "markdown",
      "metadata": {
        "id": "3zxH_HqYAkwR"
      },
      "source": [
        "### 3.1 Model training\n",
        "\n",
        "Before training the model it is interesting to estimate a proper learning rate. This will save time on training and help optimization algorithm to converge.\n"
      ]
    },
    {
      "cell_type": "code",
      "metadata": {
        "id": "AkEfVRnkSeBv",
        "colab": {
          "base_uri": "https://localhost:8080/",
          "height": 436
        },
        "outputId": "69aeadad-0a2a-4edb-818b-8fab1921c753"
      },
      "source": [
        "# Estimate the Learning Rate\n",
        "learner.lr_find(show_plot=True, max_epochs=2)"
      ],
      "execution_count": null,
      "outputs": [
        {
          "output_type": "stream",
          "text": [
            "simulating training for different learning rates... this may take a few moments...\n",
            "Epoch 1/2\n",
            "2000/2000 [==============================] - 3299s 2s/step - loss: 0.4957 - accuracy: 0.7337\n",
            "Epoch 2/2\n",
            "2000/2000 [==============================] - 3273s 2s/step - loss: 4.9734 - accuracy: 0.4987\n",
            "\n",
            "\n",
            "done.\n",
            "Visually inspect loss plot and select learning rate associated with falling loss\n"
          ],
          "name": "stdout"
        },
        {
          "output_type": "display_data",
          "data": {
            "image/png": "[encoded data removed]",
            "text/plain": [
              "<Figure size 432x288 with 1 Axes>"
            ]
          },
          "metadata": {
            "tags": [],
            "needs_background": "light"
          }
        }
      ]
    },
    {
      "cell_type": "code",
      "metadata": {
        "colab": {
          "base_uri": "https://localhost:8080/"
        },
        "id": "IX5G3v4CBGO4",
        "outputId": "775b952f-b964-450a-90d5-d943e216dd1a"
      },
      "source": [
        "# Train the model\n",
        "learner.fit_onecycle(5e-5, 4)"
      ],
      "execution_count": null,
      "outputs": [
        {
          "output_type": "stream",
          "text": [
            "\n",
            "\n",
            "begin training using onecycle policy with max lr of 5e-05...\n",
            "Epoch 1/4\n",
            "2000/2000 [==============================] - 4570s 2s/step - loss: 0.2562 - accuracy: 0.9003 - val_loss: 0.2175 - val_accuracy: 0.9147\n",
            "Epoch 2/4\n",
            "2000/2000 [==============================] - 4569s 2s/step - loss: 0.1995 - accuracy: 0.9282 - val_loss: 0.3221 - val_accuracy: 0.8698\n",
            "Epoch 3/4\n",
            "2000/2000 [==============================] - 4574s 2s/step - loss: 0.1403 - accuracy: 0.9487 - val_loss: 0.1927 - val_accuracy: 0.9376\n",
            "Epoch 4/4\n",
            "2000/2000 [==============================] - 4575s 2s/step - loss: 0.0448 - accuracy: 0.9867 - val_loss: 0.2118 - val_accuracy: 0.9383\n"
          ],
          "name": "stdout"
        },
        {
          "output_type": "execute_result",
          "data": {
            "text/plain": [
              "<tensorflow.python.keras.callbacks.History at 0x7ff4d92d5be0>"
            ]
          },
          "metadata": {
            "tags": []
          },
          "execution_count": 21
        }
      ]
    },
    {
      "cell_type": "markdown",
      "metadata": {
        "id": "O02XaSPECEF1"
      },
      "source": [
        "### 3.2 Evaluate and Inspect the Model\n",
        "\n",
        "We can now evaluate the model on _Test_ subset."
      ]
    },
    {
      "cell_type": "code",
      "metadata": {
        "colab": {
          "background_save": true,
          "base_uri": "https://localhost:8080/"
        },
        "id": "a5xQApSBFwUI",
        "outputId": "2a8520b1-38ac-4aff-8a34-6a703baef294"
      },
      "source": [
        "learner.validate(class_names=t.get_classes())\n"
      ],
      "execution_count": null,
      "outputs": [
        {
          "output_type": "stream",
          "text": [
            "              precision    recall  f1-score   support\n",
            "\n",
            "    positive       0.94      0.94      0.94      6046\n",
            "    negative       0.93      0.94      0.94      5954\n",
            "\n",
            "    accuracy                           0.94     12000\n",
            "   macro avg       0.94      0.94      0.94     12000\n",
            "weighted avg       0.94      0.94      0.94     12000\n",
            "\n"
          ],
          "name": "stdout"
        },
        {
          "output_type": "execute_result",
          "data": {
            "text/plain": [
              "array([[5654,  392],\n",
              "       [ 349, 5605]])"
            ]
          },
          "metadata": {
            "tags": []
          },
          "execution_count": 0
        }
      ]
    },
    {
      "cell_type": "markdown",
      "metadata": {
        "id": "xYK5YTCqCRxR"
      },
      "source": [
        "As we can see the accuracy was quite good, i.e., 94%. Of course, there is room for improvement since the best score using this dataset is 99.2% (check [here](https://www.kaggle.com/c/word2vec-nlp-tutorial/leaderboard)).\n",
        "\n",
        "Let's inspect the wrongest prediction."
      ]
    },
    {
      "cell_type": "code",
      "metadata": {
        "id": "-3BgzJJHF1Pj",
        "colab": {
          "base_uri": "https://localhost:8080/"
        },
        "outputId": "5ba26da6-9df8-40ef-a092-11d8facd9117"
      },
      "source": [
        "# Check on the prediction with the highest loss\n",
        "learner.view_top_losses(n=1, preproc=t)"
      ],
      "execution_count": null,
      "outputs": [
        {
          "output_type": "stream",
          "text": [
            "----------\n",
            "id:4979 | loss:7.24 | true:negative | pred:positive)\n",
            "\n"
          ],
          "name": "stdout"
        }
      ]
    },
    {
      "cell_type": "code",
      "metadata": {
        "id": "VaZ1FaddF1iI",
        "colab": {
          "base_uri": "https://localhost:8080/"
        },
        "outputId": "4cc076a6-aca8-4cd7-adeb-26c0a9ad286a"
      },
      "source": [
        "print(X_test[4979])"
      ],
      "execution_count": null,
      "outputs": [
        {
          "output_type": "stream",
          "text": [
            "Basically an endearingly chintzy and moronic 1.50 version of the nifty early 80's subterranean creature feature favorite The Boogens this entertainingly schlocky cheapie centers on a nasty squirmy wriggling monster who makes an instant meal out of any unfortunate souls foolhardy enough to go poking around the notoriously off limits Gold Spike Mine. Your standard issue motley assortment of intrepid boneheads hectoring hard nosed mine boss cute but insipid blonde babe feisty lady geologist boozy inexplicably Aussie accented ! seasoned old mine hand charmless doofus hunky jolly guy and arguably the most annoying character of the uniformly irritating bunch a nerdy bespectacled aspiring writer dweeb who's prone to speaking in flowery melodramatic utterances trek into the dark uninviting cave in search of gold. Naturally these intensely insufferable imbeciles discover that the allegedly abandoned mine is the home of a deadly ugly multi tentacled beast who in time honored hoary B flick fashion proceeds to gruesomely bag the group one at a time. Directed co written co produced and co edited with dumbfounding maladroitness by Melanie Anne Phillips acted with dismaying flatness by a rank no name cast further marred by lethargic pacing a drably meandering narrative murky under lit eye straining cinematography a shivery redundantly thudding pseudo John Carpenter synthesizer score and a cruddy herky jerky stop motion animation wormoid thingie that's only quickly glimpsed at the very end of the movie this extremely clunky amateurish and hence quite delectably dreadful would be scarefest commits all the necessary bad film missteps to qualify as a real four star stinkeroonie.\n"
          ],
          "name": "stdout"
        }
      ]
    },
    {
      "cell_type": "markdown",
      "metadata": {
        "id": "Vv9SvgPNIUCg"
      },
      "source": [
        "Now let's save the trained model."
      ]
    },
    {
      "cell_type": "code",
      "metadata": {
        "id": "1k2YXOKWF1z4"
      },
      "source": [
        "predictor = ktrain.get_predictor(learner.model, preproc=t)"
      ],
      "execution_count": null,
      "outputs": []
    },
    {
      "cell_type": "code",
      "metadata": {
        "id": "nboEHMYGGAgK"
      },
      "source": [
        "predictor.save('./content/drive/data/xlnet_predictor-v1_0')"
      ],
      "execution_count": null,
      "outputs": []
    },
    {
      "cell_type": "markdown",
      "metadata": {
        "id": "IlMl0u9SJuNY"
      },
      "source": [
        "### 3.3 Predict on unlabed data\n",
        "\n",
        "The Stanford AI Lab data reposity has also unlabeled data for clustering tasks. Let's select a sample and predict its sentiment."
      ]
    },
    {
      "cell_type": "code",
      "metadata": {
        "colab": {
          "base_uri": "https://localhost:8080/",
          "height": 35
        },
        "id": "FMt70fD7cUXk",
        "outputId": "341ec845-6a1d-462d-b6ad-e6a425908539"
      },
      "source": [
        "# Predict on unlabeled review\n",
        "predictor.predict(\"This is a very strange film that was long thought to be forgotten. It s the story of two American Army buddies, William Boyd (aka Hopalong Cassidy) and Louis Wolheim, and their adventures as they manage to escape from a German prison camp during WWI. However, as this is a comedy, the duo manage to make the most round about and stupid escape accidentally boarding a train to Constantinople to be placed in a Turkish prisoner of war camp! On the way, they manage to escape once again and end up in quite the adventure--meeting sexy Mary Astor along the way. As far as the film goes, it was a rather funny script and despite being a silly plot, it worked rather well. The chemistry between Boyd and Wolheim worked and the film managed to be quite entertaining. Oddly, however, the film managed to beat out Harold Lloyd's film, SPEEDY, for an Oscar for Best Direction for a Comedy (a category no longer used)--as SPEEDY was a superior film in most ways (it's one of Lloyd's best films). Still, it's well worth a look especially if you love silent films. By the way, director Milestone and Louis Walheim would team up just a few years later for another WWI picture, the great ALL QUIET ON THE WESTERN FRONT, a film that is definitely NOT a comedy.\")"
      ],
      "execution_count": null,
      "outputs": [
        {
          "output_type": "execute_result",
          "data": {
            "application/vnd.google.colaboratory.intrinsic+json": {
              "type": "string"
            },
            "text/plain": [
              "'negative'"
            ]
          },
          "metadata": {
            "tags": []
          },
          "execution_count": 35
        }
      ]
    },
    {
      "cell_type": "code",
      "metadata": {
        "id": "6e6zLwQ5VgYf",
        "colab": {
          "base_uri": "https://localhost:8080/"
        },
        "outputId": "99a1fede-cf1a-4e19-fd76-17189239386c"
      },
      "source": [
        "predictor.get_classes()"
      ],
      "execution_count": null,
      "outputs": [
        {
          "output_type": "execute_result",
          "data": {
            "text/plain": [
              "['positive', 'negative']"
            ]
          },
          "metadata": {
            "tags": []
          },
          "execution_count": 28
        }
      ]
    },
    {
      "cell_type": "code",
      "metadata": {
        "id": "D6Z4ybkOBuy2",
        "colab": {
          "base_uri": "https://localhost:8080/"
        },
        "outputId": "02984e22-d3a3-4cfb-ca06-455b4fabaea5"
      },
      "source": [
        "# Predict probability scores for each category\n",
        "predictor.predict_proba(\"This is a very strange film that was long thought to be forgotten. It s the story of two American Army buddies, William Boyd (aka Hopalong Cassidy) and Louis Wolheim, and their adventures as they manage to escape from a German prison camp during WWI. However, as this is a comedy, the duo manage to make the most round about and stupid escape accidentally boarding a train to Constantinople to be placed in a Turkish prisoner of war camp! On the way, they manage to escape once again and end up in quite the adventure--meeting sexy Mary Astor along the way. As far as the film goes, it was a rather funny script and despite being a silly plot, it worked rather well. The chemistry between Boyd and Wolheim worked and the film managed to be quite entertaining. Oddly, however, the film managed to beat out Harold Lloyd's film, SPEEDY, for an Oscar for Best Direction for a Comedy (a category no longer used)--as SPEEDY was a superior film in most ways (it's one of Lloyd's best films). Still, it's well worth a look especially if you love silent films. By the way, director Milestone and Louis Walheim would team up just a few years later for another WWI picture, the great ALL QUIET ON THE WESTERN FRONT, a film that is definitely NOT a comedy.\")"
      ],
      "execution_count": null,
      "outputs": [
        {
          "output_type": "execute_result",
          "data": {
            "text/plain": [
              "array([0.00286736, 0.99713266], dtype=float32)"
            ]
          },
          "metadata": {
            "tags": []
          },
          "execution_count": 34
        }
      ]
    },
    {
      "cell_type": "markdown",
      "metadata": {
        "id": "3zz2dZenLMI2"
      },
      "source": [
        "Another lengthy text with some positive comments but also negative ones. Let's see what captured the model's attention to end up on a negative classification."
      ]
    },
    {
      "cell_type": "code",
      "metadata": {
        "id": "pGsKrQFqBvEX",
        "colab": {
          "base_uri": "https://localhost:8080/"
        },
        "outputId": "e25cd4a7-f9c4-416c-ae93-16b2b24dc4d0"
      },
      "source": [
        "!pip3 install -q git+https://github.com/amaiya/eli5@tfkeras_0_10_1"
      ],
      "execution_count": null,
      "outputs": [
        {
          "output_type": "stream",
          "text": [
            "  Building wheel for eli5 (setup.py) ... \u001b[?25l\u001b[?25hdone\n"
          ],
          "name": "stdout"
        }
      ]
    },
    {
      "cell_type": "code",
      "metadata": {
        "id": "0M8kYiZfY5F4"
      },
      "source": [
        "predictor.explain(\"This is a very strange film that was long thought to be forgotten. It s the story of two American Army buddies, William Boyd (aka Hopalong Cassidy) and Louis Wolheim, and their adventures as they manage to escape from a German prison camp during WWI. However, as this is a comedy, the duo manage to make the most round about and stupid escape accidentally boarding a train to Constantinople to be placed in a Turkish prisoner of war camp! On the way, they manage to escape once again and end up in quite the adventure--meeting sexy Mary Astor along the way. As far as the film goes, it was a rather funny script and despite being a silly plot, it worked rather well. The chemistry between Boyd and Wolheim worked and the film managed to be quite entertaining. Oddly, however, the film managed to beat out Harold Lloyd's film, SPEEDY, for an Oscar for Best Direction for a Comedy (a category no longer used)--as SPEEDY was a superior film in most ways (it's one of Lloyd's best films). Still, it's well worth a look especially if you love silent films. By the way, director Milestone and Louis Walheim would team up just a few years later for another WWI picture, the great ALL QUIET ON THE WESTERN FRONT, a film that is definitely NOT a comedy.\")"
      ],
      "execution_count": null,
      "outputs": []
    },
    {
      "cell_type": "markdown",
      "metadata": {
        "id": "z6-ZU0Vpujxe"
      },
      "source": [
        "![Screenshot from 2020-12-13 17-30-00.png](data:image/png;base64,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)"
      ]
    },
    {
      "cell_type": "markdown",
      "metadata": {
        "id": "wHfAzaYXMRbV"
      },
      "source": [
        "As we can see, the model perceived positive and negative words but in an unbalanced manner. Examples of negative ones like \"not\", \"far\", \"forgotten\", and \"stupid\" seemed to influence its decision."
      ]
    },
    {
      "cell_type": "markdown",
      "metadata": {
        "id": "xNIi3Ez-NgxF"
      },
      "source": [
        "## 4. Data Augmentation\n",
        "\n",
        "Now let's compare the previous model with a new one. This time trained in an augmented dataset and check for accuracy. For this resort, we will use synonym replacement and expand the previous _Train_ subset by 50%."
      ]
    },
    {
      "cell_type": "code",
      "metadata": {
        "id": "cKsJYzBE2VbZ"
      },
      "source": [
        "!pip install textaugment"
      ],
      "execution_count": null,
      "outputs": []
    },
    {
      "cell_type": "code",
      "metadata": {
        "colab": {
          "base_uri": "https://localhost:8080/"
        },
        "id": "-Mgq8SQF2b41",
        "outputId": "64bfd0a8-fa45-4733-e9aa-630e00693780"
      },
      "source": [
        "from textaugment import EDA\n",
        "import nltk\n",
        "nltk.download(['stopwords','wordnet'])\n",
        "\n",
        "t = EDA(random_state=123)"
      ],
      "execution_count": null,
      "outputs": [
        {
          "output_type": "stream",
          "text": [
            "[nltk_data] Downloading package stopwords to /root/nltk_data...\n",
            "[nltk_data]   Unzipping corpora/stopwords.zip.\n",
            "[nltk_data] Downloading package wordnet to /root/nltk_data...\n",
            "[nltk_data]   Unzipping corpora/wordnet.zip.\n"
          ],
          "name": "stdout"
        }
      ]
    },
    {
      "cell_type": "markdown",
      "metadata": {
        "id": "4UD_we7rRrAK"
      },
      "source": [
        "Let's create a function to augment data and call it on _Train_ subset."
      ]
    },
    {
      "cell_type": "code",
      "metadata": {
        "id": "HOJEjv4P8g5N"
      },
      "source": [
        "import numpy as np\n",
        "\n",
        "# Define a function for data augmentation\n",
        "def eda(lis,arr,pct):\n",
        "  for i in range(0,int(len(lis)*pct)):\n",
        "    lis.append(t.synonym_replacement(lis[i])) # synonym replacement\n",
        "    arr = np.append(arr,arr[i])\n",
        "  return lis, arr"
      ],
      "execution_count": null,
      "outputs": []
    },
    {
      "cell_type": "code",
      "metadata": {
        "id": "YSZCGjLr6lKd"
      },
      "source": [
        "# Increase Train subset by 50% using EDA\n",
        "X_train, y_train = eda(X_train,y_train,0.5)"
      ],
      "execution_count": null,
      "outputs": []
    },
    {
      "cell_type": "code",
      "metadata": {
        "colab": {
          "base_uri": "https://localhost:8080/"
        },
        "id": "bP5xkc_YOUA0",
        "outputId": "55e1950a-e82c-4b49-f065-bcff17ee368d"
      },
      "source": [
        "# Check size of Train and Test subsets\n",
        "len(X_train), len(X_test)"
      ],
      "execution_count": null,
      "outputs": [
        {
          "output_type": "execute_result",
          "data": {
            "text/plain": [
              "(18000, 12000)"
            ]
          },
          "metadata": {
            "tags": []
          },
          "execution_count": 28
        }
      ]
    },
    {
      "cell_type": "markdown",
      "metadata": {
        "id": "13Pa9-3dR5QC"
      },
      "source": [
        "Again, let's shuffle rows."
      ]
    },
    {
      "cell_type": "code",
      "metadata": {
        "id": "YDMPMrBGOqNs"
      },
      "source": [
        "# Shuffle rows\n",
        "df_train = shuffle(df_train)\n",
        "df_test = shuffle(df_test)"
      ],
      "execution_count": null,
      "outputs": []
    },
    {
      "cell_type": "markdown",
      "metadata": {
        "id": "kxfHurmtSDGv"
      },
      "source": [
        "Time to build the model and train the new model."
      ]
    },
    {
      "cell_type": "code",
      "metadata": {
        "colab": {
          "base_uri": "https://localhost:8080/",
          "height": 419,
          "referenced_widgets": [
            "3ea4929f3c3a45cdb3ec7da249dd19a7",
            "7c23b234b9014fd89ef2a1793dd6a920",
            "0bfe6030c10149259501c638812efd4a",
            "3696ef2a56bb4c11863529aeee6e2f11",
            "00fbc866dc784c04847dbe055b66bf6f",
            "1da5acd85f3f4070b034eade954de463",
            "8f1a1d193a404dd786a3c8e4619d20a5",
            "bf7405c6623344e4b9a241133ce13cc1",
            "82c93fdecb774011895c3fb862b0a786",
            "d729bb33de6049d5b74a59b4cbfd0bbd",
            "238af0df4c11418ab48b083f4c10f68f",
            "e48ca53a31f14659b87c5fb796c308c5",
            "7df2fb2d7682452888217c81093b0dca",
            "739af079a9284fd4b6beea4cb9fa26d8",
            "bc82de3352f6451092b3a134044c5cca",
            "5ce7e4470e0e47bdba9f75dd9027b07d",
            "944819f9a2334733874ac95c66fc9ac8",
            "307a462e98764908ac5a323557de26b6",
            "45e800bc4dc0483fbb774d4676ee3246",
            "f114a81f718a49cbbf747c1e5f74dec8",
            "e6529c544b314077bdf9a45b94ec5c68",
            "cd378b2e4fca4774ab831ebba39ad3ad",
            "dcd2ae8838c7457a9cda1aa5dc54853b",
            "e892fc141e58488ca43c4fe70f7df270"
          ]
        },
        "id": "PCuGs-Sj3dvi",
        "outputId": "fce0dfc7-587f-489d-f0fe-97867fe73a8f"
      },
      "source": [
        "# Create new Transformer model\n",
        "MODEL_NAME = 'xlnet-base-cased'\n",
        "t = text.Transformer(MODEL_NAME, maxlen=500, classes=['positive','negative'])\n",
        "trn = t.preprocess_train(X_train, y_train)\n",
        "val = t.preprocess_test(X_test, y_test)\n",
        "model = t.get_classifier()\n",
        "learner = ktrain.get_learner(model, train_data=trn, val_data=val, batch_size=6)"
      ],
      "execution_count": null,
      "outputs": [
        {
          "output_type": "stream",
          "text": [
            "/usr/local/lib/python3.6/dist-packages/ktrain/text/preprocessor.py:414: UserWarning: The class_names argument is replacing the classes argument. Please update your code.\n",
            "  warnings.warn('The class_names argument is replacing the classes argument. Please update your code.')\n"
          ],
          "name": "stderr"
        },
        {
          "output_type": "display_data",
          "data": {
            "application/vnd.jupyter.widget-view+json": {
              "model_id": "3ea4929f3c3a45cdb3ec7da249dd19a7",
              "version_minor": 0,
              "version_major": 2
            },
            "text/plain": [
              "HBox(children=(FloatProgress(value=0.0, description='Downloading', max=760.0, style=ProgressStyle(description_…"
            ]
          },
          "metadata": {
            "tags": []
          }
        },
        {
          "output_type": "stream",
          "text": [
            "\n",
            "preprocessing train...\n",
            "language: en\n",
            "train sequence lengths:\n",
            "\tmean : 232\n",
            "\t95percentile : 596\n",
            "\t99percentile : 900\n"
          ],
          "name": "stdout"
        },
        {
          "output_type": "display_data",
          "data": {
            "application/vnd.jupyter.widget-view+json": {
              "model_id": "82c93fdecb774011895c3fb862b0a786",
              "version_minor": 0,
              "version_major": 2
            },
            "text/plain": [
              "HBox(children=(FloatProgress(value=0.0, description='Downloading', max=798011.0, style=ProgressStyle(descripti…"
            ]
          },
          "metadata": {
            "tags": []
          }
        },
        {
          "output_type": "stream",
          "text": [
            "\n"
          ],
          "name": "stdout"
        },
        {
          "output_type": "display_data",
          "data": {
            "text/html": [
              ""
            ],
            "text/plain": [
              "<IPython.core.display.HTML object>"
            ]
          },
          "metadata": {
            "tags": []
          }
        },
        {
          "output_type": "stream",
          "text": [
            "Is Multi-Label? False\n",
            "preprocessing test...\n",
            "language: en\n",
            "test sequence lengths:\n",
            "\tmean : 230\n",
            "\t95percentile : 588\n",
            "\t99percentile : 890\n"
          ],
          "name": "stdout"
        },
        {
          "output_type": "display_data",
          "data": {
            "text/html": [
              ""
            ],
            "text/plain": [
              "<IPython.core.display.HTML object>"
            ]
          },
          "metadata": {
            "tags": []
          }
        },
        {
          "output_type": "display_data",
          "data": {
            "application/vnd.jupyter.widget-view+json": {
              "model_id": "944819f9a2334733874ac95c66fc9ac8",
              "version_minor": 0,
              "version_major": 2
            },
            "text/plain": [
              "HBox(children=(FloatProgress(value=0.0, description='Downloading', max=565485600.0, style=ProgressStyle(descri…"
            ]
          },
          "metadata": {
            "tags": []
          }
        },
        {
          "output_type": "stream",
          "text": [
            "\n"
          ],
          "name": "stdout"
        }
      ]
    },
    {
      "cell_type": "code",
      "metadata": {
        "colab": {
          "base_uri": "https://localhost:8080/"
        },
        "id": "8IucbmwgyEDW",
        "outputId": "c11cb4d8-69d4-478a-bb84-3772ff1d75eb"
      },
      "source": [
        "# Train the new model\n",
        "learner.fit_onecycle(5e-5, 4)"
      ],
      "execution_count": null,
      "outputs": [
        {
          "output_type": "stream",
          "text": [
            "\n",
            "\n",
            "begin training using onecycle policy with max lr of 5e-05...\n",
            "Epoch 1/4\n",
            "3000/3000 [==============================] - 6204s 2s/step - loss: 0.2137 - accuracy: 0.9175 - val_loss: 0.2045 - val_accuracy: 0.9245\n",
            "Epoch 2/4\n",
            "3000/3000 [==============================] - 6207s 2s/step - loss: 0.1580 - accuracy: 0.9451 - val_loss: 0.1954 - val_accuracy: 0.9287\n",
            "Epoch 3/4\n",
            "3000/3000 [==============================] - 6208s 2s/step - loss: 0.1095 - accuracy: 0.9628 - val_loss: 0.2296 - val_accuracy: 0.9352\n",
            "Epoch 4/4\n",
            "3000/3000 [==============================] - 6210s 2s/step - loss: 0.0295 - accuracy: 0.9918 - val_loss: 0.2458 - val_accuracy: 0.9376\n"
          ],
          "name": "stdout"
        },
        {
          "output_type": "execute_result",
          "data": {
            "text/plain": [
              "<tensorflow.python.keras.callbacks.History at 0x7f96b8e76f98>"
            ]
          },
          "metadata": {
            "tags": []
          },
          "execution_count": 31
        }
      ]
    },
    {
      "cell_type": "markdown",
      "metadata": {
        "id": "kL1V6wKYKQHt"
      },
      "source": [
        "### 4.1 Evaluate the Model\n",
        "\n",
        "Now let's evaluate the new model on _Test_ subset."
      ]
    },
    {
      "cell_type": "code",
      "metadata": {
        "id": "RRYJMmWDKQH7",
        "colab": {
          "base_uri": "https://localhost:8080/"
        },
        "outputId": "aacbdc9d-ced1-4bba-fdd7-3c9314405879"
      },
      "source": [
        "learner.validate(class_names=t.get_classes())"
      ],
      "execution_count": null,
      "outputs": [
        {
          "output_type": "stream",
          "text": [
            "              precision    recall  f1-score   support\n",
            "\n",
            "    positive       0.94      0.94      0.94      6044\n",
            "    negative       0.94      0.94      0.94      5956\n",
            "\n",
            "    accuracy                           0.94     12000\n",
            "   macro avg       0.94      0.94      0.94     12000\n",
            "weighted avg       0.94      0.94      0.94     12000\n",
            "\n"
          ],
          "name": "stdout"
        },
        {
          "output_type": "execute_result",
          "data": {
            "text/plain": [
              "array([[5665,  379],\n",
              "       [ 370, 5586]])"
            ]
          },
          "metadata": {
            "tags": []
          },
          "execution_count": 32
        }
      ]
    },
    {
      "cell_type": "markdown",
      "metadata": {
        "id": "P6el7nBgklMw"
      },
      "source": [
        "As we can see from previous result, accuracy did not change. \n",
        "\n",
        "Let's inspect the wrongest prediction."
      ]
    },
    {
      "cell_type": "code",
      "metadata": {
        "id": "U-CPWu2SKWA3",
        "colab": {
          "base_uri": "https://localhost:8080/"
        },
        "outputId": "db145eed-7058-4b7d-e2bc-f6cd240e5daa"
      },
      "source": [
        "# Check on the prediction with the highest loss\n",
        "learner.view_top_losses(n=1, preproc=t)"
      ],
      "execution_count": null,
      "outputs": [
        {
          "output_type": "stream",
          "text": [
            "----------\n",
            "id:3722 | loss:7.99 | true:positive | pred:negative)\n",
            "\n"
          ],
          "name": "stdout"
        }
      ]
    },
    {
      "cell_type": "code",
      "metadata": {
        "id": "OyzUsNXTKWn9",
        "colab": {
          "base_uri": "https://localhost:8080/"
        },
        "outputId": "728b3d49-72c5-4d3c-8695-3ceefa49c0e4"
      },
      "source": [
        "print(X_test[3722])"
      ],
      "execution_count": null,
      "outputs": [
        {
          "output_type": "stream",
          "text": [
            "Nice movie and Nicholle Tom does a fantastic job playing the guy in the girl's body she really does it well. A sort of teen version of many other movies but well done. Well casted from Matt to Matt2 .\n"
          ],
          "name": "stdout"
        }
      ]
    },
    {
      "cell_type": "markdown",
      "metadata": {
        "id": "jyfaHgoPUDiM"
      },
      "source": [
        "\"_Nice movie and Nicholle Tom does a fantastic job playing the guy in the girl's body she really does it well. A sort of teen version of many other movies but well done. Well casted from Matt to Matt2._\"\n",
        "\n",
        "Model prediction in this example is quite odd because most of the words have a  positive sentiment. Let's investigate further."
      ]
    },
    {
      "cell_type": "code",
      "metadata": {
        "colab": {
          "base_uri": "https://localhost:8080/"
        },
        "id": "JYrP-ppgP4di",
        "outputId": "6f7ea6c3-0022-45d3-cb9a-b18a8dfa603c"
      },
      "source": [
        "predictor.get_classes()"
      ],
      "execution_count": null,
      "outputs": [
        {
          "output_type": "execute_result",
          "data": {
            "text/plain": [
              "['positive', 'negative']"
            ]
          },
          "metadata": {
            "tags": []
          },
          "execution_count": 37
        }
      ]
    },
    {
      "cell_type": "code",
      "metadata": {
        "colab": {
          "base_uri": "https://localhost:8080/"
        },
        "id": "LBAgSjiu9qhG",
        "outputId": "fc319495-afc2-4f56-cc8f-1716f4df7d68"
      },
      "source": [
        "# Predict probability scores for each category\n",
        "predictor.predict_proba(X_test[3722])"
      ],
      "execution_count": null,
      "outputs": [
        {
          "output_type": "execute_result",
          "data": {
            "text/plain": [
              "array([3.3855438e-04, 9.9966145e-01], dtype=float32)"
            ]
          },
          "metadata": {
            "tags": []
          },
          "execution_count": 54
        }
      ]
    },
    {
      "cell_type": "markdown",
      "metadata": {
        "id": "uUIxRnl3l-VM"
      },
      "source": [
        "As we see from the classes probabilities, the model computed the sentiment as _negative_ with a very high likelihood. Let's check which features contributed with that."
      ]
    },
    {
      "cell_type": "code",
      "metadata": {
        "id": "EMVqIsvp8ki_"
      },
      "source": [
        "predictor.explain(X_test[3722])"
      ],
      "execution_count": null,
      "outputs": []
    },
    {
      "cell_type": "markdown",
      "metadata": {
        "id": "6a8ZPNWEubpc"
      },
      "source": [
        "![Screenshot from 2020-12-13 17-15-32.png](data:image/png;base64,iVBORw0KGgoAAAANSUhEUgAABMQAAACUCAIAAADzk2JJAAAAA3NCSVQICAjb4U/gAAAAGXRFWHRTb2Z0d2FyZQBnbm9tZS1zY3JlZW5zaG907wO/PgAAIABJREFUeJzs3X9cG/X9OPDXVsqhwFVtr3XlhppoF25WyKyQ7SukzhD7GWRuhI9KcErwR4KbMPUT9ivZPluyX4mfOegmQR1hToJ1Ca4GNhtQG6ga2mpScaHWhWk9qu3RHxxQuYDz+0f4XX6lUNvq6/no49HLcfd+v++dI9wrr/e973MffvghIIQQQgghhBBCsfj82W4AQgghhBBCCKHzz+c+/vjjs90GhBBCCCGEEELnGcxMIoQQQgghhBCKGQaTCCGEEEIIIYRihsEkQgghhBBCCKGYYTCJEEIIIYQQQihmGEwihBBCCCGEEIoZBpMIIYQQQgghhGKGwSRCCCGEEEIIoZhhMIkQQgghhBBCKGYYTCKEEEIIIYQQitl5F0xyDQUikSivJrwMZfF+o0Jh8PFLKiRgzJboPMJiNw/X5EmKGrhTmuIqkiisoSkLc22JziFCwJyXXe49o28S7zPnpUtE2ebAmawFIYQQQgihWJ0XwaTgN2ZKCqJxFcFo9Hq9RkotuVTeZzb4pCaTnFxyUUtHyi2N1Rrx1FV0oa3RpKQAAMLeBv/iAxY+1FCukIhEomhQOtsW/hpdXqZEJJJkFpQ3hPgpOxZEV+fpavzjq4Wwx1iUnS4RSdIVJWYvG/PBnXmzHvKC/cCHXIaxA8suMEz2Q5QQMCtEIpEo0+gf3z5QN6V/AjwAIa20KENGo2e2d0cIeVyBpX1TAQC819HAyW2dbZXSWHddngYghBBCCCE0u/MimAw1+/oiY8uktLCysrJYtuQIMOyq8tL6inMilAQASixlaGLqGoJipAwFABByW+2ti4vhhFBdkSLf5Jsv9ORc5Tpba5hgcnMZCDWbSsw+HgB4n7nE1BwEJjdXSoRbbbpyFwcAELDqKpydPC3LlVFcu6O8vG45ssLLZ9ZDXkQ/8F5jSaW7k6OkuTKaD7pNJUbvlMgrVGds6Jm6PevSlViaQ8Dk5DDQ3WrTGb08ACGtqJD6rfZZ0oYBh9m59FhOEHig0hiKIBbe9ow0ACGEEEIIodnNCCZ5V4lEJEov940N22TrCkQiUba506OTiGaSlHgE4F0lIpGooMbvNRdlp0sk6XnlrvDY3nyoYSLzU2T0jK/mfNaS7HSJJD27pMbXoJNMpI6EsMdYpEifSI1xAMA1FInUzl6AoClLlFcTnhzmGrIqpg14HXtdxwIA67OOp97ydHWzXVCH3M6QVK2iAaIDSktqPOYiRXZmenp2gTGafeNdJZICq8tckC4pqGPHGq7IlEgkkkxFidU3Jbzjxo8+u8Q6nkPkJtqQnl1k9EwNBnm/tUSRLpFIptQ1Prp1wtgw15A1r8De0+sokmQbnzYrxpoS5Tdmp5e4ph6dEAoKcnNz0zxpLM7rbh8AUWltU21tY3VhCvR5nD4eeJ/T0wdrNNWNtbWN9RVpMNDu9nIAfqenB5JzLY31tfWNlVnxkaDTPUfCM9oAl6EgO/oeKkqsvsnOKFGMJTenrzylP73l6QpjQ01RZrRDxvOiEkl6doHBFTplQPGsh7xwPwg+t7cPknNtTY219U31mhTo8zonBqyG64xVrDQ/d83E9iGnvXMgOcfS1FRf39ToMFtNY4lkUqmW8x6nb3rD/MbMEndf0KKQRM9Q3l+ny8tMl0gk6YqJ34U5TrxJbF1RtikY6bblSRTmAAAXTSlLJJLMPN1EP07r9PHzfVoDQlaFZPJECVkVkiIXP9sZPmv57MSvZbqi6NxMTSOEEEIIobNgRjBJKjXyZBjwN/sFAADO3xoCEKnUWeIcVf5MqlwagCCIeICww2jncrTFcmqgu9lodLEAwHkMRSZ3mC62VFmK6bCzQmcNCAC8x1hub+8lpIUVWnGnucofAQAgYDwFBvLKKmsxzbbadEYPD6RMb8xNAYCUfKO1UjlldCuTrxQBdLeOBW9hn68HIEOtpCFkLdHafYLcVFVlkgk+S8lYjm0K1u9nmZzJ/GbE72hOs7R07N7XUkF5DcbxHcKeZqKiZXd9MQ3hOp3OQ+ob9+3fv69RT3p05eNhXcTvaBaZWnbv66hVcnXlVp8AwHuN5Q28un53T8++pkrKazBM3P4YCTjcoG/cvW93o4bwTNY1O6ayyZYbn6Jt3N9huU2jFofcnvHwOdDs42Vq5dTcKllY3WQrZsh50lihYAggmcliAIBgMsTxEAkFWWCD4QgAk8EQACBmmOTolmwo3AcgzpKSAEAxDAXAhsJzprvYBqMxJK1u29/Ts7tRT3oMVp8AEK7TlXupiqbd3R2NWnCVG1wczNmfBAGc192rbexoqmAEv7nEHM6pbtu/f39bdS5r1pn9M8LJWQ954X7geT4CQNI0CQCEeKwfwuNHYQ0xFSbN5OnGBQI9AEyulPc21NT4OFqqlImjPU/IcqS8v316hC2zNFVmxKcZ2/a3lImBc5Xr7IK6vmP//n0tlWK/QVc1tvlcJ14UXdrYYc6ITzO07G8zSdmGcp2brGjat3//viY96Skvb2ABAMJV5Ua/2NSyr6e7o1bOWcutgZkNmNuUM3z28nmP2eijK9v29fTsa6kU+wxmD2Y7EUIIIYQQnDrMlZRrlGugz9caAADe3xyIgEipZoAptlXPZCuWjl+rD9Ca6uqy0kpbRU48RAKdIQFYr6N1ANK0pgqVUlVhKkyDHpfTD7yv2TcA8TmVtZbSUlNtpQwAgEgGAIHM0Vut9mpLqaqwUiuLh4FAZxgIsVyeQQIAlaUqlIunBk7RaDLU6uMBgPW1dgNk5Ctp8DtcPZAsrzAVKpWFlgp58kC70zMjnRLuDhNiMT31wLWFYgIAaJVGBv7WgABAAAiMWi+nSZKAsNcdEmsrC8UEACEurFDRIfd4koZSVRQzJEFQMr1GyvtaAwCksrqjo76UIQEIsTJfBuHu8JS6KmQUQZDSUq18rK7FEavUTLjZGy0p0Ozj5epYx+kKPC8AkGR0t+j/PM8Bx3MA8RPrCRJA4HiB7+MBgBiLysg1JECE5+aMJvg+Hog1JAkApLiwumO3TT7WdZoKlZgkKKbYUm3RiGHe/hyg8/VKMUUSgs/pAWVlmZQCAEpaqlfyHrd/rspjQonFawB6fU4fJ/AhT3MgAsBzvADAuozWgLjUUspM2ZzrYQEgbC/J15tsNkulNi/PPP6+kYyY4sJzR9jAed1+UlURPRtoZYVWynrcYwNjZzvxZhf2OAOMvlJJEwAErarQigPRHhNXNHW0WJQ0AQQlVeeKuXBokXfYTj/DZy9f4HmBICmCACBopaVtX63qHBkajhBCCCGEzq64mSsImVq5xu30NQdAyrUGIpCmVs+X2IhawzA0wHiihxcEALabBYBuW36abWKzMMtyPBsBEDEMCQBASLMYaO6M1kyRfHtVldlYLkAkEgEAEOaPsph8eYrd4W/18YUyX2toLJbkfGwfALRWZKRNVtzNAkwJHQWeF0h6yjVxPJ02/mOCoinwj8VLFD2+FdvNgpieSFVRaTS4ulkAYtrOFE0TPMcJAELYa7U6fCFOAACBj4BKmKxLPBaFEzRFQmDu2OwUtEottTrcobJKJtDsFZSWZbvnkwACYEp/LzrAnYbRVqq85bmZ7iyZLCdfXaiSUtGuo+nxLqJlKhoAfHP0Jw0AyfRYnM+x7EBvUC1yTqkii+MAlj7/Esi0FVkeU6dbm+UGSE5ZEw8DQADBeczmdqrYXcEATAlbo93BUyp3U4WYrdMV2TobqjwV9YUkAJApFAR4HmCON4PtYYFWT5x/FE0THMsKwMxx4s1+dGw3G+mszBJVTq5aw3AANPABl7nKHWB5AQCEvoh4gV+cqaad4bOVT6kqSt06daY3Qy7Pzc1XqWR07LdvIoQQQgihT6FTgkkgZGpVitPha/bnCv4ByFCrxACCR5de0RqZvmV8TtW+euWMvWeUlqZ1WPLHL7EJkqbANUdLBJ9RZ2nm0zTVtVox+Iz5ls4FW8+olSkOh7/VzwqtgUg0loRoUiY511yvn0gtEdTCAfGUpghTjmO+C2di4v+ZWwl+a4kxoKxtqpVTBIC3PN0wZxkxXZpTKrXManeHKoRmnyC3yGK+ricokgTghWgAGx3sSVMUkBQJwPNjIRHPCwAERRJkCgkAAj8WTPXxAPEkNXcESyltbfsqAl5vc2uzucjuqGhsLIv+RJi/LwGm/HzKhvEifVNbJTPb5kskLq5vEXu8AQ5omRwcBRXNJEUF7OWtA2uyhGaruRm4AA8AAYe5Tvj6GhKgV5yrkVIEUIX5UltnJ9vDAixny6adeLOJz7Xvq1XO2IZtKNc5CFN9SzFDAoRr8vJaY6p1amfPVj7IKpt2a0M+b3Nrc1VJlb24vsm09AmwEEIIIYTQeW+22VylGpUIen12h69vLD4DQpyjUs+kyqVn2XtcNOPCCQQjlUqlYhIEAIIkKJqOB2BD0ecwCIHO8VvNojfn0XKNkhGLoe/UcXqzZVuYfGUKDPib7a3+SPR+SQBKTK8BEHigpVKpVEoTggAEMf3ilyBJguenJAQjbM/4QFiBZXmCOiVeotNoCIcnmsV2s0CL6LGd2fGdOY4VKIomuECAF+dr5RQBABAOhgfmqIvjZqlrPqRSI+N8blezT1BqFh1L8mwoEAixPACIs8TxMBAKhQFAGLuBMkMM4gwmGSLhYEgAgFBnaADimQwGaIZJAQh3hngA4EIhDkCcxczdYIHnBYKWqkpN1U0tFmnI6Q6Ndd34MbO+ujpveL7+nETRNDF1ACnPxZDFXaAf+JDX5Q0QstKyUpWYbfcPQLI0i+F5HqCv0+lwOByO5u4IQKS71eFoj5MyawDYYHQyp+g7GA20AYDv5SYGDs+GTqPHMvUAAMCxYYGio9nphU+8aaWEg5NT6UYz4ADhzhDINMXRN4UPB9nIKbsSyQQI479AwhydOFf5As8LBMUoiyttjW3VSs7lxCdeIoQQQgghmOPRIGKNJgN62tt747PG5jsFpth2qsl7JmdBK7W5ydDnMhpqXA3W8iK1psTq54GU5cqSIdJu1Rlrasw6q298e4qi4gFYr6PB02Aw+oQ1AH2hZk9o/DI95K6qcZ3ytEVpvjIF+ppdrZH4LLU82laZtlAEkc6qcnODq85QUqDRGJzsjEhUnCYWJuMbAOB9jroQD8CHGhx+kOWeEqaJVWom7LR6wgIAH26ocnHSaPAKAGG33RUWAHi/3REgZfkMkDQNbGeABRBYn9Xqh+Qpl/BT6/LNVtcMBADPshwfjQZIuUbJu6wuQak+dapSPuCyWq3Wqubo3JwOq9VqdYUECFiL1OoCs08AoJRaeTJ0V5UUleuKyp19kKLSyAkg5BpVCvS6yot05UW6uh5Yo9SqKACpRpMWP9BqKNKVlxRZOyPxWRqVGACEQIPR7JrxlBDeU56dV+4K8QAgcKEgC7SIArFSzYQdVleI47lQg9lQ1cqR8/bn5JHLNSrSV2X1skJ0cuA8hWHm9C+zHvLuzgX7geBaqyy2ipIiXXlJQbm7L15UrJUTctu+nglOzRqANRpnT4cpS6bVpsUPtBoKSsp1BTpHL0yecHw4zFFi8YwokCAI4LvDHC8AJdfIeU9VQ4gHEFiP1R4Sa9TMIk+8CWKVRsq6rHXRUnzmIkVJVQgAKJqCUGcgWobZyZLA93IzGkDTEG738wAghF1O/6zB5OzlCz6jIrukLsAJAMCFgqxA0cswyBghhBBCCJ3/Zn/OJK1UZwBAvFStPP3rRkplazSrGcFXVWlqCNP55vrqQgqAKrTZtFkpfKfL7mazKiaGopIqkyVfRLBus9VNaKsbTbkp8d2uKjcLlFKrTkuOdHsczsApCUtpvjIFIALx0vyJUISprLfrc8hwg6nS6hVkWnu9aWbYS8tkdKh98qI6nlHl9lkL0iWZBQ4otFlmmWOELq2tVfFVRekSSWaRE7S11cU0AAggJCu1OUGDIl2SqfNSFdUmGQGkstIkY80KSbpC506pqDUV0n6jwuATACBepsnvM+fNV9c0hFStonyGbIUx+vgJQqZWEgOUapZYEviA0263253tvQAwEHTb7XZ784zHaZBKW70xXywEmn1hIkNjrTfJCAAgZKZ6q5ohwr7mgCDON9dbovPEMmW11doskvU1+3kq11AfPWwQwq0uV+eMeY1IlaVaBY6STJFIlK4ws3KbrZgGEJdWV6sEe1F2RnaRQyisri6m5uzPGccuM9VbZGFzXrpIklniJPT1tpndNeshB19fsB8IuanWmJsGodZmP0/l6GvrK+f7cgSYsvpafa6Y9ze3hiBtsiNACLSGSFnOzPGulFwtB49OUWANAKWy1etJZ0mmRJJeUMUpq2vLxjZfxIk3gS6urtcS7pJMiSg9zxySWmorGABgtKZi0lOUKckssPbmW6r1OXxDSVFdeEoDSGWFSRo2Z2dmK4qsglojnTXRP2v5hNxUW0G5yxXpIpFEUR4QW6orzsSgY4QQQgghdN753Mcff3zqWsFvVGicfG5VxxmYuVHgWZYVSLGYIgBCVkW+nc2ydjQWfsLpjnBNXkG7pqWxmIZwTV5eu6ajsfg8ybhwrhKFM6epqTSWG0GXX7hG55TVmuZ+ouVnA+/RZVvp+o7T6Ijz7cRDCCGEEEJoilMm4Al7a5yt7R53L4i0euUZmGaD9xryKloFUW6FPpcIOht6IDlHLf/kr6bFxZVKp7HKp7LJP/G6T58gcGGXwRqSW6rPbiQJEPZ2klnFZ7kRZ50QqKoKyCotn/WQGiGEEEIIffacEkxy7Q6Huy9ZlGuunn/U3+kiVbZ6zmh2+KoqWyE5hVGbTaZPOisZbYjcZJEXmM0+qf4s1H56fMZMrYfMKq22nIk4Pzbisnrbwlt9ugkBq9HLmJpUmFpECCGEEEKfObMPc0UIIYQQQgghhOYx+wQ8CCGEEEIIIYTQPDCYRAghhBBCCCEUMwwmEUIIIYQQQgjFDINJhBBCCCGEEEIxw2ASIYQQQgghhFDMMJhECCGEEEIIIRQzDCYRQgghhBBCCMUMg0mEEEIIIYQQQjHDYBIhhBBCCCGEUMwwmEQIIYQQQgghFDMMJheF9ZiLFOkSkUiSmaer8fNnuz0IIYQQQgghdHZhMLkIIWtJhSNM620Oh0Uu+Gw6o084221CCCGEEEIIobMp7mw34DwgEBlacxWjVEkpALK9yu3gWB6AWlKhvKsoo7Jz5toca7C+kIyxJI8u0wC2fbUqYkktQgghhBBCCKHFO2czk1xDgUgkyqsJAwgenUQkyjT6T7swvyFTJJLovKe3NyFWFherpBQA6zUaG3pT8rXKpUWSk1IycqfIz6JjDggFf6s/skytQQghhBBCCKFFii2Y5Px1hpK8zHSJSCRJz8wrMTYEuNOvm/foJBKdZ/YRowSj0ev1GulpR21cQ5Ek0xANQOlcrV5fkS8+3bKiBXp0BXoPWepsql62WDJZVlE7RXWZjAAAPtRgKMpOl4gk6dlFRk94rIc4f40uL1MiEknSswsMrrAAEK7JS9M3D0CktSJNVNTA8a4SkUiUbQ5E95gSRIdr8kQiUUmd11yQLsmrCQMA768rL8hOl4gkmYoSq28J7yRCCCGEEELoMyeGYJL16PI0Fnd7GCgmJ0dKQbjdaVIXGH2nOR3N/Ck1UlpYWVlZLItxzOcEztccmCidVpZVVpaplhRM8mGWkOlt1ZWy5Yok58B5DEUmd5gutlRZiumws0JnDQgAnMugs7Wy4mJrVaUMgu5KXVUIKHmFPisZANLU5iq9fJ7OIggCAEIOs5eQq/IZEti6khJLM8fobVUWJRmw63R14TN7YAghhBBCCKFPkUUHk4LPam7tgzW51paOtqb6+sa23W12dQr0ehxeFmAsnTY246miyOgKRfNpAXO2SJRe7gk06PIyJRJJdpHVx52aUgNvuUQkyja6GnTZEkm5d+ow1ygCWI+xIFsikWTmlTdES58rEec3ZmZVdkagz62Jvp42zFUIe8wliokUX10gGg2P5e4aAi5DQaZEIsksMHrYKT1AUBkZImp570sc8FfpJpUbPSywXkfrAKRpTRUqparCVJgGPS6nHwDEapO1qtZmKlSVVqhEAD2BEEcyylyGBIincwpV8vnGyBIEAABPaRsbq21lcirkdAYjkKW3lCqVKlOlak0k6HSHlvXgEEIIIYQQQp9iiw4mA83+PoA0bWWheDxkoZWWps7gvvpCGiDcoCsyuQMgLzUaS6VCwFlZVO7iYCwjNuC3mltptV7FEL2ddoPVL5ySUiMIAoDzVtlZRlWYQ5/aAM5T5RBytaVymu9uNpVXzRf4iNUmTUY8QHyW1mrTSmeUU15U4fALTLHRWConQ25LUUldGCZyd3ajm8jXF0vJvqDTaPZMpF25VrvF4vAv82DQ3mDrpGZfkAO2mwWAblt+WlpaWlq+vRtgIMyyQJIQbK4qz5NIJKJ8ew8AQOxTytIyWbRrhXCYBYBOU1ZaWlpamsbZB8CGwzhJLUIIIYQQQmhxFjubK89yfQDxYvG0oaIENZapCzjsnQOQZqitLhMDlEqFbLWj1eFhC0vHtpRV1JrkBMh6/fmO3lCAJcuUuYzZ3inQOYUqOQHAAgEwADJLk01OAAAXmNGCiFhbbSulAaR8ttrZ420OVzJzDTilpKoc2uAMknRuoUoGMGXqnrDL3toHKdrqepMUAOTJ4Vxb0OEMlJqieT1erK21FJKghECOJRjqDIMqGoyKK9t6KhfZW4uWrHbss8mnrfK7AQDStA5L/vioVYKkqXBDkcEZJHON9RVyinWU6J29CxcvzIw3ieTxbwIIAID4LEN9pWxiFSnG+WARQgghhBBCi7M8s7lyoXAvwBpGOhZqMhnieAA2ODFGVZzBEAAAlIgGAGFgjgxYPJMjmyueWcMw9FhZYgDgWHaODeclhINhgHgmgxlrGMMkA/SGw+MZSJphSAAAiqbiAXjhNG8IPX10Gg0AnEAwUqlUKiZBACBICHeGIhAvzS+WMWJK4HiYnpgcWyYIIh6AY1keACAcCg3MUQtBi2mACA+UNFqNIABBYiyJEEIIIYQQWqTFBpMkTa8BiISC00aX8iGfLzxLuDX3aMkFwpXoUNPT23eWRNxpGM/dEQtXd2bQSm1uMvS5jIYaV4O1vEitKbH6eYKmKYBIwF3lclnL7WEyGYBtdflZgSAIgEjAYa7zBHhCmsUARHxWg7Wuptzg5pIBYNb3g1FrMuKh224w1LkajCUFGo3OHsJRrgghhBBCCKFFWnRmUpqvTAHoabA2TNxYx3qMOq02t8AaohhxCkBfKBBNRQqhznBkPIW4gEXHL32hUDQXGQqGYSyBt1Ai7tTokhBniKcGxdF9RGPpyHMCpbI1mtWM4KuqNDWE6XxzfXUhBYzeos1K4dvrzPZwjqWxujgjua/d7vDzjFqfmxI/EHTZm8M80MUWY66I4HwNjnZKbyqkAUCYtY/FpbX1hlya9VgqzR6O0VgbLfPNBosQQgghhBBCUy32nkkgZJUWtV/nbjflZjoypDTBhQLdfZF4kcakZ4DUajNclqC9vBw0GX2tDlcvrMnXF9IAc8+TM5lSA3WhasEGxIftBqOQnxJ0uHohPi1fKQYAaRYDrUGf1WDlMthmN5cMIEB0YChBAvT5HOY6QV08JUgSF+pz7RWtDQYdoc2BTkddNyTn6DUMwCf7nEWysLGncK6fMcW2pmLb9JWU3NTYYZp4KW3aN34HZ2Ftx5SSmNLattKJV8rx+zyp4qae4hklyspqW8pOr/kIIYQQQgihz7gY7pkk5bamJqs2N43kQu3tnWEQ52jMjU3RfJa4tL7RrBbzviqTpSFEyrRVjTbl/Imu6Sm1eQiCEAGgCyvVgruqqpklM9S26jIxAMyTiJNq9Vlr4vv8LkcrOy0zR6mqm6waGQTqTKY6H0g11sbqwllmj0UIIYQQQgghNKfPffzxx2e7DQghhBBCCCGEzjPLM5srQgghhBBCCKHPFAwmEUIIIYQQQgjFDINJhBBCCCGEEEIxmzmb62Pw2FlpB0KfDvfCvWe7CQghhBBCCH0SMDOJEEIIIYQQQihmGEyek/gup+SxnXM/oxP40DZJTdupG3i32zKfP7iYEnwtj6S39Cy9qeFX6yTOwIyHdC5Y+xl3NFBU46w7uryFDvtaHlM8f3DeB9kghBBCCCH0GTFzmOt5hjv4avl2X2D9N/epGWJs3Sgb2mnc1eU/JkDiWvkmheWrqdTM/YYDe3YY/QfCw0Ct26C/Ka94XRwAwOhR146WqgOHe0cT0kSbTHlflSVEt+/3trVYu3p7RuNEqVJT3mZ50pKbfnin4smDmnvvKF01sWrU437EEKfef7OIvOKmxrVx4iUUf9olCIdDnlFRYUrCEiqPsfbhg64eQsWsIxbedJq5m9rfsGOXsElTujrGEheQIL9R0exoMfdobaIl9Q9CCCGEEELnv/MnM8kd7g0PT10xGnj1yYLnD1Grp8UgQu/Oopa3ievULd/7XtNN69ldbmNoeHpJwIdaSnYNyfNKO8pKLan91md2+IYBYNTf9ozx8FrTHWWd996sHt2r297FRSvauc1waG3lHWWd996ijTtg3nVQOLPHCpC0WrpuVazB1bKUENj7gvPQko8vltr5nj3mriOnUeVcTeV7dlb1iyqlyxxKAgAkiCo2JXp3dYWXv2iEEEIIIYTOL+dNZnLQ+0JT8Pr7bakTa0aFJGntHRuFnVu9Q5Pb8UMgve5GizSVBIANm7WpXdaDR4BJnVqUJ9hDSe+oFK0GAPnmG1Xdzzh7bpRvOOjsHlWpFcrVcQBJpYpN7rqAt39jcWKPIxCnv0OhXA0AScXqe4vP/NHyXc7MV9c33buZAWAPPF/+QldoMEG84frK9d267qva7riOBIAVEO5qMe4MBYfjRKLN1TdLmbhZSxj07WwxBg5ysEomU+QecjtW3dGmWAcAAEOeNqe1q5eDJJksr/qrqaFdyfqlAAAgAElEQVTnt5Z0DUXgMUnX9S2lXxUPH27YscPec5gbjaNTN1Zs2axaFQfRJu3oCg0n0KJN+lXztZ/u2pYZWFe9sd8ROBzuHyJTZ7ZTCLmzn3t7AHoyHwlZ7rm1MG6WGoWDbXnuQ5rSaBb3aE1dnTtV87PRpnumNnWyyGFfoIe46hZZHACAcLjLuGOX93D/ACSKUjea8jbLk0Y97kesqzQdihQAgNGQ7hEfpSmzpIBv+yNGQqEXAo5DR7nRdcU335TTu9PadSQ8tEK2+eZq6ToCgE6TSne+6j58XeW6ZX7TEUIIIYQQOq+cP5nJUyTINm5kThlsSG1QVG/eQI69GuKGgF49I9w5Fjwax6ROpK3WZa0dDR06CkcPhUbXZq0dD3RWr2PijnYeBTh8MBC3mjjYUrDVJrFtVbhfDczMdJ5Jg13Glm5y0x27DWW1Vx2q8h8GiBvL+A11O3uvst3zQLB0M32wzdo9e7P4Ay8Y9giqW8r236/RDvmrDn408Q2C0LOnfd2NLfc/0HbT+vCuna5+kG25o3L9irQb791f+lUxDHpanrGPSmvLDPsfuMe0+qBx267QRJOuL91nuL9JBs3dRyPztH8FwOEu56isvvTe3WV5zKGZ7SQYdaPskvgrtux+4NbCpNlrJFKvt6QN2dtCHAAb2GEfldo2p2RPa+oUo4faD4JMFA31+ht2PB9a/802ww977tfoE7oNvp75UqBxwL0dEmSatrL7a6/qt7ufcSYpmu4t68hb59+5yzcKAABJqTnr+v0H++cpBiGEEEIIoc+A8ziYXNBoaM8Oh7CxcuP0YHJ0kB9OIImJ7FgcmRDHDwkgDPGQQE5Gp4lkwig/NCwM9XPDPe6DqZZ7Hth3b568f5eu5cDyTMHy0SFLzW9Ev5n493DF2x/N2IQ/eMAft0F/3ToS4mjmRs3a0chkWm+9VrFBnBBHrk7LXw/s0dnDm9DbB3nRpoqUJIhLkm+WyafmoldLKzeuI+Pi6A1p0rij3TOmqxn8t7MnUbN5I5MAEJckv/46af8B9+HxJklXEwBkynXa1IWy23GpGuk6AgASUnPWztnOeWoESJBtvkl+xGfu6jLvGlRt2Sydp86ho+HR1Wmro1sM9w0DkZhAAkDC6sKby3bniRYYfLt2Y+G6OIA4JvWSeFifn7YKAMj1qeLR/vBYw1eJV8eFjyzz3D4IIYQQQgidb875Ya6+lq3lB0YBQBAE2PaINw4gbl2FZsG5VYb9O58p706s1GyRLXGqlFGAj9Zpb9zIJAAkiCo3My53l390g3LpXbdirVZ9s2bKBDy+HU9ap2/CD/VDYio99ipBmroq/t/jP0tYRY21IY4AEEZHZ6tjmB0cplaP374YtzZj9YrA+M+IxFVjUxPFxREAM1N2/YfZj47YHv+NbUqLyf5ok9aPz2kUR6+d0qRZJSQuop3z1QjrABJEppvWK55pITbe0jJ/+Do8xANBjh3wOu1mxrv98cyuVFnqFfkbN6pSFpg6iUhKiKa1ybi4GS2fQBIJwtFhAWBJN7UihBBCCCF0fjvng0nZjdo2OQAMuZqe6d50hyl1BUAcuUBE0O/Zvs18VGT7jmKWaVfjksiEYX5odPzgh/nBUXI1AUQiCYf5YYCx4HOIH44jExMISCBWADEekRKJiRT088MAS5/QFeJSVq8WTwkmQ6dEJ8LojPdo2oulBjMLvvsrUs1lmuLpRxp+ddpLQZg7OBwXQztnqzGK7x8SVqwQ+vt5AHKWn8+O2pDX9sD1gQMHmt/uNjv9jus1jV+d73sIjA8RQgghhBBanHN+mCuRkEQlJVFJiWQcEEmrqKQkKilh3iv+QW/LNvOwtP6O2SJJAIBLxm6SjBo90nkkjkldB6vXM3FHOg+Nh0aHDwZG12WtBVi7noEjwcNjq4X+fi4ukfqkHgxBJSVC/1F27NVw6NC8NyjOIoFKiOP7h8ayjqNHgkdnjqSd06p1YjgaPDYRKw5zg6MAQK1KhKFj4w+WHGWPDsXYpJhrBADoDxh2DRdrbi0c3Gnsmvd+xYREEgR+PM0qDA8LcaukzHWmm+9o2bI+FOwKARAAwuh4PwwNcXMVNQdeGCYWOAkRQgghhBD61Dvng8m5jfKDg9xgP/cRwKjADQ5yg8MCAH/gBWPP6kpFGjU8yA0OcoOD3PAoAMDRLvPzgdAoACQppRv4wA5rz1Fu8Ki3rc0Tl6YVxUGcSJsW59nZ5j06yPUfrHkhwG/YpEoCSErTbhht2PG89+ggd/SAedcBMk0q+6QyumSqiBl+29HVL8Aoe2Cn41BcfIwlSK9KhYN7Gw4PAwz6du7xL5BHXEHEAX/kKDc8CklXqEWj3p27/IMAo4P+V5sUf2nzjwKZukE6fMAeOMzDKNuz03FoNH7h3OR8CCIOho6Gh0eFOWoEGHQ9v4u7SlGRklqh2BBue941OL2pUyWupifu/xwOldc4yrsO8wAwOhjq7YdVqymIo1ev4g/1hEYBYNi/J9bnfPSHj46K156B544ghBBCCCF0Pjnnh7mOSyrW3D/tmRyjBww1z7WOpZd25PxhB6y4ouqBW8nunr4hofLxtye3TL2pUyOl+nsauoYzFFIGgNxwU/3QDkNLnX04LmVdmuUWhSwOAOKkilssbS3mJ2t6RxPSNmyuvyk6K2yC8qZbTDt2GOv+0AerMpgttYrUTy4rtUpqURwytD2W/nwCw2zWbzpUPv8NiqcgGYXl4Hbzk1utCavlss369Qcd822eJN8osj/vVvRK6+9VqPJu4Xe8YHjc1jsal7Jug6lAIYsDSJJa8g4ZXngyoy1OJJJVbkoJvD26lAdTikUbpXt3FtUcrLzjjtLZauRCO6xHRLabUwkAQiSvTHWYd4TkamZqU6UTxcWtz00Fa08viFIggbHcfMS485nMlqHICkKUutGWJ6UBYJOi+NCOoq3d1KpVMtl1yu6dsOh8LQwfbD+8SnbTbE9EQQghhBBC6DPkcx9//PHU14/BY2erKWguk/dNBtpqivrl+9RMbNHs6CjERUvor3vyseaN9zZJP82xEH9gu+IFovqeLWcigcwGnHmBK5pmPI9k0r1w7/JXihBCCCGE0LnnPB7m+tkwHNI9srVoz2F+FPjDAXv3sGxDbHlR4WBL5iNPWg8OCjDKhnY5Dq/OTf00R5IAQG64Xp/4tjVwBh4FOdxT5e9XbpbOEUkihBBCCCH02YGZyXMe17PT0BbwHxOAuEQmVdg2i6iFd5pq2P9qi3lvT/cQJK9KUclvMjGrP/2TxxwNFD3TnXvLgo+Qicmwr+VJ84otTVtS555OFjOTCCGEEELoMwKDSYSWEwaTCCGEEELoM2JmMAn/+c9ZaglCnwqfx6HjCCGEEELoMwEvfBFCCCGEEEIIxQyDSYQQQgghhBBCMfs0BpNcu1WvzGSulEjlRabm8GyPQOQDjnKVTMIwEnlhuTM0sYkQdhsK5enMlRKZSucI8GOrWa+lWCFlRIxUobX5uDPbfH+lTHTllWP/GGmmSmtuZcdaGLJkM8UN0xrANRQzoitVdeHppbCtVn1htpQRXXmlRCrP01o8s3YEQgghhBBCCJ2WT18wyTZ8v8IFJbXeVzsaDOLOSp0tMHMTvtlQWs3lWFt8vhZzFmsrNbbzAAB8u7HUximsLb5X26x5Qv0vG0IAACFbWXn7Gn2Dt9NbpyebdWWO8MwSlwEXaHa1j4WJ8Vk/aX311c5XX2331JmyBlwV32+Yq8qw2xmS5mazzqbQlLUBc3GFBwpsLl/w9dc7XOZ8aDaU2gICQLi5oTXMz1EYQgghhBBCCC3Spy6YDDc7A+IKo0ZKUxSTbzLkcs2N/uk5Oa650UdpTIYcMUWJcwymfMLrbOcBuNZaL11u02fRFEXn6Ot9rjIGADqdblZebi5kaIqWFhrLpaFGd2j2yk8LH2q2lxfKFGWN3RPr4kmKoiiKosVSVXmRFMLdfbPvHGpqYrOKTJqcaYfJBv2cWGPQyMQUSZKUOKesqsZWnkMCAAidtsJsudbo7GQxVYkQQgghhBA6XZ+2YFLoDoapDIYee0mkZYj57tD0ganhYJhIy5p47DyTlSZ0B8MgBNpDlAg8elUmw0hkqrHhr2w4xNMZaeMPFqTSpDQb6l6O3B4f9jkqi+TyotogXVLX5m8w5Zz6BEk+5G4Okbn5abMebaezmZOrc+kctVJodXaOR4eUWEyG3fWtkyNbSalKnSMmAMTqaq+/xZwLLZV5MqXO4g5wGFMihBBCCCGEYvZpCyZ5vg/INZOPlCcpEvjeacGkwPE8SSYT468JkiR4jgee6xPY5qYe9e/bAv4WY1rIUmbuFIDv5YGkJqM8cg0JHL/kYDJgy5MXGtuJfKtnt8demc9MjSMjHaZMhpEwjOTKr+RXDxRWGeXkLGXw7U6PkKvOIYDIUueCz9k61iwix1JTLu6syJVKFYV6g83pnRYyEnSOxtLg63AZMrhGnVyuc7NLPRyEEEIIIYTQZ8z5H0yyjgImOl2N1NC+tKKECJGjM+WKSYIU5xv1WZy3OTjrhsSsa2MywLJAMVlZ0jT61NLiswwtXm+b19u28zmnMc2vVxlaT532h/M624lctYwAAEJWkE+2N3rHtyKl+lpvoNNlrygQE+EmY7E8W+ucMQUPSadJs9LEFM9ichIhhBBCCCEUo7iz3YAlo9XVnpxoMETSQPJrgO+bzBvyHA9UyrTRowRFkjzfJ4zHhDzPCaSYBIJMjidIcjy0I2mKjO5NQjvHAYzlBvleDkhytkRhTHKq2urcjtraomoboy7R6zTyqUFlPEnRdLQOmjabuuVFta0VuRp6aglsq7NzoK9Dm+4eWxGJRJzNbKF2YiuCYrJUTJZKA6awo0Rlsbbm1+aTAABcyFNfbXe280y+1uwpzBEDQgghhBBCCMXi/M9MAkmLx1AEEGkZYi4YGB+2yQc7w2QaMy0IA/HYTZJRQqizm0jLYoBkssT85K4c28tT9Bqg0qQU2zlxkyQXDHHirIwlB5MAlFRdaffs9lrVRLtZJVPo5316hzDzR+HmxhBd4tjhbfOO/XOWpIUaG0MAXLut3NI8NZVJiDPEFPC8AFxnXWVxtrLUwWboG/wdDdbSHPEyHAxCCCGEEELoM+ZTEExOJ87XZoXtJkeA5biQ21jdTpcUyQAAwi6LqSEkAACVq1HyTqOtPcxx4VaLuZlQaXMIAHF+kZStNdjaWY4LuS1VAVpVIAWQaopov83kCnEcG2gwVYekJarly+QRdFah0dHm95iyhM7geAAY4bkoNhxotpjdnDgvZ3pEHHA2hpmiErmYniArKWLYZmcAqDUQdpp0Jrc/zHI8x4Y7Xaafejhpfg4FPYFuqqDa62+q0qsYjCIRQgghhBBCp+lzH3/88bQV//nPWWrJ8uE6a0wmR3sPT4hkaoPFmEsDALSXM3reGqjPJwCADzmNP6j2dvNECqMy/NaULybGdrUbLfW+bp5IkaqMv7VEdwXWazFZ3Z09AinKKbGY9bJTZ11dPv5KmaZp4kkg8ckpjLyo3KTPoQAgZMku7Nb7Ggq7K7P1vRW+huJpLeFcWrmVsndYc4SA01rd6A2G+wYi8ckp4owcrcFQiNHjJ+Dzn7ovaBBCCCGEEJrNpzGYROgswmASIYQQQgh9NuCFL0IIIYQQQgihmGEwiRBCCCGEEEIoZhhMIoQQQgghhBCK2Sn3TCKEEEIIIYQQQgvBzCRCCCGEEEIIoZhhMIkQQgghhBBCKGYYTCKEEEIIIYQQihkGkwghhBBCCCGEYobBJEIIIYQQQgihmGEwiRBCCCGEEEIoZhhMIoQQQgghhBCKGQaTCCGEEEIIIYRihsEkQgghhBBCCKGYYTCJEEIIIYQQQihmGEwihBBCCCGEEIoZBpMIIYQQQgghhGKGwSRCCCGEEEIIoZhhMIkQQgghhBBCKGYYTCKEEEIIIYQQihkGkwghhBBCCCGEYobBJEIIIYQQQgihmGEwiRBCCCGEEEIoZhhMIoQQQgghhBCKGQaTCCGEEEIIIYRiFjfj9cPw8DKW/j/wPxPLz8Azy1jygm6BWyaWP4APll7gpXDp5IuurqUXuJw2boz+/wa8sSzlXQPXTCyPwuiylHmquCmnXxfM3qUbYePE8ibYdIZasnR7Ye/E8m7YfRolZELm5IuRkaU3aRmsXDmxOAKn2aSVMFkI7D6dnpkmc0ovsewCG9P0xOKH8OFp13kBXDC2NDBwmkUkJ0f/Pw7HT/3hxXDx5IvDh0+zigWtWzex2Ad9Sy9vDayJLrwL7y69tAVdBpdNLH8yH0o7YeepG2yGzRPLv4PfLUulD8KDs//g+CxnCwDAxVNOmH/9axlacOWVk8sLnuTjJzMADMHQMtQ+XSIkTr449z4J4eTJBTa+8MKJxW7oPjMNmiYN0iaWAxA4o3VJQTqxfAyOndG6FuMSuGRieSntmVrOn+HPS2rTuDvhzonlfbBvWcqcVTqkz7p+6hX4UkyLC9rbl6XM05GTM7k812fjUkz5XGVhoauLGNEweTUy9XJxVlOvdZfrqn5BUy/7TwNmJhFCCCGEEEIIxWzRwaTP3/SN146cyabEZqD7WUXDK29/AjWFny4t+6Mvsqht33xK9XP3nF9AfRj8yY9+Ze9dbMXd7l+p6oORBYv9ZHXabi/9/ZtnqfKPR2v445Jjx8sX93YsL+/gscyhRX1P/vLTP71le8/cPz9YZfvpz944ndzK0Es/vu3+P7/ziew1t38/rr/tZy8NLlt5p+39bb8o+8HO/pj3G3zlV+rv1c/zDsXs0F9/VPLjthMzV59s/3HJ//w5prxdwP7tB588za8i3//7/Xrr309pxWIN+h/+9kPO5eyWxXnlie9pnAemLsToTH0oDQaf3PLoC8uR+ZvG53d/4zUOAAbe2Zn9/BunccBnx6F//LZCXVzys7Zz4Ff/9Cz3J+E0R162PVD6ze8Yt793ZspfRoP7HKrfesJnuxmn+NcfH7zL4l/CX/dDzfff9avT/wRckiO2p+t+FP4IANpfrPvmrvfn3fifv/6Z+eFz7w0AAID+X7780gOHP5qycHYNBhu2/PHUj+HIfs8vby/9zq1/PEcujT/rFh1MfoWR/1Zy0ZlsSmySU+VVyqtTz3YzZhDnWktuEJ/dNkR6g953T39I3zltZNg+GmdatcoWH+ueH/mGI6czbOE/Iy5hVAAAANkFZG3CisXslH7j3f+b84XTqO0MSZSW/eKhLSlLKyTy711tb51jV5Frckv+517pqsVu/t6e1q4zdJ1BKfTGuzfN/QEZaf+luuzPn3ychpYi6cpv/K7g2uhfmYNvvRY8x07/JTsc2vXK0UVv/a8XXN0X3varR3+iSJq2/r09bWfq12q5Lcsn4RwO7/2Hf/Rrv9z60//64hkpf+mO7+n85zLc8XMGfaHwvh/duTHmv+6nb6i7zf/u2fhq+jNt9IMXg+ySP0y7tzeHRcX/96d7Zh/iexb17d0ZODzL8hQf9uzYd+iTOPE+DHuDvZFZlt9tath6248rt/z4p3fY3d4jS7+dYNHBZDK5emPiJ/hLvqDES75MkcTZbsUMF6xLu+ySpIW3O5O6dz3XcnD47LbhDBE+/lj4/OeZFZ+P+X3/z0jVh5HT+B6QHxk2Rz6KBpPkijjpikX9wiRRqczFFyy83Sfmoi9uuHzdyoW3m89bLY7n317obqFP2MpLUsXiRceS77zo3O7nzlBLLr7sStE8X7bFJ8avjL9wiW8B+qQlrWEuvSgeAOCDHS+88sp5EjItFr/3H8+1L/4W3ZGhkbgU+rILZ1wGvPNi43Nn6tdq2S3HJ+Echk4Mwfqrrrgo/ly6TJpq4MBTz79xbmdNE9ddeeUXExfebrkMdu14vOMgBpOfMLbz0b29Sw0mIydHRlbRl61NOud+3/rfbGja896py1MMHni55vX3P4ETb/CtXfa9YxVNWR7wNvzpqWOXlX/3R07Dnd+64J+/+3PrktPkMyfggYF3Or7Rc5HlsqGne/rfPTmcTF1tzhJvWAE+f9NvV17/92vXAnz0znvB33axb578KHnVpd/5yqai1fEAcKg3aH3zvdeGRoiVyTLJV35w1erkaQV/sPVJz7GvyJPe3tN54mTkwisfyr362B7fc4cH3oeLbr7xG7oUAgAE7s3f+V7v6DsZWXHhVaKvPCi/+qqT+8qcb2aoi3VUtByutsEdvFpjjX/h26+vqyn+2lUAwrEDf/D5Xzgc3eu6B+VpV804rsjBtqeecgbfO3ISLvri1YW3a78lvhAg/NgPqo5/U3vxnn+89v4HJ0Yvzbn9u9+VrgKAyPsvP/JYk/+Dk4mXZmjks/zp+XDvT37xirj4usMdr4aPHD92gbi0uDg/ZSW8+ZTKfYHlZ+p0gMjhoL3p7zsPHh9J+MKmr6sfyr4sKdrh3N6H3S2+94ZXUl8a2wvg2P6W/3tu7xvHhyHh4ms2ffP+PMmlp1YKAADHwi9u3d6xlxuGBGrTpm/cnye5ZOqP97l/YXxtcOQ1m2pv7qMP3LCu11/d9OIr7w+OxCWJvvz18gKZeCXA8Y4K21vyW9a/9lIwfHw46Uvf/FFu3LNNL71x5Hjk4vTyEvXXpr9zMHRg+9atjYEjcNHlObddH4HxGVWG3ty+tc79Zu/QyMq1G64v0t2VQ68EgAi764nav7QfODGy8qIrsm67T3+DaGW0ELs78M6JkZUXXZ6p1utv3jAjCviwu8O9teOtnuPDK5O++DWl+qGvpkz9mOA9A9lDIxGAomMRZdLF1Ssi5qGTrtH/DMDnRCsJU+KF8s8DfDRc0D+SnxTX+aEQ+s/HwudXViYlFcJwUf/JIIDu2HFl0kXV8R8Hhk8ah0e6//Nx/OdWKC9ItCXEEQDCqGAc+tD70WSBspGB7KGRARjJPB6xrEomTx4zfi55d+JKgP/4Tg6ZhZGej6dUPcXLT/+06oKSZ24WAQzs2eGueb3ngw8h6WKRMu/muzeM3+I9EKp5YseOgwOQLMpXq+8WTe+M3r8+9NCb13+PDmzz954YWpmSU/rgfZlrp21yIvBn+1MvBN85ARdSG66/83u6nLVHtv+w/Pmrf1Nz++XRTd579qHvd97wqCmx6q6mL/1m653USz+7a4fowRuONHt7eo8cv/DLdz700H9dvhJgaH/z1qptwSNw0ZduKN1ysvZR+N7T35ucaAG6Hr3rf186MQLl6pdu+f3/SQEAhv75V/NT7n8eGkm8asu9P7gn6+Kxt/6xp8bf+lvvu/cG0YxP+g9DL7sffvHAB5Cc9pW8/OHtVaD+m3pD5I2nvrXj4ocNeQwAwOhLT/3iT8l316XtuX3bh2X/c/sNF4zt+rOHtyf9dJvhuoky39/2i1+8nvOb325e1b3th6Z+1YOr9vz1zQ/e6x/5YubtptulU3813vlzpdF9aAR+frt/84+rGICVwO589FHnKwdOrkzJ0BgqckUrAeBE19+eeOLvQfYkJK7PuFFz950ZMyPEkUNttVuf3Pv+0IWXZd+muvi5P/SoH/35V0/89Uc/Dtz4+18pLtr/l4pf9auKIp4n/pX244eZ8d3iExMTk5IAIgc7/uho8r/bNwSrUiTZ9+puvfbUaHiEfflPj7v3/PvkypSrv/mANleSCABDb7Q6Hv/HW+zJkfjVopybv3NP5hfiAaAv8Mfav7S9dzJx9dU3f2M1AAD0/e2Xxn986ce1hWMjN977+/+WB/6fvfr2yRl44GT4b4//2fXmwRMjKy9K/UrhnXd+S3whAMBKeK/jiT+6Ot86uTLl6v/+QVn0Hex/o6X+ce+b7ElI/MLViv8uKdk4o9H/rv1JzfGb8iM7ntm/ocx555cP73tma9PeN46ejL/w0k1bir/39SuSAABOdr/o/MML/+w5+uFK8oqv5WsezPniLJcCfS8+8L++a37wc+1YiueDbRaL/2tPPKKd0v4YP5Rg6N//sNtdgXdOjKxce/XXi3TfyVm7EuD4a3/5wxMvvdl7Ai6kLpfddv99N1w+tT2DwScLX0n5w31ffukxx9NHR+Evv951zUXOzRljP+4KfuvZ4Qdulsk/DzDyzvef2/3+Vcpt11wEAAfeeP6+gS8/+/++ONAbtHYdHPuzmHbtKX8WFzLS0+H4Y9NrPX0nYVXqtfna72+5cuaXlUdf2/rUP3zvHB6CC+jLs7S3q7+2GgBOvvFSQ23b2++dHIlffbn8v27TXbsuHg5v+81vurJuvfjlJt+6vLtP/q3mnVF4/IG912idv7xy6nEf3/f07//S/mbfSbhwzdU537nvtvR1++x3PNJxYgQeLgleXWb/uWLsY+ydP//wp+73R8B8hz/nh3+6m4kceuWJJ55u/9eJkZUXXbFJfd9d8ugnwOE9Tz7a+MqbfSdXXrj+2m/eVfaNq5IAXqu+69EL7yqCNk/o0OH+eNGN+h9rmCmHF3nt93fbBu62/zAnGl8M7fql3pH4oP370kjPjtpHnw38+8TISurqG2+9987r18ZHPzNv0F28o64jRdf4Q2lP89aaZ4P/PjGy8qLLZd/WleVvSBp66cfRT8LLIdK764nabe0HuJGVifSX8+++/9sbEwECv7utNvG+W+H55jfZIydWXnHT939w+8aZ0c1Q199rntgeYk+OrFxzZU7h3Xf/vxTW+YDhufdH4Ik7S1tvs/3uvyeSk4O77UUv0w9tPPzMnnc/4OPSttyhvzhg37E/fOzDS9K+9dM7vnIpAIz0ev/6zFNdh44Mw0XrJbf8t6bg8gsA3rH/ovb4lqKLX39h75Ejx0bXbi68q/yaAfuvf9/9tR9Vycc+3Pb99Rc/P6p9sko59bSIvN9Z/ezOsb/7zObyb2eJBzoNv/vbW6PwC9OBr932k/sBIA7ee+2v1c+/8dZwHL1hy4+KssRxADCwz/e32l0H3huGRGqDcsu3SjckA7xn/+2TxzcrIjubu82rhYwAACAASURBVEU/e1p63URFgx2277yY+v1r33d1hI/0r/zSt++7Z43/8We7evpOXryx2Phd2ToAgBOvbXv8sV37j5yExDUSRXFJyTWrXnv8IetQ8Z++L4s2e9D/+7saEiv/7wb/D399/JYaoyweht79e329q+vg8ZGVayXXa0pukVPxAHDY73jk2c633j8JF37hS9ff8sDtuVM+FMbfn/3bfvrsS119IxenXn/PfdqvUnD8hV+VvnRNtSX/iwAAJ/7+q4f+cY35/9Y8c9ejrw9B13f0/u/+5teK8T8X7/6lSdt89V/zN6wGEN578ebnD92Yf7vhCwDw4d+2N76woWhrGry+r6O6iz0YgaSL6G9cl63/4iK+O/7w3aZnnnnqwAlI+sLm3IzJj6wPw03PeJ7p4YZG49alpt9eoNpMrYTjuyoefkuuEXe9tCd8fDCS/KXSYo2SAgD44J/Pbf37vjdODK9MoK674dv3X3/ZHOkLfvt3X3Ieztx2eSIAvHHg5Tt7k3+dc82WFQAjhx94peeKr3y1PDmy5539D7939J1RSL5w9TevlJSvXkxoduxfL1h37A32jcavuVx10833XJkEMPqvYMvvffv/dWIYki7NvD6vMotOAoATb/5+u+9Ftm8IEr5Ip99985brTzQXNgSPj0LJL4N36HSai/pefL7liX+yx0bjLlknuSM/b8ulcQBw7J0XrNv3BgfhEjr9bvEptwQN+iz3P+4fGYFflb5w7Xe3yfy3brvgzuz3nc/2K35mLfnCu3+vd7heO3h8ZOXFqdcWaku+cVk8DLX/9P4XRfdcyzZ37O/rjxd/u/J2qv2pptcO9g2tuuaeiu/Kp19ewd7Hyv9w4a3/fbL9bz3vHx9Jzbu3+NqeJscr773Xv/Kagnt+uDk1HuDYm01/aHp573s8XLA6LbPgwdsz1/Xt/IGpYf8o/KLsza/d9q3jTzeOLd/79A/psb6NvPSX258ODcGBW37+RsWD2puSB/Y875q8Ssz/1t0bpjdlUVfsH3Z3NG3teKvnRPT6ueAhWcr/b++946K4vv//l7ozlF1gF1g6SFFA6UWaChbsvUQSu0ZjSSzRGLsmltg1igXsIhaMYGKMWMCuFEVUUEGlg7BL2YUtwM6q3z/oVUjyfr8/v9/jPh95PDIud+7M3Ln3zjnnnnMunp2aevalHKlfrXs2byh1NKL6eMGyAVI1u5lDRvoYA+CN9Xf+/UD2awn+mVNl04WWToA489JHm18HDLo6xL1r8fODOQ315+Kk5U9LrF38r44Zus204tijp3cVgChp+ZPCzo4DosaOvdTLUpHyYGOjs9AJnRRxKUX9hk66MGX0ELza8keMxHX0salTNptKfot/WwygMmv3lZhso/6n586NmtjfWfRg2d2sSk2LfrqS+OyaLF2Fb+9LdPtZaNZVrMzbf+VhttnA03PnRk0c2LPswer7eZUNr53z5+EDqQaz1+29cnDrGvvSU4fDUwCAAiV/GpXsMGNV8LZ9O/sj6nxkCgDkXz0cmmoQELT30PHFPXMfPWsmaxQLyL8Rq5wwa8nR9at+MMoKjnze0NCSdfxUeIrR2IPrfjk13bnkxsnA5CrPU8mdmCyfgB/DNyyeqZ1WfZbg/s+nnnP6zQ3fsiV8bj/O81Nb7reQlKwkZsvJJ+yBC8K3bAlf0I/9/MyWmIYlncYtmGHKshyx7M/v+5qWp+47djXHKuDoL7/8uSzASXh5dURq9VtRpl9NM1v6/arz3w/lvYxYHZY9YNr3Ieu+G6NMOH6/cWRsStiukDy7ZUFh5/cvtU++8bR6dUoUtXtrONP3p+Cw8NDdU41f7t12Ph0Ak3x04/Fcl6WHwsLCA5d6Co9tPpasANIjAs/J+v50POJyRNCqvvLwwIjGLn9pV3++KnQM+PHyjl9OBRinXQ671NBmrjlCI55N0R1Vzmnz9tEfz8ikf3ZQi+Bqp3M1JqJyoVxRVl2QOaHouFaTe5+n9WNHZmO5orKT6jkOrdGBDtbm7aM7gCmfI//gxdZ6rc27z2a9ksuOfwDw4YxM9orFidLWTudqzu2gWCZXQEXjnGpHmmLH8zTG1xspaRWShYoOizS5r7kaM1C5UFbZkl0+++GZ9S9UA2atu7ph3U5f1TuhYeHVnenD80cvTIZ9d2Hdsp+6SyLCbjxuGkHJJF95YDFn97Fjp/cGcGMDDzeMyJPFBO2OlPf96Vj45dNbp3Hj9+6/LoKeb19r4YNbKdVl8mIf5Fn09aj3taWAzOgbzLi1uw4dC1pk8fZo6AMpgDdhO0LzHJYEnTu9dSrvxqk4GY2GJhSH+VumdqUsZuwL3zXWFADFpF5/SE/YEBJydFUP2bUTl1IAKJKPbjqR6/z9ofPnw/d97yk8vvl4cqNZIPvWL9cLnQKW/b527tec+GOvyumm9qwaaEuXnqpvbryqzi2pyHjxnGU9wKn5jx0NSpYcnWA9Y8/GrRdX+uNh2G8NLW3m0zbP96T4I9aHHpvVHQDEj66967Foz4mz2ybqvTx16qEMgODm3s131b/cfCI89MSO0er39u6NbPxqcyIDD701nvXLkfCdM22enI8sQuO2AmSvolPdlxzd+bVb3W8241bP681D4dUTJ9Ktvg06fvrK/lVfsGP3hL1oap6UP4tMcfhxY1DEppm22ef3XM4GIHp4eHMk03/x1ktB+/aNN3hxfP/ZbADiqNPH76mP3LcvKHTVEMQ/zmUA6Pr1tBTGP6zpBvmx8QWWPV0aCF3pV46cK++1Ye/JKyd3ruklu3jkSvV4LIuLTHddvOXA+Q1f6KeePRknByC4fWjzffbEtQcuHTmwayj73qFDV5tJBit/cS/De+7mwxPtkHNpw8k3phNWX9y//+QCX8W1fbufyAHgze8bIwocp/30R1DgyWmmaRdOXWrW607Xzd+y+G5MRvU/C57fKzD1d2xw/+2blCC6F7jxIjN4dXBYeGjgLOPkgxvPpwOKxNC9t6lxG0IvR4QeWmCfeywwsvm0AAazZ47syeKOm7Ly7DDnup+tDexR/FQEAJXFwky2ZqW4uBgAKpJLZF0N+BriF8vjhZ2dB0aNG3fJ10rx+t7GnPZ5E72P2HbitcnkTWGnjx9f7Ci6cOBU48gh6Z2IsASdkYe3B0ZuXz5D//XuiAQpUBJ7ckMU4z/vp8t7th8Yqf8i9MiZXAAsmkL6w9cmk5afneQzctFsfzU1v9l7Ls5wbDCo3l/bvCeGM3LNuZMnz60ZyYnZs+NaEZzmhizvzVXzXnXyaK0mCcB82oa5nhR/xNqQY7O6Q/Hq6NaQXOcFh0JCwnct8CwM2RzySgEg8+wvQa9Mpm09FxJydIW/4vLWvY9kAEBBHBOZ57N07+6gkBXuomsh0Q3an3bo7Uq/vP+yOmGsNPFBEu3S354SPQj86ZJi8Iqg8POnD800Sg7eeC4TAEVTyLieaLxg16kFnnTmpb1h8n5rj10ODz+6vK/0UmB4Zr2qmTentu5PMp6y9/T58KC1/ZQRmwMfiACAhvjB5byeq3YFhhxf6yW6cvR24y4hurtv8x9Mv5WB4aeP7Z1onBS081wmLCfu2THSkHKader4pi8auLmygPdP72qOObhyQ8gXxq+vBG9JtVq6bOX5lYPYSb9feAsAOddDAt/pz132y7Xta9d3KzsRcuV1VetQFY/vpjpO/P7oui17fXHz9+jXMB7WQy89/mnNWkfm3dflTh4+DdSJ8jf7jl/LsZxwdOPGP5dMcCq8svrSGwXPc8cUV3VVx3Ub16+0YwGA9MVf2d1/WLL+4sLB+ulXjj8vB1AQd/7nJ6qT56//c+P6X/1U75w7f6X6g1XxPC7be+qPR8f0qH8pUEB23H2tSYHbAo9NN0u9sHP7i27fb9oWunU0++mZi6+rnm7vpjj1L1YeunTs0Jbh6vf2Hvy9kHbwdKRSYpOq36wsITaFcuxVz79VfPfIzotMvzW7jl06tPUbw5SDOy+lA5DFHjmZpD9ha1hISNjGCaZJR47ENlngYtL+uI/xK/eF7Vs5hIr79eT9lrJ+0l6LtwwzpBymnw5a5l/PZtjZxVC7JPftBwB4m1ukrUW/FJYCwAdhXCnXw0gt/3X0qlSVmaOm3Zo5LdhJJep29O9tyPL9+ubZE0KrlSs2R/wwyTE95km195jkxtmQC0r3zSs2//nT4pn8tF0na9aIlOm/P+fMmbMsZO0PMzVSg26mKgC8v7rhQrrpyMXhmzeHfO2luH1817OWYpo03b05meKyMgCoeFHa0VxVklAlJElFSR153hrIy01eks+a08M3rq/vKXPWteTk39rg01YUty48Rdvv64urF+32wvXwP65JgaK7m/7KNBs85/L61WcDupREhR/NBVBx69pf8Vz/k8vXRy+fM0snbfu1ZKn58P3+xpTB4JOr50zUVT67duZgsdWab1dfW/3tGlvxwbBrz5SA8t3B8Fip26SLq5cfHsS/k5DbeNrk+K0JnO1F6Y5cdTzsWzewKJQ+jS4cvGX3+omdZQknd5x6323xtuOXjm9b3O39kR0nExSo6qv3YrVmb94eunu6ZdqF9QeeO3yzOXj/tonqCUeuvGrynBRKEh8rBv9wZOuudS5FFw7svaoZsGfj1pMzTF9E/PmEAeSJ+w/fkfksOnvkyMWVY3mJJ3bfKYVun23f+rDVeqw7tG+FX7+6Y5e6zk33nbLTj09Zj76wfsYgDWQ/PF0tJW5ct9NP9c7pc+FNu+xnJfa0qz9HCh0Dll3evvlUgFHa5QuXhKCdp+3ow6esx57bMGuoV93xQI3OYycFDK9x95eKJFJVnr7q5199qzTrtdeJP8aSpwKA5ntxkS9pkPw7KTPnPd92liFbo5OqQ1f3jc6dDYGk9Jx8/e7zDVVVAA2e1SxTKiZT0Hh8fejUuau9iwrA4jvr0gqdrqP4LIDV3VgXElEBUJn38r7SbLqHsQ4AtvF0VzNpesozpWavrrpZ7zKqklhkZecU6Nv2q6dLVmYnR8P8GzcDHQBsgy9cLaXvUp41vLLpiFXH10/21qVBa9n6OJuUFaRXJe1gKL0e/t5aAGBqY8krKxAogKLU+wU6vkM89GnQWvYT/RqtGdXAcvLysqIAqDnaGqOkYUb/rCd3RFYTBtoaqFHanXv/MGlU7fe3W++RPvpqtJp+H+fOVWflvHyczu89w12fBmh998lOvPTHzYc25DyLSTHqN9NemwZobefJvfkpLZQEAEVa7COlzeQBVtoANKwm97WRvXzyvGpUsng+XvbaAHimVhxo23s5qQHQszVSLWmccTkjLlFsMTzAjQdQer4BA6vzG4vibyWzeweMsGQDlJ53wHAb4YPoN1A8vX4PHlPHWvMA8KxHjfWUPbidBMhkMtAcNhsAz3bE2pDAKY2b1Wrk0XXz5lpp0KC0bd0dNQpT8lsRvDqO53CjOCpWHYGOrBF0p0qlsiYksuNAVRWTDgA6elEdKz98bKwOUOpRXI21VEcVdODTKl4dPzxTfgI+FX2CSscOmgA6dhrP4cZz6BacaT/cqPxgpao2olNHlY6sSeqcTSotBVIWPnz63tRn0CA+C2CZufXvw3t/41V182o79h9hqEazNJx9PbqVv3mU3fR0tstwf2MKgH6vQQ5IjntTvz3Y3kuDjq4dbskGKGOvXnbIy8wFeL362svib1XlIsmLf5BnPdizkcGNchg4yJICwHZwsYAgTwikxyeKrYd/5cKlwbUdM9mL+1mJl6H0+04YZcOjaZ5bXxeuOE+ogCLxxj30mDrWhgeAZzNqjKfs4Z2GG768e/2mxMxnirUGDY3ufoN6clqN7WdZDuvOe574qgQAlI9fvOV07+HcouGUoXR7jK6KnzS0ttUqzSn+zFNYj5jWw5RNcYx9eneF8H0hkHfv5lvLURO9+RRA6ft8MdL4bfTjht2n6GlCvp73CF8jCuqdh0z1N2lyERpg1J1G+nbmNfBqpfUtTTlAuVgGmqvOBqBu5P/tntBvHJs+EWPQf5SHKRu0rsv4PqbC1OQciGMeprJ7jBxtxgZofZeRoyyL7z1Mg+xNbCrlNaSPKQ2wrUb5W1dVxuvR06E8MbpKm8xPvFdgOcRZt8ElpOXlYKmx1QFo2Q78IXTrhJrxaDnqK1dTdZpj6OlrCUF+IZB/73aaxbAvvHVpgNb3Gj3SMC36aSNtkgUo2Xb9BphqcSi8vv9EYDdihp0WDXBMfSe5qz+JeSUFYP3F4e1L5lhr0aC07bwdtQpSm0gJAAAtP28b6fOYqjREOc8f51j6eje4//ZNShA9u5bIHTy5ryUboHhuASNshPHRGVWzEsVmUwDFs5+yM3TbKL0m99IKKjpeOorkEjmANwUlhuZW9pLC5I/Ax+KnIg0vPdWktJx8Q7v5BqoqgAbXapYZHZNR0K7NZYzG7tqz+Vs3Pg2K16W3l2FpTlajdFMKmZyh1DRoCqB0fL5cc3G2GwdlMXFvOa5DxpioA5S+49DR5sV346p0cyXMPcdY6HBadrnOeXI3w3DIVF8jGqCNfL/01s24+6RNzrCK51H34D51ZFceAG7XUaPcZTF3k4CUqFiB07hpTlwa4Jj7f+XDfnq3xvjaxX9cdzYAuquTJVWY0TBrCe3Q24VOevBSAQCypAcvaY8+NpQ44cYz3qAp/uZsgOK5BIywKYy9lQkAYGDTd5S1HodNQSqTgWarswHwrIf/fCxwmnm9mlNv3y+0HzfZQ58C2OajRvein91JqBZ0bAaPsecAoKxdLShBZqOMeaLYO6/YPuNHmbMBWr/H+JFdiu7dbT0TIKvLUA9tABzzLqZQc+zhqA1A07ybdrlAVA7AdNDiU8u+8NGmQGl26+FgKhGkVQn9DMvAxddHEwBMu5jzJAIBA1NXD0th4qOqF5KZ+KS824BuDXRJRXrcI6X1ZH8LbQAaFpP9rGWvEp43k+7NbMwIO1M1Fofv6GcGQaEYKLwbl23VZ7APjwWwDJz8R/Ozb74SVY1ujnWvgYYanKa2P6rbkN58AByrbiZQd+jtxgPA7WKrKxcUyYD3sfezTQZN8DeiAdq09xhf3ezop4W0racblXIvperNptxPobx7WdXTJZMik7SGTOhtyQZortuYQTZFT6OyAEYmZSi2FkUDNN/t221Ba7yaLsupuw0a48ilaXaXUYMckJKQ0l5vwq4mLh2LnokBSF4KWV4ORop8QTGA4py3tJ6LVmnUa2FXZw9fjU5AJ0Mr1y+0hJFZnx3W72NSpZa9B/TQAChenwHe1RYHycub6ap9/HtZqQEUz2dAb1vx85tVwi6L49PT3YACoOFow2NKCkuA17HPC2wGzLTRoAGOkddkJ9UnCS1mMjB21NKRiJIAMKIYhdZEPp1aKgOQUVpaydVxhOx6XqmNeZd+qp2ATsb6lhPVS/8UflabzE559k7Hfaq9LofF6eI2bM0wdzMAun77F81ZbMOlwdI2cfLRlWYLpIBSWqmkVdg0C2Bxew3/9vKX9g3elzLtykv06t+rOwcAp7tXz14VL29kArkvn1VYjXU34QAcA7cvbdoQOibX7T3czZTLphUpkQmM65gxjlwAXMcxI9zkCVGvq/oA5dDPVx8A28reEGxbX28uAK5tF11ZUVFzrWjqM8CMAihLawMKlr4eugA4ltamTHFOEaDusmLr1o3+ZhyANnTxtUFO7t8ISRY+TMg37Tl4kB4FUGZu/fvw8m+8alLPZyV2q5FH186tlp9t3B05hSnv22a4lKQGRaZaDezb4596/ze7LECpaleLx51ooPLDx3p/U2TJGR119WpfnU6a3qaagOKKXC4VxPhdrFdQS1YMNHLp0Var3oCJ7siiVVSq/qrC6oQPSgAlEolCs4tBzS2paGhofygqqISnRdeuMW/jy9w6a5bcfyeys7PQAWrHbolEIpMI5h+ob1gwKmm0+VV5etT5y1HpxTIlAEbMGChq2pmnVeOvRVEUwCiB0gIRtExqZBeOjg4bZWiKGk+juvVpFqBU1p+xpIUimQZPv9r1gTK1dTYFUA5ATb/JWSXvRdDj1brk8Yy18eS9AGgqZBa8FzHpYROXhdX9xDEWAc37xJaIShies0FNF6F5PJ7yvaB6rlDlVr8KiqbAq9k4jGaBUTbqgmKhCPrcGl2Yp6dXVWFhngB6/fio97tYKGREIqG88O2PY2/Uq8FOJIL/8CkOG4PmT46wcXHx7NW3v6dF4/mBKXlyI/LCy6wSBgBk0s9sKln5UbFRXhH74VMlAHxSdKjtyh2MO7R65qePd8vlQYyy8BMAlH2CHwCwZqjTN6SlHpUsL4oarqIygtVSeOSH1x9h0rFGgexEjWgxKY8oXQwzXu0g4FjxcKOg6tvcSd+wxhaqwTOgykukisZvnNIzrxFtKZ4eF0miBr1amhcfEnolIUPMAFDIGPRSAGB7DLY7fuhO4ix7F1HiA4H9cC8uGm4Fx+Zya3ogBTAKBSATiimuXs0rNrY3pu639Ei1cHk190/TNKBQQFQolBe+/XHczXql7EQioE5AF4mkNKe2q/Md+Z1ut3qRLh6upoGJt0We4zTS72Rwek5qNeOWpmbNI1A09dkd6ti6vJp2oAGFggHEmYVM8qE5Iw/Ve0xzMVDvqmKhGHpGNd1et7OlVjMbR1J8o5aUErNRAV4xB5ZPuWfr0M2pd+/efl2aCflUNzCtmX54ulooyxehOLcIej11am9LX4cSFRcryksF0PStqYLWNdOjkgGA7TzE5vyBh0mzbR1EyfFCmwFejbx1HQeOd9gZMnf+XzYOjl6ePf1da3yl1Pi86m7IogBGqQTK0ouY5GOLhh+r1yxmTVPosvQNqu5PnltcLHt5aFT9rbRMikUAhyl+cuXSb88zRAwASMtaHOMcJ1/HC2duvvzC0a70yeNix/5ODbz52zkpARkCJvP0wrGn62qgOELQngFTb2/cOXemib2Lq0evfr1c2hmvRbkaav4qLK7siuRiWDsbdy5IeyqCHwqTab0ADSZLJpMWPPSrbyfiytqe8AYA5Kn3Q8/eeyeQMwCYUsaEaSQZa/sN7RN1ZPfEF+bu3Ry93Vz9uurQKM4tgb5nbW/R1NehSkpKFNAEWDx9/dY92YTZhTDWrV185HXm416mEGjqTtgYUWGhvPDdj19F1/utm0gsExUWyl/sHh9T7+fORVXDhmJzaz8EFJrsZUs79HSh98cnMR5uePngJdtruT2NNxlCJiN04cjQunKUuhAwByiecU1shP3wqXYbDy2cEm7t4urRq39fD8t671ZaWCjj8k1qf9Ez1kNyXmF1Xbza32mgsSYiyC2Cfp/aPsbV41PiQqECXVtuF03N6t7LYtFQq4mmZ7FZUIAB1FCeefP3azczRdIq+USpp6jR/XiaNYZziqIBhRLQdhnQ+crvj/MChhu/TkxSOHzh3tDFskQsYnhOtXIUrc3lKQsETZevVLm86jIUDSgYJSBJFymTLv4yuJ4gxzWUAiyApc9vISRcq2bapVgU1Hk1cgWbqnq6ovQimOjWznJaFrqIyi4CbevrSO15mqJwc0RKbJK66+pu9bplUZaQyT61Ymq97R4pdhHQ2WviwAebNyyMtXJwc3Pr7enpyEdjKF0Lw+qqaF0tNtJE7Y30V9Hz1K34Q1gOjvBZuc4oS8P851lvP1hL84UKvR5dUfab9EPi3dBed+vO0Nb5bMpDiUAKg9odWjk8/arGLxEKoD2gdnbT4OmzpAIRA00AGnp1qyZVpctzRGL5m5CR9fOXGopFQPPalo2OO94kSOCuEGWwdX7W6Xgiq6wM1AtxhaM+VwVlbyo+Jry671JPdtbRqGy2pnoUCMTgcWtkTq6zfVW/qHj17HrI89yCCiUAhVRpplQC3H5+XjfCjo1PNfawsvWxt+9nzm0w+UjFBRXi18d+/rPeb05SqRRSKUfLoGapzIDPpT4b0afON6366IoLBYyuL7/mOrSunhaTXiRHFwBaNVILTVNg18rA6lTz+2jTWupVDcuhKKhr1QgMVE3d8pzEiBPRyemlDACFXAmPv5HGRpwuglndLKhhxcON9wVNpPrPSeyM6MnNyAvJWSVKoA3ycxUK4ZNdp64W2E3b7NUuM2qztOBj1nqCk+YMPR21LaoiKttOUxm8Balc06Kfbsyt7LIvjDJui/THWzT+4FNcl6rgyRYounr4wB9UwIb1fSzVgfyrCzY8a7Fse2jRQQ9A0+9i2876XCHKblr4dPs2hhy36VL/OpTxmB1NFx55fVcHe+QkJz6Nf3AreMW5G3P3rm0Q7ZB249Sul0ZL567qo00BWUG/BLVmDP9YuUxSXqiqEaHJ4gNllRKPNuevfVUuWcawdmhwR3TqACg3isuqljT5NCeK9yFRwVxhKjeWVZxQ0zin1koDfgJa11lboPYb38Q5slUUTENVk0kO2Ric6rF853IXHgXE7/4ysOoPbLdBntj/MIkxzn0gdBju0cxXpknv+dfiwCmjMTsCJ7ewlP93LsR3HGgUfeeVaAQ/6blq91/+3ezNzY0iyvOHE6v/sY2uFXhu3wQHj0lJSLiXEHfklz8vj129ZTiv5fH8mZHeSGFm5DUtzHbzc8aJ+CSFYU58scMA5ybdwLD3ml1uOSkvEp7GRZ/adO7W1H0/9Ga3eEnKa+GBNa5tz3TA4vkuPDuxUeQH0q4c2v3cdMn3m/voUkBG8OpdLY5x9e5DnbH7yRuFvuBesfUoJ/WWCrYVym5e0MYhvEa/Woxae9w3IzEhMe7+lV2XI1x+2Lrcu6l42jJGfL7OG2FyBRJl3DE8dR0u/iqRZ6JYwbezBrLQSdvK96pb4xrbvFWMIHr/pmvU7B83DzVTB97/tnpNbJMynK6j9mzum/b6xb0XCWcOXr3Qa/6eca1N/PTf+Sq0+c1ThiN27J7YcAaQRYHi9l8RMqt7o8JC4HOzIG3f0xX776cyDsyDJLbLKvvqy9h/E/TLX/yWQQAAGz9JREFUoEbajRAAVVefsf+KIK+85KeJ8fdvBy8LuzFv1xr/NtkK/tsJPUquhBy/xBq9eVlPKzVAEDV/Z1Kr5TX7eFgdj45PG+RyN0XpPr5Lk/tt6xtu7kFZ3pPXr7drVEPru1y0HxYA2sHTEUfiUhS2TGwK22FR4/3SKdv5u1YNbazAsh0D1p8elJWQEBsbd2n9pStDftjzTc/W1q2o9n1nq1CxM9HamS+UcHLfcg3tVPSy1BLii8u75Eu7WuqpQAh06j1w2pbOjeTV/87OeSyu58zzY9sW3aai6aOluChVZMhKdbUtdTmwkRUnMXSMRN3btqpZOvZx9N3Db/Qgbdlrq5HtuyAhfF0ca/6kOSMNVIGis8HBjwAAHPP++5d6vktLvZ2SHHLm7nm3SfsHmzd8Ht0vv/52dkPNSfp3BPS69/yvDeDWK1KkRqwNTff+duU6ey0aeHR44e5/68Lt77NpN0/tSjZaOm9lH16V/Bz8WWcSadbt1aditAd+vcPL+N9osjZnc62B7qxOSeSSGvNq2d23aTEVdGcNVUlp7Y+orKholzNPFdoaGnRZUUGNTU4ikpR00jRQAaDZq6vu27fZL3My8o1sPdhNzpKLs2vtKZWy4sa2lYKkHDj49bFUBwBpQcZnsuBq6fBQmlvjxiUqKGh/Dj8On8euEOXUNEJO8v0rKS22iIERD0JhbeyjIK8EPL1mzcAGRjwIs+pSQ5VLSlp5FG2eNiV6X1BTQlooErH+hmM0l8uGQFyz/CLIq249voU+hBm1PoAiYS7D1TOmeHp6lCgvt3YtTCaqXk+TyaQM29S+16iZK/ZuCNBP/jO2wdxbnpYv4tn17qNNAYDkfVrrHeij8tUn1kQVFh8APr1quC7c+pmvPnzkU6ojOnWorqdm3b3y48fKDp1cVFTXcrT+YrNeVVY29aIHAHTq1hFptcv1HxTHK1rKE8uz5CK7sPZJxGki6Feb/D8U1LoTSyQFjIY2t8lwZoR5wtpDoYzi8er1fNHbVJlxr+EuVcaynDd5tdZX2r6PF5V469bD+4Uu/VzaJD3xuGxGLKy5n7w3eX8rTTSPr0eJc+syfktFosaeIzwNVYVUVBv//Lqwxs21wdq+pKTuPF5fF7O0pBfXn77hubp2+Tu31Q745nzkvq1za5OKxY37FVePC7G4ZkYoykpv7yaXCrlcQfFtvQZ/8+36wBlW6dH3mu4XIi8W1FxBUFQKTUMedCx1IcyunWHFggKGp2NAa+ryUJZbcw+K4gJxzaujbXp6s15GPYq/X2zX365pN5DLpQp1U1uv0RMXBa4YrZd6M6aZMMgqdC11kfOuTqCUlpa2OtzUTfS1pDkFtTOaorRUCgDy9Nxibaf+fXQpACjNabXtKEdvZ/plzM2ExwI7H/fGumT7JiXwLUyQl1rXrWWiqrVRyKQy8Cxc/MfO/Xn3usGIv9be3T+4hvYfxMl5+W+4BtYd0ZnPzRfmP80vszfUUQHVWVNVIi77B5/F3JRsdOs/1EwdAOT5qUXNDEyFXK6gNK0ce82YvOjwDEdR3IMU6FhqQ5BXe+EygYDR1v7MgmQtemZ85L2vXW8XZhWi5ZX2BvD4fKo0v97kLxbJALBNjLmyrLoaFWJx21uZsu/tgqSHyQkPX1IefW0BQM/CBLlvc2v7YDPDFABkUhnDMbb3HT5z9a4NX+ol/xlf98XhGPO54sK6OxVmCqFv0SYzgr6FLgSZtX1MLHzPcPn/SBgTJOXByaenlRoASAVZBZ/bgZjj4ONUlnIzPvEJ4zCsa2PBU5vLo0TvayuRCsUiFle/TcnFeZY85OTUOfZLJZJ/bGjUtdRFbn7tUC/KKIK+kS4A2tbTDa/vpyTdS6G8ejec23U7myA/tS7bpUxU/YoVUpmC5nb27h/w/aqtP7qWRt9KbXxBpiivZipTFJWKKa3qxVKm9m2XCj83axsaGmoLc6JzBTqG+hrQsNPD2/zMuCItD0MVQLMLB1mCOqlQUl7+2eU8QIOnigJJzQQgLhRUvSBtI32UpNfOlRJRjpKjr9eSMqFmyufI3hfWTa0SSatDiXLX1sgsEj4SfbTRUgXFcaBLHwmKU1k8d1UAqtaqyCytW7ctUyja8CAG+lwUFdb4YYrj4+IeFCE7swDm7iOrFhMrilPE1d1PUVGhYHG62LjNHjXt5HjbkucJDaQqDteAJc0pqnWtrSiRVgDgcDi0VFpQ83N2fnMTX0tw+XpUUXphTd+RvReWUvq6/9ga2RRRerrUsMdoey0aAPJTC/7ehnxcSx6yC2tfoyhNBH1+Swk4W6I87b2IZ9+rT5U8KMlP+9wMq8i7//OpJ1YBC9b/O5ok/oYyCQdzU6PC1IM5ZRJFRVJK4saUQkVHOHQ2NRKn7sksqwQkZTnbb13/MU32+boaomJm25uVfTK+oBiolGWdTMzW7mLrzAIAQ4uuXYtSDqeI7Lpa6jQ+y76/SvaJR+n5SqCy8I/oC1Oi3zT8ZmvqayI9NU0KSLPvHLlbxIa8tdlE197LoPheZLxAAWl+4tm7OX/DtNXZvQ8v7cLVZznl5SVZt/aF3UpStmguNHXuYVkYe+KZQAFIBTGhTyS2Peya7Uymzt62oifH7+dJAUVJStCh7WtuNIroAIumIH0vLClnaBt3H1Zq6M2sEkAhSQ29ncpzcndq98OYeLlwM66EJYgYyDKiwm4LqmrgOQ92kd0Pu54uAxjhvdCIDONB/S1Auw7yZSeeOx0nYABZRmTg0nmBD6QQ/rFh5rKgOAEDgBFkZkgpPV4DAZfF01AVZaXlMIAkLeyPZzJVlEhaFr06dOJDeU/5EfiYVik/oexAf/pY5bbaQvkOKp8+pn34WPmpA79Dh0Ilk/YJ+MgckivKOqDw00d8rFxYWrawUlkG4NPHV8oP6NiJD6h06ICPH9I+fqo3yXYaqNIprUJ+Ufmx7KPyjFy2V/FRs/mr8vu6GuXEX79dqATKs+Oib0jNBnavXhzJeXrveqESKH9279FrNUs/o6anyxKv/JEpA2Tp168kwc7Trt67Y/P1IEx+IwQYQWJoSDLUGXG12k7Z9/NQTwiNENr1dWub156liz37zY3LyTJAlnLlfKy8mU5C0TSkmXkiaYvSBe0y0Jf97FxonEABSDMi9/8wb/+DhnNal66WnOz4iPRyoPzVw+hHFdUmUZrHNyjPfpKvBCBNf3SjXpyitqOLU2H0sbe8gc14NLUPCpAJC8XSFv1fjX0HdBXeOftHpgxgBM9Orv7+l3OZDYvoOnTTzY2+HCMG5O+jzt8Vtm88SWO3f796+/1sKQCmNP1dEXQNG6+WAVRO5OVEgQIQJ168U6Bnb28Krlsfe9njy1ezZYBCEB9+McdgSE8zsK29LOWxkXfSZVAUJZ28ma6garVJ2/4uak/DIwXWPZt2g6Lfdy1aGvJUoACgEGRlyygdXoufW0PfvlbCh7/9niUHFIKksytX7jrb6uJaN293/Zzrh2MKFIC04Eng9p823isCKJ6meknGmxwGKH0T9tsTqTpEZS1OxLS1t7fayxPXih29uzdZemjfpASec38XRezp80kigBElRWydt+JYEoP00ytmbTieIGIASHMzcmVsHr+lDysLqCgolUobm624njpll94Waujp6AAqOvzOxW/DxDwvPoWqb6U4ZU+mpBKQSHK2R0f+mNaCy50iJfLgkXuNU8jzdLWQ9TpFDsizr4ZGC9QhLWrYYIongZt/Wns7o4QBUJaWUaLQ1OZB061Xd+nTyL9y5QAjSLj8W67+EE+TJhelaIoRCYobDQhTHz+L/OiQmPcKQPo+6tw9sU1v91Z8XGuGlUJBO/n7sp+fO/dYoABkmZFBK+YFPZICtr5eelmXj96tqvHRwXVLf4lq8zIO5dDThUkOC09U9+pVtdTNdevjrIgLPZcsBhhR8qVfFqw4mtx4TAuubJy2IjhGyABQCDMyZZQet94wsB7ky08OD00UMYDszW8X4uAx0LVtljc3fyfZo4uRmTJAIXh49mKW0WA/87Y+TXNo6msiLS1TCkjzHgY9KuGgQthcYE0dat2GOpTfuBKvcOjRrckfaRs3H9ab0KicEkAheRN69w3P0d2JBVAsWinNEZUrWlRW+X6eZoKEaxH55YCy4M2fP+4+EfpPVyWNfHub5d66cPe9ApDlRF+KKrXq78oHANrW15F5celKgrqrbyM7IdehvwMTe+HSCzGgEL+4snfuhjMvFFC8ODV36c7f34kVAMTZqUUMV7fp9ClPuH49XQbIsq5eT4KtmwMNnhGfXZSWVAgAgtgbMTXKCcWmUPo+V6Zo/FXTMXVR5l7I+dhFTwtAVyNuVmrSS3VDVw0AWv7d9ArePA4rrgQ+5OfELPgt8sTnndf53jac9Ps3H0sYlL+/cfNxQZVAqGEzzLriTlRsWjnAiO5E3k7new9oRhioppu7k37+7eAnhQpAWvhs3/6dP8eKACAn6sjByPQmH2ddLU2dspyLFZreHABsB42Pj3KKJVo6tgDAHmSs9T4/LVTCAB/yit/MjkkM/ry5y8zWuUtR3NFnBSUV0ncJ17bfSSlRhTaXg4KMVxVARcHl608KVCEVSaF89+uBvSvickuUAKTvckUKDlcboFkUKgqypRUKltVwO9X4u1EPxEqg4l3C798c+P1WBWBi68xKi3iYW6JUluTGRaR9zrxSH9rB3416eulSihhQiBMiriRoefbv9h9wN2Dr6KAoNaUIYIqeRES8gFq12ZSiaKYsp0iuYBoe179JVRYkhdnljAJ6fd0Mc+Kv3RYy1VKixGxg9/Yqk1Xyc3q1/Hy5Sn6WAqDVWJAIc8oZRYPjvEsXIkXOYycYoUQiqfqvifopSvjt4KmYltJXNXMP7bxnADoO23p82JZ0e2jcBw0tg699XP1ogHbY4/lhe/Jt/ycMVDTczD02WbV/tyBW5yXDe+2+e2NKkFzRSd2ui9+O3sbVDreaFoN5D3YXWayzbOKByzL+brjf/rsPvj4aqYB6ZwvXHX2sG8Zqmo360i/pxM4pd9X1bHy+mfyNTejOI3t36K0MaOE+DEfNCEg9HDp3/gm2qfPEIT56JwrQnt4MAJ1nTgtQRFxdtOEMo2roPnD6Ans1tGS40O69flrZrstB48IqoMp37z19pbd2CyW9V84qD/zj6FdXpWDxbZ3HrRvYeANmDXd3mwsRp2Zle21eNnLh1yP3RZyZtUrKsDi2TmM3j7Rq/5iiHKYs+HJ38I65AQy7a/+ZY71eHgMDgOe7YJ0oKOinmcdlYOvZ9/phxVhLAJT9rLVzjwYfXzR5GwOuiceYn+b24gCjli4QBoYumrxNzlBcc5f+S+f4NuggVI8Bo/xO/jF/3U0232bMuMlLjU4suxr4s5rDeofm2qITvVaNWSgT28o6utBqmziUikS6sFR+UqMF6wiLHt9Jur20NI6tFaymPkIqHyYq1+xEzWBzdnSSfCUvm9NBaxP7w5pyiYfskwIdLCl6B1vVBACl4lIh/6qU+VFTq1YYs1Ll7Psg3y4R//ipgyWlso+j2pKaY9Bz0s/S8ENHN+woB4dvPWZSwAgeACWUqj19u6aE7zn0XgINyykBQ52bSWxg0ctTHLriy+RChms9eMFcX3a96Ee259QZD345vnDcca6Jy5hFK2bord10aOF+XtB3bhRs+3ny/rptM7Ct7tC0y+RFA3cf3Pb1ZfDtx84cZ/cypImOxHPt63wxeNu81IE/BfZtoRr7WWvmHD18YtHU7dWv/pteDdUA2nrgMs+wvWe2RIDn5DsswCLjWNVzG/rM88zZe3TLHQ5X39JvbPcXx2pHnFr3gRZXn0tdejaVGtoH1bWfD3fnwe/m+yza69x8Ef0Bi36SHT36y5yQUlBGXX1nL/vKvFERy5Fzv8wK2rt4+l6tLv2njPR6G9z22RbgeH37bdaBsO1TDpcylLqxbe/F3/RvKKcroIRmj1FmcZtWBOfKKT37L5ePNAPA85jxc+npA78uPSIHW8fGd853X5gB4A6dMjP1+PmlC8/TBvbjx/vbBCfWyoq2PV24UY9s+9g07Qa6o+d9LTx6YeG3+2QMxTWz95833U8dLVkz9fvO+1l+8sjuRadKQRtY+U5dOLFzq49pOmbTbCYwYtv4U+XQ1Hf0nrXcVxeA+7AJfkEXvv3+T46B3ahJXy8xDVoesX2D2mr/5mux8HfW/D3Gcqh1U4W9nZMSeL4L1smCjv26IKCQofjmnrNWfO1AAV8umRUUdHDB5EI51PnmbgErZrU0ZFjGA+3Ymy4HTrfjnvXvVa8Q5WbAK8gr867a8kNVx55OON3R3LXKAYTruMfr4/akKP94Bqqabubem6xaUNkVubHR0TzP2b4NMoFaDp48JOXwyu9usXVt/SfP+NHqxMozO1bort/6Vc1goN3nzBqyP+zkN5dLZFDTN3dcMH2oFQC3SRvLwvYfWh0sB0enq9+M2QFNdUmY+3nob7i86Zt3Afu3daubZnUHr/5e/OvpTV8Fy6Fu6Dp46TJ/3aYn10B37eettTNo4XzvBUfn9Zi14uujR08vmrWbgZaJ+8ifvvbhADCf+NMC5cFza78KkkPL0N534TL/tkfE0PY9XeWbbqmPmV/jNs3rteAnWfDR/QvGFTIU39xr5opZ9o37iP7wJYuE+0OWTtkiZyiuuWvfJfN7setFj5t/tfY72f7geVPEDMW1cJm8ak5zEQHNwes576fSo4e2zD0qB1u3e++FS78wb/PDNIfx6NE+z88d+OqRmr6Vx5wJU20vHAgO3q+3eEzLp1BOPRzox+/6eDR3ZZb1wpnD9106O2utlGFxbB1Hbx5hQQMwdR7IDzmxe3fS6IVLWxD8DDy/3FTxe/DxX05IQema9Rk9ZbLhP3o2APqDFq0RHzm8Zd6vcrANHUYtmj+0+ntJO3g6ynbeZw+bbtv4JK7f7B9kJ8/8uuJrIUPpmbnNXjTJkQYcJ64Zc/LAwRWniuRQ17Vxm758TJOgCsp2iJf48Nq5qaUMz6rv4uleHADdRs/22ntk7YKLWromrsNHOcRGAgBMHXrbXL+wcmnKtHV7RzcQNPQ89eR/5JrM1AMAFW0jw9Ks/G6mVbFUht3671Tc3xd5JrgctJZe/54DZjRa4mgGymnIhMlnI7ZsXcOomg4Y0dcn7U8oAWj0mTCz5NKl1Zv+lEFV39Jp5bQ+rfmwGg3dNFEZeHX/uN8qwNF1dJu40osHAMLEa9FSm1lDGjeHho7jx6yLbFPHTgBgw9N4nyfy6VJt/TY2sd+vTNn57EGgArS61mBbpzlt2LlI13PNeNGvUacm/qGkdc1HjBs3kgN4DhqZ8ceSXQkcrvmgQcPWmPy15NqZJbyvNwT0+fWv8OlRYhlU9U1sF4/z6wLAysnjwV/rDuSOnPTt/MGTFl/762DwtvVK8HRtv5w0rJ8qAJvFo902XTv1RSxL38R9fq/O8bFtX5uk3aYvm33yxPblM0UMxbPy/HbZZEe65bizvw3HZeycxweD184L1jJ0Hzx9bYDu8l9DvzmhdXJyjwGGB06sXZs0ed06j9rjQ+ss6nqYmbVbt0fXftie/vW8+eN6TvlZcrFOSpzy5Yh2yzpUj4Ej/U5enr/+JptvM2bspKVGJ5dFBv6s9v16a3fb+5E/bkmb8d2CsbXHU5wf5Stz84OnP6h7mqFzei5s4GsuTX8QHes6eJp3G++mw6dPDdZzdmJnex+jFX7AD7XHF3DhX6z5s0zAhNrjAvyNHEuNMagfEJvUelDDfx0Hh6r/v8CLf6U+R9T1KmW7Fem2wqpny0hC803qAIfaY/c2xRT/b3iCunQj8Q+X1O4z2XY84FH3Dybzt6VLEwc2jQtqE9L43fOPc1cFzWzyjW4ZhqmJN5JFbfo63Hzrocnm9SOQmg1QbwsNglbi46FUglWdTeD6yS1hhvOOD2pdXik8Fxj0wmfxFjcNAPCo10q5uS2dU41JnQRd3qIt5/OoocZJTCJBVfxq1TMxz3fMC6aWHlzcdH2gETUB86Jm8vWAh3rTtaDtu8h/Bmli0NxzWmu2f1XdDfTr1NYitOjU2nZ0Ua1jZLU9CrA9yB8d/emw5ryTEywAAJ1Rp8H+dyalO7jTtEAf9Kk93o1/J0pmCZY0/4fGqbVr4NXrMO8a7xbyd+hSb2moFY+QKjTqJE4Z2u2B9FnYqGdn/Ewarf8W9WZCyD+X0EW9zmLwGq//I/dTEh8062G3vd/7mQJAN9RNQIlI/I9csQYX1O0/XIIW9jD7L6KNOhH9n9xP/XpO4VQrJdvONEyrPX6O562U/Ic4wanZ3+tL4P+EBnrBvXv/Sp1/B1/fuuOW5sZ/Qr15NRefky7aiQnqpJH64mKz1Jd1/y2p/rPUF/v/Bu13cyUQCK0hzc8uBIfVpiCVfx9Gmvfg0PFEkzHD26FJZobOm7Lk13ihAowgMezPZK6DR+MV73+H/OszNwTueCVSQFnw5lZEuoZTt9acVxXlkmd3w8MqHAOc2rfX+38OQdT6rxbtjnovByNOifwzge7u2foq3f8GhTQ//sC5lyZDB7SjG/wfgpHnPDl7+KXBF/0s/te3QiD8X4JhSvIe7rryvkd/D9PPlyYQCIT/Av+bfJ8Ewv9febZ35v7rTNd5Hv/YPejvkB66ZNkVuUXfBasHtSezsnnAshnCg8ELx29j1PldvWasmNWMa+G/gWH/VcNEe//YM+zMBzbXtOewyfPMWp6Cyl9s3hL2XKPblMnDmvEC/h+h7zdnUfbxU+vm7ysH18zxqyUzvf8Dsf3/kPSLPy+NKrf0mbmmTysOiv93yTmxadulctMB0+cO+//k/RMI/yke/7ZubaKag9+UBY7/I3slgUAgNKaxmyuBQCAQCAQCgUAgEAifhbi5EggEAoFAIBAIBAKh3RBlkkAgEAgEAoFAIBAI7YYokwQCgUAgEAgEAoFAaDdEmSQQCAQCgUAgEAgEQrshyiSBQCAQCAQCgUAgENoNUSYJBAKBQCAQCAQCgdBuiDJJIBAIBAKBQCAQCIR2Q5RJAoFAIBAIBAKBQCC0G6JMEggEAoFAIBAIBAKh3RBlkkAgEAgEAoFAIBAI7YYokwQCgUAgEAgEAoFAaDdEmSQQCAQCgUAgEAgEQrshyiSBQCAQCAQCgUAgENoNUSYJBAKBQCAQCAQCgdBuiDJJIBAIBAKBQCAQCIR2Q5RJAoFAIBAIBAKBQCC0G6JMEggEAoFAIBAIBAKh3RBlkkAgEAgEAoFAIBAI7YYokwQCgUAgEAgEAoFAaDdEmSQQCAQCgUAgEAgEQrshyiSBQCAQCAQCgUAgENrN/wM1ALNZ6GonVQAAAABJRU5ErkJggg==)"
      ]
    },
    {
      "cell_type": "markdown",
      "metadata": {
        "id": "upPhFXJcXMb7"
      },
      "source": [
        "This is an interesting case since the top features are clearly mostly positive ones. However, the model classified the review as _negative_. We may be facing a weakness or bias in the model and might be investigated afterward."
      ]
    },
    {
      "cell_type": "markdown",
      "metadata": {
        "id": "pKn6ArRUXxf2"
      },
      "source": [
        "## 5. Conclusion\n",
        "\n",
        "In this mini-project, we dealt with a classification task to capture sentiment on movie text reviews. For such, It was used a known dataset made available by Standford AI Lab and composed of labeled _Train_ and _Test_ subsets with 25,000 observations each.\n",
        "\n",
        "After performing some wrangling with the data we reduced it by half to save computational resources during training and testing. After, we augmented such data with an EDA technique, namely synonym substitution.\n",
        "\n",
        "In end, the performance of the model did not improve (or worsened). The accuracy value itself was not too far from what are best results achieved with the same dataset and goal."
      ]
    }
  ]
}