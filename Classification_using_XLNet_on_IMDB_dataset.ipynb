{
  "nbformat": 4,
  "nbformat_minor": 0,
  "metadata": {
    "accelerator": "GPU",
    "colab": {
      "name": "Copy of v1.0x of Classification using XLNet on IMDB dataset.ipynb",
      "provenance": [],
      "collapsed_sections": []
    },
    "kernelspec": {
      "display_name": "Python 3",
      "name": "python3"
    },
    "widgets": {
      "application/vnd.jupyter.widget-state+json": {
        "37af494f831e46d183709bc76c229d36": {
          "model_module": "@jupyter-widgets/controls",
          "model_name": "HBoxModel",
          "state": {
            "_view_name": "HBoxView",
            "_dom_classes": [],
            "_model_name": "HBoxModel",
            "_view_module": "@jupyter-widgets/controls",
            "_model_module_version": "1.5.0",
            "_view_count": null,
            "_view_module_version": "1.5.0",
            "box_style": "",
            "layout": "IPY_MODEL_82eb219ddbb242898d5cd6232ffc3f35",
            "_model_module": "@jupyter-widgets/controls",
            "children": [
              "IPY_MODEL_aabc8a747fe843c49588c4f675169c6c",
              "IPY_MODEL_ac54dac7e1a340688ebd36e03688d06e"
            ]
          }
        },
        "82eb219ddbb242898d5cd6232ffc3f35": {
          "model_module": "@jupyter-widgets/base",
          "model_name": "LayoutModel",
          "state": {
            "_view_name": "LayoutView",
            "grid_template_rows": null,
            "right": null,
            "justify_content": null,
            "_view_module": "@jupyter-widgets/base",
            "overflow": null,
            "_model_module_version": "1.2.0",
            "_view_count": null,
            "flex_flow": null,
            "width": null,
            "min_width": null,
            "border": null,
            "align_items": null,
            "bottom": null,
            "_model_module": "@jupyter-widgets/base",
            "top": null,
            "grid_column": null,
            "overflow_y": null,
            "overflow_x": null,
            "grid_auto_flow": null,
            "grid_area": null,
            "grid_template_columns": null,
            "flex": null,
            "_model_name": "LayoutModel",
            "justify_items": null,
            "grid_row": null,
            "max_height": null,
            "align_content": null,
            "visibility": null,
            "align_self": null,
            "height": null,
            "min_height": null,
            "padding": null,
            "grid_auto_rows": null,
            "grid_gap": null,
            "max_width": null,
            "order": null,
            "_view_module_version": "1.2.0",
            "grid_template_areas": null,
            "object_position": null,
            "object_fit": null,
            "grid_auto_columns": null,
            "margin": null,
            "display": null,
            "left": null
          }
        },
        "aabc8a747fe843c49588c4f675169c6c": {
          "model_module": "@jupyter-widgets/controls",
          "model_name": "FloatProgressModel",
          "state": {
            "_view_name": "ProgressView",
            "style": "IPY_MODEL_16275139dbe54ed3869373d15ba5423d",
            "_dom_classes": [],
            "description": "Downloading: 100%",
            "_model_name": "FloatProgressModel",
            "bar_style": "success",
            "max": 760,
            "_view_module": "@jupyter-widgets/controls",
            "_model_module_version": "1.5.0",
            "value": 760,
            "_view_count": null,
            "_view_module_version": "1.5.0",
            "orientation": "horizontal",
            "min": 0,
            "description_tooltip": null,
            "_model_module": "@jupyter-widgets/controls",
            "layout": "IPY_MODEL_5b13cd8fc69d40c190e9fac2882d11cb"
          }
        },
        "ac54dac7e1a340688ebd36e03688d06e": {
          "model_module": "@jupyter-widgets/controls",
          "model_name": "HTMLModel",
          "state": {
            "_view_name": "HTMLView",
            "style": "IPY_MODEL_a2e4f16d7ecf4741b8a6081d5441bbe1",
            "_dom_classes": [],
            "description": "",
            "_model_name": "HTMLModel",
            "placeholder": "​",
            "_view_module": "@jupyter-widgets/controls",
            "_model_module_version": "1.5.0",
            "value": " 760/760 [00:00&lt;00:00, 11.3kB/s]",
            "_view_count": null,
            "_view_module_version": "1.5.0",
            "description_tooltip": null,
            "_model_module": "@jupyter-widgets/controls",
            "layout": "IPY_MODEL_ec1fccdc13994bb68fd5aa18e513afd9"
          }
        },
        "16275139dbe54ed3869373d15ba5423d": {
          "model_module": "@jupyter-widgets/controls",
          "model_name": "ProgressStyleModel",
          "state": {
            "_view_name": "StyleView",
            "_model_name": "ProgressStyleModel",
            "description_width": "initial",
            "_view_module": "@jupyter-widgets/base",
            "_model_module_version": "1.5.0",
            "_view_count": null,
            "_view_module_version": "1.2.0",
            "bar_color": null,
            "_model_module": "@jupyter-widgets/controls"
          }
        },
        "5b13cd8fc69d40c190e9fac2882d11cb": {
          "model_module": "@jupyter-widgets/base",
          "model_name": "LayoutModel",
          "state": {
            "_view_name": "LayoutView",
            "grid_template_rows": null,
            "right": null,
            "justify_content": null,
            "_view_module": "@jupyter-widgets/base",
            "overflow": null,
            "_model_module_version": "1.2.0",
            "_view_count": null,
            "flex_flow": null,
            "width": null,
            "min_width": null,
            "border": null,
            "align_items": null,
            "bottom": null,
            "_model_module": "@jupyter-widgets/base",
            "top": null,
            "grid_column": null,
            "overflow_y": null,
            "overflow_x": null,
            "grid_auto_flow": null,
            "grid_area": null,
            "grid_template_columns": null,
            "flex": null,
            "_model_name": "LayoutModel",
            "justify_items": null,
            "grid_row": null,
            "max_height": null,
            "align_content": null,
            "visibility": null,
            "align_self": null,
            "height": null,
            "min_height": null,
            "padding": null,
            "grid_auto_rows": null,
            "grid_gap": null,
            "max_width": null,
            "order": null,
            "_view_module_version": "1.2.0",
            "grid_template_areas": null,
            "object_position": null,
            "object_fit": null,
            "grid_auto_columns": null,
            "margin": null,
            "display": null,
            "left": null
          }
        },
        "a2e4f16d7ecf4741b8a6081d5441bbe1": {
          "model_module": "@jupyter-widgets/controls",
          "model_name": "DescriptionStyleModel",
          "state": {
            "_view_name": "StyleView",
            "_model_name": "DescriptionStyleModel",
            "description_width": "",
            "_view_module": "@jupyter-widgets/base",
            "_model_module_version": "1.5.0",
            "_view_count": null,
            "_view_module_version": "1.2.0",
            "_model_module": "@jupyter-widgets/controls"
          }
        },
        "ec1fccdc13994bb68fd5aa18e513afd9": {
          "model_module": "@jupyter-widgets/base",
          "model_name": "LayoutModel",
          "state": {
            "_view_name": "LayoutView",
            "grid_template_rows": null,
            "right": null,
            "justify_content": null,
            "_view_module": "@jupyter-widgets/base",
            "overflow": null,
            "_model_module_version": "1.2.0",
            "_view_count": null,
            "flex_flow": null,
            "width": null,
            "min_width": null,
            "border": null,
            "align_items": null,
            "bottom": null,
            "_model_module": "@jupyter-widgets/base",
            "top": null,
            "grid_column": null,
            "overflow_y": null,
            "overflow_x": null,
            "grid_auto_flow": null,
            "grid_area": null,
            "grid_template_columns": null,
            "flex": null,
            "_model_name": "LayoutModel",
            "justify_items": null,
            "grid_row": null,
            "max_height": null,
            "align_content": null,
            "visibility": null,
            "align_self": null,
            "height": null,
            "min_height": null,
            "padding": null,
            "grid_auto_rows": null,
            "grid_gap": null,
            "max_width": null,
            "order": null,
            "_view_module_version": "1.2.0",
            "grid_template_areas": null,
            "object_position": null,
            "object_fit": null,
            "grid_auto_columns": null,
            "margin": null,
            "display": null,
            "left": null
          }
        },
        "c6375431175f4d50a53a520b6a0d8cc2": {
          "model_module": "@jupyter-widgets/controls",
          "model_name": "HBoxModel",
          "state": {
            "_view_name": "HBoxView",
            "_dom_classes": [],
            "_model_name": "HBoxModel",
            "_view_module": "@jupyter-widgets/controls",
            "_model_module_version": "1.5.0",
            "_view_count": null,
            "_view_module_version": "1.5.0",
            "box_style": "",
            "layout": "IPY_MODEL_d7cf5a5fdb084e2a90ccb67ffcb377c6",
            "_model_module": "@jupyter-widgets/controls",
            "children": [
              "IPY_MODEL_5d3bbd1096b1426eaeb726be6481025e",
              "IPY_MODEL_43bd7fabba0443599fd489ce9963bf58"
            ]
          }
        },
        "d7cf5a5fdb084e2a90ccb67ffcb377c6": {
          "model_module": "@jupyter-widgets/base",
          "model_name": "LayoutModel",
          "state": {
            "_view_name": "LayoutView",
            "grid_template_rows": null,
            "right": null,
            "justify_content": null,
            "_view_module": "@jupyter-widgets/base",
            "overflow": null,
            "_model_module_version": "1.2.0",
            "_view_count": null,
            "flex_flow": null,
            "width": null,
            "min_width": null,
            "border": null,
            "align_items": null,
            "bottom": null,
            "_model_module": "@jupyter-widgets/base",
            "top": null,
            "grid_column": null,
            "overflow_y": null,
            "overflow_x": null,
            "grid_auto_flow": null,
            "grid_area": null,
            "grid_template_columns": null,
            "flex": null,
            "_model_name": "LayoutModel",
            "justify_items": null,
            "grid_row": null,
            "max_height": null,
            "align_content": null,
            "visibility": null,
            "align_self": null,
            "height": null,
            "min_height": null,
            "padding": null,
            "grid_auto_rows": null,
            "grid_gap": null,
            "max_width": null,
            "order": null,
            "_view_module_version": "1.2.0",
            "grid_template_areas": null,
            "object_position": null,
            "object_fit": null,
            "grid_auto_columns": null,
            "margin": null,
            "display": null,
            "left": null
          }
        },
        "5d3bbd1096b1426eaeb726be6481025e": {
          "model_module": "@jupyter-widgets/controls",
          "model_name": "FloatProgressModel",
          "state": {
            "_view_name": "ProgressView",
            "style": "IPY_MODEL_fd661fa1b0104a7eb8fbc64f7af69a29",
            "_dom_classes": [],
            "description": "Downloading: 100%",
            "_model_name": "FloatProgressModel",
            "bar_style": "success",
            "max": 798011,
            "_view_module": "@jupyter-widgets/controls",
            "_model_module_version": "1.5.0",
            "value": 798011,
            "_view_count": null,
            "_view_module_version": "1.5.0",
            "orientation": "horizontal",
            "min": 0,
            "description_tooltip": null,
            "_model_module": "@jupyter-widgets/controls",
            "layout": "IPY_MODEL_f333e604f8f340ed8401f022c3cfab0d"
          }
        },
        "43bd7fabba0443599fd489ce9963bf58": {
          "model_module": "@jupyter-widgets/controls",
          "model_name": "HTMLModel",
          "state": {
            "_view_name": "HTMLView",
            "style": "IPY_MODEL_c50465dd0d204c9cb484b498b990d659",
            "_dom_classes": [],
            "description": "",
            "_model_name": "HTMLModel",
            "placeholder": "​",
            "_view_module": "@jupyter-widgets/controls",
            "_model_module_version": "1.5.0",
            "value": " 798k/798k [00:38&lt;00:00, 20.7kB/s]",
            "_view_count": null,
            "_view_module_version": "1.5.0",
            "description_tooltip": null,
            "_model_module": "@jupyter-widgets/controls",
            "layout": "IPY_MODEL_dd8947fe624148b4852b342bccfd520c"
          }
        },
        "fd661fa1b0104a7eb8fbc64f7af69a29": {
          "model_module": "@jupyter-widgets/controls",
          "model_name": "ProgressStyleModel",
          "state": {
            "_view_name": "StyleView",
            "_model_name": "ProgressStyleModel",
            "description_width": "initial",
            "_view_module": "@jupyter-widgets/base",
            "_model_module_version": "1.5.0",
            "_view_count": null,
            "_view_module_version": "1.2.0",
            "bar_color": null,
            "_model_module": "@jupyter-widgets/controls"
          }
        },
        "f333e604f8f340ed8401f022c3cfab0d": {
          "model_module": "@jupyter-widgets/base",
          "model_name": "LayoutModel",
          "state": {
            "_view_name": "LayoutView",
            "grid_template_rows": null,
            "right": null,
            "justify_content": null,
            "_view_module": "@jupyter-widgets/base",
            "overflow": null,
            "_model_module_version": "1.2.0",
            "_view_count": null,
            "flex_flow": null,
            "width": null,
            "min_width": null,
            "border": null,
            "align_items": null,
            "bottom": null,
            "_model_module": "@jupyter-widgets/base",
            "top": null,
            "grid_column": null,
            "overflow_y": null,
            "overflow_x": null,
            "grid_auto_flow": null,
            "grid_area": null,
            "grid_template_columns": null,
            "flex": null,
            "_model_name": "LayoutModel",
            "justify_items": null,
            "grid_row": null,
            "max_height": null,
            "align_content": null,
            "visibility": null,
            "align_self": null,
            "height": null,
            "min_height": null,
            "padding": null,
            "grid_auto_rows": null,
            "grid_gap": null,
            "max_width": null,
            "order": null,
            "_view_module_version": "1.2.0",
            "grid_template_areas": null,
            "object_position": null,
            "object_fit": null,
            "grid_auto_columns": null,
            "margin": null,
            "display": null,
            "left": null
          }
        },
        "c50465dd0d204c9cb484b498b990d659": {
          "model_module": "@jupyter-widgets/controls",
          "model_name": "DescriptionStyleModel",
          "state": {
            "_view_name": "StyleView",
            "_model_name": "DescriptionStyleModel",
            "description_width": "",
            "_view_module": "@jupyter-widgets/base",
            "_model_module_version": "1.5.0",
            "_view_count": null,
            "_view_module_version": "1.2.0",
            "_model_module": "@jupyter-widgets/controls"
          }
        },
        "dd8947fe624148b4852b342bccfd520c": {
          "model_module": "@jupyter-widgets/base",
          "model_name": "LayoutModel",
          "state": {
            "_view_name": "LayoutView",
            "grid_template_rows": null,
            "right": null,
            "justify_content": null,
            "_view_module": "@jupyter-widgets/base",
            "overflow": null,
            "_model_module_version": "1.2.0",
            "_view_count": null,
            "flex_flow": null,
            "width": null,
            "min_width": null,
            "border": null,
            "align_items": null,
            "bottom": null,
            "_model_module": "@jupyter-widgets/base",
            "top": null,
            "grid_column": null,
            "overflow_y": null,
            "overflow_x": null,
            "grid_auto_flow": null,
            "grid_area": null,
            "grid_template_columns": null,
            "flex": null,
            "_model_name": "LayoutModel",
            "justify_items": null,
            "grid_row": null,
            "max_height": null,
            "align_content": null,
            "visibility": null,
            "align_self": null,
            "height": null,
            "min_height": null,
            "padding": null,
            "grid_auto_rows": null,
            "grid_gap": null,
            "max_width": null,
            "order": null,
            "_view_module_version": "1.2.0",
            "grid_template_areas": null,
            "object_position": null,
            "object_fit": null,
            "grid_auto_columns": null,
            "margin": null,
            "display": null,
            "left": null
          }
        },
        "684096d42d854ad69c4028f1e7488583": {
          "model_module": "@jupyter-widgets/controls",
          "model_name": "HBoxModel",
          "state": {
            "_view_name": "HBoxView",
            "_dom_classes": [],
            "_model_name": "HBoxModel",
            "_view_module": "@jupyter-widgets/controls",
            "_model_module_version": "1.5.0",
            "_view_count": null,
            "_view_module_version": "1.5.0",
            "box_style": "",
            "layout": "IPY_MODEL_e6e5334456ec441b8d166635aaa0c2d2",
            "_model_module": "@jupyter-widgets/controls",
            "children": [
              "IPY_MODEL_a1dab70309fc460ea7aaab2493e0435c",
              "IPY_MODEL_17b627e212354f9b99cdf546a5e02143"
            ]
          }
        },
        "e6e5334456ec441b8d166635aaa0c2d2": {
          "model_module": "@jupyter-widgets/base",
          "model_name": "LayoutModel",
          "state": {
            "_view_name": "LayoutView",
            "grid_template_rows": null,
            "right": null,
            "justify_content": null,
            "_view_module": "@jupyter-widgets/base",
            "overflow": null,
            "_model_module_version": "1.2.0",
            "_view_count": null,
            "flex_flow": null,
            "width": null,
            "min_width": null,
            "border": null,
            "align_items": null,
            "bottom": null,
            "_model_module": "@jupyter-widgets/base",
            "top": null,
            "grid_column": null,
            "overflow_y": null,
            "overflow_x": null,
            "grid_auto_flow": null,
            "grid_area": null,
            "grid_template_columns": null,
            "flex": null,
            "_model_name": "LayoutModel",
            "justify_items": null,
            "grid_row": null,
            "max_height": null,
            "align_content": null,
            "visibility": null,
            "align_self": null,
            "height": null,
            "min_height": null,
            "padding": null,
            "grid_auto_rows": null,
            "grid_gap": null,
            "max_width": null,
            "order": null,
            "_view_module_version": "1.2.0",
            "grid_template_areas": null,
            "object_position": null,
            "object_fit": null,
            "grid_auto_columns": null,
            "margin": null,
            "display": null,
            "left": null
          }
        },
        "a1dab70309fc460ea7aaab2493e0435c": {
          "model_module": "@jupyter-widgets/controls",
          "model_name": "FloatProgressModel",
          "state": {
            "_view_name": "ProgressView",
            "style": "IPY_MODEL_cd74859b78e4464d8e9faef73b51ba42",
            "_dom_classes": [],
            "description": "Downloading: 100%",
            "_model_name": "FloatProgressModel",
            "bar_style": "success",
            "max": 565485600,
            "_view_module": "@jupyter-widgets/controls",
            "_model_module_version": "1.5.0",
            "value": 565485600,
            "_view_count": null,
            "_view_module_version": "1.5.0",
            "orientation": "horizontal",
            "min": 0,
            "description_tooltip": null,
            "_model_module": "@jupyter-widgets/controls",
            "layout": "IPY_MODEL_619a267cf23343c5bdba31f9683b549a"
          }
        },
        "17b627e212354f9b99cdf546a5e02143": {
          "model_module": "@jupyter-widgets/controls",
          "model_name": "HTMLModel",
          "state": {
            "_view_name": "HTMLView",
            "style": "IPY_MODEL_a26ba2514fa2495792dde7fb986b0070",
            "_dom_classes": [],
            "description": "",
            "_model_name": "HTMLModel",
            "placeholder": "​",
            "_view_module": "@jupyter-widgets/controls",
            "_model_module_version": "1.5.0",
            "value": " 565M/565M [00:19&lt;00:00, 29.0MB/s]",
            "_view_count": null,
            "_view_module_version": "1.5.0",
            "description_tooltip": null,
            "_model_module": "@jupyter-widgets/controls",
            "layout": "IPY_MODEL_90591cb95de143e1816346e362a3263d"
          }
        },
        "cd74859b78e4464d8e9faef73b51ba42": {
          "model_module": "@jupyter-widgets/controls",
          "model_name": "ProgressStyleModel",
          "state": {
            "_view_name": "StyleView",
            "_model_name": "ProgressStyleModel",
            "description_width": "initial",
            "_view_module": "@jupyter-widgets/base",
            "_model_module_version": "1.5.0",
            "_view_count": null,
            "_view_module_version": "1.2.0",
            "bar_color": null,
            "_model_module": "@jupyter-widgets/controls"
          }
        },
        "619a267cf23343c5bdba31f9683b549a": {
          "model_module": "@jupyter-widgets/base",
          "model_name": "LayoutModel",
          "state": {
            "_view_name": "LayoutView",
            "grid_template_rows": null,
            "right": null,
            "justify_content": null,
            "_view_module": "@jupyter-widgets/base",
            "overflow": null,
            "_model_module_version": "1.2.0",
            "_view_count": null,
            "flex_flow": null,
            "width": null,
            "min_width": null,
            "border": null,
            "align_items": null,
            "bottom": null,
            "_model_module": "@jupyter-widgets/base",
            "top": null,
            "grid_column": null,
            "overflow_y": null,
            "overflow_x": null,
            "grid_auto_flow": null,
            "grid_area": null,
            "grid_template_columns": null,
            "flex": null,
            "_model_name": "LayoutModel",
            "justify_items": null,
            "grid_row": null,
            "max_height": null,
            "align_content": null,
            "visibility": null,
            "align_self": null,
            "height": null,
            "min_height": null,
            "padding": null,
            "grid_auto_rows": null,
            "grid_gap": null,
            "max_width": null,
            "order": null,
            "_view_module_version": "1.2.0",
            "grid_template_areas": null,
            "object_position": null,
            "object_fit": null,
            "grid_auto_columns": null,
            "margin": null,
            "display": null,
            "left": null
          }
        },
        "a26ba2514fa2495792dde7fb986b0070": {
          "model_module": "@jupyter-widgets/controls",
          "model_name": "DescriptionStyleModel",
          "state": {
            "_view_name": "StyleView",
            "_model_name": "DescriptionStyleModel",
            "description_width": "",
            "_view_module": "@jupyter-widgets/base",
            "_model_module_version": "1.5.0",
            "_view_count": null,
            "_view_module_version": "1.2.0",
            "_model_module": "@jupyter-widgets/controls"
          }
        },
        "90591cb95de143e1816346e362a3263d": {
          "model_module": "@jupyter-widgets/base",
          "model_name": "LayoutModel",
          "state": {
            "_view_name": "LayoutView",
            "grid_template_rows": null,
            "right": null,
            "justify_content": null,
            "_view_module": "@jupyter-widgets/base",
            "overflow": null,
            "_model_module_version": "1.2.0",
            "_view_count": null,
            "flex_flow": null,
            "width": null,
            "min_width": null,
            "border": null,
            "align_items": null,
            "bottom": null,
            "_model_module": "@jupyter-widgets/base",
            "top": null,
            "grid_column": null,
            "overflow_y": null,
            "overflow_x": null,
            "grid_auto_flow": null,
            "grid_area": null,
            "grid_template_columns": null,
            "flex": null,
            "_model_name": "LayoutModel",
            "justify_items": null,
            "grid_row": null,
            "max_height": null,
            "align_content": null,
            "visibility": null,
            "align_self": null,
            "height": null,
            "min_height": null,
            "padding": null,
            "grid_auto_rows": null,
            "grid_gap": null,
            "max_width": null,
            "order": null,
            "_view_module_version": "1.2.0",
            "grid_template_areas": null,
            "object_position": null,
            "object_fit": null,
            "grid_auto_columns": null,
            "margin": null,
            "display": null,
            "left": null
          }
        }
      }
    }
  },
  "cells": [
    {
      "cell_type": "markdown",
      "metadata": {
        "id": "DgfHNcOPbOk3"
      },
      "source": [
        "#Classification using XLNet on IMDB dataset\n",
        "\n",
        "In this mini-project, we use a pre-trained neural network as XLNet to predict the sentiment of movie reviews extracted from a large dataset before and after performing data augmentation.\n",
        "\n",
        "Due to the deluge of unstructured data produced nowadays like in text messages, social media, forums, blogs, news publishing platforms, web searches, and many other channels, it is imperative to develop efficient NLP algorithms to handle such a large volume of text data.\n",
        "\n",
        "Over the last decade, NLP technology has seen an incredible leap, with much progress made by Deep Learning. Started by Word2Vec the breakthroughs within the domain are numerous and made possible the creation (or revamp) of applications like machine translation, speech recognition, chatbots, and so on.\n",
        "\n",
        "For this task, we will use various Python libraries to perform data wrangling, exploratory analysis, model building, training, and evaluation."
      ]
    },
    {
      "cell_type": "markdown",
      "metadata": {
        "id": "VNfPfsebBWVZ"
      },
      "source": [
        "## 1.Data gathering\n",
        "\n",
        "We start by gathering the movie reviews from raw text files made available from Stanford AI Lab at this [link](https://ai.stanford.edu/~amaas/data/sentiment/).\n",
        "\n",
        "The text files names follow a convention: [id]_[rating].txt where [id] is a unique id and [rating] is the star rating for that review on a 1-10 scale.\n",
        "\n",
        "In the labeled _Train_/_Test_ subsets, a **negative** review has a score <= 4 out of 10,\n",
        "and a **positive** review has a score >= 7 out of 10. Thus reviews with\n",
        "more neutral ratings are not included.\n",
        "\n",
        "Here, we will extract the review information from each file name and assign a label accordingly."
      ]
    },
    {
      "cell_type": "code",
      "metadata": {
        "colab": {
          "base_uri": "https://localhost:8080/"
        },
        "id": "mm6K5U0K_pHn",
        "outputId": "128f22d5-0480-4d30-ed00-a490cc54a0a5"
      },
      "source": [
        "# Mount a virtual drive from GDrive\n",
        "from google.colab import drive\n",
        "drive.mount('/content/drive')"
      ],
      "execution_count": null,
      "outputs": [
        {
          "output_type": "stream",
          "text": [
            "Mounted at /content/drive\n"
          ],
          "name": "stdout"
        }
      ]
    },
    {
      "cell_type": "code",
      "metadata": {
        "colab": {
          "base_uri": "https://localhost:8080/",
          "height": 206
        },
        "id": "x0J8G0VSHyTt",
        "outputId": "fcf66102-5bfc-4d32-d95f-5a1cbf079c01"
      },
      "source": [
        "import pandas as pd\n",
        "import os\n",
        "\n",
        "# Create a list object to import positive reviews from train directory\n",
        "file_names_pos = os.listdir('/content/drive/My Drive/data/aclImdb_v1.tar.gz/aclImdb/train/pos/')\n",
        "\n",
        "# Create dataframe to store scores, labels, and texts\n",
        "train_pos = pd.DataFrame(columns=['text', 'score','label'])\n",
        "\n",
        "for i in range(0,len(file_names_pos)):\n",
        "  ending = file_names_pos[i].split('_')[-1]\n",
        "  res = [int(i) for i in ending.split('.') if i.isdigit()]\n",
        "  train_pos.loc[i,'score'] = res[0]\n",
        "  train_pos.loc[i,'label'] = 'positive'\n",
        "  with open('/content/drive/My Drive/data/aclImdb_v1.tar.gz/aclImdb/train/pos/' + file_names_pos[i], \"r\") as pos_file:\n",
        "    train_pos.loc[i,'text'] = pos_file.read()\n",
        "        \n",
        "# Create a list object to import negative reviews from train directory\n",
        "file_names_neg = os.listdir('/content/drive/My Drive/data/aclImdb_v1.tar.gz/aclImdb/train/neg/')\n",
        "\n",
        "# Create dataframe to store scores, labels, and texts\n",
        "train_neg = pd.DataFrame(columns=['text', 'score','label'])\n",
        "\n",
        "for i in range(0,len(file_names_neg)):\n",
        "  ending = file_names_neg[i].split('_')[-1]\n",
        "  res = [int(i) for i in ending.split('.') if i.isdigit()]\n",
        "  train_neg.loc[i,'score'] = res[0]\n",
        "  train_neg.loc[i,'label'] = 'negative'\n",
        "  with open('/content/drive/My Drive/data/aclImdb_v1.tar.gz/aclImdb/train/neg/' + file_names_neg[i], \"r\") as neg_file:\n",
        "    train_neg.loc[i,'text'] = neg_file.read()\n",
        "\n",
        "# Concatenate both positive and negative reviews dataframes\n",
        "df_train = pd.concat([train_pos,train_neg], ignore_index=True)\n",
        "df_train.head() # display the first 5 rows"
      ],
      "execution_count": null,
      "outputs": [
        {
          "output_type": "execute_result",
          "data": {
            "text/html": [
              "<div>\n",
              "<style scoped>\n",
              "    .dataframe tbody tr th:only-of-type {\n",
              "        vertical-align: middle;\n",
              "    }\n",
              "\n",
              "    .dataframe tbody tr th {\n",
              "        vertical-align: top;\n",
              "    }\n",
              "\n",
              "    .dataframe thead th {\n",
              "        text-align: right;\n",
              "    }\n",
              "</style>\n",
              "<table border=\"1\" class=\"dataframe\">\n",
              "  <thead>\n",
              "    <tr style=\"text-align: right;\">\n",
              "      <th></th>\n",
              "      <th>text</th>\n",
              "      <th>score</th>\n",
              "      <th>label</th>\n",
              "    </tr>\n",
              "  </thead>\n",
              "  <tbody>\n",
              "    <tr>\n",
              "      <th>0</th>\n",
              "      <td>Nicely and intelligently played by the two you...</td>\n",
              "      <td>10</td>\n",
              "      <td>positive</td>\n",
              "    </tr>\n",
              "    <tr>\n",
              "      <th>1</th>\n",
              "      <td>S.S. Van Dine must have been a shrewd business...</td>\n",
              "      <td>8</td>\n",
              "      <td>positive</td>\n",
              "    </tr>\n",
              "    <tr>\n",
              "      <th>2</th>\n",
              "      <td>EDMUND LOWE (who reminds me somewhat of Warren...</td>\n",
              "      <td>7</td>\n",
              "      <td>positive</td>\n",
              "    </tr>\n",
              "    <tr>\n",
              "      <th>3</th>\n",
              "      <td>When Philo Vance (Edmund Lowe) is standing pre...</td>\n",
              "      <td>9</td>\n",
              "      <td>positive</td>\n",
              "    </tr>\n",
              "    <tr>\n",
              "      <th>4</th>\n",
              "      <td>Etienne Girardot is just a character actor--th...</td>\n",
              "      <td>7</td>\n",
              "      <td>positive</td>\n",
              "    </tr>\n",
              "  </tbody>\n",
              "</table>\n",
              "</div>"
            ],
            "text/plain": [
              "                                                text score     label\n",
              "0  Nicely and intelligently played by the two you...    10  positive\n",
              "1  S.S. Van Dine must have been a shrewd business...     8  positive\n",
              "2  EDMUND LOWE (who reminds me somewhat of Warren...     7  positive\n",
              "3  When Philo Vance (Edmund Lowe) is standing pre...     9  positive\n",
              "4  Etienne Girardot is just a character actor--th...     7  positive"
            ]
          },
          "metadata": {
            "tags": []
          },
          "execution_count": 3
        }
      ]
    },
    {
      "cell_type": "code",
      "metadata": {
        "colab": {
          "base_uri": "https://localhost:8080/",
          "height": 206
        },
        "id": "JJMABb5UHyhE",
        "outputId": "a3c12187-adc8-45a5-d0f6-d0a24ced8648"
      },
      "source": [
        "# Create a list object to import positive reviews from test directory\n",
        "file_names_pos = os.listdir('/content/drive/My Drive/data/aclImdb_v1.tar.gz/aclImdb/test/pos/')\n",
        "\n",
        "# Create dataframe to store scores, labels, and texts\n",
        "test_pos = pd.DataFrame(columns=['text', 'score','label'])\n",
        "\n",
        "for i in range(0,len(file_names_pos)):\n",
        "  ending = file_names_pos[i].split('_')[-1]\n",
        "  res = [int(i) for i in ending.split('.') if i.isdigit()]\n",
        "  test_pos.loc[i,'score'] = res[0]\n",
        "  test_pos.loc[i,'label'] = 'positive'\n",
        "  with open('/content/drive/My Drive/data/aclImdb_v1.tar.gz/aclImdb/test/pos/' + file_names_pos[i], \"r\") as pos_file:\n",
        "    test_pos.loc[i,'text'] = pos_file.read()\n",
        "        \n",
        "# Create a list object to import negative reviews from test directory\n",
        "file_names_neg = os.listdir('/content/drive/My Drive/data/aclImdb_v1.tar.gz/aclImdb/test/neg/')\n",
        "\n",
        "# Create dataframe to store scores, labels, and texts\n",
        "test_neg = pd.DataFrame(columns=['text', 'score','label'])\n",
        "\n",
        "for i in range(0,len(file_names_neg)):\n",
        "  ending = file_names_neg[i].split('_')[-1]\n",
        "  res = [int(i) for i in ending.split('.') if i.isdigit()]\n",
        "  test_neg.loc[i,'score'] = res[0]\n",
        "  test_neg.loc[i,'label'] = 'negative'\n",
        "  with open('/content/drive/My Drive/data/aclImdb_v1.tar.gz/aclImdb/test/neg/' + file_names_neg[i], \"r\") as neg_file:\n",
        "    test_neg.loc[i,'text'] = neg_file.read()\n",
        "\n",
        "# Concatenate both positive and negative reviews dataframes\n",
        "df_test = pd.concat([test_pos,test_neg], ignore_index=True)\n",
        "df_test.head() # display the first 5 rows"
      ],
      "execution_count": null,
      "outputs": [
        {
          "output_type": "execute_result",
          "data": {
            "text/html": [
              "<div>\n",
              "<style scoped>\n",
              "    .dataframe tbody tr th:only-of-type {\n",
              "        vertical-align: middle;\n",
              "    }\n",
              "\n",
              "    .dataframe tbody tr th {\n",
              "        vertical-align: top;\n",
              "    }\n",
              "\n",
              "    .dataframe thead th {\n",
              "        text-align: right;\n",
              "    }\n",
              "</style>\n",
              "<table border=\"1\" class=\"dataframe\">\n",
              "  <thead>\n",
              "    <tr style=\"text-align: right;\">\n",
              "      <th></th>\n",
              "      <th>text</th>\n",
              "      <th>score</th>\n",
              "      <th>label</th>\n",
              "    </tr>\n",
              "  </thead>\n",
              "  <tbody>\n",
              "    <tr>\n",
              "      <th>0</th>\n",
              "      <td>Simon Wests pg-13 thriller about a babysitter ...</td>\n",
              "      <td>7</td>\n",
              "      <td>positive</td>\n",
              "    </tr>\n",
              "    <tr>\n",
              "      <th>1</th>\n",
              "      <td>I was recently at a sleepover birthday party w...</td>\n",
              "      <td>9</td>\n",
              "      <td>positive</td>\n",
              "    </tr>\n",
              "    <tr>\n",
              "      <th>2</th>\n",
              "      <td>A hundred miles away from the scene of a grizz...</td>\n",
              "      <td>7</td>\n",
              "      <td>positive</td>\n",
              "    </tr>\n",
              "    <tr>\n",
              "      <th>3</th>\n",
              "      <td>If you have ever babysat in a house you didn't...</td>\n",
              "      <td>7</td>\n",
              "      <td>positive</td>\n",
              "    </tr>\n",
              "    <tr>\n",
              "      <th>4</th>\n",
              "      <td>People say that this film is a 'typical teen h...</td>\n",
              "      <td>8</td>\n",
              "      <td>positive</td>\n",
              "    </tr>\n",
              "  </tbody>\n",
              "</table>\n",
              "</div>"
            ],
            "text/plain": [
              "                                                text score     label\n",
              "0  Simon Wests pg-13 thriller about a babysitter ...     7  positive\n",
              "1  I was recently at a sleepover birthday party w...     9  positive\n",
              "2  A hundred miles away from the scene of a grizz...     7  positive\n",
              "3  If you have ever babysat in a house you didn't...     7  positive\n",
              "4  People say that this film is a 'typical teen h...     8  positive"
            ]
          },
          "metadata": {
            "tags": []
          },
          "execution_count": 6
        }
      ]
    },
    {
      "cell_type": "markdown",
      "metadata": {
        "id": "SEYW57KYxZnV"
      },
      "source": [
        "## 2. Exploratory Analysis\n",
        "\n",
        "Before start is always a good practice to understand the data. So, let's do some exploratory data analysis;"
      ]
    },
    {
      "cell_type": "code",
      "metadata": {
        "colab": {
          "base_uri": "https://localhost:8080/",
          "height": 175
        },
        "id": "8C7Mg3S7wL5S",
        "outputId": "ff96b5bf-d83a-4909-b632-7630ff1b2392"
      },
      "source": [
        "# Get preliminaries from dataset\n",
        "df_train.describe()"
      ],
      "execution_count": null,
      "outputs": [
        {
          "output_type": "execute_result",
          "data": {
            "text/html": [
              "<div>\n",
              "<style scoped>\n",
              "    .dataframe tbody tr th:only-of-type {\n",
              "        vertical-align: middle;\n",
              "    }\n",
              "\n",
              "    .dataframe tbody tr th {\n",
              "        vertical-align: top;\n",
              "    }\n",
              "\n",
              "    .dataframe thead th {\n",
              "        text-align: right;\n",
              "    }\n",
              "</style>\n",
              "<table border=\"1\" class=\"dataframe\">\n",
              "  <thead>\n",
              "    <tr style=\"text-align: right;\">\n",
              "      <th></th>\n",
              "      <th>text</th>\n",
              "      <th>score</th>\n",
              "      <th>label</th>\n",
              "    </tr>\n",
              "  </thead>\n",
              "  <tbody>\n",
              "    <tr>\n",
              "      <th>count</th>\n",
              "      <td>25000</td>\n",
              "      <td>25000</td>\n",
              "      <td>25000</td>\n",
              "    </tr>\n",
              "    <tr>\n",
              "      <th>unique</th>\n",
              "      <td>24904</td>\n",
              "      <td>8</td>\n",
              "      <td>2</td>\n",
              "    </tr>\n",
              "    <tr>\n",
              "      <th>top</th>\n",
              "      <td>This show comes up with interesting locations ...</td>\n",
              "      <td>1</td>\n",
              "      <td>negative</td>\n",
              "    </tr>\n",
              "    <tr>\n",
              "      <th>freq</th>\n",
              "      <td>3</td>\n",
              "      <td>5100</td>\n",
              "      <td>12500</td>\n",
              "    </tr>\n",
              "  </tbody>\n",
              "</table>\n",
              "</div>"
            ],
            "text/plain": [
              "                                                     text  score     label\n",
              "count                                               25000  25000     25000\n",
              "unique                                              24904      8         2\n",
              "top     This show comes up with interesting locations ...      1  negative\n",
              "freq                                                    3   5100     12500"
            ]
          },
          "metadata": {
            "tags": []
          },
          "execution_count": 157
        }
      ]
    },
    {
      "cell_type": "markdown",
      "metadata": {
        "id": "Wq2XeL8Rx4ZN"
      },
      "source": [
        "As we see, the _Train_ subset has 25,000 rows. However, not all of them are unique, that means, there are some duplicates that we need to deal with."
      ]
    },
    {
      "cell_type": "code",
      "metadata": {
        "colab": {
          "base_uri": "https://localhost:8080/",
          "height": 424
        },
        "id": "c1rknqAZzNuz",
        "outputId": "035d19f7-32cf-4aa6-f281-44a5d71709d8"
      },
      "source": [
        "# Display duplicates\n",
        "duplicated = df_train[df_train.duplicated(keep=False)]\n",
        "duplicated.sort_values(\"text\")"
      ],
      "execution_count": null,
      "outputs": [
        {
          "output_type": "execute_result",
          "data": {
            "text/html": [
              "<div>\n",
              "<style scoped>\n",
              "    .dataframe tbody tr th:only-of-type {\n",
              "        vertical-align: middle;\n",
              "    }\n",
              "\n",
              "    .dataframe tbody tr th {\n",
              "        vertical-align: top;\n",
              "    }\n",
              "\n",
              "    .dataframe thead th {\n",
              "        text-align: right;\n",
              "    }\n",
              "</style>\n",
              "<table border=\"1\" class=\"dataframe\">\n",
              "  <thead>\n",
              "    <tr style=\"text-align: right;\">\n",
              "      <th></th>\n",
              "      <th>text</th>\n",
              "      <th>score</th>\n",
              "      <th>label</th>\n",
              "    </tr>\n",
              "  </thead>\n",
              "  <tbody>\n",
              "    <tr>\n",
              "      <th>21217</th>\n",
              "      <td>'Dead Letter Office' is a low-budget film abou...</td>\n",
              "      <td>4</td>\n",
              "      <td>negative</td>\n",
              "    </tr>\n",
              "    <tr>\n",
              "      <th>23936</th>\n",
              "      <td>'Dead Letter Office' is a low-budget film abou...</td>\n",
              "      <td>4</td>\n",
              "      <td>negative</td>\n",
              "    </tr>\n",
              "    <tr>\n",
              "      <th>6591</th>\n",
              "      <td>.......Playing Kaddiddlehopper, Col San Fernan...</td>\n",
              "      <td>8</td>\n",
              "      <td>positive</td>\n",
              "    </tr>\n",
              "    <tr>\n",
              "      <th>3741</th>\n",
              "      <td>.......Playing Kaddiddlehopper, Col San Fernan...</td>\n",
              "      <td>8</td>\n",
              "      <td>positive</td>\n",
              "    </tr>\n",
              "    <tr>\n",
              "      <th>18177</th>\n",
              "      <td>&lt;br /&gt;&lt;br /&gt;Back in his youth, the old man had...</td>\n",
              "      <td>2</td>\n",
              "      <td>negative</td>\n",
              "    </tr>\n",
              "    <tr>\n",
              "      <th>...</th>\n",
              "      <td>...</td>\n",
              "      <td>...</td>\n",
              "      <td>...</td>\n",
              "    </tr>\n",
              "    <tr>\n",
              "      <th>17877</th>\n",
              "      <td>in this movie, joe pesci slams dunks a basketb...</td>\n",
              "      <td>3</td>\n",
              "      <td>negative</td>\n",
              "    </tr>\n",
              "    <tr>\n",
              "      <th>3123</th>\n",
              "      <td>it's amazing that so many people that i know h...</td>\n",
              "      <td>9</td>\n",
              "      <td>positive</td>\n",
              "    </tr>\n",
              "    <tr>\n",
              "      <th>3126</th>\n",
              "      <td>it's amazing that so many people that i know h...</td>\n",
              "      <td>9</td>\n",
              "      <td>positive</td>\n",
              "    </tr>\n",
              "    <tr>\n",
              "      <th>20027</th>\n",
              "      <td>this movie begins with an ordinary funeral... ...</td>\n",
              "      <td>1</td>\n",
              "      <td>negative</td>\n",
              "    </tr>\n",
              "    <tr>\n",
              "      <th>17542</th>\n",
              "      <td>this movie begins with an ordinary funeral... ...</td>\n",
              "      <td>1</td>\n",
              "      <td>negative</td>\n",
              "    </tr>\n",
              "  </tbody>\n",
              "</table>\n",
              "<p>186 rows × 3 columns</p>\n",
              "</div>"
            ],
            "text/plain": [
              "                                                    text score     label\n",
              "21217  'Dead Letter Office' is a low-budget film abou...     4  negative\n",
              "23936  'Dead Letter Office' is a low-budget film abou...     4  negative\n",
              "6591   .......Playing Kaddiddlehopper, Col San Fernan...     8  positive\n",
              "3741   .......Playing Kaddiddlehopper, Col San Fernan...     8  positive\n",
              "18177  <br /><br />Back in his youth, the old man had...     2  negative\n",
              "...                                                  ...   ...       ...\n",
              "17877  in this movie, joe pesci slams dunks a basketb...     3  negative\n",
              "3123   it's amazing that so many people that i know h...     9  positive\n",
              "3126   it's amazing that so many people that i know h...     9  positive\n",
              "20027  this movie begins with an ordinary funeral... ...     1  negative\n",
              "17542  this movie begins with an ordinary funeral... ...     1  negative\n",
              "\n",
              "[186 rows x 3 columns]"
            ]
          },
          "metadata": {
            "tags": []
          },
          "execution_count": 158
        }
      ]
    },
    {
      "cell_type": "code",
      "metadata": {
        "colab": {
          "base_uri": "https://localhost:8080/"
        },
        "id": "NBzbN_7_yOCt",
        "outputId": "13d48788-bbf3-4653-b27e-bc0f1c99e2f1"
      },
      "source": [
        "# Drop the duplicates\n",
        "df_train = pd.DataFrame.drop_duplicates(df_train, ignore_index=True)\n",
        "df_train.shape"
      ],
      "execution_count": null,
      "outputs": [
        {
          "output_type": "execute_result",
          "data": {
            "text/plain": [
              "(24905, 3)"
            ]
          },
          "metadata": {
            "tags": []
          },
          "execution_count": 3
        }
      ]
    },
    {
      "cell_type": "markdown",
      "metadata": {
        "id": "2n8Lajgc_3Gf"
      },
      "source": [
        "From 25,000 rows 24,905 were left. Let's check again for uniquiness."
      ]
    },
    {
      "cell_type": "code",
      "metadata": {
        "colab": {
          "base_uri": "https://localhost:8080/",
          "height": 175
        },
        "id": "KnOSWaiO3Nje",
        "outputId": "9b49caf5-6a35-4bea-d2e2-11b23dc36cc6"
      },
      "source": [
        "# Check the result\n",
        "df_train.describe()"
      ],
      "execution_count": null,
      "outputs": [
        {
          "output_type": "execute_result",
          "data": {
            "text/html": [
              "<div>\n",
              "<style scoped>\n",
              "    .dataframe tbody tr th:only-of-type {\n",
              "        vertical-align: middle;\n",
              "    }\n",
              "\n",
              "    .dataframe tbody tr th {\n",
              "        vertical-align: top;\n",
              "    }\n",
              "\n",
              "    .dataframe thead th {\n",
              "        text-align: right;\n",
              "    }\n",
              "</style>\n",
              "<table border=\"1\" class=\"dataframe\">\n",
              "  <thead>\n",
              "    <tr style=\"text-align: right;\">\n",
              "      <th></th>\n",
              "      <th>text</th>\n",
              "      <th>score</th>\n",
              "      <th>label</th>\n",
              "    </tr>\n",
              "  </thead>\n",
              "  <tbody>\n",
              "    <tr>\n",
              "      <th>count</th>\n",
              "      <td>24905</td>\n",
              "      <td>24905</td>\n",
              "      <td>24905</td>\n",
              "    </tr>\n",
              "    <tr>\n",
              "      <th>unique</th>\n",
              "      <td>24904</td>\n",
              "      <td>8</td>\n",
              "      <td>2</td>\n",
              "    </tr>\n",
              "    <tr>\n",
              "      <th>top</th>\n",
              "      <td>Sondra Locke stinks in this film, but then she...</td>\n",
              "      <td>1</td>\n",
              "      <td>positive</td>\n",
              "    </tr>\n",
              "    <tr>\n",
              "      <th>freq</th>\n",
              "      <td>2</td>\n",
              "      <td>5068</td>\n",
              "      <td>12472</td>\n",
              "    </tr>\n",
              "  </tbody>\n",
              "</table>\n",
              "</div>"
            ],
            "text/plain": [
              "                                                     text  score     label\n",
              "count                                               24905  24905     24905\n",
              "unique                                              24904      8         2\n",
              "top     Sondra Locke stinks in this film, but then she...      1  positive\n",
              "freq                                                    2   5068     12472"
            ]
          },
          "metadata": {
            "tags": []
          },
          "execution_count": 160
        }
      ]
    },
    {
      "cell_type": "markdown",
      "metadata": {
        "id": "FeTDyLv0AGkz"
      },
      "source": [
        "Still a problem. There is an issue with the row with text about _Sondra Locke's_ film. Let's investigate."
      ]
    },
    {
      "cell_type": "code",
      "metadata": {
        "colab": {
          "base_uri": "https://localhost:8080/",
          "height": 112
        },
        "id": "AqkojEOg4CnS",
        "outputId": "38ed4f1f-dba1-4a58-93ae-0fd919596a8d"
      },
      "source": [
        "# Display rows with the same text about Sondra Locke\n",
        "df_train[df_train['text'].str.contains(\"Sondra Locke stinks in this film, but then she\")]"
      ],
      "execution_count": null,
      "outputs": [
        {
          "output_type": "execute_result",
          "data": {
            "text/html": [
              "<div>\n",
              "<style scoped>\n",
              "    .dataframe tbody tr th:only-of-type {\n",
              "        vertical-align: middle;\n",
              "    }\n",
              "\n",
              "    .dataframe tbody tr th {\n",
              "        vertical-align: top;\n",
              "    }\n",
              "\n",
              "    .dataframe thead th {\n",
              "        text-align: right;\n",
              "    }\n",
              "</style>\n",
              "<table border=\"1\" class=\"dataframe\">\n",
              "  <thead>\n",
              "    <tr style=\"text-align: right;\">\n",
              "      <th></th>\n",
              "      <th>text</th>\n",
              "      <th>score</th>\n",
              "      <th>label</th>\n",
              "    </tr>\n",
              "  </thead>\n",
              "  <tbody>\n",
              "    <tr>\n",
              "      <th>13436</th>\n",
              "      <td>Sondra Locke stinks in this film, but then she...</td>\n",
              "      <td>3</td>\n",
              "      <td>negative</td>\n",
              "    </tr>\n",
              "    <tr>\n",
              "      <th>13438</th>\n",
              "      <td>Sondra Locke stinks in this film, but then she...</td>\n",
              "      <td>4</td>\n",
              "      <td>negative</td>\n",
              "    </tr>\n",
              "  </tbody>\n",
              "</table>\n",
              "</div>"
            ],
            "text/plain": [
              "                                                    text score     label\n",
              "13436  Sondra Locke stinks in this film, but then she...     3  negative\n",
              "13438  Sondra Locke stinks in this film, but then she...     4  negative"
            ]
          },
          "metadata": {
            "tags": []
          },
          "execution_count": 161
        }
      ]
    },
    {
      "cell_type": "markdown",
      "metadata": {
        "id": "6nxjHdUicUcu"
      },
      "source": [
        "The previous cleaning method didn't catch this issue because it did not considered those rows as duplicates since the scores are different. Let's handle that."
      ]
    },
    {
      "cell_type": "code",
      "metadata": {
        "id": "Ns6kwp705Co3"
      },
      "source": [
        "# Drop the duplicate\n",
        "df_train = df_train.drop(df_train.index[13438])"
      ],
      "execution_count": null,
      "outputs": []
    },
    {
      "cell_type": "code",
      "metadata": {
        "colab": {
          "base_uri": "https://localhost:8080/",
          "height": 173
        },
        "id": "Ny8195Tf3Nvp",
        "outputId": "c99db45d-1152-45d6-84bb-7eb61c4a74fb"
      },
      "source": [
        "# Check the result\n",
        "df_train.describe()"
      ],
      "execution_count": null,
      "outputs": [
        {
          "output_type": "execute_result",
          "data": {
            "text/html": [
              "<div>\n",
              "<style scoped>\n",
              "    .dataframe tbody tr th:only-of-type {\n",
              "        vertical-align: middle;\n",
              "    }\n",
              "\n",
              "    .dataframe tbody tr th {\n",
              "        vertical-align: top;\n",
              "    }\n",
              "\n",
              "    .dataframe thead th {\n",
              "        text-align: right;\n",
              "    }\n",
              "</style>\n",
              "<table border=\"1\" class=\"dataframe\">\n",
              "  <thead>\n",
              "    <tr style=\"text-align: right;\">\n",
              "      <th></th>\n",
              "      <th>text</th>\n",
              "      <th>score</th>\n",
              "      <th>label</th>\n",
              "    </tr>\n",
              "  </thead>\n",
              "  <tbody>\n",
              "    <tr>\n",
              "      <th>count</th>\n",
              "      <td>24904</td>\n",
              "      <td>24904</td>\n",
              "      <td>24904</td>\n",
              "    </tr>\n",
              "    <tr>\n",
              "      <th>unique</th>\n",
              "      <td>24904</td>\n",
              "      <td>8</td>\n",
              "      <td>2</td>\n",
              "    </tr>\n",
              "    <tr>\n",
              "      <th>top</th>\n",
              "      <td>I'm certainly glad that a film was made about ...</td>\n",
              "      <td>1</td>\n",
              "      <td>positive</td>\n",
              "    </tr>\n",
              "    <tr>\n",
              "      <th>freq</th>\n",
              "      <td>1</td>\n",
              "      <td>5068</td>\n",
              "      <td>12472</td>\n",
              "    </tr>\n",
              "  </tbody>\n",
              "</table>\n",
              "</div>"
            ],
            "text/plain": [
              "                                                     text  score     label\n",
              "count                                               24904  24904     24904\n",
              "unique                                              24904      8         2\n",
              "top     I'm certainly glad that a film was made about ...      1  positive\n",
              "freq                                                    1   5068     12472"
            ]
          },
          "metadata": {
            "tags": []
          },
          "execution_count": 5
        }
      ]
    },
    {
      "cell_type": "markdown",
      "metadata": {
        "id": "6Ogfgi1cA5s1"
      },
      "source": [
        "We are good to go. Now, let's check for the distribution of _scores_ and _labels_. But first we need to check on each column data type."
      ]
    },
    {
      "cell_type": "code",
      "metadata": {
        "colab": {
          "base_uri": "https://localhost:8080/"
        },
        "id": "zuEV-NbnBqoU",
        "outputId": "0394f925-8f76-4cd9-9d8a-3a2516af33ae"
      },
      "source": [
        "# Check columns data type\n",
        "df_train.dtypes"
      ],
      "execution_count": null,
      "outputs": [
        {
          "output_type": "execute_result",
          "data": {
            "text/plain": [
              "text     object\n",
              "score    object\n",
              "label    object\n",
              "dtype: object"
            ]
          },
          "metadata": {
            "tags": []
          },
          "execution_count": 164
        }
      ]
    },
    {
      "cell_type": "markdown",
      "metadata": {
        "id": "uNDXcSIxF-1-"
      },
      "source": [
        "Before plotting we need to convert each column values accordingly."
      ]
    },
    {
      "cell_type": "code",
      "metadata": {
        "id": "Lci7sFcvB_Bb"
      },
      "source": [
        "df_train['score'] = df_train['score'].astype(int) # convert into integers\n",
        "df_train['label'] = pd.Categorical(df_train.label) # convert into categorical"
      ],
      "execution_count": null,
      "outputs": []
    },
    {
      "cell_type": "code",
      "metadata": {
        "colab": {
          "base_uri": "https://localhost:8080/",
          "height": 285
        },
        "id": "CWh1rn92BH10",
        "outputId": "31879a42-cc06-417c-fc92-d2a0eef1205c"
      },
      "source": [
        "import seaborn as sns\n",
        "\n",
        "sns.set(color_codes=True)\n",
        "sns.set(style=\"white\", palette=\"muted\")\n",
        "\n",
        "# Plot histogram of the scores\n",
        "score =sns.histplot(data=df_train, x=\"score\", bins=8)"
      ],
      "execution_count": null,
      "outputs": [
        {
          "output_type": "display_data",
          "data": {
            "image/png": "[encoded data removed]",
            "text/plain": [
              "<Figure size 432x288 with 1 Axes>"
            ]
          },
          "metadata": {
            "tags": []
          }
        }
      ]
    },
    {
      "cell_type": "markdown",
      "metadata": {
        "id": "01IGzHVoGSEl"
      },
      "source": [
        "The graph above is pratically symmetric with no values between 5 and 6 (as previously noted) which indicates that the distribuition of negatives and positive labels may be uniform. Let's check."
      ]
    },
    {
      "cell_type": "code",
      "metadata": {
        "colab": {
          "base_uri": "https://localhost:8080/",
          "height": 382
        },
        "id": "wl-rklsBDbAD",
        "outputId": "2b5f0973-312b-405c-d415-3e218b8be78c"
      },
      "source": [
        "# Print labels bar plor\n",
        "label = sns.catplot(x=\"label\", kind=\"count\", data=df_train)"
      ],
      "execution_count": null,
      "outputs": [
        {
          "output_type": "display_data",
          "data": {
            "image/png": "[encoded data removed]",
            "text/plain": [
              "<Figure size 360x360 with 1 Axes>"
            ]
          },
          "metadata": {
            "tags": []
          }
        }
      ]
    },
    {
      "cell_type": "markdown",
      "metadata": {
        "id": "oWuUZWP-RzS4"
      },
      "source": [
        "As we can verify from the graph above, the labels are not significantly imbalanced and we do not have to worry about doing under(over)sampling or creating synthetic data."
      ]
    },
    {
      "cell_type": "markdown",
      "metadata": {
        "id": "ABHoN2TIS9Sj"
      },
      "source": [
        "Let's do a similar check on _Test_ subset."
      ]
    },
    {
      "cell_type": "code",
      "metadata": {
        "colab": {
          "base_uri": "https://localhost:8080/",
          "height": 175
        },
        "id": "2Ymurgh4LcPk",
        "outputId": "9bf7ac23-c1ba-475f-eee9-a0a118778d00"
      },
      "source": [
        "# Get preliminaries from datases\n",
        "df_test.describe()"
      ],
      "execution_count": null,
      "outputs": [
        {
          "output_type": "execute_result",
          "data": {
            "text/html": [
              "<div>\n",
              "<style scoped>\n",
              "    .dataframe tbody tr th:only-of-type {\n",
              "        vertical-align: middle;\n",
              "    }\n",
              "\n",
              "    .dataframe tbody tr th {\n",
              "        vertical-align: top;\n",
              "    }\n",
              "\n",
              "    .dataframe thead th {\n",
              "        text-align: right;\n",
              "    }\n",
              "</style>\n",
              "<table border=\"1\" class=\"dataframe\">\n",
              "  <thead>\n",
              "    <tr style=\"text-align: right;\">\n",
              "      <th></th>\n",
              "      <th>text</th>\n",
              "      <th>score</th>\n",
              "      <th>label</th>\n",
              "    </tr>\n",
              "  </thead>\n",
              "  <tbody>\n",
              "    <tr>\n",
              "      <th>count</th>\n",
              "      <td>25000</td>\n",
              "      <td>25000</td>\n",
              "      <td>25000</td>\n",
              "    </tr>\n",
              "    <tr>\n",
              "      <th>unique</th>\n",
              "      <td>24801</td>\n",
              "      <td>8</td>\n",
              "      <td>2</td>\n",
              "    </tr>\n",
              "    <tr>\n",
              "      <th>top</th>\n",
              "      <td>Loved today's show!!! It was a variety and not...</td>\n",
              "      <td>1</td>\n",
              "      <td>positive</td>\n",
              "    </tr>\n",
              "    <tr>\n",
              "      <th>freq</th>\n",
              "      <td>5</td>\n",
              "      <td>5022</td>\n",
              "      <td>12500</td>\n",
              "    </tr>\n",
              "  </tbody>\n",
              "</table>\n",
              "</div>"
            ],
            "text/plain": [
              "                                                     text  score     label\n",
              "count                                               25000  25000     25000\n",
              "unique                                              24801      8         2\n",
              "top     Loved today's show!!! It was a variety and not...      1  positive\n",
              "freq                                                    5   5022     12500"
            ]
          },
          "metadata": {
            "tags": []
          },
          "execution_count": 4
        }
      ]
    },
    {
      "cell_type": "markdown",
      "metadata": {
        "id": "23jywIZfTKC0"
      },
      "source": [
        "There are also issues with duplicated rows. Now that we are aware, we will not  remove duplicates considering all columns values but only _text_ duplicates."
      ]
    },
    {
      "cell_type": "code",
      "metadata": {
        "id": "LJVzX6cAPLoP"
      },
      "source": [
        "# Remove row duplicates based on text\n",
        "df_test = df_test.drop_duplicates(subset=['text'])"
      ],
      "execution_count": null,
      "outputs": []
    },
    {
      "cell_type": "code",
      "metadata": {
        "colab": {
          "base_uri": "https://localhost:8080/",
          "height": 173
        },
        "id": "ppM_uu8Yn-xK",
        "outputId": "7a04134a-43ea-41f2-d6bb-52412132a452"
      },
      "source": [
        "# Check the result\n",
        "df_test.describe()"
      ],
      "execution_count": null,
      "outputs": [
        {
          "output_type": "execute_result",
          "data": {
            "text/html": [
              "<div>\n",
              "<style scoped>\n",
              "    .dataframe tbody tr th:only-of-type {\n",
              "        vertical-align: middle;\n",
              "    }\n",
              "\n",
              "    .dataframe tbody tr th {\n",
              "        vertical-align: top;\n",
              "    }\n",
              "\n",
              "    .dataframe thead th {\n",
              "        text-align: right;\n",
              "    }\n",
              "</style>\n",
              "<table border=\"1\" class=\"dataframe\">\n",
              "  <thead>\n",
              "    <tr style=\"text-align: right;\">\n",
              "      <th></th>\n",
              "      <th>text</th>\n",
              "      <th>score</th>\n",
              "      <th>label</th>\n",
              "    </tr>\n",
              "  </thead>\n",
              "  <tbody>\n",
              "    <tr>\n",
              "      <th>count</th>\n",
              "      <td>24801</td>\n",
              "      <td>24801</td>\n",
              "      <td>24801</td>\n",
              "    </tr>\n",
              "    <tr>\n",
              "      <th>unique</th>\n",
              "      <td>24801</td>\n",
              "      <td>8</td>\n",
              "      <td>2</td>\n",
              "    </tr>\n",
              "    <tr>\n",
              "      <th>top</th>\n",
              "      <td>The first thing I noticed about this movie was...</td>\n",
              "      <td>10</td>\n",
              "      <td>positive</td>\n",
              "    </tr>\n",
              "    <tr>\n",
              "      <th>freq</th>\n",
              "      <td>1</td>\n",
              "      <td>4965</td>\n",
              "      <td>12440</td>\n",
              "    </tr>\n",
              "  </tbody>\n",
              "</table>\n",
              "</div>"
            ],
            "text/plain": [
              "                                                     text  score     label\n",
              "count                                               24801  24801     24801\n",
              "unique                                              24801      8         2\n",
              "top     The first thing I noticed about this movie was...     10  positive\n",
              "freq                                                    1   4965     12440"
            ]
          },
          "metadata": {
            "tags": []
          },
          "execution_count": 9
        }
      ]
    },
    {
      "cell_type": "code",
      "metadata": {
        "id": "oE_cq59YVVhE"
      },
      "source": [
        "df_test['score'] = df_test['score'].astype(int) # convert into integers\n",
        "df_test['label'] = pd.Categorical(df_test.label) # convert into categorical"
      ],
      "execution_count": null,
      "outputs": []
    },
    {
      "cell_type": "code",
      "metadata": {
        "colab": {
          "base_uri": "https://localhost:8080/"
        },
        "id": "yFHu_PF8SjpR",
        "outputId": "76adcb35-4ba9-45c9-dae4-835e6a5a73a5"
      },
      "source": [
        "# Count labels for each category\n",
        "df_test['label'].value_counts()"
      ],
      "execution_count": null,
      "outputs": [
        {
          "output_type": "execute_result",
          "data": {
            "text/plain": [
              "positive    12440\n",
              "negative    12361\n",
              "Name: label, dtype: int64"
            ]
          },
          "metadata": {
            "tags": []
          },
          "execution_count": 13
        }
      ]
    },
    {
      "cell_type": "markdown",
      "metadata": {
        "id": "R-0LcIGbqCyL"
      },
      "source": [
        "## 2. Data Pre-processing\n",
        "\n",
        "In every NLP task it is necessary to perform some pre-processing on data, like removing some characters from text that do not bring much information  like urls, tags, accents, emoticons, and stop words. Sometimes it is desirable to go for words' decapitalization and use word stems."
      ]
    },
    {
      "cell_type": "code",
      "metadata": {
        "id": "NTBeXR473G0h"
      },
      "source": [
        "import re\n",
        "\n",
        "# Define a function to remove unecessary characters from the text\n",
        "def clean_text(text):\n",
        "    # text = text.lower() #lower case\n",
        "    text = re.sub(r\"<[^>]*>\", ' ', text)\n",
        "    text = re.sub(r\"@[A-Za-z0-9]+\", ' ', text)\n",
        "    text = re.sub(r\"https?://[A-Za-z0-9./]+\", ' ', text)\n",
        "    text = re.sub(r\"[^a-zA-z.!?'0-9]\", ' ', text)\n",
        "    text = re.sub('\\t', ' ',  text)\n",
        "    text = re.sub(r\" +\", ' ', text)\n",
        "    return text"
      ],
      "execution_count": null,
      "outputs": []
    },
    {
      "cell_type": "code",
      "metadata": {
        "colab": {
          "base_uri": "https://localhost:8080/",
          "height": 204
        },
        "id": "VH7AN2mN3Ino",
        "outputId": "99dd9fa4-821d-4184-db4b-b2d3f1dece8b"
      },
      "source": [
        "# Apply the clean_text function of both data sets\n",
        "df_train['text'] = df_train['text'].apply(clean_text)\n",
        "df_test['text'] = df_test['text'].apply(clean_text)\n",
        "df_train.head() # display the first 5 rows of Train subset"
      ],
      "execution_count": null,
      "outputs": [
        {
          "output_type": "execute_result",
          "data": {
            "text/html": [
              "<div>\n",
              "<style scoped>\n",
              "    .dataframe tbody tr th:only-of-type {\n",
              "        vertical-align: middle;\n",
              "    }\n",
              "\n",
              "    .dataframe tbody tr th {\n",
              "        vertical-align: top;\n",
              "    }\n",
              "\n",
              "    .dataframe thead th {\n",
              "        text-align: right;\n",
              "    }\n",
              "</style>\n",
              "<table border=\"1\" class=\"dataframe\">\n",
              "  <thead>\n",
              "    <tr style=\"text-align: right;\">\n",
              "      <th></th>\n",
              "      <th>text</th>\n",
              "      <th>score</th>\n",
              "      <th>label</th>\n",
              "    </tr>\n",
              "  </thead>\n",
              "  <tbody>\n",
              "    <tr>\n",
              "      <th>0</th>\n",
              "      <td>Nicely and intelligently played by the two you...</td>\n",
              "      <td>10</td>\n",
              "      <td>positive</td>\n",
              "    </tr>\n",
              "    <tr>\n",
              "      <th>1</th>\n",
              "      <td>S.S. Van Dine must have been a shrewd business...</td>\n",
              "      <td>8</td>\n",
              "      <td>positive</td>\n",
              "    </tr>\n",
              "    <tr>\n",
              "      <th>2</th>\n",
              "      <td>EDMUND LOWE who reminds me somewhat of Warren ...</td>\n",
              "      <td>7</td>\n",
              "      <td>positive</td>\n",
              "    </tr>\n",
              "    <tr>\n",
              "      <th>3</th>\n",
              "      <td>When Philo Vance Edmund Lowe is standing preca...</td>\n",
              "      <td>9</td>\n",
              "      <td>positive</td>\n",
              "    </tr>\n",
              "    <tr>\n",
              "      <th>4</th>\n",
              "      <td>Etienne Girardot is just a character actor the...</td>\n",
              "      <td>7</td>\n",
              "      <td>positive</td>\n",
              "    </tr>\n",
              "  </tbody>\n",
              "</table>\n",
              "</div>"
            ],
            "text/plain": [
              "                                                text  score     label\n",
              "0  Nicely and intelligently played by the two you...     10  positive\n",
              "1  S.S. Van Dine must have been a shrewd business...      8  positive\n",
              "2  EDMUND LOWE who reminds me somewhat of Warren ...      7  positive\n",
              "3  When Philo Vance Edmund Lowe is standing preca...      9  positive\n",
              "4  Etienne Girardot is just a character actor the...      7  positive"
            ]
          },
          "metadata": {
            "tags": []
          },
          "execution_count": 12
        }
      ]
    },
    {
      "cell_type": "markdown",
      "metadata": {
        "id": "ap5UwFshtHWV"
      },
      "source": [
        "Now we will replace the categorical values of the labels by numbers, that means, positive = 1, and negative = 0."
      ]
    },
    {
      "cell_type": "code",
      "metadata": {
        "colab": {
          "base_uri": "https://localhost:8080/",
          "height": 204
        },
        "id": "q21TmgqmuXEL",
        "outputId": "e9a1fcae-e734-4926-d0e7-37adba6006c1"
      },
      "source": [
        "# Replace labels with numbers on both subsets\n",
        "df_train['label'] = df_train['label'].map({'positive':1, 'negative':0})\n",
        "df_test['label'] = df_test['label'].map({'positive':1, 'negative':0})\n",
        "df_test.head() # display the first 5 rows of Test subset"
      ],
      "execution_count": null,
      "outputs": [
        {
          "output_type": "execute_result",
          "data": {
            "text/html": [
              "<div>\n",
              "<style scoped>\n",
              "    .dataframe tbody tr th:only-of-type {\n",
              "        vertical-align: middle;\n",
              "    }\n",
              "\n",
              "    .dataframe tbody tr th {\n",
              "        vertical-align: top;\n",
              "    }\n",
              "\n",
              "    .dataframe thead th {\n",
              "        text-align: right;\n",
              "    }\n",
              "</style>\n",
              "<table border=\"1\" class=\"dataframe\">\n",
              "  <thead>\n",
              "    <tr style=\"text-align: right;\">\n",
              "      <th></th>\n",
              "      <th>text</th>\n",
              "      <th>score</th>\n",
              "      <th>label</th>\n",
              "    </tr>\n",
              "  </thead>\n",
              "  <tbody>\n",
              "    <tr>\n",
              "      <th>0</th>\n",
              "      <td>Simon Wests pg 13 thriller about a babysitter ...</td>\n",
              "      <td>7</td>\n",
              "      <td>1</td>\n",
              "    </tr>\n",
              "    <tr>\n",
              "      <th>1</th>\n",
              "      <td>I was recently at a sleepover birthday party w...</td>\n",
              "      <td>9</td>\n",
              "      <td>1</td>\n",
              "    </tr>\n",
              "    <tr>\n",
              "      <th>2</th>\n",
              "      <td>A hundred miles away from the scene of a grizz...</td>\n",
              "      <td>7</td>\n",
              "      <td>1</td>\n",
              "    </tr>\n",
              "    <tr>\n",
              "      <th>3</th>\n",
              "      <td>If you have ever babysat in a house you didn't...</td>\n",
              "      <td>7</td>\n",
              "      <td>1</td>\n",
              "    </tr>\n",
              "    <tr>\n",
              "      <th>4</th>\n",
              "      <td>People say that this film is a 'typical teen h...</td>\n",
              "      <td>8</td>\n",
              "      <td>1</td>\n",
              "    </tr>\n",
              "  </tbody>\n",
              "</table>\n",
              "</div>"
            ],
            "text/plain": [
              "                                                text  score label\n",
              "0  Simon Wests pg 13 thriller about a babysitter ...      7     1\n",
              "1  I was recently at a sleepover birthday party w...      9     1\n",
              "2  A hundred miles away from the scene of a grizz...      7     1\n",
              "3  If you have ever babysat in a house you didn't...      7     1\n",
              "4  People say that this film is a 'typical teen h...      8     1"
            ]
          },
          "metadata": {
            "tags": []
          },
          "execution_count": 13
        }
      ]
    },
    {
      "cell_type": "markdown",
      "metadata": {
        "id": "o5LqO3p6u-1d"
      },
      "source": [
        "## 3. Modeling\n",
        "\n",
        "Now we are ready to build a model, train, and test it."
      ]
    },
    {
      "cell_type": "code",
      "metadata": {
        "colab": {
          "base_uri": "https://localhost:8080/"
        },
        "id": "BDBNS4iNXuUL",
        "outputId": "1e904b37-7706-4073-f606-20ee271d2b71"
      },
      "source": [
        "!pip3 install -q tensorflow_gpu #==2.1.0"
      ],
      "execution_count": null,
      "outputs": [
        {
          "output_type": "stream",
          "text": [
            "\u001b[K     |████████████████████████████████| 320.4MB 56kB/s \n",
            "\u001b[?25h"
          ],
          "name": "stdout"
        }
      ]
    },
    {
      "cell_type": "code",
      "metadata": {
        "colab": {
          "base_uri": "https://localhost:8080/"
        },
        "id": "MAA46kq4X0C_",
        "outputId": "90e93631-741a-4392-9fb5-feb969aa7d3c"
      },
      "source": [
        "import tensorflow as tf\n",
        "print(tf.__version__)"
      ],
      "execution_count": null,
      "outputs": [
        {
          "output_type": "stream",
          "text": [
            "2.3.1\n"
          ],
          "name": "stdout"
        }
      ]
    },
    {
      "cell_type": "code",
      "metadata": {
        "colab": {
          "base_uri": "https://localhost:8080/"
        },
        "id": "sAYBZG2SX4nP",
        "outputId": "c6299e81-c3bf-4a49-f884-ad6631948fbe"
      },
      "source": [
        "!pip3 install -q ktrain"
      ],
      "execution_count": null,
      "outputs": [
        {
          "output_type": "stream",
          "text": [
            "\u001b[K     |████████████████████████████████| 25.3MB 30.8MB/s \n",
            "\u001b[K     |████████████████████████████████| 983kB 48.6MB/s \n",
            "\u001b[K     |████████████████████████████████| 266kB 53.8MB/s \n",
            "\u001b[K     |████████████████████████████████| 1.3MB 47.5MB/s \n",
            "\u001b[K     |████████████████████████████████| 1.1MB 54.4MB/s \n",
            "\u001b[K     |████████████████████████████████| 471kB 46.4MB/s \n",
            "\u001b[K     |████████████████████████████████| 2.9MB 52.8MB/s \n",
            "\u001b[K     |████████████████████████████████| 890kB 51.5MB/s \n",
            "\u001b[?25h  Building wheel for ktrain (setup.py) ... \u001b[?25l\u001b[?25hdone\n",
            "  Building wheel for langdetect (setup.py) ... \u001b[?25l\u001b[?25hdone\n",
            "  Building wheel for syntok (setup.py) ... \u001b[?25l\u001b[?25hdone\n",
            "  Building wheel for seqeval (setup.py) ... \u001b[?25l\u001b[?25hdone\n",
            "  Building wheel for keras-bert (setup.py) ... \u001b[?25l\u001b[?25hdone\n",
            "  Building wheel for sacremoses (setup.py) ... \u001b[?25l\u001b[?25hdone\n",
            "  Building wheel for keras-transformer (setup.py) ... \u001b[?25l\u001b[?25hdone\n",
            "  Building wheel for keras-pos-embd (setup.py) ... \u001b[?25l\u001b[?25hdone\n",
            "  Building wheel for keras-multi-head (setup.py) ... \u001b[?25l\u001b[?25hdone\n",
            "  Building wheel for keras-layer-normalization (setup.py) ... \u001b[?25l\u001b[?25hdone\n",
            "  Building wheel for keras-position-wise-feed-forward (setup.py) ... \u001b[?25l\u001b[?25hdone\n",
            "  Building wheel for keras-embed-sim (setup.py) ... \u001b[?25l\u001b[?25hdone\n",
            "  Building wheel for keras-self-attention (setup.py) ... \u001b[?25l\u001b[?25hdone\n",
            "\u001b[31mERROR: transformers 3.5.1 has requirement sentencepiece==0.1.91, but you'll have sentencepiece 0.1.94 which is incompatible.\u001b[0m\n"
          ],
          "name": "stdout"
        }
      ]
    },
    {
      "cell_type": "markdown",
      "metadata": {
        "id": "5BFcFbww9GmO"
      },
      "source": [
        "It is imperative to shuffle rows since we concatenated positive observations on top of negative ones."
      ]
    },
    {
      "cell_type": "code",
      "metadata": {
        "id": "rfnB04WQ_xoU"
      },
      "source": [
        "from sklearn.utils import shuffle\n",
        "\n",
        "# Shuffle rows\n",
        "df_train = shuffle(df_train)\n",
        "df_test = shuffle(df_test)"
      ],
      "execution_count": null,
      "outputs": []
    },
    {
      "cell_type": "markdown",
      "metadata": {
        "id": "0dA_uLnU9ps2"
      },
      "source": [
        "Models based on Transformers like XLNet consume lots of computational resources. Even using a GPU it would take a significant amount of time to train and validade the model. That is why we decided to reduce the number of rows.\n",
        "\n"
      ]
    },
    {
      "cell_type": "code",
      "metadata": {
        "id": "DaYAah0g_4Nl"
      },
      "source": [
        "# Reduce number of rows\n",
        "df_train = df_train[:12000]\n",
        "df_test = df_test[:12000]"
      ],
      "execution_count": null,
      "outputs": []
    },
    {
      "cell_type": "code",
      "metadata": {
        "id": "jyaoR6gJ4ysb"
      },
      "source": [
        "# Get Train and Test features and labels\n",
        "X_train = df_train.text; X_test = df_test.text; y_train = df_train.label; y_test = df_test.label\n",
        "\n",
        "# Transform from series into lists/arrays\n",
        "X_train = X_train.tolist()\n",
        "X_test = X_test.tolist()\n",
        "y_test = y_test.to_numpy()\n",
        "y_train = y_train.to_numpy()"
      ],
      "execution_count": null,
      "outputs": []
    },
    {
      "cell_type": "code",
      "metadata": {
        "colab": {
          "base_uri": "https://localhost:8080/"
        },
        "id": "V2N7Lx8dj-uL",
        "outputId": "59ce0476-a690-46ed-d959-decb2909cb29"
      },
      "source": [
        "# Check size of Train and Test subsets\n",
        "len(X_train), len(X_test)"
      ],
      "execution_count": null,
      "outputs": [
        {
          "output_type": "execute_result",
          "data": {
            "text/plain": [
              "(12000, 12000)"
            ]
          },
          "metadata": {
            "tags": []
          },
          "execution_count": 19
        }
      ]
    },
    {
      "cell_type": "markdown",
      "metadata": {
        "id": "8g2QjD2w-0uG"
      },
      "source": [
        "Now we are ready to build the model."
      ]
    },
    {
      "cell_type": "code",
      "metadata": {
        "colab": {
          "base_uri": "https://localhost:8080/",
          "height": 419,
          "referenced_widgets": [
            "37af494f831e46d183709bc76c229d36",
            "82eb219ddbb242898d5cd6232ffc3f35",
            "aabc8a747fe843c49588c4f675169c6c",
            "ac54dac7e1a340688ebd36e03688d06e",
            "16275139dbe54ed3869373d15ba5423d",
            "5b13cd8fc69d40c190e9fac2882d11cb",
            "a2e4f16d7ecf4741b8a6081d5441bbe1",
            "ec1fccdc13994bb68fd5aa18e513afd9",
            "c6375431175f4d50a53a520b6a0d8cc2",
            "d7cf5a5fdb084e2a90ccb67ffcb377c6",
            "5d3bbd1096b1426eaeb726be6481025e",
            "43bd7fabba0443599fd489ce9963bf58",
            "fd661fa1b0104a7eb8fbc64f7af69a29",
            "f333e604f8f340ed8401f022c3cfab0d",
            "c50465dd0d204c9cb484b498b990d659",
            "dd8947fe624148b4852b342bccfd520c",
            "684096d42d854ad69c4028f1e7488583",
            "e6e5334456ec441b8d166635aaa0c2d2",
            "a1dab70309fc460ea7aaab2493e0435c",
            "17b627e212354f9b99cdf546a5e02143",
            "cd74859b78e4464d8e9faef73b51ba42",
            "619a267cf23343c5bdba31f9683b549a",
            "a26ba2514fa2495792dde7fb986b0070",
            "90591cb95de143e1816346e362a3263d"
          ]
        },
        "id": "5phkVc7ZYnue",
        "outputId": "2e84ab75-dd92-4f88-9e05-ccbf30564f48"
      },
      "source": [
        "import ktrain\n",
        "from ktrain import text\n",
        "\n",
        "# Create Transformer model\n",
        "MODEL_NAME = 'xlnet-base-cased'\n",
        "t = text.Transformer(MODEL_NAME, maxlen=500, classes=['positive','negative'])\n",
        "trn = t.preprocess_train(X_train, y_train)\n",
        "val = t.preprocess_test(X_test, y_test)\n",
        "model = t.get_classifier()\n",
        "learner = ktrain.get_learner(model, train_data=trn, val_data=val, batch_size=6)"
      ],
      "execution_count": null,
      "outputs": [
        {
          "output_type": "stream",
          "text": [
            "/usr/local/lib/python3.6/dist-packages/ktrain/text/preprocessor.py:414: UserWarning: The class_names argument is replacing the classes argument. Please update your code.\n",
            "  warnings.warn('The class_names argument is replacing the classes argument. Please update your code.')\n"
          ],
          "name": "stderr"
        },
        {
          "output_type": "display_data",
          "data": {
            "application/vnd.jupyter.widget-view+json": {
              "model_id": "37af494f831e46d183709bc76c229d36",
              "version_minor": 0,
              "version_major": 2
            },
            "text/plain": [
              "HBox(children=(FloatProgress(value=0.0, description='Downloading', max=760.0, style=ProgressStyle(description_…"
            ]
          },
          "metadata": {
            "tags": []
          }
        },
        {
          "output_type": "stream",
          "text": [
            "\n",
            "preprocessing train...\n",
            "language: en\n",
            "train sequence lengths:\n",
            "\tmean : 235\n",
            "\t95percentile : 598\n",
            "\t99percentile : 894\n"
          ],
          "name": "stdout"
        },
        {
          "output_type": "display_data",
          "data": {
            "application/vnd.jupyter.widget-view+json": {
              "model_id": "c6375431175f4d50a53a520b6a0d8cc2",
              "version_minor": 0,
              "version_major": 2
            },
            "text/plain": [
              "HBox(children=(FloatProgress(value=0.0, description='Downloading', max=798011.0, style=ProgressStyle(descripti…"
            ]
          },
          "metadata": {
            "tags": []
          }
        },
        {
          "output_type": "stream",
          "text": [
            "\n"
          ],
          "name": "stdout"
        },
        {
          "output_type": "display_data",
          "data": {
            "text/html": [
              ""
            ],
            "text/plain": [
              "<IPython.core.display.HTML object>"
            ]
          },
          "metadata": {
            "tags": []
          }
        },
        {
          "output_type": "stream",
          "text": [
            "Is Multi-Label? False\n",
            "preprocessing test...\n",
            "language: en\n",
            "test sequence lengths:\n",
            "\tmean : 229\n",
            "\t95percentile : 577\n",
            "\t99percentile : 889\n"
          ],
          "name": "stdout"
        },
        {
          "output_type": "display_data",
          "data": {
            "text/html": [
              ""
            ],
            "text/plain": [
              "<IPython.core.display.HTML object>"
            ]
          },
          "metadata": {
            "tags": []
          }
        },
        {
          "output_type": "display_data",
          "data": {
            "application/vnd.jupyter.widget-view+json": {
              "model_id": "684096d42d854ad69c4028f1e7488583",
              "version_minor": 0,
              "version_major": 2
            },
            "text/plain": [
              "HBox(children=(FloatProgress(value=0.0, description='Downloading', max=565485600.0, style=ProgressStyle(descri…"
            ]
          },
          "metadata": {
            "tags": []
          }
        },
        {
          "output_type": "stream",
          "text": [
            "\n"
          ],
          "name": "stdout"
        }
      ]
    },
    {
      "cell_type": "markdown",
      "metadata": {
        "id": "3zxH_HqYAkwR"
      },
      "source": [
        "### 3.1 Model training\n",
        "\n",
        "Before training the model it is interesting to estimate a proper learning rate. This will save time on training and help optimization algorithm to converge.\n"
      ]
    },
    {
      "cell_type": "code",
      "metadata": {
        "id": "AkEfVRnkSeBv",
        "colab": {
          "base_uri": "https://localhost:8080/",
          "height": 436
        },
        "outputId": "69aeadad-0a2a-4edb-818b-8fab1921c753"
      },
      "source": [
        "# Estimate the Learning Rate\n",
        "learner.lr_find(show_plot=True, max_epochs=2)"
      ],
      "execution_count": null,
      "outputs": [
        {
          "output_type": "stream",
          "text": [
            "simulating training for different learning rates... this may take a few moments...\n",
            "Epoch 1/2\n",
            "2000/2000 [==============================] - 3299s 2s/step - loss: 0.4957 - accuracy: 0.7337\n",
            "Epoch 2/2\n",
            "2000/2000 [==============================] - 3273s 2s/step - loss: 4.9734 - accuracy: 0.4987\n",
            "\n",
            "\n",
            "done.\n",
            "Visually inspect loss plot and select learning rate associated with falling loss\n"
          ],
          "name": "stdout"
        },
        {
          "output_type": "display_data",
          "data": {
            "image/png": "[encoded data removed]",
            "text/plain": [
              "<Figure size 432x288 with 1 Axes>"
            ]
          },
          "metadata": {
            "tags": [],
            "needs_background": "light"
          }
        }
      ]
    },
    {
      "cell_type": "code",
      "metadata": {
        "colab": {
          "base_uri": "https://localhost:8080/"
        },
        "id": "IX5G3v4CBGO4",
        "outputId": "775b952f-b964-450a-90d5-d943e216dd1a"
      },
      "source": [
        "# Train the model\n",
        "learner.fit_onecycle(5e-5, 4)"
      ],
      "execution_count": null,
      "outputs": [
        {
          "output_type": "stream",
          "text": [
            "\n",
            "\n",
            "begin training using onecycle policy with max lr of 5e-05...\n",
            "Epoch 1/4\n",
            "2000/2000 [==============================] - 4570s 2s/step - loss: 0.2562 - accuracy: 0.9003 - val_loss: 0.2175 - val_accuracy: 0.9147\n",
            "Epoch 2/4\n",
            "2000/2000 [==============================] - 4569s 2s/step - loss: 0.1995 - accuracy: 0.9282 - val_loss: 0.3221 - val_accuracy: 0.8698\n",
            "Epoch 3/4\n",
            "2000/2000 [==============================] - 4574s 2s/step - loss: 0.1403 - accuracy: 0.9487 - val_loss: 0.1927 - val_accuracy: 0.9376\n",
            "Epoch 4/4\n",
            "2000/2000 [==============================] - 4575s 2s/step - loss: 0.0448 - accuracy: 0.9867 - val_loss: 0.2118 - val_accuracy: 0.9383\n"
          ],
          "name": "stdout"
        },
        {
          "output_type": "execute_result",
          "data": {
            "text/plain": [
              "<tensorflow.python.keras.callbacks.History at 0x7ff4d92d5be0>"
            ]
          },
          "metadata": {
            "tags": []
          },
          "execution_count": 21
        }
      ]
    },
    {
      "cell_type": "markdown",
      "metadata": {
        "id": "O02XaSPECEF1"
      },
      "source": [
        "### 3.2 Evaluate and Inspect the Model\n",
        "\n",
        "We can now evaluate the model on _Test_ subset."
      ]
    },
    {
      "cell_type": "code",
      "metadata": {
        "colab": {
          "background_save": true,
          "base_uri": "https://localhost:8080/"
        },
        "id": "a5xQApSBFwUI",
        "outputId": "2a8520b1-38ac-4aff-8a34-6a703baef294"
      },
      "source": [
        "learner.validate(class_names=t.get_classes())\n"
      ],
      "execution_count": null,
      "outputs": [
        {
          "output_type": "stream",
          "text": [
            "              precision    recall  f1-score   support\n",
            "\n",
            "    positive       0.94      0.94      0.94      6046\n",
            "    negative       0.93      0.94      0.94      5954\n",
            "\n",
            "    accuracy                           0.94     12000\n",
            "   macro avg       0.94      0.94      0.94     12000\n",
            "weighted avg       0.94      0.94      0.94     12000\n",
            "\n"
          ],
          "name": "stdout"
        },
        {
          "output_type": "execute_result",
          "data": {
            "text/plain": [
              "array([[5654,  392],\n",
              "       [ 349, 5605]])"
            ]
          },
          "metadata": {
            "tags": []
          },
          "execution_count": 0
        }
      ]
    },
    {
      "cell_type": "markdown",
      "metadata": {
        "id": "xYK5YTCqCRxR"
      },
      "source": [
        "As we can see the accuracy was quite good, i.e., 94%. Of course, there is room for improvement since the best score using this dataset is 99.2% (check [here](https://www.kaggle.com/c/word2vec-nlp-tutorial/leaderboard)).\n",
        "\n",
        "Let's inspect the wrongest prediction."
      ]
    },
    {
      "cell_type": "code",
      "metadata": {
        "id": "-3BgzJJHF1Pj",
        "colab": {
          "base_uri": "https://localhost:8080/"
        },
        "outputId": "5ba26da6-9df8-40ef-a092-11d8facd9117"
      },
      "source": [
        "# Check on the prediction with the highest loss\n",
        "learner.view_top_losses(n=1, preproc=t)"
      ],
      "execution_count": null,
      "outputs": [
        {
          "output_type": "stream",
          "text": [
            "----------\n",
            "id:4979 | loss:7.24 | true:negative | pred:positive)\n",
            "\n"
          ],
          "name": "stdout"
        }
      ]
    },
    {
      "cell_type": "code",
      "metadata": {
        "id": "VaZ1FaddF1iI",
        "colab": {
          "base_uri": "https://localhost:8080/"
        },
        "outputId": "4cc076a6-aca8-4cd7-adeb-26c0a9ad286a"
      },
      "source": [
        "print(X_test[4979])"
      ],
      "execution_count": null,
      "outputs": [
        {
          "output_type": "stream",
          "text": [
            "Basically an endearingly chintzy and moronic 1.50 version of the nifty early 80's subterranean creature feature favorite The Boogens this entertainingly schlocky cheapie centers on a nasty squirmy wriggling monster who makes an instant meal out of any unfortunate souls foolhardy enough to go poking around the notoriously off limits Gold Spike Mine. Your standard issue motley assortment of intrepid boneheads hectoring hard nosed mine boss cute but insipid blonde babe feisty lady geologist boozy inexplicably Aussie accented ! seasoned old mine hand charmless doofus hunky jolly guy and arguably the most annoying character of the uniformly irritating bunch a nerdy bespectacled aspiring writer dweeb who's prone to speaking in flowery melodramatic utterances trek into the dark uninviting cave in search of gold. Naturally these intensely insufferable imbeciles discover that the allegedly abandoned mine is the home of a deadly ugly multi tentacled beast who in time honored hoary B flick fashion proceeds to gruesomely bag the group one at a time. Directed co written co produced and co edited with dumbfounding maladroitness by Melanie Anne Phillips acted with dismaying flatness by a rank no name cast further marred by lethargic pacing a drably meandering narrative murky under lit eye straining cinematography a shivery redundantly thudding pseudo John Carpenter synthesizer score and a cruddy herky jerky stop motion animation wormoid thingie that's only quickly glimpsed at the very end of the movie this extremely clunky amateurish and hence quite delectably dreadful would be scarefest commits all the necessary bad film missteps to qualify as a real four star stinkeroonie.\n"
          ],
          "name": "stdout"
        }
      ]
    },
    {
      "cell_type": "markdown",
      "metadata": {
        "id": "jaDc8YuXH5IT"
      },
      "source": [
        "\"_Basically an endearingly chintzy and moronic 1.50 version of the nifty early 80's subterranean creature feature favorite The Boogens this entertainingly schlocky cheapie centers on a nasty squirmy wriggling monster who makes an instant meal out of any unfortunate souls foolhardy enough to go poking around the notoriously off limits Gold Spike Mine. Your standard issue motley assortment of intrepid boneheads hectoring hard nosed mine boss cute but insipid blonde babe feisty lady geologist boozy inexplicably Aussie accented ! seasoned old mine hand charmless doofus hunky jolly guy and arguably the most annoying character of the uniformly irritating bunch a nerdy bespectacled aspiring writer dweeb who's prone to speaking in flowery melodramatic utterances trek into the dark uninviting cave in search of gold. Naturally these intensely insufferable imbeciles discover that the allegedly abandoned mine is the home of a deadly ugly multi tentacled beast who in time honored hoary B flick fashion proceeds to gruesomely bag the group one at a time. Directed co written co produced and co edited with dumbfounding maladroitness by Melanie Anne Phillips acted with dismaying flatness by a rank no name cast further marred by lethargic pacing a drably meandering narrative murky under lit eye straining cinematography a shivery redundantly thudding pseudo John Carpenter synthesizer score and a cruddy herky jerky stop motion animation wormoid thingie that's only quickly glimpsed at the very end of the movie this extremely clunky amateurish and hence quite delectably dreadful would be scarefest commits all the necessary bad film missteps to qualify as a real four star stinkeroonie._\"\n",
        "\n",
        "It is a long wordy text. Most of it describing the movie plot and only a few leads in the end that capture a negative sentiment. \n"
      ]
    },
    {
      "cell_type": "markdown",
      "metadata": {
        "id": "Vv9SvgPNIUCg"
      },
      "source": [
        "Now let's save the trained model."
      ]
    },
    {
      "cell_type": "code",
      "metadata": {
        "id": "1k2YXOKWF1z4"
      },
      "source": [
        "predictor = ktrain.get_predictor(learner.model, preproc=t)"
      ],
      "execution_count": null,
      "outputs": []
    },
    {
      "cell_type": "code",
      "metadata": {
        "id": "nboEHMYGGAgK"
      },
      "source": [
        "predictor.save('./content/drive/data/xlnet_predictor-v1_0')"
      ],
      "execution_count": null,
      "outputs": []
    },
    {
      "cell_type": "markdown",
      "metadata": {
        "id": "IlMl0u9SJuNY"
      },
      "source": [
        "### 3.3 Predict on unlabed data\n",
        "\n",
        "The Stanford AI Lab data reposity has also unlabeled data for clustering tasks. Let's select a sample and predict its sentiment.\n",
        "\n",
        "\"_This is a very strange film that was long thought to be forgotten. It s the story of two American Army buddies, William Boyd (aka Hopalong Cassidy) and Louis Wolheim, and their adventures as they manage to escape from a German prison camp during WWI. However, as this is a comedy, the duo manage to make the most round about and stupid escape accidentally boarding a train to Constantinople to be placed in a Turkish prisoner of war camp! On the way, they manage to escape once again and end up in quite the adventure--meeting sexy Mary Astor along the way. As far as the film goes, it was a rather funny script and despite being a silly plot, it worked rather well. The chemistry between Boyd and Wolheim worked and the film managed to be quite entertaining. Oddly, however, the film managed to beat out Harold Lloyd's film, SPEEDY, for an Oscar for Best Direction for a Comedy (a category no longer used)--as SPEEDY was a superior film in most ways (it's one of Lloyd's best films). Still, it's well worth a look especially if you love silent films. By the way, director Milestone and Louis Walheim would team up just a few years later for another WWI picture, the great ALL QUIET ON THE WESTERN FRONT, a film that is definitely NOT a comedy_.\""
      ]
    },
    {
      "cell_type": "code",
      "metadata": {
        "colab": {
          "base_uri": "https://localhost:8080/",
          "height": 35
        },
        "id": "FMt70fD7cUXk",
        "outputId": "341ec845-6a1d-462d-b6ad-e6a425908539"
      },
      "source": [
        "# Predict on unlabeled review\n",
        "predictor.predict(\"This is a very strange film that was long thought to be forgotten. It s the story of two American Army buddies, William Boyd (aka Hopalong Cassidy) and Louis Wolheim, and their adventures as they manage to escape from a German prison camp during WWI. However, as this is a comedy, the duo manage to make the most round about and stupid escape accidentally boarding a train to Constantinople to be placed in a Turkish prisoner of war camp! On the way, they manage to escape once again and end up in quite the adventure--meeting sexy Mary Astor along the way. As far as the film goes, it was a rather funny script and despite being a silly plot, it worked rather well. The chemistry between Boyd and Wolheim worked and the film managed to be quite entertaining. Oddly, however, the film managed to beat out Harold Lloyd's film, SPEEDY, for an Oscar for Best Direction for a Comedy (a category no longer used)--as SPEEDY was a superior film in most ways (it's one of Lloyd's best films). Still, it's well worth a look especially if you love silent films. By the way, director Milestone and Louis Walheim would team up just a few years later for another WWI picture, the great ALL QUIET ON THE WESTERN FRONT, a film that is definitely NOT a comedy.\")"
      ],
      "execution_count": null,
      "outputs": [
        {
          "output_type": "execute_result",
          "data": {
            "application/vnd.google.colaboratory.intrinsic+json": {
              "type": "string"
            },
            "text/plain": [
              "'negative'"
            ]
          },
          "metadata": {
            "tags": []
          },
          "execution_count": 35
        }
      ]
    },
    {
      "cell_type": "code",
      "metadata": {
        "id": "6e6zLwQ5VgYf",
        "colab": {
          "base_uri": "https://localhost:8080/"
        },
        "outputId": "99a1fede-cf1a-4e19-fd76-17189239386c"
      },
      "source": [
        "predictor.get_classes()"
      ],
      "execution_count": null,
      "outputs": [
        {
          "output_type": "execute_result",
          "data": {
            "text/plain": [
              "['positive', 'negative']"
            ]
          },
          "metadata": {
            "tags": []
          },
          "execution_count": 28
        }
      ]
    },
    {
      "cell_type": "code",
      "metadata": {
        "id": "D6Z4ybkOBuy2",
        "colab": {
          "base_uri": "https://localhost:8080/"
        },
        "outputId": "02984e22-d3a3-4cfb-ca06-455b4fabaea5"
      },
      "source": [
        "# Predict probability scores for each category\n",
        "predictor.predict_proba(\"This is a very strange film that was long thought to be forgotten. It s the story of two American Army buddies, William Boyd (aka Hopalong Cassidy) and Louis Wolheim, and their adventures as they manage to escape from a German prison camp during WWI. However, as this is a comedy, the duo manage to make the most round about and stupid escape accidentally boarding a train to Constantinople to be placed in a Turkish prisoner of war camp! On the way, they manage to escape once again and end up in quite the adventure--meeting sexy Mary Astor along the way. As far as the film goes, it was a rather funny script and despite being a silly plot, it worked rather well. The chemistry between Boyd and Wolheim worked and the film managed to be quite entertaining. Oddly, however, the film managed to beat out Harold Lloyd's film, SPEEDY, for an Oscar for Best Direction for a Comedy (a category no longer used)--as SPEEDY was a superior film in most ways (it's one of Lloyd's best films). Still, it's well worth a look especially if you love silent films. By the way, director Milestone and Louis Walheim would team up just a few years later for another WWI picture, the great ALL QUIET ON THE WESTERN FRONT, a film that is definitely NOT a comedy.\")"
      ],
      "execution_count": null,
      "outputs": [
        {
          "output_type": "execute_result",
          "data": {
            "text/plain": [
              "array([0.00286736, 0.99713266], dtype=float32)"
            ]
          },
          "metadata": {
            "tags": []
          },
          "execution_count": 34
        }
      ]
    },
    {
      "cell_type": "markdown",
      "metadata": {
        "id": "3zz2dZenLMI2"
      },
      "source": [
        "Another lengthy text with some positive comments but also negative ones. Let's see what captured the model's attention to end up on a negative classification."
      ]
    },
    {
      "cell_type": "code",
      "metadata": {
        "id": "pGsKrQFqBvEX",
        "colab": {
          "base_uri": "https://localhost:8080/"
        },
        "outputId": "e25cd4a7-f9c4-416c-ae93-16b2b24dc4d0"
      },
      "source": [
        "!pip3 install -q git+https://github.com/amaiya/eli5@tfkeras_0_10_1"
      ],
      "execution_count": null,
      "outputs": [
        {
          "output_type": "stream",
          "text": [
            "  Building wheel for eli5 (setup.py) ... \u001b[?25l\u001b[?25hdone\n"
          ],
          "name": "stdout"
        }
      ]
    },
    {
      "cell_type": "code",
      "metadata": {
        "colab": {
          "base_uri": "https://localhost:8080/",
          "height": 256
        },
        "id": "0M8kYiZfY5F4",
        "outputId": "48467b42-b362-49cd-8ae4-55dc840da2c0"
      },
      "source": [
        "predictor.explain(\"This is a very strange film that was long thought to be forgotten. It s the story of two American Army buddies, William Boyd (aka Hopalong Cassidy) and Louis Wolheim, and their adventures as they manage to escape from a German prison camp during WWI. However, as this is a comedy, the duo manage to make the most round about and stupid escape accidentally boarding a train to Constantinople to be placed in a Turkish prisoner of war camp! On the way, they manage to escape once again and end up in quite the adventure--meeting sexy Mary Astor along the way. As far as the film goes, it was a rather funny script and despite being a silly plot, it worked rather well. The chemistry between Boyd and Wolheim worked and the film managed to be quite entertaining. Oddly, however, the film managed to beat out Harold Lloyd's film, SPEEDY, for an Oscar for Best Direction for a Comedy (a category no longer used)--as SPEEDY was a superior film in most ways (it's one of Lloyd's best films). Still, it's well worth a look especially if you love silent films. By the way, director Milestone and Louis Walheim would team up just a few years later for another WWI picture, the great ALL QUIET ON THE WESTERN FRONT, a film that is definitely NOT a comedy.\")"
      ],
      "execution_count": null,
      "outputs": [
        {
          "output_type": "execute_result",
          "data": {
            "text/html": [
              "\n",
              "    <style>\n",
              "    table.eli5-weights tr:hover {\n",
              "        filter: brightness(85%);\n",
              "    }\n",
              "</style>\n",
              "\n",
              "\n",
              "\n",
              "    \n",
              "\n",
              "    \n",
              "\n",
              "    \n",
              "\n",
              "    \n",
              "\n",
              "    \n",
              "\n",
              "    \n",
              "\n",
              "\n",
              "    \n",
              "\n",
              "    \n",
              "\n",
              "    \n",
              "\n",
              "    \n",
              "        \n",
              "\n",
              "    \n",
              "\n",
              "        \n",
              "\n",
              "        \n",
              "    \n",
              "        \n",
              "        \n",
              "    \n",
              "        <p style=\"margin-bottom: 0.5em; margin-top: 0em\">\n",
              "            <b>\n",
              "    \n",
              "        y=negative\n",
              "    \n",
              "</b>\n",
              "\n",
              "    \n",
              "    (probability <b>1.000</b>, score <b>9.287</b>)\n",
              "\n",
              "top features\n",
              "        </p>\n",
              "    \n",
              "    <table class=\"eli5-weights\"\n",
              "           style=\"border-collapse: collapse; border: none; margin-top: 0em; table-layout: auto; margin-bottom: 2em;\">\n",
              "        <thead>\n",
              "        <tr style=\"border: none;\">\n",
              "            \n",
              "                <th style=\"padding: 0 1em 0 0.5em; text-align: right; border: none;\" title=\"Feature contribution already accounts for the feature value (for linear models, contribution = weight * feature value), and the sum of feature contributions is equal to the score or, for some classifiers, to the probability. Feature values are shown if &quot;show_feature_values&quot; is True.\">\n",
              "                    Contribution<sup>?</sup>\n",
              "                </th>\n",
              "            \n",
              "            <th style=\"padding: 0 0.5em 0 0.5em; text-align: left; border: none;\">Feature</th>\n",
              "            \n",
              "        </tr>\n",
              "        </thead>\n",
              "        <tbody>\n",
              "        \n",
              "            <tr style=\"background-color: hsl(120, 100.00%, 80.00%); border: none;\">\n",
              "    <td style=\"padding: 0 1em 0 0.5em; text-align: right; border: none;\">\n",
              "        +9.718\n",
              "    </td>\n",
              "    <td style=\"padding: 0 0.5em 0 0.5em; text-align: left; border: none;\">\n",
              "        Highlighted in text (sum)\n",
              "    </td>\n",
              "    \n",
              "</tr>\n",
              "        \n",
              "        \n",
              "\n",
              "        \n",
              "        \n",
              "            <tr style=\"background-color: hsl(0, 100.00%, 97.74%); border: none;\">\n",
              "    <td style=\"padding: 0 1em 0 0.5em; text-align: right; border: none;\">\n",
              "        -0.432\n",
              "    </td>\n",
              "    <td style=\"padding: 0 0.5em 0 0.5em; text-align: left; border: none;\">\n",
              "        &lt;BIAS&gt;\n",
              "    </td>\n",
              "    \n",
              "</tr>\n",
              "        \n",
              "\n",
              "        </tbody>\n",
              "    </table>\n",
              "\n",
              "    \n",
              "\n",
              "\n",
              "\n",
              "    <p style=\"margin-bottom: 2.5em; margin-top:-0.5em;\">\n",
              "        <span style=\"background-color: hsl(0, 100.00%, 86.48%); opacity: 0.84\" title=\"-0.266\">this</span><span style=\"opacity: 0.80\"> </span><span style=\"background-color: hsl(120, 100.00%, 91.08%); opacity: 0.82\" title=\"0.147\">is</span><span style=\"opacity: 0.80\"> </span><span style=\"background-color: hsl(120, 100.00%, 86.12%); opacity: 0.84\" title=\"0.277\">a</span><span style=\"opacity: 0.80\"> </span><span style=\"background-color: hsl(120, 100.00%, 87.06%); opacity: 0.84\" title=\"0.250\">very</span><span style=\"opacity: 0.80\"> </span><span style=\"background-color: hsl(120, 100.00%, 87.35%); opacity: 0.84\" title=\"0.242\">strange</span><span style=\"opacity: 0.80\"> </span><span style=\"background-color: hsl(120, 100.00%, 80.71%); opacity: 0.87\" title=\"0.443\">film</span><span style=\"opacity: 0.80\"> </span><span style=\"background-color: hsl(120, 100.00%, 90.33%); opacity: 0.83\" title=\"0.165\">that</span><span style=\"opacity: 0.80\"> </span><span style=\"background-color: hsl(120, 100.00%, 87.91%); opacity: 0.84\" title=\"0.227\">was</span><span style=\"opacity: 0.80\"> </span><span style=\"background-color: hsl(120, 100.00%, 79.54%); opacity: 0.88\" title=\"0.482\">long</span><span style=\"opacity: 0.80\"> </span><span style=\"background-color: hsl(0, 100.00%, 95.44%); opacity: 0.81\" title=\"-0.056\">thought</span><span style=\"opacity: 0.80\"> </span><span style=\"background-color: hsl(0, 100.00%, 88.44%); opacity: 0.83\" title=\"-0.213\">to</span><span style=\"opacity: 0.80\"> </span><span style=\"background-color: hsl(0, 100.00%, 93.78%); opacity: 0.81\" title=\"-0.088\">be</span><span style=\"opacity: 0.80\"> </span><span style=\"background-color: hsl(0, 100.00%, 80.93%); opacity: 0.87\" title=\"-0.436\">forgotten</span><span style=\"opacity: 0.80\">. </span><span style=\"background-color: hsl(0, 100.00%, 98.91%); opacity: 0.80\" title=\"-0.007\">it</span><span style=\"opacity: 0.80\"> </span><span style=\"background-color: hsl(0, 100.00%, 98.76%); opacity: 0.80\" title=\"-0.009\">s</span><span style=\"opacity: 0.80\"> the </span><span style=\"background-color: hsl(0, 100.00%, 87.50%); opacity: 0.84\" title=\"-0.238\">story</span><span style=\"opacity: 0.80\"> </span><span style=\"background-color: hsl(120, 100.00%, 96.81%); opacity: 0.81\" title=\"0.034\">of</span><span style=\"opacity: 0.80\"> </span><span style=\"background-color: hsl(120, 100.00%, 93.03%); opacity: 0.82\" title=\"0.103\">two</span><span style=\"opacity: 0.80\"> </span><span style=\"background-color: hsl(0, 100.00%, 86.93%); opacity: 0.84\" title=\"-0.254\">american</span><span style=\"opacity: 0.80\"> </span><span style=\"background-color: hsl(0, 100.00%, 89.21%); opacity: 0.83\" title=\"-0.193\">army</span><span style=\"opacity: 0.80\"> </span><span style=\"background-color: hsl(120, 100.00%, 92.84%); opacity: 0.82\" title=\"0.107\">buddies</span><span style=\"opacity: 0.80\">, </span><span style=\"background-color: hsl(120, 100.00%, 96.55%); opacity: 0.81\" title=\"0.038\">william</span><span style=\"opacity: 0.80\"> </span><span style=\"background-color: hsl(120, 100.00%, 94.57%); opacity: 0.81\" title=\"0.072\">boyd</span><span style=\"opacity: 0.80\"> (</span><span style=\"background-color: hsl(120, 100.00%, 86.49%); opacity: 0.84\" title=\"0.266\">aka</span><span style=\"opacity: 0.80\"> </span><span style=\"background-color: hsl(0, 100.00%, 98.21%); opacity: 0.80\" title=\"-0.015\">hopalong</span><span style=\"opacity: 0.80\"> </span><span style=\"background-color: hsl(0, 100.00%, 86.54%); opacity: 0.84\" title=\"-0.265\">cassidy</span><span style=\"opacity: 0.80\">) </span><span style=\"background-color: hsl(0, 100.00%, 95.89%); opacity: 0.81\" title=\"-0.049\">and</span><span style=\"opacity: 0.80\"> </span><span style=\"background-color: hsl(120, 100.00%, 92.86%); opacity: 0.82\" title=\"0.107\">louis</span><span style=\"opacity: 0.80\"> </span><span style=\"background-color: hsl(0, 100.00%, 92.21%); opacity: 0.82\" title=\"-0.121\">wolheim</span><span style=\"opacity: 0.80\">, </span><span style=\"background-color: hsl(0, 100.00%, 95.30%); opacity: 0.81\" title=\"-0.059\">and</span><span style=\"opacity: 0.80\"> </span><span style=\"background-color: hsl(120, 100.00%, 93.74%); opacity: 0.81\" title=\"0.089\">their</span><span style=\"opacity: 0.80\"> </span><span style=\"background-color: hsl(120, 100.00%, 88.25%); opacity: 0.83\" title=\"0.218\">adventures</span><span style=\"opacity: 0.80\"> </span><span style=\"background-color: hsl(120, 100.00%, 86.75%); opacity: 0.84\" title=\"0.259\">as</span><span style=\"opacity: 0.80\"> </span><span style=\"background-color: hsl(120, 100.00%, 94.91%); opacity: 0.81\" title=\"0.066\">they</span><span style=\"opacity: 0.80\"> </span><span style=\"background-color: hsl(120, 100.00%, 98.47%); opacity: 0.80\" title=\"0.012\">manage</span><span style=\"opacity: 0.80\"> </span><span style=\"background-color: hsl(0, 100.00%, 98.31%); opacity: 0.80\" title=\"-0.014\">to</span><span style=\"opacity: 0.80\"> </span><span style=\"background-color: hsl(0, 100.00%, 90.64%); opacity: 0.83\" title=\"-0.158\">escape</span><span style=\"opacity: 0.80\"> </span><span style=\"background-color: hsl(0, 100.00%, 84.28%); opacity: 0.85\" title=\"-0.330\">from</span><span style=\"opacity: 0.80\"> </span><span style=\"background-color: hsl(120, 100.00%, 95.83%); opacity: 0.81\" title=\"0.050\">a</span><span style=\"opacity: 0.80\"> </span><span style=\"background-color: hsl(120, 100.00%, 96.69%); opacity: 0.81\" title=\"0.036\">german</span><span style=\"opacity: 0.80\"> prison </span><span style=\"background-color: hsl(120, 100.00%, 93.03%); opacity: 0.82\" title=\"0.103\">camp</span><span style=\"opacity: 0.80\"> </span><span style=\"background-color: hsl(120, 100.00%, 86.40%); opacity: 0.84\" title=\"0.269\">during</span><span style=\"opacity: 0.80\"> </span><span style=\"background-color: hsl(120, 100.00%, 94.57%); opacity: 0.81\" title=\"0.072\">wwi</span><span style=\"opacity: 0.80\">. </span><span style=\"background-color: hsl(120, 100.00%, 93.15%); opacity: 0.82\" title=\"0.101\">however</span><span style=\"opacity: 0.80\">, </span><span style=\"background-color: hsl(120, 100.00%, 85.86%); opacity: 0.85\" title=\"0.284\">as</span><span style=\"opacity: 0.80\"> </span><span style=\"background-color: hsl(0, 100.00%, 89.35%); opacity: 0.83\" title=\"-0.189\">this</span><span style=\"opacity: 0.80\"> </span><span style=\"background-color: hsl(120, 100.00%, 91.08%); opacity: 0.82\" title=\"0.147\">is</span><span style=\"opacity: 0.80\"> </span><span style=\"background-color: hsl(120, 100.00%, 94.58%); opacity: 0.81\" title=\"0.072\">a</span><span style=\"opacity: 0.80\"> </span><span style=\"background-color: hsl(120, 100.00%, 96.49%); opacity: 0.81\" title=\"0.039\">comedy</span><span style=\"opacity: 0.80\">, </span><span style=\"background-color: hsl(0, 100.00%, 88.21%); opacity: 0.83\" title=\"-0.219\">the</span><span style=\"opacity: 0.80\"> </span><span style=\"background-color: hsl(0, 100.00%, 97.58%); opacity: 0.80\" title=\"-0.023\">duo</span><span style=\"opacity: 0.80\"> </span><span style=\"background-color: hsl(120, 100.00%, 88.62%); opacity: 0.83\" title=\"0.208\">manage</span><span style=\"opacity: 0.80\"> </span><span style=\"background-color: hsl(0, 100.00%, 85.67%); opacity: 0.85\" title=\"-0.289\">to</span><span style=\"opacity: 0.80\"> </span><span style=\"background-color: hsl(0, 100.00%, 82.21%); opacity: 0.86\" title=\"-0.394\">make</span><span style=\"opacity: 0.80\"> </span><span style=\"background-color: hsl(120, 100.00%, 89.70%); opacity: 0.83\" title=\"0.181\">the</span><span style=\"opacity: 0.80\"> </span><span style=\"background-color: hsl(120, 100.00%, 94.64%); opacity: 0.81\" title=\"0.071\">most</span><span style=\"opacity: 0.80\"> </span><span style=\"background-color: hsl(120, 100.00%, 87.47%); opacity: 0.84\" title=\"0.239\">round</span><span style=\"opacity: 0.80\"> </span><span style=\"background-color: hsl(120, 100.00%, 85.07%); opacity: 0.85\" title=\"0.307\">about</span><span style=\"opacity: 0.80\"> </span><span style=\"background-color: hsl(0, 100.00%, 91.36%); opacity: 0.82\" title=\"-0.140\">and</span><span style=\"opacity: 0.80\"> </span><span style=\"background-color: hsl(0, 100.00%, 81.66%); opacity: 0.87\" title=\"-0.412\">stupid</span><span style=\"opacity: 0.80\"> </span><span style=\"background-color: hsl(120, 100.00%, 89.65%); opacity: 0.83\" title=\"0.182\">escape</span><span style=\"opacity: 0.80\"> </span><span style=\"background-color: hsl(0, 100.00%, 92.42%); opacity: 0.82\" title=\"-0.117\">accidentally</span><span style=\"opacity: 0.80\"> </span><span style=\"background-color: hsl(0, 100.00%, 87.74%); opacity: 0.84\" title=\"-0.232\">boarding</span><span style=\"opacity: 0.80\"> </span><span style=\"background-color: hsl(120, 100.00%, 98.26%); opacity: 0.80\" title=\"0.014\">a</span><span style=\"opacity: 0.80\"> </span><span style=\"background-color: hsl(120, 100.00%, 87.22%); opacity: 0.84\" title=\"0.246\">train</span><span style=\"opacity: 0.80\"> </span><span style=\"background-color: hsl(120, 100.00%, 95.34%); opacity: 0.81\" title=\"0.058\">to</span><span style=\"opacity: 0.80\"> </span><span style=\"background-color: hsl(120, 100.00%, 99.04%); opacity: 0.80\" title=\"0.006\">constantinople</span><span style=\"opacity: 0.80\"> </span><span style=\"background-color: hsl(120, 100.00%, 96.93%); opacity: 0.81\" title=\"0.032\">to</span><span style=\"opacity: 0.80\"> </span><span style=\"background-color: hsl(0, 100.00%, 97.30%); opacity: 0.80\" title=\"-0.027\">be</span><span style=\"opacity: 0.80\"> </span><span style=\"background-color: hsl(120, 100.00%, 95.72%); opacity: 0.81\" title=\"0.052\">placed</span><span style=\"opacity: 0.80\"> </span><span style=\"background-color: hsl(0, 100.00%, 89.85%); opacity: 0.83\" title=\"-0.177\">in</span><span style=\"opacity: 0.80\"> </span><span style=\"background-color: hsl(120, 100.00%, 89.87%); opacity: 0.83\" title=\"0.176\">a</span><span style=\"opacity: 0.80\"> </span><span style=\"background-color: hsl(120, 100.00%, 96.13%); opacity: 0.81\" title=\"0.045\">turkish</span><span style=\"opacity: 0.80\"> </span><span style=\"background-color: hsl(0, 100.00%, 83.56%); opacity: 0.86\" title=\"-0.352\">prisoner</span><span style=\"opacity: 0.80\"> </span><span style=\"background-color: hsl(120, 100.00%, 90.78%); opacity: 0.82\" title=\"0.154\">of</span><span style=\"opacity: 0.80\"> </span><span style=\"background-color: hsl(120, 100.00%, 88.40%); opacity: 0.83\" title=\"0.214\">war</span><span style=\"opacity: 0.80\"> </span><span style=\"background-color: hsl(120, 100.00%, 96.50%); opacity: 0.81\" title=\"0.039\">camp</span><span style=\"opacity: 0.80\">! </span><span style=\"background-color: hsl(120, 100.00%, 92.63%); opacity: 0.82\" title=\"0.112\">on</span><span style=\"opacity: 0.80\"> </span><span style=\"background-color: hsl(0, 100.00%, 92.59%); opacity: 0.82\" title=\"-0.113\">the</span><span style=\"opacity: 0.80\"> </span><span style=\"background-color: hsl(0, 100.00%, 96.56%); opacity: 0.81\" title=\"-0.038\">way</span><span style=\"opacity: 0.80\">, </span><span style=\"background-color: hsl(120, 100.00%, 99.64%); opacity: 0.80\" title=\"0.002\">they</span><span style=\"opacity: 0.80\"> </span><span style=\"background-color: hsl(120, 100.00%, 98.47%); opacity: 0.80\" title=\"0.012\">manage</span><span style=\"opacity: 0.80\"> </span><span style=\"background-color: hsl(0, 100.00%, 98.31%); opacity: 0.80\" title=\"-0.014\">to</span><span style=\"opacity: 0.80\"> </span><span style=\"background-color: hsl(120, 100.00%, 95.32%); opacity: 0.81\" title=\"0.059\">escape</span><span style=\"opacity: 0.80\"> </span><span style=\"background-color: hsl(0, 100.00%, 93.58%); opacity: 0.81\" title=\"-0.092\">once</span><span style=\"opacity: 0.80\"> </span><span style=\"background-color: hsl(0, 100.00%, 96.41%); opacity: 0.81\" title=\"-0.040\">again</span><span style=\"opacity: 0.80\"> </span><span style=\"background-color: hsl(120, 100.00%, 98.49%); opacity: 0.80\" title=\"0.012\">and</span><span style=\"opacity: 0.80\"> </span><span style=\"background-color: hsl(0, 100.00%, 85.22%); opacity: 0.85\" title=\"-0.303\">end</span><span style=\"opacity: 0.80\"> </span><span style=\"background-color: hsl(0, 100.00%, 84.28%); opacity: 0.85\" title=\"-0.330\">up</span><span style=\"opacity: 0.80\"> </span><span style=\"background-color: hsl(0, 100.00%, 84.92%); opacity: 0.85\" title=\"-0.311\">in</span><span style=\"opacity: 0.80\"> </span><span style=\"background-color: hsl(120, 100.00%, 90.89%); opacity: 0.82\" title=\"0.152\">quite</span><span style=\"opacity: 0.80\"> </span><span style=\"background-color: hsl(0, 100.00%, 89.21%); opacity: 0.83\" title=\"-0.193\">the</span><span style=\"opacity: 0.80\"> </span><span style=\"background-color: hsl(0, 100.00%, 85.96%); opacity: 0.84\" title=\"-0.281\">adventure</span><span style=\"opacity: 0.80\">--</span><span style=\"background-color: hsl(0, 100.00%, 90.05%); opacity: 0.83\" title=\"-0.172\">meeting</span><span style=\"opacity: 0.80\"> </span><span style=\"background-color: hsl(120, 100.00%, 96.30%); opacity: 0.81\" title=\"0.042\">sexy</span><span style=\"opacity: 0.80\"> mary </span><span style=\"background-color: hsl(0, 100.00%, 89.38%); opacity: 0.83\" title=\"-0.189\">astor</span><span style=\"opacity: 0.80\"> </span><span style=\"background-color: hsl(120, 100.00%, 91.34%); opacity: 0.82\" title=\"0.141\">along</span><span style=\"opacity: 0.80\"> </span><span style=\"background-color: hsl(0, 100.00%, 92.59%); opacity: 0.82\" title=\"-0.113\">the</span><span style=\"opacity: 0.80\"> </span><span style=\"background-color: hsl(0, 100.00%, 96.56%); opacity: 0.81\" title=\"-0.038\">way</span><span style=\"opacity: 0.80\">. </span><span style=\"background-color: hsl(0, 100.00%, 91.27%); opacity: 0.82\" title=\"-0.143\">as</span><span style=\"opacity: 0.80\"> </span><span style=\"background-color: hsl(0, 100.00%, 83.06%); opacity: 0.86\" title=\"-0.368\">far</span><span style=\"opacity: 0.80\"> </span><span style=\"background-color: hsl(0, 100.00%, 98.38%); opacity: 0.80\" title=\"-0.013\">as</span><span style=\"opacity: 0.80\"> the film </span><span style=\"background-color: hsl(0, 100.00%, 82.99%); opacity: 0.86\" title=\"-0.370\">goes</span><span style=\"opacity: 0.80\">, </span><span style=\"background-color: hsl(0, 100.00%, 86.15%); opacity: 0.84\" title=\"-0.276\">it</span><span style=\"opacity: 0.80\"> </span><span style=\"background-color: hsl(0, 100.00%, 91.66%); opacity: 0.82\" title=\"-0.134\">was</span><span style=\"opacity: 0.80\"> </span><span style=\"background-color: hsl(120, 100.00%, 89.88%); opacity: 0.83\" title=\"0.176\">a</span><span style=\"opacity: 0.80\"> </span><span style=\"background-color: hsl(120, 100.00%, 97.11%); opacity: 0.80\" title=\"0.029\">rather</span><span style=\"opacity: 0.80\"> </span><span style=\"background-color: hsl(120, 100.00%, 73.60%); opacity: 0.91\" title=\"0.693\">funny</span><span style=\"opacity: 0.80\"> </span><span style=\"background-color: hsl(0, 100.00%, 80.95%); opacity: 0.87\" title=\"-0.435\">script</span><span style=\"opacity: 0.80\"> </span><span style=\"background-color: hsl(0, 100.00%, 92.85%); opacity: 0.82\" title=\"-0.107\">and</span><span style=\"opacity: 0.80\"> </span><span style=\"background-color: hsl(120, 100.00%, 86.09%); opacity: 0.84\" title=\"0.277\">despite</span><span style=\"opacity: 0.80\"> being a </span><span style=\"background-color: hsl(0, 100.00%, 90.30%); opacity: 0.83\" title=\"-0.166\">silly</span><span style=\"opacity: 0.80\"> plot, </span><span style=\"background-color: hsl(120, 100.00%, 72.13%); opacity: 0.92\" title=\"0.749\">it</span><span style=\"opacity: 0.80\"> </span><span style=\"background-color: hsl(120, 100.00%, 70.88%); opacity: 0.93\" title=\"0.797\">worked</span><span style=\"opacity: 0.80\"> </span><span style=\"background-color: hsl(120, 100.00%, 98.01%); opacity: 0.80\" title=\"0.017\">rather</span><span style=\"opacity: 0.80\"> </span><span style=\"background-color: hsl(120, 100.00%, 74.41%); opacity: 0.91\" title=\"0.663\">well</span><span style=\"opacity: 0.80\">. </span><span style=\"background-color: hsl(120, 100.00%, 88.97%); opacity: 0.83\" title=\"0.199\">the</span><span style=\"opacity: 0.80\"> </span><span style=\"background-color: hsl(120, 100.00%, 76.50%); opacity: 0.89\" title=\"0.587\">chemistry</span><span style=\"opacity: 0.80\"> </span><span style=\"background-color: hsl(120, 100.00%, 79.91%); opacity: 0.87\" title=\"0.469\">between</span><span style=\"opacity: 0.80\"> </span><span style=\"background-color: hsl(120, 100.00%, 89.81%); opacity: 0.83\" title=\"0.178\">boyd</span><span style=\"opacity: 0.80\"> </span><span style=\"background-color: hsl(120, 100.00%, 86.56%); opacity: 0.84\" title=\"0.264\">and</span><span style=\"opacity: 0.80\"> </span><span style=\"background-color: hsl(120, 100.00%, 85.86%); opacity: 0.85\" title=\"0.284\">wolheim</span><span style=\"opacity: 0.80\"> </span><span style=\"background-color: hsl(120, 100.00%, 76.20%); opacity: 0.90\" title=\"0.598\">worked</span><span style=\"opacity: 0.80\"> </span><span style=\"background-color: hsl(120, 100.00%, 84.77%); opacity: 0.85\" title=\"0.316\">and</span><span style=\"opacity: 0.80\"> </span><span style=\"background-color: hsl(120, 100.00%, 95.51%); opacity: 0.81\" title=\"0.055\">the</span><span style=\"opacity: 0.80\"> </span><span style=\"background-color: hsl(0, 100.00%, 94.85%); opacity: 0.81\" title=\"-0.067\">film</span><span style=\"opacity: 0.80\"> </span><span style=\"background-color: hsl(0, 100.00%, 89.05%); opacity: 0.83\" title=\"-0.197\">managed</span><span style=\"opacity: 0.80\"> </span><span style=\"background-color: hsl(120, 100.00%, 96.73%); opacity: 0.81\" title=\"0.035\">to</span><span style=\"opacity: 0.80\"> </span><span style=\"background-color: hsl(0, 100.00%, 94.81%); opacity: 0.81\" title=\"-0.068\">be</span><span style=\"opacity: 0.80\"> </span><span style=\"background-color: hsl(120, 100.00%, 88.50%); opacity: 0.83\" title=\"0.211\">quite</span><span style=\"opacity: 0.80\"> </span><span style=\"background-color: hsl(120, 100.00%, 66.13%); opacity: 0.96\" title=\"0.989\">entertaining</span><span style=\"opacity: 0.80\">. </span><span style=\"background-color: hsl(120, 100.00%, 75.24%); opacity: 0.90\" title=\"0.633\">oddly</span><span style=\"opacity: 0.80\">, </span><span style=\"background-color: hsl(120, 100.00%, 85.44%); opacity: 0.85\" title=\"0.296\">however</span><span style=\"opacity: 0.80\">, the </span><span style=\"background-color: hsl(0, 100.00%, 94.85%); opacity: 0.81\" title=\"-0.067\">film</span><span style=\"opacity: 0.80\"> </span><span style=\"background-color: hsl(0, 100.00%, 89.05%); opacity: 0.83\" title=\"-0.197\">managed</span><span style=\"opacity: 0.80\"> </span><span style=\"background-color: hsl(0, 100.00%, 94.30%); opacity: 0.81\" title=\"-0.078\">to</span><span style=\"opacity: 0.80\"> </span><span style=\"background-color: hsl(0, 100.00%, 83.17%); opacity: 0.86\" title=\"-0.364\">beat</span><span style=\"opacity: 0.80\"> </span><span style=\"background-color: hsl(0, 100.00%, 85.55%); opacity: 0.85\" title=\"-0.293\">out</span><span style=\"opacity: 0.80\"> </span><span style=\"background-color: hsl(0, 100.00%, 85.60%); opacity: 0.85\" title=\"-0.291\">harold</span><span style=\"opacity: 0.80\"> </span><span style=\"background-color: hsl(0, 100.00%, 97.43%); opacity: 0.80\" title=\"-0.025\">lloyd</span><span style=\"opacity: 0.80\">&#x27;</span><span style=\"background-color: hsl(0, 100.00%, 98.76%); opacity: 0.80\" title=\"-0.009\">s</span><span style=\"opacity: 0.80\"> </span><span style=\"background-color: hsl(0, 100.00%, 93.95%); opacity: 0.81\" title=\"-0.084\">film</span><span style=\"opacity: 0.80\">, </span><span style=\"background-color: hsl(0, 100.00%, 97.34%); opacity: 0.80\" title=\"-0.026\">speedy</span><span style=\"opacity: 0.80\">, </span><span style=\"background-color: hsl(120, 100.00%, 86.17%); opacity: 0.84\" title=\"0.275\">for</span><span style=\"opacity: 0.80\"> </span><span style=\"background-color: hsl(120, 100.00%, 93.81%); opacity: 0.81\" title=\"0.087\">an</span><span style=\"opacity: 0.80\"> oscar </span><span style=\"background-color: hsl(120, 100.00%, 93.27%); opacity: 0.82\" title=\"0.098\">for</span><span style=\"opacity: 0.80\"> </span><span style=\"background-color: hsl(120, 100.00%, 81.55%); opacity: 0.87\" title=\"0.415\">best</span><span style=\"opacity: 0.80\"> </span><span style=\"background-color: hsl(120, 100.00%, 96.52%); opacity: 0.81\" title=\"0.038\">direction</span><span style=\"opacity: 0.80\"> </span><span style=\"background-color: hsl(0, 100.00%, 95.81%); opacity: 0.81\" title=\"-0.050\">for</span><span style=\"opacity: 0.80\"> </span><span style=\"background-color: hsl(0, 100.00%, 89.46%); opacity: 0.83\" title=\"-0.187\">a</span><span style=\"opacity: 0.80\"> </span><span style=\"background-color: hsl(120, 100.00%, 96.49%); opacity: 0.81\" title=\"0.039\">comedy</span><span style=\"opacity: 0.80\"> (</span><span style=\"background-color: hsl(0, 100.00%, 99.00%); opacity: 0.80\" title=\"-0.006\">a</span><span style=\"opacity: 0.80\"> </span><span style=\"background-color: hsl(0, 100.00%, 94.16%); opacity: 0.81\" title=\"-0.080\">category</span><span style=\"opacity: 0.80\"> </span><span style=\"background-color: hsl(0, 100.00%, 94.50%); opacity: 0.81\" title=\"-0.074\">no</span><span style=\"opacity: 0.80\"> </span><span style=\"background-color: hsl(120, 100.00%, 86.25%); opacity: 0.84\" title=\"0.273\">longer</span><span style=\"opacity: 0.80\"> </span><span style=\"background-color: hsl(0, 100.00%, 88.59%); opacity: 0.83\" title=\"-0.209\">used</span><span style=\"opacity: 0.80\">)--</span><span style=\"background-color: hsl(120, 100.00%, 90.32%); opacity: 0.83\" title=\"0.165\">as</span><span style=\"opacity: 0.80\"> </span><span style=\"background-color: hsl(0, 100.00%, 89.33%); opacity: 0.83\" title=\"-0.190\">speedy</span><span style=\"opacity: 0.80\"> </span><span style=\"background-color: hsl(0, 100.00%, 88.26%); opacity: 0.83\" title=\"-0.218\">was</span><span style=\"opacity: 0.80\"> a </span><span style=\"background-color: hsl(120, 100.00%, 88.84%); opacity: 0.83\" title=\"0.202\">superior</span><span style=\"opacity: 0.80\"> </span><span style=\"background-color: hsl(120, 100.00%, 94.93%); opacity: 0.81\" title=\"0.066\">film</span><span style=\"opacity: 0.80\"> </span><span style=\"background-color: hsl(0, 100.00%, 83.38%); opacity: 0.86\" title=\"-0.358\">in</span><span style=\"opacity: 0.80\"> </span><span style=\"background-color: hsl(0, 100.00%, 98.13%); opacity: 0.80\" title=\"-0.016\">most</span><span style=\"opacity: 0.80\"> </span><span style=\"background-color: hsl(0, 100.00%, 91.85%); opacity: 0.82\" title=\"-0.129\">ways</span><span style=\"opacity: 0.80\"> (</span><span style=\"background-color: hsl(120, 100.00%, 93.27%); opacity: 0.82\" title=\"0.098\">it</span><span style=\"opacity: 0.80\">&#x27;</span><span style=\"background-color: hsl(120, 100.00%, 91.45%); opacity: 0.82\" title=\"0.138\">s</span><span style=\"opacity: 0.80\"> </span><span style=\"background-color: hsl(120, 100.00%, 87.85%); opacity: 0.84\" title=\"0.229\">one</span><span style=\"opacity: 0.80\"> </span><span style=\"background-color: hsl(120, 100.00%, 83.96%); opacity: 0.85\" title=\"0.340\">of</span><span style=\"opacity: 0.80\"> </span><span style=\"background-color: hsl(120, 100.00%, 86.58%); opacity: 0.84\" title=\"0.264\">lloyd</span><span style=\"opacity: 0.80\">&#x27;</span><span style=\"background-color: hsl(120, 100.00%, 92.42%); opacity: 0.82\" title=\"0.117\">s</span><span style=\"opacity: 0.80\"> </span><span style=\"background-color: hsl(120, 100.00%, 77.81%); opacity: 0.89\" title=\"0.541\">best</span><span style=\"opacity: 0.80\"> </span><span style=\"background-color: hsl(120, 100.00%, 94.23%); opacity: 0.81\" title=\"0.079\">films</span><span style=\"opacity: 0.80\">). still, </span><span style=\"background-color: hsl(120, 100.00%, 87.89%); opacity: 0.84\" title=\"0.228\">it</span><span style=\"opacity: 0.80\">&#x27;</span><span style=\"background-color: hsl(120, 100.00%, 96.42%); opacity: 0.81\" title=\"0.040\">s</span><span style=\"opacity: 0.80\"> </span><span style=\"background-color: hsl(120, 100.00%, 63.97%); opacity: 0.97\" title=\"1.081\">well</span><span style=\"opacity: 0.80\"> </span><span style=\"background-color: hsl(120, 100.00%, 60.00%); opacity: 1.00\" title=\"1.255\">worth</span><span style=\"opacity: 0.80\"> </span><span style=\"background-color: hsl(120, 100.00%, 86.21%); opacity: 0.84\" title=\"0.274\">a</span><span style=\"opacity: 0.80\"> </span><span style=\"background-color: hsl(0, 100.00%, 88.98%); opacity: 0.83\" title=\"-0.199\">look</span><span style=\"opacity: 0.80\"> </span><span style=\"background-color: hsl(120, 100.00%, 96.32%); opacity: 0.81\" title=\"0.042\">especially</span><span style=\"opacity: 0.80\"> </span><span style=\"background-color: hsl(0, 100.00%, 87.53%); opacity: 0.84\" title=\"-0.237\">if</span><span style=\"opacity: 0.80\"> </span><span style=\"background-color: hsl(0, 100.00%, 88.79%); opacity: 0.83\" title=\"-0.204\">you</span><span style=\"opacity: 0.80\"> </span><span style=\"background-color: hsl(120, 100.00%, 82.88%); opacity: 0.86\" title=\"0.373\">love</span><span style=\"opacity: 0.80\"> </span><span style=\"background-color: hsl(120, 100.00%, 95.07%); opacity: 0.81\" title=\"0.063\">silent</span><span style=\"opacity: 0.80\"> </span><span style=\"background-color: hsl(120, 100.00%, 87.03%); opacity: 0.84\" title=\"0.251\">films</span><span style=\"opacity: 0.80\">. </span><span style=\"background-color: hsl(120, 100.00%, 92.77%); opacity: 0.82\" title=\"0.109\">by</span><span style=\"opacity: 0.80\"> </span><span style=\"background-color: hsl(0, 100.00%, 92.59%); opacity: 0.82\" title=\"-0.113\">the</span><span style=\"opacity: 0.80\"> </span><span style=\"background-color: hsl(120, 100.00%, 84.77%); opacity: 0.85\" title=\"0.316\">way</span><span style=\"opacity: 0.80\">, </span><span style=\"background-color: hsl(120, 100.00%, 80.09%); opacity: 0.87\" title=\"0.463\">director</span><span style=\"opacity: 0.80\"> </span><span style=\"background-color: hsl(0, 100.00%, 88.71%); opacity: 0.83\" title=\"-0.206\">milestone</span><span style=\"opacity: 0.80\"> </span><span style=\"background-color: hsl(0, 100.00%, 89.42%); opacity: 0.83\" title=\"-0.188\">and</span><span style=\"opacity: 0.80\"> </span><span style=\"background-color: hsl(0, 100.00%, 93.43%); opacity: 0.82\" title=\"-0.095\">louis</span><span style=\"opacity: 0.80\"> </span><span style=\"background-color: hsl(0, 100.00%, 86.90%); opacity: 0.84\" title=\"-0.255\">walheim</span><span style=\"opacity: 0.80\"> </span><span style=\"background-color: hsl(0, 100.00%, 94.69%); opacity: 0.81\" title=\"-0.070\">would</span><span style=\"opacity: 0.80\"> </span><span style=\"background-color: hsl(0, 100.00%, 98.90%); opacity: 0.80\" title=\"-0.007\">team</span><span style=\"opacity: 0.80\"> </span><span style=\"background-color: hsl(120, 100.00%, 96.30%); opacity: 0.81\" title=\"0.042\">up</span><span style=\"opacity: 0.80\"> </span><span style=\"background-color: hsl(120, 100.00%, 98.07%); opacity: 0.80\" title=\"0.017\">just</span><span style=\"opacity: 0.80\"> </span><span style=\"background-color: hsl(120, 100.00%, 93.54%); opacity: 0.81\" title=\"0.093\">a</span><span style=\"opacity: 0.80\"> </span><span style=\"background-color: hsl(120, 100.00%, 96.82%); opacity: 0.81\" title=\"0.034\">few</span><span style=\"opacity: 0.80\"> </span><span style=\"background-color: hsl(120, 100.00%, 97.67%); opacity: 0.80\" title=\"0.022\">years</span><span style=\"opacity: 0.80\"> </span><span style=\"background-color: hsl(120, 100.00%, 94.30%); opacity: 0.81\" title=\"0.078\">later</span><span style=\"opacity: 0.80\"> </span><span style=\"background-color: hsl(120, 100.00%, 90.40%); opacity: 0.83\" title=\"0.163\">for</span><span style=\"opacity: 0.80\"> </span><span style=\"background-color: hsl(120, 100.00%, 80.24%); opacity: 0.87\" title=\"0.458\">another</span><span style=\"opacity: 0.80\"> </span><span style=\"background-color: hsl(120, 100.00%, 83.91%); opacity: 0.85\" title=\"0.342\">wwi</span><span style=\"opacity: 0.80\"> </span><span style=\"background-color: hsl(0, 100.00%, 92.78%); opacity: 0.82\" title=\"-0.109\">picture</span><span style=\"opacity: 0.80\">, </span><span style=\"background-color: hsl(0, 100.00%, 84.77%); opacity: 0.85\" title=\"-0.316\">the</span><span style=\"opacity: 0.80\"> </span><span style=\"background-color: hsl(120, 100.00%, 86.02%); opacity: 0.84\" title=\"0.279\">great</span><span style=\"opacity: 0.80\"> </span><span style=\"background-color: hsl(0, 100.00%, 95.87%); opacity: 0.81\" title=\"-0.049\">all</span><span style=\"opacity: 0.80\"> </span><span style=\"background-color: hsl(0, 100.00%, 92.30%); opacity: 0.82\" title=\"-0.119\">quiet</span><span style=\"opacity: 0.80\"> </span><span style=\"background-color: hsl(0, 100.00%, 93.96%); opacity: 0.81\" title=\"-0.084\">on</span><span style=\"opacity: 0.80\"> the </span><span style=\"background-color: hsl(120, 100.00%, 89.29%); opacity: 0.83\" title=\"0.191\">western</span><span style=\"opacity: 0.80\"> front, </span><span style=\"background-color: hsl(120, 100.00%, 94.52%); opacity: 0.81\" title=\"0.073\">a</span><span style=\"opacity: 0.80\"> </span><span style=\"background-color: hsl(120, 100.00%, 79.67%); opacity: 0.88\" title=\"0.477\">film</span><span style=\"opacity: 0.80\"> </span><span style=\"background-color: hsl(120, 100.00%, 90.33%); opacity: 0.83\" title=\"0.165\">that</span><span style=\"opacity: 0.80\"> </span><span style=\"background-color: hsl(120, 100.00%, 99.47%); opacity: 0.80\" title=\"0.003\">is</span><span style=\"opacity: 0.80\"> </span><span style=\"background-color: hsl(120, 100.00%, 81.32%); opacity: 0.87\" title=\"0.423\">definitely</span><span style=\"opacity: 0.80\"> </span><span style=\"background-color: hsl(0, 100.00%, 60.99%); opacity: 0.99\" title=\"-1.210\">not</span><span style=\"opacity: 0.80\"> </span><span style=\"background-color: hsl(120, 100.00%, 97.36%); opacity: 0.80\" title=\"0.026\">a</span><span style=\"opacity: 0.80\"> </span><span style=\"background-color: hsl(120, 100.00%, 96.49%); opacity: 0.81\" title=\"0.039\">comedy</span><span style=\"opacity: 0.80\">.</span>\n",
              "    </p>\n",
              "\n",
              "\n",
              "    \n",
              "\n",
              "    \n",
              "\n",
              "    \n",
              "\n",
              "    \n",
              "\n",
              "\n",
              "    \n",
              "\n",
              "    \n",
              "\n",
              "    \n",
              "\n",
              "    \n",
              "\n",
              "    \n",
              "\n",
              "    \n",
              "\n",
              "\n",
              "    \n",
              "\n",
              "    \n",
              "\n",
              "    \n",
              "\n",
              "    \n",
              "\n",
              "    \n",
              "\n",
              "    \n",
              "\n",
              "\n",
              "\n"
            ],
            "text/plain": [
              "<IPython.core.display.HTML object>"
            ]
          },
          "metadata": {
            "tags": []
          },
          "execution_count": 39
        }
      ]
    },
    {
      "cell_type": "markdown",
      "metadata": {
        "id": "wHfAzaYXMRbV"
      },
      "source": [
        "As we can see, the model perceived positive and negative words but in an unbalanced manner. Examples of negative ones like \"not\", \"far\", \"forgotten\", and \"stupid\" seemed to influence its decision."
      ]
    },
    {
      "cell_type": "markdown",
      "metadata": {
        "id": "xNIi3Ez-NgxF"
      },
      "source": [
        "## 4. Data Augmentation\n",
        "\n",
        "Now let's compare the previous model with a new one. This time trained in an augmented dataset and check for accuracy. For this resort, we will use synonym replacement and expand the previous _Train_ subset by 50%."
      ]
    },
    {
      "cell_type": "code",
      "metadata": {
        "id": "cKsJYzBE2VbZ"
      },
      "source": [
        "!pip install textaugment"
      ],
      "execution_count": null,
      "outputs": []
    },
    {
      "cell_type": "code",
      "metadata": {
        "colab": {
          "base_uri": "https://localhost:8080/"
        },
        "id": "-Mgq8SQF2b41",
        "outputId": "64bfd0a8-fa45-4733-e9aa-630e00693780"
      },
      "source": [
        "from textaugment import EDA\n",
        "import nltk\n",
        "nltk.download(['stopwords','wordnet'])\n",
        "\n",
        "t = EDA(random_state=123)"
      ],
      "execution_count": null,
      "outputs": [
        {
          "output_type": "stream",
          "text": [
            "[nltk_data] Downloading package stopwords to /root/nltk_data...\n",
            "[nltk_data]   Unzipping corpora/stopwords.zip.\n",
            "[nltk_data] Downloading package wordnet to /root/nltk_data...\n",
            "[nltk_data]   Unzipping corpora/wordnet.zip.\n"
          ],
          "name": "stdout"
        }
      ]
    },
    {
      "cell_type": "markdown",
      "metadata": {
        "id": "4UD_we7rRrAK"
      },
      "source": [
        "Let's create a function to augment data and call it on _Train_ subset."
      ]
    },
    {
      "cell_type": "code",
      "metadata": {
        "id": "HOJEjv4P8g5N"
      },
      "source": [
        "import numpy as np\n",
        "\n",
        "# Define a function for data augmentation\n",
        "def eda(lis,arr,pct):\n",
        "  for i in range(0,int(len(lis)*pct)):\n",
        "    lis.append(t.synonym_replacement(lis[i])) # synonym replacement\n",
        "    arr = np.append(arr,arr[i])\n",
        "  return lis, arr"
      ],
      "execution_count": null,
      "outputs": []
    },
    {
      "cell_type": "code",
      "metadata": {
        "id": "YSZCGjLr6lKd"
      },
      "source": [
        "# Increase Train subset by 50% using EDA\n",
        "X_train, y_train = eda(X_train,y_train,0.5)"
      ],
      "execution_count": null,
      "outputs": []
    },
    {
      "cell_type": "code",
      "metadata": {
        "colab": {
          "base_uri": "https://localhost:8080/"
        },
        "id": "bP5xkc_YOUA0",
        "outputId": "55e1950a-e82c-4b49-f065-bcff17ee368d"
      },
      "source": [
        "# Check size of Train and Test subsets\n",
        "len(X_train), len(X_test)"
      ],
      "execution_count": null,
      "outputs": [
        {
          "output_type": "execute_result",
          "data": {
            "text/plain": [
              "(18000, 12000)"
            ]
          },
          "metadata": {
            "tags": []
          },
          "execution_count": 28
        }
      ]
    },
    {
      "cell_type": "markdown",
      "metadata": {
        "id": "13Pa9-3dR5QC"
      },
      "source": [
        "Again, let's shuffle rows."
      ]
    },
    {
      "cell_type": "code",
      "metadata": {
        "id": "YDMPMrBGOqNs"
      },
      "source": [
        "# Shuffle rows\n",
        "df_train = shuffle(df_train)\n",
        "df_test = shuffle(df_test)"
      ],
      "execution_count": null,
      "outputs": []
    },
    {
      "cell_type": "markdown",
      "metadata": {
        "id": "kxfHurmtSDGv"
      },
      "source": [
        "Time to build the model and train the new model."
      ]
    },
    {
      "cell_type": "code",
      "metadata": {
        "colab": {
          "base_uri": "https://localhost:8080/",
          "height": 419,
          "referenced_widgets": [
            "3ea4929f3c3a45cdb3ec7da249dd19a7",
            "7c23b234b9014fd89ef2a1793dd6a920",
            "0bfe6030c10149259501c638812efd4a",
            "3696ef2a56bb4c11863529aeee6e2f11",
            "00fbc866dc784c04847dbe055b66bf6f",
            "1da5acd85f3f4070b034eade954de463",
            "8f1a1d193a404dd786a3c8e4619d20a5",
            "bf7405c6623344e4b9a241133ce13cc1",
            "82c93fdecb774011895c3fb862b0a786",
            "d729bb33de6049d5b74a59b4cbfd0bbd",
            "238af0df4c11418ab48b083f4c10f68f",
            "e48ca53a31f14659b87c5fb796c308c5",
            "7df2fb2d7682452888217c81093b0dca",
            "739af079a9284fd4b6beea4cb9fa26d8",
            "bc82de3352f6451092b3a134044c5cca",
            "5ce7e4470e0e47bdba9f75dd9027b07d",
            "944819f9a2334733874ac95c66fc9ac8",
            "307a462e98764908ac5a323557de26b6",
            "45e800bc4dc0483fbb774d4676ee3246",
            "f114a81f718a49cbbf747c1e5f74dec8",
            "e6529c544b314077bdf9a45b94ec5c68",
            "cd378b2e4fca4774ab831ebba39ad3ad",
            "dcd2ae8838c7457a9cda1aa5dc54853b",
            "e892fc141e58488ca43c4fe70f7df270"
          ]
        },
        "id": "PCuGs-Sj3dvi",
        "outputId": "fce0dfc7-587f-489d-f0fe-97867fe73a8f"
      },
      "source": [
        "# Create new Transformer model\n",
        "MODEL_NAME = 'xlnet-base-cased'\n",
        "t = text.Transformer(MODEL_NAME, maxlen=500, classes=['positive','negative'])\n",
        "trn = t.preprocess_train(X_train, y_train)\n",
        "val = t.preprocess_test(X_test, y_test)\n",
        "model = t.get_classifier()\n",
        "learner = ktrain.get_learner(model, train_data=trn, val_data=val, batch_size=6)"
      ],
      "execution_count": null,
      "outputs": [
        {
          "output_type": "stream",
          "text": [
            "/usr/local/lib/python3.6/dist-packages/ktrain/text/preprocessor.py:414: UserWarning: The class_names argument is replacing the classes argument. Please update your code.\n",
            "  warnings.warn('The class_names argument is replacing the classes argument. Please update your code.')\n"
          ],
          "name": "stderr"
        },
        {
          "output_type": "display_data",
          "data": {
            "application/vnd.jupyter.widget-view+json": {
              "model_id": "3ea4929f3c3a45cdb3ec7da249dd19a7",
              "version_minor": 0,
              "version_major": 2
            },
            "text/plain": [
              "HBox(children=(FloatProgress(value=0.0, description='Downloading', max=760.0, style=ProgressStyle(description_…"
            ]
          },
          "metadata": {
            "tags": []
          }
        },
        {
          "output_type": "stream",
          "text": [
            "\n",
            "preprocessing train...\n",
            "language: en\n",
            "train sequence lengths:\n",
            "\tmean : 232\n",
            "\t95percentile : 596\n",
            "\t99percentile : 900\n"
          ],
          "name": "stdout"
        },
        {
          "output_type": "display_data",
          "data": {
            "application/vnd.jupyter.widget-view+json": {
              "model_id": "82c93fdecb774011895c3fb862b0a786",
              "version_minor": 0,
              "version_major": 2
            },
            "text/plain": [
              "HBox(children=(FloatProgress(value=0.0, description='Downloading', max=798011.0, style=ProgressStyle(descripti…"
            ]
          },
          "metadata": {
            "tags": []
          }
        },
        {
          "output_type": "stream",
          "text": [
            "\n"
          ],
          "name": "stdout"
        },
        {
          "output_type": "display_data",
          "data": {
            "text/html": [
              ""
            ],
            "text/plain": [
              "<IPython.core.display.HTML object>"
            ]
          },
          "metadata": {
            "tags": []
          }
        },
        {
          "output_type": "stream",
          "text": [
            "Is Multi-Label? False\n",
            "preprocessing test...\n",
            "language: en\n",
            "test sequence lengths:\n",
            "\tmean : 230\n",
            "\t95percentile : 588\n",
            "\t99percentile : 890\n"
          ],
          "name": "stdout"
        },
        {
          "output_type": "display_data",
          "data": {
            "text/html": [
              ""
            ],
            "text/plain": [
              "<IPython.core.display.HTML object>"
            ]
          },
          "metadata": {
            "tags": []
          }
        },
        {
          "output_type": "display_data",
          "data": {
            "application/vnd.jupyter.widget-view+json": {
              "model_id": "944819f9a2334733874ac95c66fc9ac8",
              "version_minor": 0,
              "version_major": 2
            },
            "text/plain": [
              "HBox(children=(FloatProgress(value=0.0, description='Downloading', max=565485600.0, style=ProgressStyle(descri…"
            ]
          },
          "metadata": {
            "tags": []
          }
        },
        {
          "output_type": "stream",
          "text": [
            "\n"
          ],
          "name": "stdout"
        }
      ]
    },
    {
      "cell_type": "code",
      "metadata": {
        "colab": {
          "base_uri": "https://localhost:8080/"
        },
        "id": "8IucbmwgyEDW",
        "outputId": "c11cb4d8-69d4-478a-bb84-3772ff1d75eb"
      },
      "source": [
        "# Train the new model\n",
        "learner.fit_onecycle(5e-5, 4)"
      ],
      "execution_count": null,
      "outputs": [
        {
          "output_type": "stream",
          "text": [
            "\n",
            "\n",
            "begin training using onecycle policy with max lr of 5e-05...\n",
            "Epoch 1/4\n",
            "3000/3000 [==============================] - 6204s 2s/step - loss: 0.2137 - accuracy: 0.9175 - val_loss: 0.2045 - val_accuracy: 0.9245\n",
            "Epoch 2/4\n",
            "3000/3000 [==============================] - 6207s 2s/step - loss: 0.1580 - accuracy: 0.9451 - val_loss: 0.1954 - val_accuracy: 0.9287\n",
            "Epoch 3/4\n",
            "3000/3000 [==============================] - 6208s 2s/step - loss: 0.1095 - accuracy: 0.9628 - val_loss: 0.2296 - val_accuracy: 0.9352\n",
            "Epoch 4/4\n",
            "3000/3000 [==============================] - 6210s 2s/step - loss: 0.0295 - accuracy: 0.9918 - val_loss: 0.2458 - val_accuracy: 0.9376\n"
          ],
          "name": "stdout"
        },
        {
          "output_type": "execute_result",
          "data": {
            "text/plain": [
              "<tensorflow.python.keras.callbacks.History at 0x7f96b8e76f98>"
            ]
          },
          "metadata": {
            "tags": []
          },
          "execution_count": 31
        }
      ]
    },
    {
      "cell_type": "markdown",
      "metadata": {
        "id": "kL1V6wKYKQHt"
      },
      "source": [
        "### 4.1 Evaluate the Model\n",
        "\n",
        "Now let's evaluate the new model on _Test_ subset."
      ]
    },
    {
      "cell_type": "code",
      "metadata": {
        "id": "RRYJMmWDKQH7",
        "colab": {
          "base_uri": "https://localhost:8080/"
        },
        "outputId": "aacbdc9d-ced1-4bba-fdd7-3c9314405879"
      },
      "source": [
        "learner.validate(class_names=t.get_classes())"
      ],
      "execution_count": null,
      "outputs": [
        {
          "output_type": "stream",
          "text": [
            "              precision    recall  f1-score   support\n",
            "\n",
            "    positive       0.94      0.94      0.94      6044\n",
            "    negative       0.94      0.94      0.94      5956\n",
            "\n",
            "    accuracy                           0.94     12000\n",
            "   macro avg       0.94      0.94      0.94     12000\n",
            "weighted avg       0.94      0.94      0.94     12000\n",
            "\n"
          ],
          "name": "stdout"
        },
        {
          "output_type": "execute_result",
          "data": {
            "text/plain": [
              "array([[5665,  379],\n",
              "       [ 370, 5586]])"
            ]
          },
          "metadata": {
            "tags": []
          },
          "execution_count": 32
        }
      ]
    },
    {
      "cell_type": "markdown",
      "metadata": {
        "id": "P6el7nBgklMw"
      },
      "source": [
        "As we can see from previous result, accuracy did not change. \n",
        "\n",
        "Let's inspect the wrongest prediction."
      ]
    },
    {
      "cell_type": "code",
      "metadata": {
        "id": "U-CPWu2SKWA3",
        "colab": {
          "base_uri": "https://localhost:8080/"
        },
        "outputId": "db145eed-7058-4b7d-e2bc-f6cd240e5daa"
      },
      "source": [
        "# Check on the prediction with the highest loss\n",
        "learner.view_top_losses(n=1, preproc=t)"
      ],
      "execution_count": null,
      "outputs": [
        {
          "output_type": "stream",
          "text": [
            "----------\n",
            "id:3722 | loss:7.99 | true:positive | pred:negative)\n",
            "\n"
          ],
          "name": "stdout"
        }
      ]
    },
    {
      "cell_type": "code",
      "metadata": {
        "id": "OyzUsNXTKWn9",
        "colab": {
          "base_uri": "https://localhost:8080/"
        },
        "outputId": "728b3d49-72c5-4d3c-8695-3ceefa49c0e4"
      },
      "source": [
        "print(X_test[3722])"
      ],
      "execution_count": null,
      "outputs": [
        {
          "output_type": "stream",
          "text": [
            "Nice movie and Nicholle Tom does a fantastic job playing the guy in the girl's body she really does it well. A sort of teen version of many other movies but well done. Well casted from Matt to Matt2 .\n"
          ],
          "name": "stdout"
        }
      ]
    },
    {
      "cell_type": "markdown",
      "metadata": {
        "id": "jyfaHgoPUDiM"
      },
      "source": [
        "\"_Nice movie and Nicholle Tom does a fantastic job playing the guy in the girl's body she really does it well. A sort of teen version of many other movies but well done. Well casted from Matt to Matt2._\"\n",
        "\n",
        "Model prediction in this example is quite odd because most of the words have a  positive sentiment. Let's investigate further."
      ]
    },
    {
      "cell_type": "code",
      "metadata": {
        "colab": {
          "base_uri": "https://localhost:8080/"
        },
        "id": "JYrP-ppgP4di",
        "outputId": "6f7ea6c3-0022-45d3-cb9a-b18a8dfa603c"
      },
      "source": [
        "predictor.get_classes()"
      ],
      "execution_count": null,
      "outputs": [
        {
          "output_type": "execute_result",
          "data": {
            "text/plain": [
              "['positive', 'negative']"
            ]
          },
          "metadata": {
            "tags": []
          },
          "execution_count": 37
        }
      ]
    },
    {
      "cell_type": "code",
      "metadata": {
        "colab": {
          "base_uri": "https://localhost:8080/"
        },
        "id": "LBAgSjiu9qhG",
        "outputId": "fc319495-afc2-4f56-cc8f-1716f4df7d68"
      },
      "source": [
        "# Predict probability scores for each category\n",
        "predictor.predict_proba(X_test[3722])"
      ],
      "execution_count": null,
      "outputs": [
        {
          "output_type": "execute_result",
          "data": {
            "text/plain": [
              "array([3.3855438e-04, 9.9966145e-01], dtype=float32)"
            ]
          },
          "metadata": {
            "tags": []
          },
          "execution_count": 54
        }
      ]
    },
    {
      "cell_type": "markdown",
      "metadata": {
        "id": "uUIxRnl3l-VM"
      },
      "source": [
        "As we see from the classes probabilities, the model computed the sentiment as _negative_ with a very high likelihood. Let's check which features contributed with that."
      ]
    },
    {
      "cell_type": "code",
      "metadata": {
        "id": "EMVqIsvp8ki_"
      },
      "source": [
        "predictor.explain(X_test[3722])"
      ],
      "execution_count": null,
      "outputs": []
    },
    {
      "cell_type": "markdown",
      "metadata": {
        "id": "KPPwgfDIrMr7"
      },
      "source": [
        "![Screenshot from 2020-12-13 17-15-32.png](data:image/png;base64,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)"
      ]
    },
    {
      "cell_type": "markdown",
      "metadata": {
        "id": "upPhFXJcXMb7"
      },
      "source": [
        "This is an interesting case since the top features are clearly mostly positive ones. However, the model classified the review as _negative_. We may be facing a weakness or bias in the model and might be investigated afterward."
      ]
    },
    {
      "cell_type": "markdown",
      "metadata": {
        "id": "pKn6ArRUXxf2"
      },
      "source": [
        "## 5. Conclusion\n",
        "\n",
        "In this mini-project, we dealt with a classification task to capture sentiment on movie text reviews. For such, It was used a known dataset made available by Standford AI Lab and composed of labeled _Train_ and _Test_ subsets with 25,000 observations each.\n",
        "\n",
        "After performing some wrangling with the data we reduced it by half to save computational resources during training and testing. After, we augmented such data with an EDA technique, namely synonym substitution.\n",
        "\n",
        "In end, the performance of the model did not improve (or worsened). The accuracy value itself was not too far from what are best results achieved with the same dataset and goal."
      ]
    }
  ]
}