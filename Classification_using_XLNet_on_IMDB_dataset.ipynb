{
  "nbformat": 4,
  "nbformat_minor": 0,
  "metadata": {
    "accelerator": "GPU",
    "colab": {
      "name": "Classification using XLNet on IMDB dataset.ipynb",
      "provenance": [],
      "collapsed_sections": []
    },
    "kernelspec": {
      "display_name": "Python 3",
      "name": "python3"
    },
    "widgets": {
      "application/vnd.jupyter.widget-state+json": {
        "37af494f831e46d183709bc76c229d36": {
          "model_module": "@jupyter-widgets/controls",
          "model_name": "HBoxModel",
          "state": {
            "_view_name": "HBoxView",
            "_dom_classes": [],
            "_model_name": "HBoxModel",
            "_view_module": "@jupyter-widgets/controls",
            "_model_module_version": "1.5.0",
            "_view_count": null,
            "_view_module_version": "1.5.0",
            "box_style": "",
            "layout": "IPY_MODEL_82eb219ddbb242898d5cd6232ffc3f35",
            "_model_module": "@jupyter-widgets/controls",
            "children": [
              "IPY_MODEL_aabc8a747fe843c49588c4f675169c6c",
              "IPY_MODEL_ac54dac7e1a340688ebd36e03688d06e"
            ]
          }
        },
        "82eb219ddbb242898d5cd6232ffc3f35": {
          "model_module": "@jupyter-widgets/base",
          "model_name": "LayoutModel",
          "state": {
            "_view_name": "LayoutView",
            "grid_template_rows": null,
            "right": null,
            "justify_content": null,
            "_view_module": "@jupyter-widgets/base",
            "overflow": null,
            "_model_module_version": "1.2.0",
            "_view_count": null,
            "flex_flow": null,
            "width": null,
            "min_width": null,
            "border": null,
            "align_items": null,
            "bottom": null,
            "_model_module": "@jupyter-widgets/base",
            "top": null,
            "grid_column": null,
            "overflow_y": null,
            "overflow_x": null,
            "grid_auto_flow": null,
            "grid_area": null,
            "grid_template_columns": null,
            "flex": null,
            "_model_name": "LayoutModel",
            "justify_items": null,
            "grid_row": null,
            "max_height": null,
            "align_content": null,
            "visibility": null,
            "align_self": null,
            "height": null,
            "min_height": null,
            "padding": null,
            "grid_auto_rows": null,
            "grid_gap": null,
            "max_width": null,
            "order": null,
            "_view_module_version": "1.2.0",
            "grid_template_areas": null,
            "object_position": null,
            "object_fit": null,
            "grid_auto_columns": null,
            "margin": null,
            "display": null,
            "left": null
          }
        },
        "aabc8a747fe843c49588c4f675169c6c": {
          "model_module": "@jupyter-widgets/controls",
          "model_name": "FloatProgressModel",
          "state": {
            "_view_name": "ProgressView",
            "style": "IPY_MODEL_16275139dbe54ed3869373d15ba5423d",
            "_dom_classes": [],
            "description": "Downloading: 100%",
            "_model_name": "FloatProgressModel",
            "bar_style": "success",
            "max": 760,
            "_view_module": "@jupyter-widgets/controls",
            "_model_module_version": "1.5.0",
            "value": 760,
            "_view_count": null,
            "_view_module_version": "1.5.0",
            "orientation": "horizontal",
            "min": 0,
            "description_tooltip": null,
            "_model_module": "@jupyter-widgets/controls",
            "layout": "IPY_MODEL_5b13cd8fc69d40c190e9fac2882d11cb"
          }
        },
        "ac54dac7e1a340688ebd36e03688d06e": {
          "model_module": "@jupyter-widgets/controls",
          "model_name": "HTMLModel",
          "state": {
            "_view_name": "HTMLView",
            "style": "IPY_MODEL_a2e4f16d7ecf4741b8a6081d5441bbe1",
            "_dom_classes": [],
            "description": "",
            "_model_name": "HTMLModel",
            "placeholder": "​",
            "_view_module": "@jupyter-widgets/controls",
            "_model_module_version": "1.5.0",
            "value": " 760/760 [00:00&lt;00:00, 11.3kB/s]",
            "_view_count": null,
            "_view_module_version": "1.5.0",
            "description_tooltip": null,
            "_model_module": "@jupyter-widgets/controls",
            "layout": "IPY_MODEL_ec1fccdc13994bb68fd5aa18e513afd9"
          }
        },
        "16275139dbe54ed3869373d15ba5423d": {
          "model_module": "@jupyter-widgets/controls",
          "model_name": "ProgressStyleModel",
          "state": {
            "_view_name": "StyleView",
            "_model_name": "ProgressStyleModel",
            "description_width": "initial",
            "_view_module": "@jupyter-widgets/base",
            "_model_module_version": "1.5.0",
            "_view_count": null,
            "_view_module_version": "1.2.0",
            "bar_color": null,
            "_model_module": "@jupyter-widgets/controls"
          }
        },
        "5b13cd8fc69d40c190e9fac2882d11cb": {
          "model_module": "@jupyter-widgets/base",
          "model_name": "LayoutModel",
          "state": {
            "_view_name": "LayoutView",
            "grid_template_rows": null,
            "right": null,
            "justify_content": null,
            "_view_module": "@jupyter-widgets/base",
            "overflow": null,
            "_model_module_version": "1.2.0",
            "_view_count": null,
            "flex_flow": null,
            "width": null,
            "min_width": null,
            "border": null,
            "align_items": null,
            "bottom": null,
            "_model_module": "@jupyter-widgets/base",
            "top": null,
            "grid_column": null,
            "overflow_y": null,
            "overflow_x": null,
            "grid_auto_flow": null,
            "grid_area": null,
            "grid_template_columns": null,
            "flex": null,
            "_model_name": "LayoutModel",
            "justify_items": null,
            "grid_row": null,
            "max_height": null,
            "align_content": null,
            "visibility": null,
            "align_self": null,
            "height": null,
            "min_height": null,
            "padding": null,
            "grid_auto_rows": null,
            "grid_gap": null,
            "max_width": null,
            "order": null,
            "_view_module_version": "1.2.0",
            "grid_template_areas": null,
            "object_position": null,
            "object_fit": null,
            "grid_auto_columns": null,
            "margin": null,
            "display": null,
            "left": null
          }
        },
        "a2e4f16d7ecf4741b8a6081d5441bbe1": {
          "model_module": "@jupyter-widgets/controls",
          "model_name": "DescriptionStyleModel",
          "state": {
            "_view_name": "StyleView",
            "_model_name": "DescriptionStyleModel",
            "description_width": "",
            "_view_module": "@jupyter-widgets/base",
            "_model_module_version": "1.5.0",
            "_view_count": null,
            "_view_module_version": "1.2.0",
            "_model_module": "@jupyter-widgets/controls"
          }
        },
        "ec1fccdc13994bb68fd5aa18e513afd9": {
          "model_module": "@jupyter-widgets/base",
          "model_name": "LayoutModel",
          "state": {
            "_view_name": "LayoutView",
            "grid_template_rows": null,
            "right": null,
            "justify_content": null,
            "_view_module": "@jupyter-widgets/base",
            "overflow": null,
            "_model_module_version": "1.2.0",
            "_view_count": null,
            "flex_flow": null,
            "width": null,
            "min_width": null,
            "border": null,
            "align_items": null,
            "bottom": null,
            "_model_module": "@jupyter-widgets/base",
            "top": null,
            "grid_column": null,
            "overflow_y": null,
            "overflow_x": null,
            "grid_auto_flow": null,
            "grid_area": null,
            "grid_template_columns": null,
            "flex": null,
            "_model_name": "LayoutModel",
            "justify_items": null,
            "grid_row": null,
            "max_height": null,
            "align_content": null,
            "visibility": null,
            "align_self": null,
            "height": null,
            "min_height": null,
            "padding": null,
            "grid_auto_rows": null,
            "grid_gap": null,
            "max_width": null,
            "order": null,
            "_view_module_version": "1.2.0",
            "grid_template_areas": null,
            "object_position": null,
            "object_fit": null,
            "grid_auto_columns": null,
            "margin": null,
            "display": null,
            "left": null
          }
        },
        "c6375431175f4d50a53a520b6a0d8cc2": {
          "model_module": "@jupyter-widgets/controls",
          "model_name": "HBoxModel",
          "state": {
            "_view_name": "HBoxView",
            "_dom_classes": [],
            "_model_name": "HBoxModel",
            "_view_module": "@jupyter-widgets/controls",
            "_model_module_version": "1.5.0",
            "_view_count": null,
            "_view_module_version": "1.5.0",
            "box_style": "",
            "layout": "IPY_MODEL_d7cf5a5fdb084e2a90ccb67ffcb377c6",
            "_model_module": "@jupyter-widgets/controls",
            "children": [
              "IPY_MODEL_5d3bbd1096b1426eaeb726be6481025e",
              "IPY_MODEL_43bd7fabba0443599fd489ce9963bf58"
            ]
          }
        },
        "d7cf5a5fdb084e2a90ccb67ffcb377c6": {
          "model_module": "@jupyter-widgets/base",
          "model_name": "LayoutModel",
          "state": {
            "_view_name": "LayoutView",
            "grid_template_rows": null,
            "right": null,
            "justify_content": null,
            "_view_module": "@jupyter-widgets/base",
            "overflow": null,
            "_model_module_version": "1.2.0",
            "_view_count": null,
            "flex_flow": null,
            "width": null,
            "min_width": null,
            "border": null,
            "align_items": null,
            "bottom": null,
            "_model_module": "@jupyter-widgets/base",
            "top": null,
            "grid_column": null,
            "overflow_y": null,
            "overflow_x": null,
            "grid_auto_flow": null,
            "grid_area": null,
            "grid_template_columns": null,
            "flex": null,
            "_model_name": "LayoutModel",
            "justify_items": null,
            "grid_row": null,
            "max_height": null,
            "align_content": null,
            "visibility": null,
            "align_self": null,
            "height": null,
            "min_height": null,
            "padding": null,
            "grid_auto_rows": null,
            "grid_gap": null,
            "max_width": null,
            "order": null,
            "_view_module_version": "1.2.0",
            "grid_template_areas": null,
            "object_position": null,
            "object_fit": null,
            "grid_auto_columns": null,
            "margin": null,
            "display": null,
            "left": null
          }
        },
        "5d3bbd1096b1426eaeb726be6481025e": {
          "model_module": "@jupyter-widgets/controls",
          "model_name": "FloatProgressModel",
          "state": {
            "_view_name": "ProgressView",
            "style": "IPY_MODEL_fd661fa1b0104a7eb8fbc64f7af69a29",
            "_dom_classes": [],
            "description": "Downloading: 100%",
            "_model_name": "FloatProgressModel",
            "bar_style": "success",
            "max": 798011,
            "_view_module": "@jupyter-widgets/controls",
            "_model_module_version": "1.5.0",
            "value": 798011,
            "_view_count": null,
            "_view_module_version": "1.5.0",
            "orientation": "horizontal",
            "min": 0,
            "description_tooltip": null,
            "_model_module": "@jupyter-widgets/controls",
            "layout": "IPY_MODEL_f333e604f8f340ed8401f022c3cfab0d"
          }
        },
        "43bd7fabba0443599fd489ce9963bf58": {
          "model_module": "@jupyter-widgets/controls",
          "model_name": "HTMLModel",
          "state": {
            "_view_name": "HTMLView",
            "style": "IPY_MODEL_c50465dd0d204c9cb484b498b990d659",
            "_dom_classes": [],
            "description": "",
            "_model_name": "HTMLModel",
            "placeholder": "​",
            "_view_module": "@jupyter-widgets/controls",
            "_model_module_version": "1.5.0",
            "value": " 798k/798k [00:38&lt;00:00, 20.7kB/s]",
            "_view_count": null,
            "_view_module_version": "1.5.0",
            "description_tooltip": null,
            "_model_module": "@jupyter-widgets/controls",
            "layout": "IPY_MODEL_dd8947fe624148b4852b342bccfd520c"
          }
        },
        "fd661fa1b0104a7eb8fbc64f7af69a29": {
          "model_module": "@jupyter-widgets/controls",
          "model_name": "ProgressStyleModel",
          "state": {
            "_view_name": "StyleView",
            "_model_name": "ProgressStyleModel",
            "description_width": "initial",
            "_view_module": "@jupyter-widgets/base",
            "_model_module_version": "1.5.0",
            "_view_count": null,
            "_view_module_version": "1.2.0",
            "bar_color": null,
            "_model_module": "@jupyter-widgets/controls"
          }
        },
        "f333e604f8f340ed8401f022c3cfab0d": {
          "model_module": "@jupyter-widgets/base",
          "model_name": "LayoutModel",
          "state": {
            "_view_name": "LayoutView",
            "grid_template_rows": null,
            "right": null,
            "justify_content": null,
            "_view_module": "@jupyter-widgets/base",
            "overflow": null,
            "_model_module_version": "1.2.0",
            "_view_count": null,
            "flex_flow": null,
            "width": null,
            "min_width": null,
            "border": null,
            "align_items": null,
            "bottom": null,
            "_model_module": "@jupyter-widgets/base",
            "top": null,
            "grid_column": null,
            "overflow_y": null,
            "overflow_x": null,
            "grid_auto_flow": null,
            "grid_area": null,
            "grid_template_columns": null,
            "flex": null,
            "_model_name": "LayoutModel",
            "justify_items": null,
            "grid_row": null,
            "max_height": null,
            "align_content": null,
            "visibility": null,
            "align_self": null,
            "height": null,
            "min_height": null,
            "padding": null,
            "grid_auto_rows": null,
            "grid_gap": null,
            "max_width": null,
            "order": null,
            "_view_module_version": "1.2.0",
            "grid_template_areas": null,
            "object_position": null,
            "object_fit": null,
            "grid_auto_columns": null,
            "margin": null,
            "display": null,
            "left": null
          }
        },
        "c50465dd0d204c9cb484b498b990d659": {
          "model_module": "@jupyter-widgets/controls",
          "model_name": "DescriptionStyleModel",
          "state": {
            "_view_name": "StyleView",
            "_model_name": "DescriptionStyleModel",
            "description_width": "",
            "_view_module": "@jupyter-widgets/base",
            "_model_module_version": "1.5.0",
            "_view_count": null,
            "_view_module_version": "1.2.0",
            "_model_module": "@jupyter-widgets/controls"
          }
        },
        "dd8947fe624148b4852b342bccfd520c": {
          "model_module": "@jupyter-widgets/base",
          "model_name": "LayoutModel",
          "state": {
            "_view_name": "LayoutView",
            "grid_template_rows": null,
            "right": null,
            "justify_content": null,
            "_view_module": "@jupyter-widgets/base",
            "overflow": null,
            "_model_module_version": "1.2.0",
            "_view_count": null,
            "flex_flow": null,
            "width": null,
            "min_width": null,
            "border": null,
            "align_items": null,
            "bottom": null,
            "_model_module": "@jupyter-widgets/base",
            "top": null,
            "grid_column": null,
            "overflow_y": null,
            "overflow_x": null,
            "grid_auto_flow": null,
            "grid_area": null,
            "grid_template_columns": null,
            "flex": null,
            "_model_name": "LayoutModel",
            "justify_items": null,
            "grid_row": null,
            "max_height": null,
            "align_content": null,
            "visibility": null,
            "align_self": null,
            "height": null,
            "min_height": null,
            "padding": null,
            "grid_auto_rows": null,
            "grid_gap": null,
            "max_width": null,
            "order": null,
            "_view_module_version": "1.2.0",
            "grid_template_areas": null,
            "object_position": null,
            "object_fit": null,
            "grid_auto_columns": null,
            "margin": null,
            "display": null,
            "left": null
          }
        },
        "684096d42d854ad69c4028f1e7488583": {
          "model_module": "@jupyter-widgets/controls",
          "model_name": "HBoxModel",
          "state": {
            "_view_name": "HBoxView",
            "_dom_classes": [],
            "_model_name": "HBoxModel",
            "_view_module": "@jupyter-widgets/controls",
            "_model_module_version": "1.5.0",
            "_view_count": null,
            "_view_module_version": "1.5.0",
            "box_style": "",
            "layout": "IPY_MODEL_e6e5334456ec441b8d166635aaa0c2d2",
            "_model_module": "@jupyter-widgets/controls",
            "children": [
              "IPY_MODEL_a1dab70309fc460ea7aaab2493e0435c",
              "IPY_MODEL_17b627e212354f9b99cdf546a5e02143"
            ]
          }
        },
        "e6e5334456ec441b8d166635aaa0c2d2": {
          "model_module": "@jupyter-widgets/base",
          "model_name": "LayoutModel",
          "state": {
            "_view_name": "LayoutView",
            "grid_template_rows": null,
            "right": null,
            "justify_content": null,
            "_view_module": "@jupyter-widgets/base",
            "overflow": null,
            "_model_module_version": "1.2.0",
            "_view_count": null,
            "flex_flow": null,
            "width": null,
            "min_width": null,
            "border": null,
            "align_items": null,
            "bottom": null,
            "_model_module": "@jupyter-widgets/base",
            "top": null,
            "grid_column": null,
            "overflow_y": null,
            "overflow_x": null,
            "grid_auto_flow": null,
            "grid_area": null,
            "grid_template_columns": null,
            "flex": null,
            "_model_name": "LayoutModel",
            "justify_items": null,
            "grid_row": null,
            "max_height": null,
            "align_content": null,
            "visibility": null,
            "align_self": null,
            "height": null,
            "min_height": null,
            "padding": null,
            "grid_auto_rows": null,
            "grid_gap": null,
            "max_width": null,
            "order": null,
            "_view_module_version": "1.2.0",
            "grid_template_areas": null,
            "object_position": null,
            "object_fit": null,
            "grid_auto_columns": null,
            "margin": null,
            "display": null,
            "left": null
          }
        },
        "a1dab70309fc460ea7aaab2493e0435c": {
          "model_module": "@jupyter-widgets/controls",
          "model_name": "FloatProgressModel",
          "state": {
            "_view_name": "ProgressView",
            "style": "IPY_MODEL_cd74859b78e4464d8e9faef73b51ba42",
            "_dom_classes": [],
            "description": "Downloading: 100%",
            "_model_name": "FloatProgressModel",
            "bar_style": "success",
            "max": 565485600,
            "_view_module": "@jupyter-widgets/controls",
            "_model_module_version": "1.5.0",
            "value": 565485600,
            "_view_count": null,
            "_view_module_version": "1.5.0",
            "orientation": "horizontal",
            "min": 0,
            "description_tooltip": null,
            "_model_module": "@jupyter-widgets/controls",
            "layout": "IPY_MODEL_619a267cf23343c5bdba31f9683b549a"
          }
        },
        "17b627e212354f9b99cdf546a5e02143": {
          "model_module": "@jupyter-widgets/controls",
          "model_name": "HTMLModel",
          "state": {
            "_view_name": "HTMLView",
            "style": "IPY_MODEL_a26ba2514fa2495792dde7fb986b0070",
            "_dom_classes": [],
            "description": "",
            "_model_name": "HTMLModel",
            "placeholder": "​",
            "_view_module": "@jupyter-widgets/controls",
            "_model_module_version": "1.5.0",
            "value": " 565M/565M [00:19&lt;00:00, 29.0MB/s]",
            "_view_count": null,
            "_view_module_version": "1.5.0",
            "description_tooltip": null,
            "_model_module": "@jupyter-widgets/controls",
            "layout": "IPY_MODEL_90591cb95de143e1816346e362a3263d"
          }
        },
        "cd74859b78e4464d8e9faef73b51ba42": {
          "model_module": "@jupyter-widgets/controls",
          "model_name": "ProgressStyleModel",
          "state": {
            "_view_name": "StyleView",
            "_model_name": "ProgressStyleModel",
            "description_width": "initial",
            "_view_module": "@jupyter-widgets/base",
            "_model_module_version": "1.5.0",
            "_view_count": null,
            "_view_module_version": "1.2.0",
            "bar_color": null,
            "_model_module": "@jupyter-widgets/controls"
          }
        },
        "619a267cf23343c5bdba31f9683b549a": {
          "model_module": "@jupyter-widgets/base",
          "model_name": "LayoutModel",
          "state": {
            "_view_name": "LayoutView",
            "grid_template_rows": null,
            "right": null,
            "justify_content": null,
            "_view_module": "@jupyter-widgets/base",
            "overflow": null,
            "_model_module_version": "1.2.0",
            "_view_count": null,
            "flex_flow": null,
            "width": null,
            "min_width": null,
            "border": null,
            "align_items": null,
            "bottom": null,
            "_model_module": "@jupyter-widgets/base",
            "top": null,
            "grid_column": null,
            "overflow_y": null,
            "overflow_x": null,
            "grid_auto_flow": null,
            "grid_area": null,
            "grid_template_columns": null,
            "flex": null,
            "_model_name": "LayoutModel",
            "justify_items": null,
            "grid_row": null,
            "max_height": null,
            "align_content": null,
            "visibility": null,
            "align_self": null,
            "height": null,
            "min_height": null,
            "padding": null,
            "grid_auto_rows": null,
            "grid_gap": null,
            "max_width": null,
            "order": null,
            "_view_module_version": "1.2.0",
            "grid_template_areas": null,
            "object_position": null,
            "object_fit": null,
            "grid_auto_columns": null,
            "margin": null,
            "display": null,
            "left": null
          }
        },
        "a26ba2514fa2495792dde7fb986b0070": {
          "model_module": "@jupyter-widgets/controls",
          "model_name": "DescriptionStyleModel",
          "state": {
            "_view_name": "StyleView",
            "_model_name": "DescriptionStyleModel",
            "description_width": "",
            "_view_module": "@jupyter-widgets/base",
            "_model_module_version": "1.5.0",
            "_view_count": null,
            "_view_module_version": "1.2.0",
            "_model_module": "@jupyter-widgets/controls"
          }
        },
        "90591cb95de143e1816346e362a3263d": {
          "model_module": "@jupyter-widgets/base",
          "model_name": "LayoutModel",
          "state": {
            "_view_name": "LayoutView",
            "grid_template_rows": null,
            "right": null,
            "justify_content": null,
            "_view_module": "@jupyter-widgets/base",
            "overflow": null,
            "_model_module_version": "1.2.0",
            "_view_count": null,
            "flex_flow": null,
            "width": null,
            "min_width": null,
            "border": null,
            "align_items": null,
            "bottom": null,
            "_model_module": "@jupyter-widgets/base",
            "top": null,
            "grid_column": null,
            "overflow_y": null,
            "overflow_x": null,
            "grid_auto_flow": null,
            "grid_area": null,
            "grid_template_columns": null,
            "flex": null,
            "_model_name": "LayoutModel",
            "justify_items": null,
            "grid_row": null,
            "max_height": null,
            "align_content": null,
            "visibility": null,
            "align_self": null,
            "height": null,
            "min_height": null,
            "padding": null,
            "grid_auto_rows": null,
            "grid_gap": null,
            "max_width": null,
            "order": null,
            "_view_module_version": "1.2.0",
            "grid_template_areas": null,
            "object_position": null,
            "object_fit": null,
            "grid_auto_columns": null,
            "margin": null,
            "display": null,
            "left": null
          }
        }
      }
    }
  },
  "cells": [
    {
      "cell_type": "markdown",
      "metadata": {
        "id": "DgfHNcOPbOk3"
      },
      "source": [
        "#Classification using XLNet on IMDB dataset\n",
        "\n",
        "In this mini-project, we use a pre-trained neural network as XLNet to predict the sentiment of movie reviews extracted from a large dataset before and after performing data augmentation.\n",
        "\n",
        "Due to the deluge of unstructured data produced nowadays like in text messages, social media, forums, blogs, news publishing platforms, web searches, and many other channels, it is imperative to develop efficient NLP algorithms to handle such a large volume of text data.\n",
        "\n",
        "Over the last decade, NLP technology has seen an incredible leap, with much progress made by Deep Learning. Started by Word2Vec the breakthroughs within the domain are numerous and made possible the creation (or revamp) of applications like machine translation, speech recognition, chatbots, and so on.\n",
        "\n",
        "For this task, we will use various Python libraries to perform data wrangling, exploratory analysis, model building, training, and evaluation."
      ]
    },
    {
      "cell_type": "markdown",
      "metadata": {
        "id": "VNfPfsebBWVZ"
      },
      "source": [
        "## 1.Data gathering\n",
        "\n",
        "We start by gathering the movie reviews from raw text files made available from Stanford AI Lab at this [link](https://ai.stanford.edu/~amaas/data/sentiment/).\n",
        "\n",
        "The text files names follow a convention: [id]_[rating].txt where [id] is a unique id and [rating] is the star rating for that review on a 1-10 scale.\n",
        "\n",
        "In the labeled _Train_/_Test_ subsets, a **negative** review has a score <= 4 out of 10,\n",
        "and a **positive** review has a score >= 7 out of 10. Thus reviews with\n",
        "more neutral ratings are not included.\n",
        "\n",
        "Here, we will extract the review information from each file name and assign a label accordingly."
      ]
    },
    {
      "cell_type": "code",
      "metadata": {
        "colab": {
          "base_uri": "https://localhost:8080/"
        },
        "id": "mm6K5U0K_pHn",
        "outputId": "128f22d5-0480-4d30-ed00-a490cc54a0a5"
      },
      "source": [
        "# Mount a virtual drive from GDrive\n",
        "from google.colab import drive\n",
        "drive.mount('/content/drive')"
      ],
      "execution_count": null,
      "outputs": [
        {
          "output_type": "stream",
          "text": [
            "Mounted at /content/drive\n"
          ],
          "name": "stdout"
        }
      ]
    },
    {
      "cell_type": "code",
      "metadata": {
        "colab": {
          "base_uri": "https://localhost:8080/",
          "height": 206
        },
        "id": "x0J8G0VSHyTt",
        "outputId": "fcf66102-5bfc-4d32-d95f-5a1cbf079c01"
      },
      "source": [
        "import pandas as pd\n",
        "import os\n",
        "\n",
        "# Create a list object to import positive reviews from train directory\n",
        "file_names_pos = os.listdir('/content/drive/My Drive/data/aclImdb_v1.tar.gz/aclImdb/train/pos/')\n",
        "\n",
        "# Create dataframe to store scores, labels, and texts\n",
        "train_pos = pd.DataFrame(columns=['text', 'score','label'])\n",
        "\n",
        "for i in range(0,len(file_names_pos)):\n",
        "  ending = file_names_pos[i].split('_')[-1]\n",
        "  res = [int(i) for i in ending.split('.') if i.isdigit()]\n",
        "  train_pos.loc[i,'score'] = res[0]\n",
        "  train_pos.loc[i,'label'] = 'positive'\n",
        "  with open('/content/drive/My Drive/data/aclImdb_v1.tar.gz/aclImdb/train/pos/' + file_names_pos[i], \"r\") as pos_file:\n",
        "    train_pos.loc[i,'text'] = pos_file.read()\n",
        "        \n",
        "# Create a list object to import negative reviews from train directory\n",
        "file_names_neg = os.listdir('/content/drive/My Drive/data/aclImdb_v1.tar.gz/aclImdb/train/neg/')\n",
        "\n",
        "# Create dataframe to store scores, labels, and texts\n",
        "train_neg = pd.DataFrame(columns=['text', 'score','label'])\n",
        "\n",
        "for i in range(0,len(file_names_neg)):\n",
        "  ending = file_names_neg[i].split('_')[-1]\n",
        "  res = [int(i) for i in ending.split('.') if i.isdigit()]\n",
        "  train_neg.loc[i,'score'] = res[0]\n",
        "  train_neg.loc[i,'label'] = 'negative'\n",
        "  with open('/content/drive/My Drive/data/aclImdb_v1.tar.gz/aclImdb/train/neg/' + file_names_neg[i], \"r\") as neg_file:\n",
        "    train_neg.loc[i,'text'] = neg_file.read()\n",
        "\n",
        "# Concatenate both positive and negative reviews dataframes\n",
        "df_train = pd.concat([train_pos,train_neg], ignore_index=True)\n",
        "df_train.head() # display the first 5 rows"
      ],
      "execution_count": null,
      "outputs": [
        {
          "output_type": "execute_result",
          "data": {
            "text/html": [
              "<div>\n",
              "<style scoped>\n",
              "    .dataframe tbody tr th:only-of-type {\n",
              "        vertical-align: middle;\n",
              "    }\n",
              "\n",
              "    .dataframe tbody tr th {\n",
              "        vertical-align: top;\n",
              "    }\n",
              "\n",
              "    .dataframe thead th {\n",
              "        text-align: right;\n",
              "    }\n",
              "</style>\n",
              "<table border=\"1\" class=\"dataframe\">\n",
              "  <thead>\n",
              "    <tr style=\"text-align: right;\">\n",
              "      <th></th>\n",
              "      <th>text</th>\n",
              "      <th>score</th>\n",
              "      <th>label</th>\n",
              "    </tr>\n",
              "  </thead>\n",
              "  <tbody>\n",
              "    <tr>\n",
              "      <th>0</th>\n",
              "      <td>Nicely and intelligently played by the two you...</td>\n",
              "      <td>10</td>\n",
              "      <td>positive</td>\n",
              "    </tr>\n",
              "    <tr>\n",
              "      <th>1</th>\n",
              "      <td>S.S. Van Dine must have been a shrewd business...</td>\n",
              "      <td>8</td>\n",
              "      <td>positive</td>\n",
              "    </tr>\n",
              "    <tr>\n",
              "      <th>2</th>\n",
              "      <td>EDMUND LOWE (who reminds me somewhat of Warren...</td>\n",
              "      <td>7</td>\n",
              "      <td>positive</td>\n",
              "    </tr>\n",
              "    <tr>\n",
              "      <th>3</th>\n",
              "      <td>When Philo Vance (Edmund Lowe) is standing pre...</td>\n",
              "      <td>9</td>\n",
              "      <td>positive</td>\n",
              "    </tr>\n",
              "    <tr>\n",
              "      <th>4</th>\n",
              "      <td>Etienne Girardot is just a character actor--th...</td>\n",
              "      <td>7</td>\n",
              "      <td>positive</td>\n",
              "    </tr>\n",
              "  </tbody>\n",
              "</table>\n",
              "</div>"
            ],
            "text/plain": [
              "                                                text score     label\n",
              "0  Nicely and intelligently played by the two you...    10  positive\n",
              "1  S.S. Van Dine must have been a shrewd business...     8  positive\n",
              "2  EDMUND LOWE (who reminds me somewhat of Warren...     7  positive\n",
              "3  When Philo Vance (Edmund Lowe) is standing pre...     9  positive\n",
              "4  Etienne Girardot is just a character actor--th...     7  positive"
            ]
          },
          "metadata": {
            "tags": []
          },
          "execution_count": 3
        }
      ]
    },
    {
      "cell_type": "code",
      "metadata": {
        "colab": {
          "base_uri": "https://localhost:8080/",
          "height": 206
        },
        "id": "JJMABb5UHyhE",
        "outputId": "a3c12187-adc8-45a5-d0f6-d0a24ced8648"
      },
      "source": [
        "# Create a list object to import positive reviews from test directory\n",
        "file_names_pos = os.listdir('/content/drive/My Drive/data/aclImdb_v1.tar.gz/aclImdb/test/pos/')\n",
        "\n",
        "# Create dataframe to store scores, labels, and texts\n",
        "test_pos = pd.DataFrame(columns=['text', 'score','label'])\n",
        "\n",
        "for i in range(0,len(file_names_pos)):\n",
        "  ending = file_names_pos[i].split('_')[-1]\n",
        "  res = [int(i) for i in ending.split('.') if i.isdigit()]\n",
        "  test_pos.loc[i,'score'] = res[0]\n",
        "  test_pos.loc[i,'label'] = 'positive'\n",
        "  with open('/content/drive/My Drive/data/aclImdb_v1.tar.gz/aclImdb/test/pos/' + file_names_pos[i], \"r\") as pos_file:\n",
        "    test_pos.loc[i,'text'] = pos_file.read()\n",
        "        \n",
        "# Create a list object to import negative reviews from test directory\n",
        "file_names_neg = os.listdir('/content/drive/My Drive/data/aclImdb_v1.tar.gz/aclImdb/test/neg/')\n",
        "\n",
        "# Create dataframe to store scores, labels, and texts\n",
        "test_neg = pd.DataFrame(columns=['text', 'score','label'])\n",
        "\n",
        "for i in range(0,len(file_names_neg)):\n",
        "  ending = file_names_neg[i].split('_')[-1]\n",
        "  res = [int(i) for i in ending.split('.') if i.isdigit()]\n",
        "  test_neg.loc[i,'score'] = res[0]\n",
        "  test_neg.loc[i,'label'] = 'negative'\n",
        "  with open('/content/drive/My Drive/data/aclImdb_v1.tar.gz/aclImdb/test/neg/' + file_names_neg[i], \"r\") as neg_file:\n",
        "    test_neg.loc[i,'text'] = neg_file.read()\n",
        "\n",
        "# Concatenate both positive and negative reviews dataframes\n",
        "df_test = pd.concat([test_pos,test_neg], ignore_index=True)\n",
        "df_test.head() # display the first 5 rows"
      ],
      "execution_count": null,
      "outputs": [
        {
          "output_type": "execute_result",
          "data": {
            "text/html": [
              "<div>\n",
              "<style scoped>\n",
              "    .dataframe tbody tr th:only-of-type {\n",
              "        vertical-align: middle;\n",
              "    }\n",
              "\n",
              "    .dataframe tbody tr th {\n",
              "        vertical-align: top;\n",
              "    }\n",
              "\n",
              "    .dataframe thead th {\n",
              "        text-align: right;\n",
              "    }\n",
              "</style>\n",
              "<table border=\"1\" class=\"dataframe\">\n",
              "  <thead>\n",
              "    <tr style=\"text-align: right;\">\n",
              "      <th></th>\n",
              "      <th>text</th>\n",
              "      <th>score</th>\n",
              "      <th>label</th>\n",
              "    </tr>\n",
              "  </thead>\n",
              "  <tbody>\n",
              "    <tr>\n",
              "      <th>0</th>\n",
              "      <td>Simon Wests pg-13 thriller about a babysitter ...</td>\n",
              "      <td>7</td>\n",
              "      <td>positive</td>\n",
              "    </tr>\n",
              "    <tr>\n",
              "      <th>1</th>\n",
              "      <td>I was recently at a sleepover birthday party w...</td>\n",
              "      <td>9</td>\n",
              "      <td>positive</td>\n",
              "    </tr>\n",
              "    <tr>\n",
              "      <th>2</th>\n",
              "      <td>A hundred miles away from the scene of a grizz...</td>\n",
              "      <td>7</td>\n",
              "      <td>positive</td>\n",
              "    </tr>\n",
              "    <tr>\n",
              "      <th>3</th>\n",
              "      <td>If you have ever babysat in a house you didn't...</td>\n",
              "      <td>7</td>\n",
              "      <td>positive</td>\n",
              "    </tr>\n",
              "    <tr>\n",
              "      <th>4</th>\n",
              "      <td>People say that this film is a 'typical teen h...</td>\n",
              "      <td>8</td>\n",
              "      <td>positive</td>\n",
              "    </tr>\n",
              "  </tbody>\n",
              "</table>\n",
              "</div>"
            ],
            "text/plain": [
              "                                                text score     label\n",
              "0  Simon Wests pg-13 thriller about a babysitter ...     7  positive\n",
              "1  I was recently at a sleepover birthday party w...     9  positive\n",
              "2  A hundred miles away from the scene of a grizz...     7  positive\n",
              "3  If you have ever babysat in a house you didn't...     7  positive\n",
              "4  People say that this film is a 'typical teen h...     8  positive"
            ]
          },
          "metadata": {
            "tags": []
          },
          "execution_count": 6
        }
      ]
    },
    {
      "cell_type": "markdown",
      "metadata": {
        "id": "SEYW57KYxZnV"
      },
      "source": [
        "## 2. Exploratory Analysis\n",
        "\n",
        "Before start is always a good practice to understand the data. So, let's do some exploratory data analysis;"
      ]
    },
    {
      "cell_type": "code",
      "metadata": {
        "colab": {
          "base_uri": "https://localhost:8080/",
          "height": 175
        },
        "id": "8C7Mg3S7wL5S",
        "outputId": "ff96b5bf-d83a-4909-b632-7630ff1b2392"
      },
      "source": [
        "# Get preliminaries from dataset\n",
        "df_train.describe()"
      ],
      "execution_count": null,
      "outputs": [
        {
          "output_type": "execute_result",
          "data": {
            "text/html": [
              "<div>\n",
              "<style scoped>\n",
              "    .dataframe tbody tr th:only-of-type {\n",
              "        vertical-align: middle;\n",
              "    }\n",
              "\n",
              "    .dataframe tbody tr th {\n",
              "        vertical-align: top;\n",
              "    }\n",
              "\n",
              "    .dataframe thead th {\n",
              "        text-align: right;\n",
              "    }\n",
              "</style>\n",
              "<table border=\"1\" class=\"dataframe\">\n",
              "  <thead>\n",
              "    <tr style=\"text-align: right;\">\n",
              "      <th></th>\n",
              "      <th>text</th>\n",
              "      <th>score</th>\n",
              "      <th>label</th>\n",
              "    </tr>\n",
              "  </thead>\n",
              "  <tbody>\n",
              "    <tr>\n",
              "      <th>count</th>\n",
              "      <td>25000</td>\n",
              "      <td>25000</td>\n",
              "      <td>25000</td>\n",
              "    </tr>\n",
              "    <tr>\n",
              "      <th>unique</th>\n",
              "      <td>24904</td>\n",
              "      <td>8</td>\n",
              "      <td>2</td>\n",
              "    </tr>\n",
              "    <tr>\n",
              "      <th>top</th>\n",
              "      <td>This show comes up with interesting locations ...</td>\n",
              "      <td>1</td>\n",
              "      <td>negative</td>\n",
              "    </tr>\n",
              "    <tr>\n",
              "      <th>freq</th>\n",
              "      <td>3</td>\n",
              "      <td>5100</td>\n",
              "      <td>12500</td>\n",
              "    </tr>\n",
              "  </tbody>\n",
              "</table>\n",
              "</div>"
            ],
            "text/plain": [
              "                                                     text  score     label\n",
              "count                                               25000  25000     25000\n",
              "unique                                              24904      8         2\n",
              "top     This show comes up with interesting locations ...      1  negative\n",
              "freq                                                    3   5100     12500"
            ]
          },
          "metadata": {
            "tags": []
          },
          "execution_count": 157
        }
      ]
    },
    {
      "cell_type": "markdown",
      "metadata": {
        "id": "Wq2XeL8Rx4ZN"
      },
      "source": [
        "As we see, the _Train_ subset has 25,000 rows. However, not all of them are unique, that means, there are some duplicates that we need to deal with."
      ]
    },
    {
      "cell_type": "code",
      "metadata": {
        "colab": {
          "base_uri": "https://localhost:8080/",
          "height": 424
        },
        "id": "c1rknqAZzNuz",
        "outputId": "035d19f7-32cf-4aa6-f281-44a5d71709d8"
      },
      "source": [
        "# Display duplicates\n",
        "duplicated = df_train[df_train.duplicated(keep=False)]\n",
        "duplicated.sort_values(\"text\")"
      ],
      "execution_count": null,
      "outputs": [
        {
          "output_type": "execute_result",
          "data": {
            "text/html": [
              "<div>\n",
              "<style scoped>\n",
              "    .dataframe tbody tr th:only-of-type {\n",
              "        vertical-align: middle;\n",
              "    }\n",
              "\n",
              "    .dataframe tbody tr th {\n",
              "        vertical-align: top;\n",
              "    }\n",
              "\n",
              "    .dataframe thead th {\n",
              "        text-align: right;\n",
              "    }\n",
              "</style>\n",
              "<table border=\"1\" class=\"dataframe\">\n",
              "  <thead>\n",
              "    <tr style=\"text-align: right;\">\n",
              "      <th></th>\n",
              "      <th>text</th>\n",
              "      <th>score</th>\n",
              "      <th>label</th>\n",
              "    </tr>\n",
              "  </thead>\n",
              "  <tbody>\n",
              "    <tr>\n",
              "      <th>21217</th>\n",
              "      <td>'Dead Letter Office' is a low-budget film abou...</td>\n",
              "      <td>4</td>\n",
              "      <td>negative</td>\n",
              "    </tr>\n",
              "    <tr>\n",
              "      <th>23936</th>\n",
              "      <td>'Dead Letter Office' is a low-budget film abou...</td>\n",
              "      <td>4</td>\n",
              "      <td>negative</td>\n",
              "    </tr>\n",
              "    <tr>\n",
              "      <th>6591</th>\n",
              "      <td>.......Playing Kaddiddlehopper, Col San Fernan...</td>\n",
              "      <td>8</td>\n",
              "      <td>positive</td>\n",
              "    </tr>\n",
              "    <tr>\n",
              "      <th>3741</th>\n",
              "      <td>.......Playing Kaddiddlehopper, Col San Fernan...</td>\n",
              "      <td>8</td>\n",
              "      <td>positive</td>\n",
              "    </tr>\n",
              "    <tr>\n",
              "      <th>18177</th>\n",
              "      <td>&lt;br /&gt;&lt;br /&gt;Back in his youth, the old man had...</td>\n",
              "      <td>2</td>\n",
              "      <td>negative</td>\n",
              "    </tr>\n",
              "    <tr>\n",
              "      <th>...</th>\n",
              "      <td>...</td>\n",
              "      <td>...</td>\n",
              "      <td>...</td>\n",
              "    </tr>\n",
              "    <tr>\n",
              "      <th>17877</th>\n",
              "      <td>in this movie, joe pesci slams dunks a basketb...</td>\n",
              "      <td>3</td>\n",
              "      <td>negative</td>\n",
              "    </tr>\n",
              "    <tr>\n",
              "      <th>3123</th>\n",
              "      <td>it's amazing that so many people that i know h...</td>\n",
              "      <td>9</td>\n",
              "      <td>positive</td>\n",
              "    </tr>\n",
              "    <tr>\n",
              "      <th>3126</th>\n",
              "      <td>it's amazing that so many people that i know h...</td>\n",
              "      <td>9</td>\n",
              "      <td>positive</td>\n",
              "    </tr>\n",
              "    <tr>\n",
              "      <th>20027</th>\n",
              "      <td>this movie begins with an ordinary funeral... ...</td>\n",
              "      <td>1</td>\n",
              "      <td>negative</td>\n",
              "    </tr>\n",
              "    <tr>\n",
              "      <th>17542</th>\n",
              "      <td>this movie begins with an ordinary funeral... ...</td>\n",
              "      <td>1</td>\n",
              "      <td>negative</td>\n",
              "    </tr>\n",
              "  </tbody>\n",
              "</table>\n",
              "<p>186 rows × 3 columns</p>\n",
              "</div>"
            ],
            "text/plain": [
              "                                                    text score     label\n",
              "21217  'Dead Letter Office' is a low-budget film abou...     4  negative\n",
              "23936  'Dead Letter Office' is a low-budget film abou...     4  negative\n",
              "6591   .......Playing Kaddiddlehopper, Col San Fernan...     8  positive\n",
              "3741   .......Playing Kaddiddlehopper, Col San Fernan...     8  positive\n",
              "18177  <br /><br />Back in his youth, the old man had...     2  negative\n",
              "...                                                  ...   ...       ...\n",
              "17877  in this movie, joe pesci slams dunks a basketb...     3  negative\n",
              "3123   it's amazing that so many people that i know h...     9  positive\n",
              "3126   it's amazing that so many people that i know h...     9  positive\n",
              "20027  this movie begins with an ordinary funeral... ...     1  negative\n",
              "17542  this movie begins with an ordinary funeral... ...     1  negative\n",
              "\n",
              "[186 rows x 3 columns]"
            ]
          },
          "metadata": {
            "tags": []
          },
          "execution_count": 158
        }
      ]
    },
    {
      "cell_type": "code",
      "metadata": {
        "colab": {
          "base_uri": "https://localhost:8080/"
        },
        "id": "NBzbN_7_yOCt",
        "outputId": "13d48788-bbf3-4653-b27e-bc0f1c99e2f1"
      },
      "source": [
        "# Drop the duplicates\n",
        "df_train = pd.DataFrame.drop_duplicates(df_train, ignore_index=True)\n",
        "df_train.shape"
      ],
      "execution_count": null,
      "outputs": [
        {
          "output_type": "execute_result",
          "data": {
            "text/plain": [
              "(24905, 3)"
            ]
          },
          "metadata": {
            "tags": []
          },
          "execution_count": 3
        }
      ]
    },
    {
      "cell_type": "markdown",
      "metadata": {
        "id": "2n8Lajgc_3Gf"
      },
      "source": [
        "From 25,000 rows 24,905 were left. Let's check again for uniquiness."
      ]
    },
    {
      "cell_type": "code",
      "metadata": {
        "colab": {
          "base_uri": "https://localhost:8080/",
          "height": 175
        },
        "id": "KnOSWaiO3Nje",
        "outputId": "9b49caf5-6a35-4bea-d2e2-11b23dc36cc6"
      },
      "source": [
        "# Check the result\n",
        "df_train.describe()"
      ],
      "execution_count": null,
      "outputs": [
        {
          "output_type": "execute_result",
          "data": {
            "text/html": [
              "<div>\n",
              "<style scoped>\n",
              "    .dataframe tbody tr th:only-of-type {\n",
              "        vertical-align: middle;\n",
              "    }\n",
              "\n",
              "    .dataframe tbody tr th {\n",
              "        vertical-align: top;\n",
              "    }\n",
              "\n",
              "    .dataframe thead th {\n",
              "        text-align: right;\n",
              "    }\n",
              "</style>\n",
              "<table border=\"1\" class=\"dataframe\">\n",
              "  <thead>\n",
              "    <tr style=\"text-align: right;\">\n",
              "      <th></th>\n",
              "      <th>text</th>\n",
              "      <th>score</th>\n",
              "      <th>label</th>\n",
              "    </tr>\n",
              "  </thead>\n",
              "  <tbody>\n",
              "    <tr>\n",
              "      <th>count</th>\n",
              "      <td>24905</td>\n",
              "      <td>24905</td>\n",
              "      <td>24905</td>\n",
              "    </tr>\n",
              "    <tr>\n",
              "      <th>unique</th>\n",
              "      <td>24904</td>\n",
              "      <td>8</td>\n",
              "      <td>2</td>\n",
              "    </tr>\n",
              "    <tr>\n",
              "      <th>top</th>\n",
              "      <td>Sondra Locke stinks in this film, but then she...</td>\n",
              "      <td>1</td>\n",
              "      <td>positive</td>\n",
              "    </tr>\n",
              "    <tr>\n",
              "      <th>freq</th>\n",
              "      <td>2</td>\n",
              "      <td>5068</td>\n",
              "      <td>12472</td>\n",
              "    </tr>\n",
              "  </tbody>\n",
              "</table>\n",
              "</div>"
            ],
            "text/plain": [
              "                                                     text  score     label\n",
              "count                                               24905  24905     24905\n",
              "unique                                              24904      8         2\n",
              "top     Sondra Locke stinks in this film, but then she...      1  positive\n",
              "freq                                                    2   5068     12472"
            ]
          },
          "metadata": {
            "tags": []
          },
          "execution_count": 160
        }
      ]
    },
    {
      "cell_type": "markdown",
      "metadata": {
        "id": "FeTDyLv0AGkz"
      },
      "source": [
        "Still a problem. There is an issue with the row with text about _Sondra Locke's_ film. Let's investigate."
      ]
    },
    {
      "cell_type": "code",
      "metadata": {
        "colab": {
          "base_uri": "https://localhost:8080/",
          "height": 112
        },
        "id": "AqkojEOg4CnS",
        "outputId": "38ed4f1f-dba1-4a58-93ae-0fd919596a8d"
      },
      "source": [
        "# Display rows with the same text about Sondra Locke\n",
        "df_train[df_train['text'].str.contains(\"Sondra Locke stinks in this film, but then she\")]"
      ],
      "execution_count": null,
      "outputs": [
        {
          "output_type": "execute_result",
          "data": {
            "text/html": [
              "<div>\n",
              "<style scoped>\n",
              "    .dataframe tbody tr th:only-of-type {\n",
              "        vertical-align: middle;\n",
              "    }\n",
              "\n",
              "    .dataframe tbody tr th {\n",
              "        vertical-align: top;\n",
              "    }\n",
              "\n",
              "    .dataframe thead th {\n",
              "        text-align: right;\n",
              "    }\n",
              "</style>\n",
              "<table border=\"1\" class=\"dataframe\">\n",
              "  <thead>\n",
              "    <tr style=\"text-align: right;\">\n",
              "      <th></th>\n",
              "      <th>text</th>\n",
              "      <th>score</th>\n",
              "      <th>label</th>\n",
              "    </tr>\n",
              "  </thead>\n",
              "  <tbody>\n",
              "    <tr>\n",
              "      <th>13436</th>\n",
              "      <td>Sondra Locke stinks in this film, but then she...</td>\n",
              "      <td>3</td>\n",
              "      <td>negative</td>\n",
              "    </tr>\n",
              "    <tr>\n",
              "      <th>13438</th>\n",
              "      <td>Sondra Locke stinks in this film, but then she...</td>\n",
              "      <td>4</td>\n",
              "      <td>negative</td>\n",
              "    </tr>\n",
              "  </tbody>\n",
              "</table>\n",
              "</div>"
            ],
            "text/plain": [
              "                                                    text score     label\n",
              "13436  Sondra Locke stinks in this film, but then she...     3  negative\n",
              "13438  Sondra Locke stinks in this film, but then she...     4  negative"
            ]
          },
          "metadata": {
            "tags": []
          },
          "execution_count": 161
        }
      ]
    },
    {
      "cell_type": "markdown",
      "metadata": {
        "id": "6nxjHdUicUcu"
      },
      "source": [
        "The previous cleaning method didn't catch this issue because it did not considered those rows as duplicates since the scores are different. Let's handle that."
      ]
    },
    {
      "cell_type": "code",
      "metadata": {
        "id": "Ns6kwp705Co3"
      },
      "source": [
        "# Drop the duplicate\n",
        "df_train = df_train.drop(df_train.index[13438])"
      ],
      "execution_count": null,
      "outputs": []
    },
    {
      "cell_type": "code",
      "metadata": {
        "colab": {
          "base_uri": "https://localhost:8080/",
          "height": 173
        },
        "id": "Ny8195Tf3Nvp",
        "outputId": "c99db45d-1152-45d6-84bb-7eb61c4a74fb"
      },
      "source": [
        "# Check the result\n",
        "df_train.describe()"
      ],
      "execution_count": null,
      "outputs": [
        {
          "output_type": "execute_result",
          "data": {
            "text/html": [
              "<div>\n",
              "<style scoped>\n",
              "    .dataframe tbody tr th:only-of-type {\n",
              "        vertical-align: middle;\n",
              "    }\n",
              "\n",
              "    .dataframe tbody tr th {\n",
              "        vertical-align: top;\n",
              "    }\n",
              "\n",
              "    .dataframe thead th {\n",
              "        text-align: right;\n",
              "    }\n",
              "</style>\n",
              "<table border=\"1\" class=\"dataframe\">\n",
              "  <thead>\n",
              "    <tr style=\"text-align: right;\">\n",
              "      <th></th>\n",
              "      <th>text</th>\n",
              "      <th>score</th>\n",
              "      <th>label</th>\n",
              "    </tr>\n",
              "  </thead>\n",
              "  <tbody>\n",
              "    <tr>\n",
              "      <th>count</th>\n",
              "      <td>24904</td>\n",
              "      <td>24904</td>\n",
              "      <td>24904</td>\n",
              "    </tr>\n",
              "    <tr>\n",
              "      <th>unique</th>\n",
              "      <td>24904</td>\n",
              "      <td>8</td>\n",
              "      <td>2</td>\n",
              "    </tr>\n",
              "    <tr>\n",
              "      <th>top</th>\n",
              "      <td>I'm certainly glad that a film was made about ...</td>\n",
              "      <td>1</td>\n",
              "      <td>positive</td>\n",
              "    </tr>\n",
              "    <tr>\n",
              "      <th>freq</th>\n",
              "      <td>1</td>\n",
              "      <td>5068</td>\n",
              "      <td>12472</td>\n",
              "    </tr>\n",
              "  </tbody>\n",
              "</table>\n",
              "</div>"
            ],
            "text/plain": [
              "                                                     text  score     label\n",
              "count                                               24904  24904     24904\n",
              "unique                                              24904      8         2\n",
              "top     I'm certainly glad that a film was made about ...      1  positive\n",
              "freq                                                    1   5068     12472"
            ]
          },
          "metadata": {
            "tags": []
          },
          "execution_count": 5
        }
      ]
    },
    {
      "cell_type": "markdown",
      "metadata": {
        "id": "6Ogfgi1cA5s1"
      },
      "source": [
        "We are good to go. Now, let's check for the distribution of _scores_ and _labels_. But first we need to check on each column data type."
      ]
    },
    {
      "cell_type": "code",
      "metadata": {
        "colab": {
          "base_uri": "https://localhost:8080/"
        },
        "id": "zuEV-NbnBqoU",
        "outputId": "0394f925-8f76-4cd9-9d8a-3a2516af33ae"
      },
      "source": [
        "# Check columns data type\n",
        "df_train.dtypes"
      ],
      "execution_count": null,
      "outputs": [
        {
          "output_type": "execute_result",
          "data": {
            "text/plain": [
              "text     object\n",
              "score    object\n",
              "label    object\n",
              "dtype: object"
            ]
          },
          "metadata": {
            "tags": []
          },
          "execution_count": 164
        }
      ]
    },
    {
      "cell_type": "markdown",
      "metadata": {
        "id": "uNDXcSIxF-1-"
      },
      "source": [
        "Before plotting we need to convert each column values accordingly."
      ]
    },
    {
      "cell_type": "code",
      "metadata": {
        "id": "Lci7sFcvB_Bb"
      },
      "source": [
        "df_train['score'] = df_train['score'].astype(int) # convert into integers\n",
        "df_train['label'] = pd.Categorical(df_train.label) # convert into categorical"
      ],
      "execution_count": null,
      "outputs": []
    },
    {
      "cell_type": "code",
      "metadata": {
        "colab": {
          "base_uri": "https://localhost:8080/",
          "height": 285
        },
        "id": "CWh1rn92BH10",
        "outputId": "31879a42-cc06-417c-fc92-d2a0eef1205c"
      },
      "source": [
        "import seaborn as sns\n",
        "\n",
        "sns.set(color_codes=True)\n",
        "sns.set(style=\"white\", palette=\"muted\")\n",
        "\n",
        "# Plot histogram of the scores\n",
        "score =sns.histplot(data=df_train, x=\"score\", bins=8)"
      ],
      "execution_count": null,
      "outputs": [
        {
          "output_type": "display_data",
          "data": {
            "image/png": "[encoded data removed]",
            "text/plain": [
              "<Figure size 432x288 with 1 Axes>"
            ]
          },
          "metadata": {
            "tags": []
          }
        }
      ]
    },
    {
      "cell_type": "markdown",
      "metadata": {
        "id": "01IGzHVoGSEl"
      },
      "source": [
        "The graph above is pratically symmetric with no values between 5 and 6 (as previously noted) which indicates that the distribuition of negatives and positive labels may be uniform. Let's check."
      ]
    },
    {
      "cell_type": "code",
      "metadata": {
        "colab": {
          "base_uri": "https://localhost:8080/",
          "height": 382
        },
        "id": "wl-rklsBDbAD",
        "outputId": "2b5f0973-312b-405c-d415-3e218b8be78c"
      },
      "source": [
        "# Print labels bar plor\n",
        "label = sns.catplot(x=\"label\", kind=\"count\", data=df_train)"
      ],
      "execution_count": null,
      "outputs": [
        {
          "output_type": "display_data",
          "data": {
            "image/png": "[encoded data removed]",
            "text/plain": [
              "<Figure size 360x360 with 1 Axes>"
            ]
          },
          "metadata": {
            "tags": []
          }
        }
      ]
    },
    {
      "cell_type": "markdown",
      "metadata": {
        "id": "oWuUZWP-RzS4"
      },
      "source": [
        "As we can verify from the graph above, the labels are not significantly imbalanced and we do not have to worry about doing under(over)sampling or creating synthetic data."
      ]
    },
    {
      "cell_type": "markdown",
      "metadata": {
        "id": "ABHoN2TIS9Sj"
      },
      "source": [
        "Let's do a similar check on _Test_ subset."
      ]
    },
    {
      "cell_type": "code",
      "metadata": {
        "colab": {
          "base_uri": "https://localhost:8080/",
          "height": 175
        },
        "id": "2Ymurgh4LcPk",
        "outputId": "9bf7ac23-c1ba-475f-eee9-a0a118778d00"
      },
      "source": [
        "# Get preliminaries from datases\n",
        "df_test.describe()"
      ],
      "execution_count": null,
      "outputs": [
        {
          "output_type": "execute_result",
          "data": {
            "text/html": [
              "<div>\n",
              "<style scoped>\n",
              "    .dataframe tbody tr th:only-of-type {\n",
              "        vertical-align: middle;\n",
              "    }\n",
              "\n",
              "    .dataframe tbody tr th {\n",
              "        vertical-align: top;\n",
              "    }\n",
              "\n",
              "    .dataframe thead th {\n",
              "        text-align: right;\n",
              "    }\n",
              "</style>\n",
              "<table border=\"1\" class=\"dataframe\">\n",
              "  <thead>\n",
              "    <tr style=\"text-align: right;\">\n",
              "      <th></th>\n",
              "      <th>text</th>\n",
              "      <th>score</th>\n",
              "      <th>label</th>\n",
              "    </tr>\n",
              "  </thead>\n",
              "  <tbody>\n",
              "    <tr>\n",
              "      <th>count</th>\n",
              "      <td>25000</td>\n",
              "      <td>25000</td>\n",
              "      <td>25000</td>\n",
              "    </tr>\n",
              "    <tr>\n",
              "      <th>unique</th>\n",
              "      <td>24801</td>\n",
              "      <td>8</td>\n",
              "      <td>2</td>\n",
              "    </tr>\n",
              "    <tr>\n",
              "      <th>top</th>\n",
              "      <td>Loved today's show!!! It was a variety and not...</td>\n",
              "      <td>1</td>\n",
              "      <td>positive</td>\n",
              "    </tr>\n",
              "    <tr>\n",
              "      <th>freq</th>\n",
              "      <td>5</td>\n",
              "      <td>5022</td>\n",
              "      <td>12500</td>\n",
              "    </tr>\n",
              "  </tbody>\n",
              "</table>\n",
              "</div>"
            ],
            "text/plain": [
              "                                                     text  score     label\n",
              "count                                               25000  25000     25000\n",
              "unique                                              24801      8         2\n",
              "top     Loved today's show!!! It was a variety and not...      1  positive\n",
              "freq                                                    5   5022     12500"
            ]
          },
          "metadata": {
            "tags": []
          },
          "execution_count": 4
        }
      ]
    },
    {
      "cell_type": "markdown",
      "metadata": {
        "id": "23jywIZfTKC0"
      },
      "source": [
        "There are also issues with duplicated rows. Now that we are aware, we will not  remove duplicates considering all columns values but only _text_ duplicates."
      ]
    },
    {
      "cell_type": "code",
      "metadata": {
        "id": "LJVzX6cAPLoP"
      },
      "source": [
        "# Remove row duplicates based on text\n",
        "df_test = df_test.drop_duplicates(subset=['text'])"
      ],
      "execution_count": null,
      "outputs": []
    },
    {
      "cell_type": "code",
      "metadata": {
        "colab": {
          "base_uri": "https://localhost:8080/",
          "height": 173
        },
        "id": "ppM_uu8Yn-xK",
        "outputId": "7a04134a-43ea-41f2-d6bb-52412132a452"
      },
      "source": [
        "# Check the result\n",
        "df_test.describe()"
      ],
      "execution_count": null,
      "outputs": [
        {
          "output_type": "execute_result",
          "data": {
            "text/html": [
              "<div>\n",
              "<style scoped>\n",
              "    .dataframe tbody tr th:only-of-type {\n",
              "        vertical-align: middle;\n",
              "    }\n",
              "\n",
              "    .dataframe tbody tr th {\n",
              "        vertical-align: top;\n",
              "    }\n",
              "\n",
              "    .dataframe thead th {\n",
              "        text-align: right;\n",
              "    }\n",
              "</style>\n",
              "<table border=\"1\" class=\"dataframe\">\n",
              "  <thead>\n",
              "    <tr style=\"text-align: right;\">\n",
              "      <th></th>\n",
              "      <th>text</th>\n",
              "      <th>score</th>\n",
              "      <th>label</th>\n",
              "    </tr>\n",
              "  </thead>\n",
              "  <tbody>\n",
              "    <tr>\n",
              "      <th>count</th>\n",
              "      <td>24801</td>\n",
              "      <td>24801</td>\n",
              "      <td>24801</td>\n",
              "    </tr>\n",
              "    <tr>\n",
              "      <th>unique</th>\n",
              "      <td>24801</td>\n",
              "      <td>8</td>\n",
              "      <td>2</td>\n",
              "    </tr>\n",
              "    <tr>\n",
              "      <th>top</th>\n",
              "      <td>The first thing I noticed about this movie was...</td>\n",
              "      <td>10</td>\n",
              "      <td>positive</td>\n",
              "    </tr>\n",
              "    <tr>\n",
              "      <th>freq</th>\n",
              "      <td>1</td>\n",
              "      <td>4965</td>\n",
              "      <td>12440</td>\n",
              "    </tr>\n",
              "  </tbody>\n",
              "</table>\n",
              "</div>"
            ],
            "text/plain": [
              "                                                     text  score     label\n",
              "count                                               24801  24801     24801\n",
              "unique                                              24801      8         2\n",
              "top     The first thing I noticed about this movie was...     10  positive\n",
              "freq                                                    1   4965     12440"
            ]
          },
          "metadata": {
            "tags": []
          },
          "execution_count": 9
        }
      ]
    },
    {
      "cell_type": "code",
      "metadata": {
        "id": "oE_cq59YVVhE"
      },
      "source": [
        "df_test['score'] = df_test['score'].astype(int) # convert into integers\n",
        "df_test['label'] = pd.Categorical(df_test.label) # convert into categorical"
      ],
      "execution_count": null,
      "outputs": []
    },
    {
      "cell_type": "code",
      "metadata": {
        "colab": {
          "base_uri": "https://localhost:8080/"
        },
        "id": "yFHu_PF8SjpR",
        "outputId": "76adcb35-4ba9-45c9-dae4-835e6a5a73a5"
      },
      "source": [
        "# Count labels for each category\n",
        "df_test['label'].value_counts()"
      ],
      "execution_count": null,
      "outputs": [
        {
          "output_type": "execute_result",
          "data": {
            "text/plain": [
              "positive    12440\n",
              "negative    12361\n",
              "Name: label, dtype: int64"
            ]
          },
          "metadata": {
            "tags": []
          },
          "execution_count": 13
        }
      ]
    },
    {
      "cell_type": "markdown",
      "metadata": {
        "id": "R-0LcIGbqCyL"
      },
      "source": [
        "## 2. Data Pre-processing\n",
        "\n",
        "In every NLP task it is necessary to perform some pre-processing on data, like removing some characters from text that do not bring much information  like urls, tags, accents, emoticons, and stop words. Sometimes it is desirable to go for words' decapitalization and use word stems."
      ]
    },
    {
      "cell_type": "code",
      "metadata": {
        "id": "NTBeXR473G0h"
      },
      "source": [
        "import re\n",
        "\n",
        "# Define a function to remove unecessary characters from the text\n",
        "def clean_text(text):\n",
        "    # text = text.lower() #lower case\n",
        "    text = re.sub(r\"<[^>]*>\", ' ', text)\n",
        "    text = re.sub(r\"@[A-Za-z0-9]+\", ' ', text)\n",
        "    text = re.sub(r\"https?://[A-Za-z0-9./]+\", ' ', text)\n",
        "    text = re.sub(r\"[^a-zA-z.!?'0-9]\", ' ', text)\n",
        "    text = re.sub('\\t', ' ',  text)\n",
        "    text = re.sub(r\" +\", ' ', text)\n",
        "    return text"
      ],
      "execution_count": null,
      "outputs": []
    },
    {
      "cell_type": "code",
      "metadata": {
        "colab": {
          "base_uri": "https://localhost:8080/",
          "height": 204
        },
        "id": "VH7AN2mN3Ino",
        "outputId": "99dd9fa4-821d-4184-db4b-b2d3f1dece8b"
      },
      "source": [
        "# Apply the clean_text function of both data sets\n",
        "df_train['text'] = df_train['text'].apply(clean_text)\n",
        "df_test['text'] = df_test['text'].apply(clean_text)\n",
        "df_train.head() # display the first 5 rows of Train subset"
      ],
      "execution_count": null,
      "outputs": [
        {
          "output_type": "execute_result",
          "data": {
            "text/html": [
              "<div>\n",
              "<style scoped>\n",
              "    .dataframe tbody tr th:only-of-type {\n",
              "        vertical-align: middle;\n",
              "    }\n",
              "\n",
              "    .dataframe tbody tr th {\n",
              "        vertical-align: top;\n",
              "    }\n",
              "\n",
              "    .dataframe thead th {\n",
              "        text-align: right;\n",
              "    }\n",
              "</style>\n",
              "<table border=\"1\" class=\"dataframe\">\n",
              "  <thead>\n",
              "    <tr style=\"text-align: right;\">\n",
              "      <th></th>\n",
              "      <th>text</th>\n",
              "      <th>score</th>\n",
              "      <th>label</th>\n",
              "    </tr>\n",
              "  </thead>\n",
              "  <tbody>\n",
              "    <tr>\n",
              "      <th>0</th>\n",
              "      <td>Nicely and intelligently played by the two you...</td>\n",
              "      <td>10</td>\n",
              "      <td>positive</td>\n",
              "    </tr>\n",
              "    <tr>\n",
              "      <th>1</th>\n",
              "      <td>S.S. Van Dine must have been a shrewd business...</td>\n",
              "      <td>8</td>\n",
              "      <td>positive</td>\n",
              "    </tr>\n",
              "    <tr>\n",
              "      <th>2</th>\n",
              "      <td>EDMUND LOWE who reminds me somewhat of Warren ...</td>\n",
              "      <td>7</td>\n",
              "      <td>positive</td>\n",
              "    </tr>\n",
              "    <tr>\n",
              "      <th>3</th>\n",
              "      <td>When Philo Vance Edmund Lowe is standing preca...</td>\n",
              "      <td>9</td>\n",
              "      <td>positive</td>\n",
              "    </tr>\n",
              "    <tr>\n",
              "      <th>4</th>\n",
              "      <td>Etienne Girardot is just a character actor the...</td>\n",
              "      <td>7</td>\n",
              "      <td>positive</td>\n",
              "    </tr>\n",
              "  </tbody>\n",
              "</table>\n",
              "</div>"
            ],
            "text/plain": [
              "                                                text  score     label\n",
              "0  Nicely and intelligently played by the two you...     10  positive\n",
              "1  S.S. Van Dine must have been a shrewd business...      8  positive\n",
              "2  EDMUND LOWE who reminds me somewhat of Warren ...      7  positive\n",
              "3  When Philo Vance Edmund Lowe is standing preca...      9  positive\n",
              "4  Etienne Girardot is just a character actor the...      7  positive"
            ]
          },
          "metadata": {
            "tags": []
          },
          "execution_count": 12
        }
      ]
    },
    {
      "cell_type": "markdown",
      "metadata": {
        "id": "ap5UwFshtHWV"
      },
      "source": [
        "Now we will replace the categorical values of the labels by numbers, that means, positive = 1, and negative = 0."
      ]
    },
    {
      "cell_type": "code",
      "metadata": {
        "colab": {
          "base_uri": "https://localhost:8080/",
          "height": 204
        },
        "id": "q21TmgqmuXEL",
        "outputId": "e9a1fcae-e734-4926-d0e7-37adba6006c1"
      },
      "source": [
        "# Replace labels with numbers on both subsets\n",
        "df_train['label'] = df_train['label'].map({'positive':1, 'negative':0})\n",
        "df_test['label'] = df_test['label'].map({'positive':1, 'negative':0})\n",
        "df_test.head() # display the first 5 rows of Test subset"
      ],
      "execution_count": null,
      "outputs": [
        {
          "output_type": "execute_result",
          "data": {
            "text/html": [
              "<div>\n",
              "<style scoped>\n",
              "    .dataframe tbody tr th:only-of-type {\n",
              "        vertical-align: middle;\n",
              "    }\n",
              "\n",
              "    .dataframe tbody tr th {\n",
              "        vertical-align: top;\n",
              "    }\n",
              "\n",
              "    .dataframe thead th {\n",
              "        text-align: right;\n",
              "    }\n",
              "</style>\n",
              "<table border=\"1\" class=\"dataframe\">\n",
              "  <thead>\n",
              "    <tr style=\"text-align: right;\">\n",
              "      <th></th>\n",
              "      <th>text</th>\n",
              "      <th>score</th>\n",
              "      <th>label</th>\n",
              "    </tr>\n",
              "  </thead>\n",
              "  <tbody>\n",
              "    <tr>\n",
              "      <th>0</th>\n",
              "      <td>Simon Wests pg 13 thriller about a babysitter ...</td>\n",
              "      <td>7</td>\n",
              "      <td>1</td>\n",
              "    </tr>\n",
              "    <tr>\n",
              "      <th>1</th>\n",
              "      <td>I was recently at a sleepover birthday party w...</td>\n",
              "      <td>9</td>\n",
              "      <td>1</td>\n",
              "    </tr>\n",
              "    <tr>\n",
              "      <th>2</th>\n",
              "      <td>A hundred miles away from the scene of a grizz...</td>\n",
              "      <td>7</td>\n",
              "      <td>1</td>\n",
              "    </tr>\n",
              "    <tr>\n",
              "      <th>3</th>\n",
              "      <td>If you have ever babysat in a house you didn't...</td>\n",
              "      <td>7</td>\n",
              "      <td>1</td>\n",
              "    </tr>\n",
              "    <tr>\n",
              "      <th>4</th>\n",
              "      <td>People say that this film is a 'typical teen h...</td>\n",
              "      <td>8</td>\n",
              "      <td>1</td>\n",
              "    </tr>\n",
              "  </tbody>\n",
              "</table>\n",
              "</div>"
            ],
            "text/plain": [
              "                                                text  score label\n",
              "0  Simon Wests pg 13 thriller about a babysitter ...      7     1\n",
              "1  I was recently at a sleepover birthday party w...      9     1\n",
              "2  A hundred miles away from the scene of a grizz...      7     1\n",
              "3  If you have ever babysat in a house you didn't...      7     1\n",
              "4  People say that this film is a 'typical teen h...      8     1"
            ]
          },
          "metadata": {
            "tags": []
          },
          "execution_count": 13
        }
      ]
    },
    {
      "cell_type": "markdown",
      "metadata": {
        "id": "o5LqO3p6u-1d"
      },
      "source": [
        "## 3. Modeling\n",
        "\n",
        "Now we are ready to build a model, train, and test it."
      ]
    },
    {
      "cell_type": "code",
      "metadata": {
        "colab": {
          "base_uri": "https://localhost:8080/"
        },
        "id": "BDBNS4iNXuUL",
        "outputId": "1e904b37-7706-4073-f606-20ee271d2b71"
      },
      "source": [
        "!pip3 install -q tensorflow_gpu #==2.1.0"
      ],
      "execution_count": null,
      "outputs": [
        {
          "output_type": "stream",
          "text": [
            "\u001b[K     |████████████████████████████████| 320.4MB 56kB/s \n",
            "\u001b[?25h"
          ],
          "name": "stdout"
        }
      ]
    },
    {
      "cell_type": "code",
      "metadata": {
        "colab": {
          "base_uri": "https://localhost:8080/"
        },
        "id": "MAA46kq4X0C_",
        "outputId": "90e93631-741a-4392-9fb5-feb969aa7d3c"
      },
      "source": [
        "import tensorflow as tf\n",
        "print(tf.__version__)"
      ],
      "execution_count": null,
      "outputs": [
        {
          "output_type": "stream",
          "text": [
            "2.3.1\n"
          ],
          "name": "stdout"
        }
      ]
    },
    {
      "cell_type": "code",
      "metadata": {
        "colab": {
          "base_uri": "https://localhost:8080/"
        },
        "id": "sAYBZG2SX4nP",
        "outputId": "c6299e81-c3bf-4a49-f884-ad6631948fbe"
      },
      "source": [
        "!pip3 install -q ktrain"
      ],
      "execution_count": null,
      "outputs": [
        {
          "output_type": "stream",
          "text": [
            "\u001b[K     |████████████████████████████████| 25.3MB 30.8MB/s \n",
            "\u001b[K     |████████████████████████████████| 983kB 48.6MB/s \n",
            "\u001b[K     |████████████████████████████████| 266kB 53.8MB/s \n",
            "\u001b[K     |████████████████████████████████| 1.3MB 47.5MB/s \n",
            "\u001b[K     |████████████████████████████████| 1.1MB 54.4MB/s \n",
            "\u001b[K     |████████████████████████████████| 471kB 46.4MB/s \n",
            "\u001b[K     |████████████████████████████████| 2.9MB 52.8MB/s \n",
            "\u001b[K     |████████████████████████████████| 890kB 51.5MB/s \n",
            "\u001b[?25h  Building wheel for ktrain (setup.py) ... \u001b[?25l\u001b[?25hdone\n",
            "  Building wheel for langdetect (setup.py) ... \u001b[?25l\u001b[?25hdone\n",
            "  Building wheel for syntok (setup.py) ... \u001b[?25l\u001b[?25hdone\n",
            "  Building wheel for seqeval (setup.py) ... \u001b[?25l\u001b[?25hdone\n",
            "  Building wheel for keras-bert (setup.py) ... \u001b[?25l\u001b[?25hdone\n",
            "  Building wheel for sacremoses (setup.py) ... \u001b[?25l\u001b[?25hdone\n",
            "  Building wheel for keras-transformer (setup.py) ... \u001b[?25l\u001b[?25hdone\n",
            "  Building wheel for keras-pos-embd (setup.py) ... \u001b[?25l\u001b[?25hdone\n",
            "  Building wheel for keras-multi-head (setup.py) ... \u001b[?25l\u001b[?25hdone\n",
            "  Building wheel for keras-layer-normalization (setup.py) ... \u001b[?25l\u001b[?25hdone\n",
            "  Building wheel for keras-position-wise-feed-forward (setup.py) ... \u001b[?25l\u001b[?25hdone\n",
            "  Building wheel for keras-embed-sim (setup.py) ... \u001b[?25l\u001b[?25hdone\n",
            "  Building wheel for keras-self-attention (setup.py) ... \u001b[?25l\u001b[?25hdone\n",
            "\u001b[31mERROR: transformers 3.5.1 has requirement sentencepiece==0.1.91, but you'll have sentencepiece 0.1.94 which is incompatible.\u001b[0m\n"
          ],
          "name": "stdout"
        }
      ]
    },
    {
      "cell_type": "markdown",
      "metadata": {
        "id": "5BFcFbww9GmO"
      },
      "source": [
        "It is imperative to shuffle rows since we concatenated positive observations on top of negative ones."
      ]
    },
    {
      "cell_type": "code",
      "metadata": {
        "id": "rfnB04WQ_xoU"
      },
      "source": [
        "from sklearn.utils import shuffle\n",
        "\n",
        "# Shuffle rows\n",
        "df_train = shuffle(df_train)\n",
        "df_test = shuffle(df_test)"
      ],
      "execution_count": null,
      "outputs": []
    },
    {
      "cell_type": "markdown",
      "metadata": {
        "id": "0dA_uLnU9ps2"
      },
      "source": [
        "Models based on Transformers like XLNet consume lots of computational resources. Even using a GPU it would take a significant amount of time to train and validade the model. That is why we decided to reduce the number of rows.\n",
        "\n"
      ]
    },
    {
      "cell_type": "code",
      "metadata": {
        "id": "DaYAah0g_4Nl"
      },
      "source": [
        "# Reduce number of rows\n",
        "df_train = df_train[:12000]\n",
        "df_test = df_test[:12000]"
      ],
      "execution_count": null,
      "outputs": []
    },
    {
      "cell_type": "code",
      "metadata": {
        "id": "jyaoR6gJ4ysb"
      },
      "source": [
        "# Get Train and Test features and labels\n",
        "X_train = df_train.text; X_test = df_test.text; y_train = df_train.label; y_test = df_test.label\n",
        "\n",
        "# Transform from series into lists/arrays\n",
        "X_train = X_train.tolist()\n",
        "X_test = X_test.tolist()\n",
        "y_test = y_test.to_numpy()\n",
        "y_train = y_train.to_numpy()"
      ],
      "execution_count": null,
      "outputs": []
    },
    {
      "cell_type": "code",
      "metadata": {
        "colab": {
          "base_uri": "https://localhost:8080/"
        },
        "id": "V2N7Lx8dj-uL",
        "outputId": "59ce0476-a690-46ed-d959-decb2909cb29"
      },
      "source": [
        "# Check size of Train and Test subsets\n",
        "len(X_train), len(X_test)"
      ],
      "execution_count": null,
      "outputs": [
        {
          "output_type": "execute_result",
          "data": {
            "text/plain": [
              "(12000, 12000)"
            ]
          },
          "metadata": {
            "tags": []
          },
          "execution_count": 19
        }
      ]
    },
    {
      "cell_type": "markdown",
      "metadata": {
        "id": "8g2QjD2w-0uG"
      },
      "source": [
        "Now we are ready to build the model."
      ]
    },
    {
      "cell_type": "code",
      "metadata": {
        "colab": {
          "base_uri": "https://localhost:8080/",
          "height": 419,
          "referenced_widgets": [
            "37af494f831e46d183709bc76c229d36",
            "82eb219ddbb242898d5cd6232ffc3f35",
            "aabc8a747fe843c49588c4f675169c6c",
            "ac54dac7e1a340688ebd36e03688d06e",
            "16275139dbe54ed3869373d15ba5423d",
            "5b13cd8fc69d40c190e9fac2882d11cb",
            "a2e4f16d7ecf4741b8a6081d5441bbe1",
            "ec1fccdc13994bb68fd5aa18e513afd9",
            "c6375431175f4d50a53a520b6a0d8cc2",
            "d7cf5a5fdb084e2a90ccb67ffcb377c6",
            "5d3bbd1096b1426eaeb726be6481025e",
            "43bd7fabba0443599fd489ce9963bf58",
            "fd661fa1b0104a7eb8fbc64f7af69a29",
            "f333e604f8f340ed8401f022c3cfab0d",
            "c50465dd0d204c9cb484b498b990d659",
            "dd8947fe624148b4852b342bccfd520c",
            "684096d42d854ad69c4028f1e7488583",
            "e6e5334456ec441b8d166635aaa0c2d2",
            "a1dab70309fc460ea7aaab2493e0435c",
            "17b627e212354f9b99cdf546a5e02143",
            "cd74859b78e4464d8e9faef73b51ba42",
            "619a267cf23343c5bdba31f9683b549a",
            "a26ba2514fa2495792dde7fb986b0070",
            "90591cb95de143e1816346e362a3263d"
          ]
        },
        "id": "5phkVc7ZYnue",
        "outputId": "2e84ab75-dd92-4f88-9e05-ccbf30564f48"
      },
      "source": [
        "import ktrain\n",
        "from ktrain import text\n",
        "\n",
        "# Create Transformer model\n",
        "MODEL_NAME = 'xlnet-base-cased'\n",
        "t = text.Transformer(MODEL_NAME, maxlen=500, classes=['positive','negative'])\n",
        "trn = t.preprocess_train(X_train, y_train)\n",
        "val = t.preprocess_test(X_test, y_test)\n",
        "model = t.get_classifier()\n",
        "learner = ktrain.get_learner(model, train_data=trn, val_data=val, batch_size=6)"
      ],
      "execution_count": null,
      "outputs": [
        {
          "output_type": "stream",
          "text": [
            "/usr/local/lib/python3.6/dist-packages/ktrain/text/preprocessor.py:414: UserWarning: The class_names argument is replacing the classes argument. Please update your code.\n",
            "  warnings.warn('The class_names argument is replacing the classes argument. Please update your code.')\n"
          ],
          "name": "stderr"
        },
        {
          "output_type": "display_data",
          "data": {
            "application/vnd.jupyter.widget-view+json": {
              "model_id": "37af494f831e46d183709bc76c229d36",
              "version_minor": 0,
              "version_major": 2
            },
            "text/plain": [
              "HBox(children=(FloatProgress(value=0.0, description='Downloading', max=760.0, style=ProgressStyle(description_…"
            ]
          },
          "metadata": {
            "tags": []
          }
        },
        {
          "output_type": "stream",
          "text": [
            "\n",
            "preprocessing train...\n",
            "language: en\n",
            "train sequence lengths:\n",
            "\tmean : 235\n",
            "\t95percentile : 598\n",
            "\t99percentile : 894\n"
          ],
          "name": "stdout"
        },
        {
          "output_type": "display_data",
          "data": {
            "application/vnd.jupyter.widget-view+json": {
              "model_id": "c6375431175f4d50a53a520b6a0d8cc2",
              "version_minor": 0,
              "version_major": 2
            },
            "text/plain": [
              "HBox(children=(FloatProgress(value=0.0, description='Downloading', max=798011.0, style=ProgressStyle(descripti…"
            ]
          },
          "metadata": {
            "tags": []
          }
        },
        {
          "output_type": "stream",
          "text": [
            "\n"
          ],
          "name": "stdout"
        },
        {
          "output_type": "display_data",
          "data": {
            "text/html": [
              ""
            ],
            "text/plain": [
              "<IPython.core.display.HTML object>"
            ]
          },
          "metadata": {
            "tags": []
          }
        },
        {
          "output_type": "stream",
          "text": [
            "Is Multi-Label? False\n",
            "preprocessing test...\n",
            "language: en\n",
            "test sequence lengths:\n",
            "\tmean : 229\n",
            "\t95percentile : 577\n",
            "\t99percentile : 889\n"
          ],
          "name": "stdout"
        },
        {
          "output_type": "display_data",
          "data": {
            "text/html": [
              ""
            ],
            "text/plain": [
              "<IPython.core.display.HTML object>"
            ]
          },
          "metadata": {
            "tags": []
          }
        },
        {
          "output_type": "display_data",
          "data": {
            "application/vnd.jupyter.widget-view+json": {
              "model_id": "684096d42d854ad69c4028f1e7488583",
              "version_minor": 0,
              "version_major": 2
            },
            "text/plain": [
              "HBox(children=(FloatProgress(value=0.0, description='Downloading', max=565485600.0, style=ProgressStyle(descri…"
            ]
          },
          "metadata": {
            "tags": []
          }
        },
        {
          "output_type": "stream",
          "text": [
            "\n"
          ],
          "name": "stdout"
        }
      ]
    },
    {
      "cell_type": "markdown",
      "metadata": {
        "id": "3zxH_HqYAkwR"
      },
      "source": [
        "### 3.1 Model training\n",
        "\n",
        "Before training the model it is interesting to estimate a proper learning rate. This will save time on training and help optimization algorithm to converge.\n"
      ]
    },
    {
      "cell_type": "code",
      "metadata": {
        "id": "AkEfVRnkSeBv",
        "colab": {
          "base_uri": "https://localhost:8080/",
          "height": 436
        },
        "outputId": "69aeadad-0a2a-4edb-818b-8fab1921c753"
      },
      "source": [
        "# Estimate the Learning Rate\n",
        "learner.lr_find(show_plot=True, max_epochs=2)"
      ],
      "execution_count": null,
      "outputs": [
        {
          "output_type": "stream",
          "text": [
            "simulating training for different learning rates... this may take a few moments...\n",
            "Epoch 1/2\n",
            "2000/2000 [==============================] - 3299s 2s/step - loss: 0.4957 - accuracy: 0.7337\n",
            "Epoch 2/2\n",
            "2000/2000 [==============================] - 3273s 2s/step - loss: 4.9734 - accuracy: 0.4987\n",
            "\n",
            "\n",
            "done.\n",
            "Visually inspect loss plot and select learning rate associated with falling loss\n"
          ],
          "name": "stdout"
        },
        {
          "output_type": "display_data",
          "data": {
            "image/png": "[encoded data removed]",
            "text/plain": [
              "<Figure size 432x288 with 1 Axes>"
            ]
          },
          "metadata": {
            "tags": [],
            "needs_background": "light"
          }
        }
      ]
    },
    {
      "cell_type": "code",
      "metadata": {
        "colab": {
          "base_uri": "https://localhost:8080/"
        },
        "id": "IX5G3v4CBGO4",
        "outputId": "775b952f-b964-450a-90d5-d943e216dd1a"
      },
      "source": [
        "# Train the model\n",
        "learner.fit_onecycle(5e-5, 4)"
      ],
      "execution_count": null,
      "outputs": [
        {
          "output_type": "stream",
          "text": [
            "\n",
            "\n",
            "begin training using onecycle policy with max lr of 5e-05...\n",
            "Epoch 1/4\n",
            "2000/2000 [==============================] - 4570s 2s/step - loss: 0.2562 - accuracy: 0.9003 - val_loss: 0.2175 - val_accuracy: 0.9147\n",
            "Epoch 2/4\n",
            "2000/2000 [==============================] - 4569s 2s/step - loss: 0.1995 - accuracy: 0.9282 - val_loss: 0.3221 - val_accuracy: 0.8698\n",
            "Epoch 3/4\n",
            "2000/2000 [==============================] - 4574s 2s/step - loss: 0.1403 - accuracy: 0.9487 - val_loss: 0.1927 - val_accuracy: 0.9376\n",
            "Epoch 4/4\n",
            "2000/2000 [==============================] - 4575s 2s/step - loss: 0.0448 - accuracy: 0.9867 - val_loss: 0.2118 - val_accuracy: 0.9383\n"
          ],
          "name": "stdout"
        },
        {
          "output_type": "execute_result",
          "data": {
            "text/plain": [
              "<tensorflow.python.keras.callbacks.History at 0x7ff4d92d5be0>"
            ]
          },
          "metadata": {
            "tags": []
          },
          "execution_count": 21
        }
      ]
    },
    {
      "cell_type": "markdown",
      "metadata": {
        "id": "O02XaSPECEF1"
      },
      "source": [
        "### 3.2 Evaluate and Inspect the Model\n",
        "\n",
        "We can now evaluate the model on _Test_ subset."
      ]
    },
    {
      "cell_type": "code",
      "metadata": {
        "colab": {
          "background_save": true,
          "base_uri": "https://localhost:8080/"
        },
        "id": "a5xQApSBFwUI",
        "outputId": "2a8520b1-38ac-4aff-8a34-6a703baef294"
      },
      "source": [
        "learner.validate(class_names=t.get_classes())\n"
      ],
      "execution_count": null,
      "outputs": [
        {
          "output_type": "stream",
          "text": [
            "              precision    recall  f1-score   support\n",
            "\n",
            "    positive       0.94      0.94      0.94      6046\n",
            "    negative       0.93      0.94      0.94      5954\n",
            "\n",
            "    accuracy                           0.94     12000\n",
            "   macro avg       0.94      0.94      0.94     12000\n",
            "weighted avg       0.94      0.94      0.94     12000\n",
            "\n"
          ],
          "name": "stdout"
        },
        {
          "output_type": "execute_result",
          "data": {
            "text/plain": [
              "array([[5654,  392],\n",
              "       [ 349, 5605]])"
            ]
          },
          "metadata": {
            "tags": []
          },
          "execution_count": 0
        }
      ]
    },
    {
      "cell_type": "markdown",
      "metadata": {
        "id": "xYK5YTCqCRxR"
      },
      "source": [
        "As we can see the accuracy was quite good, i.e., 94%. Of course, there is room for improvement since the best score using this dataset is 99.2% (check [here](https://www.kaggle.com/c/word2vec-nlp-tutorial/leaderboard)).\n",
        "\n",
        "Let's inspect the wrongest prediction."
      ]
    },
    {
      "cell_type": "code",
      "metadata": {
        "id": "-3BgzJJHF1Pj",
        "colab": {
          "base_uri": "https://localhost:8080/"
        },
        "outputId": "5ba26da6-9df8-40ef-a092-11d8facd9117"
      },
      "source": [
        "# Check on the prediction with the highest loss\n",
        "learner.view_top_losses(n=1, preproc=t)"
      ],
      "execution_count": null,
      "outputs": [
        {
          "output_type": "stream",
          "text": [
            "----------\n",
            "id:4979 | loss:7.24 | true:negative | pred:positive)\n",
            "\n"
          ],
          "name": "stdout"
        }
      ]
    },
    {
      "cell_type": "code",
      "metadata": {
        "id": "VaZ1FaddF1iI",
        "colab": {
          "base_uri": "https://localhost:8080/"
        },
        "outputId": "4cc076a6-aca8-4cd7-adeb-26c0a9ad286a"
      },
      "source": [
        "print(X_test[4979])"
      ],
      "execution_count": null,
      "outputs": [
        {
          "output_type": "stream",
          "text": [
            "Basically an endearingly chintzy and moronic 1.50 version of the nifty early 80's subterranean creature feature favorite The Boogens this entertainingly schlocky cheapie centers on a nasty squirmy wriggling monster who makes an instant meal out of any unfortunate souls foolhardy enough to go poking around the notoriously off limits Gold Spike Mine. Your standard issue motley assortment of intrepid boneheads hectoring hard nosed mine boss cute but insipid blonde babe feisty lady geologist boozy inexplicably Aussie accented ! seasoned old mine hand charmless doofus hunky jolly guy and arguably the most annoying character of the uniformly irritating bunch a nerdy bespectacled aspiring writer dweeb who's prone to speaking in flowery melodramatic utterances trek into the dark uninviting cave in search of gold. Naturally these intensely insufferable imbeciles discover that the allegedly abandoned mine is the home of a deadly ugly multi tentacled beast who in time honored hoary B flick fashion proceeds to gruesomely bag the group one at a time. Directed co written co produced and co edited with dumbfounding maladroitness by Melanie Anne Phillips acted with dismaying flatness by a rank no name cast further marred by lethargic pacing a drably meandering narrative murky under lit eye straining cinematography a shivery redundantly thudding pseudo John Carpenter synthesizer score and a cruddy herky jerky stop motion animation wormoid thingie that's only quickly glimpsed at the very end of the movie this extremely clunky amateurish and hence quite delectably dreadful would be scarefest commits all the necessary bad film missteps to qualify as a real four star stinkeroonie.\n"
          ],
          "name": "stdout"
        }
      ]
    },
    {
      "cell_type": "markdown",
      "metadata": {
        "id": "jaDc8YuXH5IT"
      },
      "source": [
        "\"_Basically an endearingly chintzy and moronic 1.50 version of the nifty early 80's subterranean creature feature favorite The Boogens this entertainingly schlocky cheapie centers on a nasty squirmy wriggling monster who makes an instant meal out of any unfortunate souls foolhardy enough to go poking around the notoriously off limits Gold Spike Mine. Your standard issue motley assortment of intrepid boneheads hectoring hard nosed mine boss cute but insipid blonde babe feisty lady geologist boozy inexplicably Aussie accented ! seasoned old mine hand charmless doofus hunky jolly guy and arguably the most annoying character of the uniformly irritating bunch a nerdy bespectacled aspiring writer dweeb who's prone to speaking in flowery melodramatic utterances trek into the dark uninviting cave in search of gold. Naturally these intensely insufferable imbeciles discover that the allegedly abandoned mine is the home of a deadly ugly multi tentacled beast who in time honored hoary B flick fashion proceeds to gruesomely bag the group one at a time. Directed co written co produced and co edited with dumbfounding maladroitness by Melanie Anne Phillips acted with dismaying flatness by a rank no name cast further marred by lethargic pacing a drably meandering narrative murky under lit eye straining cinematography a shivery redundantly thudding pseudo John Carpenter synthesizer score and a cruddy herky jerky stop motion animation wormoid thingie that's only quickly glimpsed at the very end of the movie this extremely clunky amateurish and hence quite delectably dreadful would be scarefest commits all the necessary bad film missteps to qualify as a real four star stinkeroonie._\"\n",
        "\n",
        "It is a long wordy text. Most of it describing the movie plot and only a few leads in the end that capture a negative sentiment. \n"
      ]
    },
    {
      "cell_type": "markdown",
      "metadata": {
        "id": "Vv9SvgPNIUCg"
      },
      "source": [
        "Now let's save the trained model."
      ]
    },
    {
      "cell_type": "code",
      "metadata": {
        "id": "1k2YXOKWF1z4"
      },
      "source": [
        "predictor = ktrain.get_predictor(learner.model, preproc=t)"
      ],
      "execution_count": null,
      "outputs": []
    },
    {
      "cell_type": "code",
      "metadata": {
        "id": "nboEHMYGGAgK"
      },
      "source": [
        "predictor.save('./content/drive/data/xlnet_predictor-v1_0')"
      ],
      "execution_count": null,
      "outputs": []
    },
    {
      "cell_type": "markdown",
      "metadata": {
        "id": "IlMl0u9SJuNY"
      },
      "source": [
        "### 3.3 Predict on unlabed data\n",
        "\n",
        "The Stanford AI Lab data reposity has also unlabeled data for clustering tasks. Let's select a sample and predict its sentiment.\n",
        "\n",
        "\"_This is a very strange film that was long thought to be forgotten. It s the story of two American Army buddies, William Boyd (aka Hopalong Cassidy) and Louis Wolheim, and their adventures as they manage to escape from a German prison camp during WWI. However, as this is a comedy, the duo manage to make the most round about and stupid escape accidentally boarding a train to Constantinople to be placed in a Turkish prisoner of war camp! On the way, they manage to escape once again and end up in quite the adventure--meeting sexy Mary Astor along the way. As far as the film goes, it was a rather funny script and despite being a silly plot, it worked rather well. The chemistry between Boyd and Wolheim worked and the film managed to be quite entertaining. Oddly, however, the film managed to beat out Harold Lloyd's film, SPEEDY, for an Oscar for Best Direction for a Comedy (a category no longer used)--as SPEEDY was a superior film in most ways (it's one of Lloyd's best films). Still, it's well worth a look especially if you love silent films. By the way, director Milestone and Louis Walheim would team up just a few years later for another WWI picture, the great ALL QUIET ON THE WESTERN FRONT, a film that is definitely NOT a comedy_.\""
      ]
    },
    {
      "cell_type": "code",
      "metadata": {
        "colab": {
          "base_uri": "https://localhost:8080/",
          "height": 35
        },
        "id": "FMt70fD7cUXk",
        "outputId": "341ec845-6a1d-462d-b6ad-e6a425908539"
      },
      "source": [
        "# Predict on unlabeled review\n",
        "predictor.predict(\"This is a very strange film that was long thought to be forgotten. It s the story of two American Army buddies, William Boyd (aka Hopalong Cassidy) and Louis Wolheim, and their adventures as they manage to escape from a German prison camp during WWI. However, as this is a comedy, the duo manage to make the most round about and stupid escape accidentally boarding a train to Constantinople to be placed in a Turkish prisoner of war camp! On the way, they manage to escape once again and end up in quite the adventure--meeting sexy Mary Astor along the way. As far as the film goes, it was a rather funny script and despite being a silly plot, it worked rather well. The chemistry between Boyd and Wolheim worked and the film managed to be quite entertaining. Oddly, however, the film managed to beat out Harold Lloyd's film, SPEEDY, for an Oscar for Best Direction for a Comedy (a category no longer used)--as SPEEDY was a superior film in most ways (it's one of Lloyd's best films). Still, it's well worth a look especially if you love silent films. By the way, director Milestone and Louis Walheim would team up just a few years later for another WWI picture, the great ALL QUIET ON THE WESTERN FRONT, a film that is definitely NOT a comedy.\")"
      ],
      "execution_count": null,
      "outputs": [
        {
          "output_type": "execute_result",
          "data": {
            "application/vnd.google.colaboratory.intrinsic+json": {
              "type": "string"
            },
            "text/plain": [
              "'negative'"
            ]
          },
          "metadata": {
            "tags": []
          },
          "execution_count": 35
        }
      ]
    },
    {
      "cell_type": "code",
      "metadata": {
        "id": "6e6zLwQ5VgYf",
        "colab": {
          "base_uri": "https://localhost:8080/"
        },
        "outputId": "99a1fede-cf1a-4e19-fd76-17189239386c"
      },
      "source": [
        "predictor.get_classes()"
      ],
      "execution_count": null,
      "outputs": [
        {
          "output_type": "execute_result",
          "data": {
            "text/plain": [
              "['positive', 'negative']"
            ]
          },
          "metadata": {
            "tags": []
          },
          "execution_count": 28
        }
      ]
    },
    {
      "cell_type": "code",
      "metadata": {
        "id": "D6Z4ybkOBuy2",
        "colab": {
          "base_uri": "https://localhost:8080/"
        },
        "outputId": "02984e22-d3a3-4cfb-ca06-455b4fabaea5"
      },
      "source": [
        "# Predict probability scores for each category\n",
        "predictor.predict_proba(\"This is a very strange film that was long thought to be forgotten. It s the story of two American Army buddies, William Boyd (aka Hopalong Cassidy) and Louis Wolheim, and their adventures as they manage to escape from a German prison camp during WWI. However, as this is a comedy, the duo manage to make the most round about and stupid escape accidentally boarding a train to Constantinople to be placed in a Turkish prisoner of war camp! On the way, they manage to escape once again and end up in quite the adventure--meeting sexy Mary Astor along the way. As far as the film goes, it was a rather funny script and despite being a silly plot, it worked rather well. The chemistry between Boyd and Wolheim worked and the film managed to be quite entertaining. Oddly, however, the film managed to beat out Harold Lloyd's film, SPEEDY, for an Oscar for Best Direction for a Comedy (a category no longer used)--as SPEEDY was a superior film in most ways (it's one of Lloyd's best films). Still, it's well worth a look especially if you love silent films. By the way, director Milestone and Louis Walheim would team up just a few years later for another WWI picture, the great ALL QUIET ON THE WESTERN FRONT, a film that is definitely NOT a comedy.\")"
      ],
      "execution_count": null,
      "outputs": [
        {
          "output_type": "execute_result",
          "data": {
            "text/plain": [
              "array([0.00286736, 0.99713266], dtype=float32)"
            ]
          },
          "metadata": {
            "tags": []
          },
          "execution_count": 34
        }
      ]
    },
    {
      "cell_type": "markdown",
      "metadata": {
        "id": "3zz2dZenLMI2"
      },
      "source": [
        "Another lengthy text with some positive comments but also negative ones. Let's see what captured the model's attention to end up on a negative classification."
      ]
    },
    {
      "cell_type": "code",
      "metadata": {
        "id": "pGsKrQFqBvEX",
        "colab": {
          "base_uri": "https://localhost:8080/"
        },
        "outputId": "e25cd4a7-f9c4-416c-ae93-16b2b24dc4d0"
      },
      "source": [
        "!pip3 install -q git+https://github.com/amaiya/eli5@tfkeras_0_10_1"
      ],
      "execution_count": null,
      "outputs": [
        {
          "output_type": "stream",
          "text": [
            "  Building wheel for eli5 (setup.py) ... \u001b[?25l\u001b[?25hdone\n"
          ],
          "name": "stdout"
        }
      ]
    },
    {
      "cell_type": "code",
      "metadata": {
        "colab": {
          "base_uri": "https://localhost:8080/",
          "height": 256
        },
        "id": "0M8kYiZfY5F4",
        "outputId": "48467b42-b362-49cd-8ae4-55dc840da2c0"
      },
      "source": [
        "predictor.explain(\"This is a very strange film that was long thought to be forgotten. It s the story of two American Army buddies, William Boyd (aka Hopalong Cassidy) and Louis Wolheim, and their adventures as they manage to escape from a German prison camp during WWI. However, as this is a comedy, the duo manage to make the most round about and stupid escape accidentally boarding a train to Constantinople to be placed in a Turkish prisoner of war camp! On the way, they manage to escape once again and end up in quite the adventure--meeting sexy Mary Astor along the way. As far as the film goes, it was a rather funny script and despite being a silly plot, it worked rather well. The chemistry between Boyd and Wolheim worked and the film managed to be quite entertaining. Oddly, however, the film managed to beat out Harold Lloyd's film, SPEEDY, for an Oscar for Best Direction for a Comedy (a category no longer used)--as SPEEDY was a superior film in most ways (it's one of Lloyd's best films). Still, it's well worth a look especially if you love silent films. By the way, director Milestone and Louis Walheim would team up just a few years later for another WWI picture, the great ALL QUIET ON THE WESTERN FRONT, a film that is definitely NOT a comedy.\")"
      ],
      "execution_count": null,
      "outputs": [
        {
          "output_type": "execute_result",
          "data": {
            "text/html": [
              "\n",
              "    <style>\n",
              "    table.eli5-weights tr:hover {\n",
              "        filter: brightness(85%);\n",
              "    }\n",
              "</style>\n",
              "\n",
              "\n",
              "\n",
              "    \n",
              "\n",
              "    \n",
              "\n",
              "    \n",
              "\n",
              "    \n",
              "\n",
              "    \n",
              "\n",
              "    \n",
              "\n",
              "\n",
              "    \n",
              "\n",
              "    \n",
              "\n",
              "    \n",
              "\n",
              "    \n",
              "        \n",
              "\n",
              "    \n",
              "\n",
              "        \n",
              "\n",
              "        \n",
              "    \n",
              "        \n",
              "        \n",
              "    \n",
              "        <p style=\"margin-bottom: 0.5em; margin-top: 0em\">\n",
              "            <b>\n",
              "    \n",
              "        y=negative\n",
              "    \n",
              "</b>\n",
              "\n",
              "    \n",
              "    (probability <b>1.000</b>, score <b>9.287</b>)\n",
              "\n",
              "top features\n",
              "        </p>\n",
              "    \n",
              "    <table class=\"eli5-weights\"\n",
              "           style=\"border-collapse: collapse; border: none; margin-top: 0em; table-layout: auto; margin-bottom: 2em;\">\n",
              "        <thead>\n",
              "        <tr style=\"border: none;\">\n",
              "            \n",
              "                <th style=\"padding: 0 1em 0 0.5em; text-align: right; border: none;\" title=\"Feature contribution already accounts for the feature value (for linear models, contribution = weight * feature value), and the sum of feature contributions is equal to the score or, for some classifiers, to the probability. Feature values are shown if &quot;show_feature_values&quot; is True.\">\n",
              "                    Contribution<sup>?</sup>\n",
              "                </th>\n",
              "            \n",
              "            <th style=\"padding: 0 0.5em 0 0.5em; text-align: left; border: none;\">Feature</th>\n",
              "            \n",
              "        </tr>\n",
              "        </thead>\n",
              "        <tbody>\n",
              "        \n",
              "            <tr style=\"background-color: hsl(120, 100.00%, 80.00%); border: none;\">\n",
              "    <td style=\"padding: 0 1em 0 0.5em; text-align: right; border: none;\">\n",
              "        +9.718\n",
              "    </td>\n",
              "    <td style=\"padding: 0 0.5em 0 0.5em; text-align: left; border: none;\">\n",
              "        Highlighted in text (sum)\n",
              "    </td>\n",
              "    \n",
              "</tr>\n",
              "        \n",
              "        \n",
              "\n",
              "        \n",
              "        \n",
              "            <tr style=\"background-color: hsl(0, 100.00%, 97.74%); border: none;\">\n",
              "    <td style=\"padding: 0 1em 0 0.5em; text-align: right; border: none;\">\n",
              "        -0.432\n",
              "    </td>\n",
              "    <td style=\"padding: 0 0.5em 0 0.5em; text-align: left; border: none;\">\n",
              "        &lt;BIAS&gt;\n",
              "    </td>\n",
              "    \n",
              "</tr>\n",
              "        \n",
              "\n",
              "        </tbody>\n",
              "    </table>\n",
              "\n",
              "    \n",
              "\n",
              "\n",
              "\n",
              "    <p style=\"margin-bottom: 2.5em; margin-top:-0.5em;\">\n",
              "        <span style=\"background-color: hsl(0, 100.00%, 86.48%); opacity: 0.84\" title=\"-0.266\">this</span><span style=\"opacity: 0.80\"> </span><span style=\"background-color: hsl(120, 100.00%, 91.08%); opacity: 0.82\" title=\"0.147\">is</span><span style=\"opacity: 0.80\"> </span><span style=\"background-color: hsl(120, 100.00%, 86.12%); opacity: 0.84\" title=\"0.277\">a</span><span style=\"opacity: 0.80\"> </span><span style=\"background-color: hsl(120, 100.00%, 87.06%); opacity: 0.84\" title=\"0.250\">very</span><span style=\"opacity: 0.80\"> </span><span style=\"background-color: hsl(120, 100.00%, 87.35%); opacity: 0.84\" title=\"0.242\">strange</span><span style=\"opacity: 0.80\"> </span><span style=\"background-color: hsl(120, 100.00%, 80.71%); opacity: 0.87\" title=\"0.443\">film</span><span style=\"opacity: 0.80\"> </span><span style=\"background-color: hsl(120, 100.00%, 90.33%); opacity: 0.83\" title=\"0.165\">that</span><span style=\"opacity: 0.80\"> </span><span style=\"background-color: hsl(120, 100.00%, 87.91%); opacity: 0.84\" title=\"0.227\">was</span><span style=\"opacity: 0.80\"> </span><span style=\"background-color: hsl(120, 100.00%, 79.54%); opacity: 0.88\" title=\"0.482\">long</span><span style=\"opacity: 0.80\"> </span><span style=\"background-color: hsl(0, 100.00%, 95.44%); opacity: 0.81\" title=\"-0.056\">thought</span><span style=\"opacity: 0.80\"> </span><span style=\"background-color: hsl(0, 100.00%, 88.44%); opacity: 0.83\" title=\"-0.213\">to</span><span style=\"opacity: 0.80\"> </span><span style=\"background-color: hsl(0, 100.00%, 93.78%); opacity: 0.81\" title=\"-0.088\">be</span><span style=\"opacity: 0.80\"> </span><span style=\"background-color: hsl(0, 100.00%, 80.93%); opacity: 0.87\" title=\"-0.436\">forgotten</span><span style=\"opacity: 0.80\">. </span><span style=\"background-color: hsl(0, 100.00%, 98.91%); opacity: 0.80\" title=\"-0.007\">it</span><span style=\"opacity: 0.80\"> </span><span style=\"background-color: hsl(0, 100.00%, 98.76%); opacity: 0.80\" title=\"-0.009\">s</span><span style=\"opacity: 0.80\"> the </span><span style=\"background-color: hsl(0, 100.00%, 87.50%); opacity: 0.84\" title=\"-0.238\">story</span><span style=\"opacity: 0.80\"> </span><span style=\"background-color: hsl(120, 100.00%, 96.81%); opacity: 0.81\" title=\"0.034\">of</span><span style=\"opacity: 0.80\"> </span><span style=\"background-color: hsl(120, 100.00%, 93.03%); opacity: 0.82\" title=\"0.103\">two</span><span style=\"opacity: 0.80\"> </span><span style=\"background-color: hsl(0, 100.00%, 86.93%); opacity: 0.84\" title=\"-0.254\">american</span><span style=\"opacity: 0.80\"> </span><span style=\"background-color: hsl(0, 100.00%, 89.21%); opacity: 0.83\" title=\"-0.193\">army</span><span style=\"opacity: 0.80\"> </span><span style=\"background-color: hsl(120, 100.00%, 92.84%); opacity: 0.82\" title=\"0.107\">buddies</span><span style=\"opacity: 0.80\">, </span><span style=\"background-color: hsl(120, 100.00%, 96.55%); opacity: 0.81\" title=\"0.038\">william</span><span style=\"opacity: 0.80\"> </span><span style=\"background-color: hsl(120, 100.00%, 94.57%); opacity: 0.81\" title=\"0.072\">boyd</span><span style=\"opacity: 0.80\"> (</span><span style=\"background-color: hsl(120, 100.00%, 86.49%); opacity: 0.84\" title=\"0.266\">aka</span><span style=\"opacity: 0.80\"> </span><span style=\"background-color: hsl(0, 100.00%, 98.21%); opacity: 0.80\" title=\"-0.015\">hopalong</span><span style=\"opacity: 0.80\"> </span><span style=\"background-color: hsl(0, 100.00%, 86.54%); opacity: 0.84\" title=\"-0.265\">cassidy</span><span style=\"opacity: 0.80\">) </span><span style=\"background-color: hsl(0, 100.00%, 95.89%); opacity: 0.81\" title=\"-0.049\">and</span><span style=\"opacity: 0.80\"> </span><span style=\"background-color: hsl(120, 100.00%, 92.86%); opacity: 0.82\" title=\"0.107\">louis</span><span style=\"opacity: 0.80\"> </span><span style=\"background-color: hsl(0, 100.00%, 92.21%); opacity: 0.82\" title=\"-0.121\">wolheim</span><span style=\"opacity: 0.80\">, </span><span style=\"background-color: hsl(0, 100.00%, 95.30%); opacity: 0.81\" title=\"-0.059\">and</span><span style=\"opacity: 0.80\"> </span><span style=\"background-color: hsl(120, 100.00%, 93.74%); opacity: 0.81\" title=\"0.089\">their</span><span style=\"opacity: 0.80\"> </span><span style=\"background-color: hsl(120, 100.00%, 88.25%); opacity: 0.83\" title=\"0.218\">adventures</span><span style=\"opacity: 0.80\"> </span><span style=\"background-color: hsl(120, 100.00%, 86.75%); opacity: 0.84\" title=\"0.259\">as</span><span style=\"opacity: 0.80\"> </span><span style=\"background-color: hsl(120, 100.00%, 94.91%); opacity: 0.81\" title=\"0.066\">they</span><span style=\"opacity: 0.80\"> </span><span style=\"background-color: hsl(120, 100.00%, 98.47%); opacity: 0.80\" title=\"0.012\">manage</span><span style=\"opacity: 0.80\"> </span><span style=\"background-color: hsl(0, 100.00%, 98.31%); opacity: 0.80\" title=\"-0.014\">to</span><span style=\"opacity: 0.80\"> </span><span style=\"background-color: hsl(0, 100.00%, 90.64%); opacity: 0.83\" title=\"-0.158\">escape</span><span style=\"opacity: 0.80\"> </span><span style=\"background-color: hsl(0, 100.00%, 84.28%); opacity: 0.85\" title=\"-0.330\">from</span><span style=\"opacity: 0.80\"> </span><span style=\"background-color: hsl(120, 100.00%, 95.83%); opacity: 0.81\" title=\"0.050\">a</span><span style=\"opacity: 0.80\"> </span><span style=\"background-color: hsl(120, 100.00%, 96.69%); opacity: 0.81\" title=\"0.036\">german</span><span style=\"opacity: 0.80\"> prison </span><span style=\"background-color: hsl(120, 100.00%, 93.03%); opacity: 0.82\" title=\"0.103\">camp</span><span style=\"opacity: 0.80\"> </span><span style=\"background-color: hsl(120, 100.00%, 86.40%); opacity: 0.84\" title=\"0.269\">during</span><span style=\"opacity: 0.80\"> </span><span style=\"background-color: hsl(120, 100.00%, 94.57%); opacity: 0.81\" title=\"0.072\">wwi</span><span style=\"opacity: 0.80\">. </span><span style=\"background-color: hsl(120, 100.00%, 93.15%); opacity: 0.82\" title=\"0.101\">however</span><span style=\"opacity: 0.80\">, </span><span style=\"background-color: hsl(120, 100.00%, 85.86%); opacity: 0.85\" title=\"0.284\">as</span><span style=\"opacity: 0.80\"> </span><span style=\"background-color: hsl(0, 100.00%, 89.35%); opacity: 0.83\" title=\"-0.189\">this</span><span style=\"opacity: 0.80\"> </span><span style=\"background-color: hsl(120, 100.00%, 91.08%); opacity: 0.82\" title=\"0.147\">is</span><span style=\"opacity: 0.80\"> </span><span style=\"background-color: hsl(120, 100.00%, 94.58%); opacity: 0.81\" title=\"0.072\">a</span><span style=\"opacity: 0.80\"> </span><span style=\"background-color: hsl(120, 100.00%, 96.49%); opacity: 0.81\" title=\"0.039\">comedy</span><span style=\"opacity: 0.80\">, </span><span style=\"background-color: hsl(0, 100.00%, 88.21%); opacity: 0.83\" title=\"-0.219\">the</span><span style=\"opacity: 0.80\"> </span><span style=\"background-color: hsl(0, 100.00%, 97.58%); opacity: 0.80\" title=\"-0.023\">duo</span><span style=\"opacity: 0.80\"> </span><span style=\"background-color: hsl(120, 100.00%, 88.62%); opacity: 0.83\" title=\"0.208\">manage</span><span style=\"opacity: 0.80\"> </span><span style=\"background-color: hsl(0, 100.00%, 85.67%); opacity: 0.85\" title=\"-0.289\">to</span><span style=\"opacity: 0.80\"> </span><span style=\"background-color: hsl(0, 100.00%, 82.21%); opacity: 0.86\" title=\"-0.394\">make</span><span style=\"opacity: 0.80\"> </span><span style=\"background-color: hsl(120, 100.00%, 89.70%); opacity: 0.83\" title=\"0.181\">the</span><span style=\"opacity: 0.80\"> </span><span style=\"background-color: hsl(120, 100.00%, 94.64%); opacity: 0.81\" title=\"0.071\">most</span><span style=\"opacity: 0.80\"> </span><span style=\"background-color: hsl(120, 100.00%, 87.47%); opacity: 0.84\" title=\"0.239\">round</span><span style=\"opacity: 0.80\"> </span><span style=\"background-color: hsl(120, 100.00%, 85.07%); opacity: 0.85\" title=\"0.307\">about</span><span style=\"opacity: 0.80\"> </span><span style=\"background-color: hsl(0, 100.00%, 91.36%); opacity: 0.82\" title=\"-0.140\">and</span><span style=\"opacity: 0.80\"> </span><span style=\"background-color: hsl(0, 100.00%, 81.66%); opacity: 0.87\" title=\"-0.412\">stupid</span><span style=\"opacity: 0.80\"> </span><span style=\"background-color: hsl(120, 100.00%, 89.65%); opacity: 0.83\" title=\"0.182\">escape</span><span style=\"opacity: 0.80\"> </span><span style=\"background-color: hsl(0, 100.00%, 92.42%); opacity: 0.82\" title=\"-0.117\">accidentally</span><span style=\"opacity: 0.80\"> </span><span style=\"background-color: hsl(0, 100.00%, 87.74%); opacity: 0.84\" title=\"-0.232\">boarding</span><span style=\"opacity: 0.80\"> </span><span style=\"background-color: hsl(120, 100.00%, 98.26%); opacity: 0.80\" title=\"0.014\">a</span><span style=\"opacity: 0.80\"> </span><span style=\"background-color: hsl(120, 100.00%, 87.22%); opacity: 0.84\" title=\"0.246\">train</span><span style=\"opacity: 0.80\"> </span><span style=\"background-color: hsl(120, 100.00%, 95.34%); opacity: 0.81\" title=\"0.058\">to</span><span style=\"opacity: 0.80\"> </span><span style=\"background-color: hsl(120, 100.00%, 99.04%); opacity: 0.80\" title=\"0.006\">constantinople</span><span style=\"opacity: 0.80\"> </span><span style=\"background-color: hsl(120, 100.00%, 96.93%); opacity: 0.81\" title=\"0.032\">to</span><span style=\"opacity: 0.80\"> </span><span style=\"background-color: hsl(0, 100.00%, 97.30%); opacity: 0.80\" title=\"-0.027\">be</span><span style=\"opacity: 0.80\"> </span><span style=\"background-color: hsl(120, 100.00%, 95.72%); opacity: 0.81\" title=\"0.052\">placed</span><span style=\"opacity: 0.80\"> </span><span style=\"background-color: hsl(0, 100.00%, 89.85%); opacity: 0.83\" title=\"-0.177\">in</span><span style=\"opacity: 0.80\"> </span><span style=\"background-color: hsl(120, 100.00%, 89.87%); opacity: 0.83\" title=\"0.176\">a</span><span style=\"opacity: 0.80\"> </span><span style=\"background-color: hsl(120, 100.00%, 96.13%); opacity: 0.81\" title=\"0.045\">turkish</span><span style=\"opacity: 0.80\"> </span><span style=\"background-color: hsl(0, 100.00%, 83.56%); opacity: 0.86\" title=\"-0.352\">prisoner</span><span style=\"opacity: 0.80\"> </span><span style=\"background-color: hsl(120, 100.00%, 90.78%); opacity: 0.82\" title=\"0.154\">of</span><span style=\"opacity: 0.80\"> </span><span style=\"background-color: hsl(120, 100.00%, 88.40%); opacity: 0.83\" title=\"0.214\">war</span><span style=\"opacity: 0.80\"> </span><span style=\"background-color: hsl(120, 100.00%, 96.50%); opacity: 0.81\" title=\"0.039\">camp</span><span style=\"opacity: 0.80\">! </span><span style=\"background-color: hsl(120, 100.00%, 92.63%); opacity: 0.82\" title=\"0.112\">on</span><span style=\"opacity: 0.80\"> </span><span style=\"background-color: hsl(0, 100.00%, 92.59%); opacity: 0.82\" title=\"-0.113\">the</span><span style=\"opacity: 0.80\"> </span><span style=\"background-color: hsl(0, 100.00%, 96.56%); opacity: 0.81\" title=\"-0.038\">way</span><span style=\"opacity: 0.80\">, </span><span style=\"background-color: hsl(120, 100.00%, 99.64%); opacity: 0.80\" title=\"0.002\">they</span><span style=\"opacity: 0.80\"> </span><span style=\"background-color: hsl(120, 100.00%, 98.47%); opacity: 0.80\" title=\"0.012\">manage</span><span style=\"opacity: 0.80\"> </span><span style=\"background-color: hsl(0, 100.00%, 98.31%); opacity: 0.80\" title=\"-0.014\">to</span><span style=\"opacity: 0.80\"> </span><span style=\"background-color: hsl(120, 100.00%, 95.32%); opacity: 0.81\" title=\"0.059\">escape</span><span style=\"opacity: 0.80\"> </span><span style=\"background-color: hsl(0, 100.00%, 93.58%); opacity: 0.81\" title=\"-0.092\">once</span><span style=\"opacity: 0.80\"> </span><span style=\"background-color: hsl(0, 100.00%, 96.41%); opacity: 0.81\" title=\"-0.040\">again</span><span style=\"opacity: 0.80\"> </span><span style=\"background-color: hsl(120, 100.00%, 98.49%); opacity: 0.80\" title=\"0.012\">and</span><span style=\"opacity: 0.80\"> </span><span style=\"background-color: hsl(0, 100.00%, 85.22%); opacity: 0.85\" title=\"-0.303\">end</span><span style=\"opacity: 0.80\"> </span><span style=\"background-color: hsl(0, 100.00%, 84.28%); opacity: 0.85\" title=\"-0.330\">up</span><span style=\"opacity: 0.80\"> </span><span style=\"background-color: hsl(0, 100.00%, 84.92%); opacity: 0.85\" title=\"-0.311\">in</span><span style=\"opacity: 0.80\"> </span><span style=\"background-color: hsl(120, 100.00%, 90.89%); opacity: 0.82\" title=\"0.152\">quite</span><span style=\"opacity: 0.80\"> </span><span style=\"background-color: hsl(0, 100.00%, 89.21%); opacity: 0.83\" title=\"-0.193\">the</span><span style=\"opacity: 0.80\"> </span><span style=\"background-color: hsl(0, 100.00%, 85.96%); opacity: 0.84\" title=\"-0.281\">adventure</span><span style=\"opacity: 0.80\">--</span><span style=\"background-color: hsl(0, 100.00%, 90.05%); opacity: 0.83\" title=\"-0.172\">meeting</span><span style=\"opacity: 0.80\"> </span><span style=\"background-color: hsl(120, 100.00%, 96.30%); opacity: 0.81\" title=\"0.042\">sexy</span><span style=\"opacity: 0.80\"> mary </span><span style=\"background-color: hsl(0, 100.00%, 89.38%); opacity: 0.83\" title=\"-0.189\">astor</span><span style=\"opacity: 0.80\"> </span><span style=\"background-color: hsl(120, 100.00%, 91.34%); opacity: 0.82\" title=\"0.141\">along</span><span style=\"opacity: 0.80\"> </span><span style=\"background-color: hsl(0, 100.00%, 92.59%); opacity: 0.82\" title=\"-0.113\">the</span><span style=\"opacity: 0.80\"> </span><span style=\"background-color: hsl(0, 100.00%, 96.56%); opacity: 0.81\" title=\"-0.038\">way</span><span style=\"opacity: 0.80\">. </span><span style=\"background-color: hsl(0, 100.00%, 91.27%); opacity: 0.82\" title=\"-0.143\">as</span><span style=\"opacity: 0.80\"> </span><span style=\"background-color: hsl(0, 100.00%, 83.06%); opacity: 0.86\" title=\"-0.368\">far</span><span style=\"opacity: 0.80\"> </span><span style=\"background-color: hsl(0, 100.00%, 98.38%); opacity: 0.80\" title=\"-0.013\">as</span><span style=\"opacity: 0.80\"> the film </span><span style=\"background-color: hsl(0, 100.00%, 82.99%); opacity: 0.86\" title=\"-0.370\">goes</span><span style=\"opacity: 0.80\">, </span><span style=\"background-color: hsl(0, 100.00%, 86.15%); opacity: 0.84\" title=\"-0.276\">it</span><span style=\"opacity: 0.80\"> </span><span style=\"background-color: hsl(0, 100.00%, 91.66%); opacity: 0.82\" title=\"-0.134\">was</span><span style=\"opacity: 0.80\"> </span><span style=\"background-color: hsl(120, 100.00%, 89.88%); opacity: 0.83\" title=\"0.176\">a</span><span style=\"opacity: 0.80\"> </span><span style=\"background-color: hsl(120, 100.00%, 97.11%); opacity: 0.80\" title=\"0.029\">rather</span><span style=\"opacity: 0.80\"> </span><span style=\"background-color: hsl(120, 100.00%, 73.60%); opacity: 0.91\" title=\"0.693\">funny</span><span style=\"opacity: 0.80\"> </span><span style=\"background-color: hsl(0, 100.00%, 80.95%); opacity: 0.87\" title=\"-0.435\">script</span><span style=\"opacity: 0.80\"> </span><span style=\"background-color: hsl(0, 100.00%, 92.85%); opacity: 0.82\" title=\"-0.107\">and</span><span style=\"opacity: 0.80\"> </span><span style=\"background-color: hsl(120, 100.00%, 86.09%); opacity: 0.84\" title=\"0.277\">despite</span><span style=\"opacity: 0.80\"> being a </span><span style=\"background-color: hsl(0, 100.00%, 90.30%); opacity: 0.83\" title=\"-0.166\">silly</span><span style=\"opacity: 0.80\"> plot, </span><span style=\"background-color: hsl(120, 100.00%, 72.13%); opacity: 0.92\" title=\"0.749\">it</span><span style=\"opacity: 0.80\"> </span><span style=\"background-color: hsl(120, 100.00%, 70.88%); opacity: 0.93\" title=\"0.797\">worked</span><span style=\"opacity: 0.80\"> </span><span style=\"background-color: hsl(120, 100.00%, 98.01%); opacity: 0.80\" title=\"0.017\">rather</span><span style=\"opacity: 0.80\"> </span><span style=\"background-color: hsl(120, 100.00%, 74.41%); opacity: 0.91\" title=\"0.663\">well</span><span style=\"opacity: 0.80\">. </span><span style=\"background-color: hsl(120, 100.00%, 88.97%); opacity: 0.83\" title=\"0.199\">the</span><span style=\"opacity: 0.80\"> </span><span style=\"background-color: hsl(120, 100.00%, 76.50%); opacity: 0.89\" title=\"0.587\">chemistry</span><span style=\"opacity: 0.80\"> </span><span style=\"background-color: hsl(120, 100.00%, 79.91%); opacity: 0.87\" title=\"0.469\">between</span><span style=\"opacity: 0.80\"> </span><span style=\"background-color: hsl(120, 100.00%, 89.81%); opacity: 0.83\" title=\"0.178\">boyd</span><span style=\"opacity: 0.80\"> </span><span style=\"background-color: hsl(120, 100.00%, 86.56%); opacity: 0.84\" title=\"0.264\">and</span><span style=\"opacity: 0.80\"> </span><span style=\"background-color: hsl(120, 100.00%, 85.86%); opacity: 0.85\" title=\"0.284\">wolheim</span><span style=\"opacity: 0.80\"> </span><span style=\"background-color: hsl(120, 100.00%, 76.20%); opacity: 0.90\" title=\"0.598\">worked</span><span style=\"opacity: 0.80\"> </span><span style=\"background-color: hsl(120, 100.00%, 84.77%); opacity: 0.85\" title=\"0.316\">and</span><span style=\"opacity: 0.80\"> </span><span style=\"background-color: hsl(120, 100.00%, 95.51%); opacity: 0.81\" title=\"0.055\">the</span><span style=\"opacity: 0.80\"> </span><span style=\"background-color: hsl(0, 100.00%, 94.85%); opacity: 0.81\" title=\"-0.067\">film</span><span style=\"opacity: 0.80\"> </span><span style=\"background-color: hsl(0, 100.00%, 89.05%); opacity: 0.83\" title=\"-0.197\">managed</span><span style=\"opacity: 0.80\"> </span><span style=\"background-color: hsl(120, 100.00%, 96.73%); opacity: 0.81\" title=\"0.035\">to</span><span style=\"opacity: 0.80\"> </span><span style=\"background-color: hsl(0, 100.00%, 94.81%); opacity: 0.81\" title=\"-0.068\">be</span><span style=\"opacity: 0.80\"> </span><span style=\"background-color: hsl(120, 100.00%, 88.50%); opacity: 0.83\" title=\"0.211\">quite</span><span style=\"opacity: 0.80\"> </span><span style=\"background-color: hsl(120, 100.00%, 66.13%); opacity: 0.96\" title=\"0.989\">entertaining</span><span style=\"opacity: 0.80\">. </span><span style=\"background-color: hsl(120, 100.00%, 75.24%); opacity: 0.90\" title=\"0.633\">oddly</span><span style=\"opacity: 0.80\">, </span><span style=\"background-color: hsl(120, 100.00%, 85.44%); opacity: 0.85\" title=\"0.296\">however</span><span style=\"opacity: 0.80\">, the </span><span style=\"background-color: hsl(0, 100.00%, 94.85%); opacity: 0.81\" title=\"-0.067\">film</span><span style=\"opacity: 0.80\"> </span><span style=\"background-color: hsl(0, 100.00%, 89.05%); opacity: 0.83\" title=\"-0.197\">managed</span><span style=\"opacity: 0.80\"> </span><span style=\"background-color: hsl(0, 100.00%, 94.30%); opacity: 0.81\" title=\"-0.078\">to</span><span style=\"opacity: 0.80\"> </span><span style=\"background-color: hsl(0, 100.00%, 83.17%); opacity: 0.86\" title=\"-0.364\">beat</span><span style=\"opacity: 0.80\"> </span><span style=\"background-color: hsl(0, 100.00%, 85.55%); opacity: 0.85\" title=\"-0.293\">out</span><span style=\"opacity: 0.80\"> </span><span style=\"background-color: hsl(0, 100.00%, 85.60%); opacity: 0.85\" title=\"-0.291\">harold</span><span style=\"opacity: 0.80\"> </span><span style=\"background-color: hsl(0, 100.00%, 97.43%); opacity: 0.80\" title=\"-0.025\">lloyd</span><span style=\"opacity: 0.80\">&#x27;</span><span style=\"background-color: hsl(0, 100.00%, 98.76%); opacity: 0.80\" title=\"-0.009\">s</span><span style=\"opacity: 0.80\"> </span><span style=\"background-color: hsl(0, 100.00%, 93.95%); opacity: 0.81\" title=\"-0.084\">film</span><span style=\"opacity: 0.80\">, </span><span style=\"background-color: hsl(0, 100.00%, 97.34%); opacity: 0.80\" title=\"-0.026\">speedy</span><span style=\"opacity: 0.80\">, </span><span style=\"background-color: hsl(120, 100.00%, 86.17%); opacity: 0.84\" title=\"0.275\">for</span><span style=\"opacity: 0.80\"> </span><span style=\"background-color: hsl(120, 100.00%, 93.81%); opacity: 0.81\" title=\"0.087\">an</span><span style=\"opacity: 0.80\"> oscar </span><span style=\"background-color: hsl(120, 100.00%, 93.27%); opacity: 0.82\" title=\"0.098\">for</span><span style=\"opacity: 0.80\"> </span><span style=\"background-color: hsl(120, 100.00%, 81.55%); opacity: 0.87\" title=\"0.415\">best</span><span style=\"opacity: 0.80\"> </span><span style=\"background-color: hsl(120, 100.00%, 96.52%); opacity: 0.81\" title=\"0.038\">direction</span><span style=\"opacity: 0.80\"> </span><span style=\"background-color: hsl(0, 100.00%, 95.81%); opacity: 0.81\" title=\"-0.050\">for</span><span style=\"opacity: 0.80\"> </span><span style=\"background-color: hsl(0, 100.00%, 89.46%); opacity: 0.83\" title=\"-0.187\">a</span><span style=\"opacity: 0.80\"> </span><span style=\"background-color: hsl(120, 100.00%, 96.49%); opacity: 0.81\" title=\"0.039\">comedy</span><span style=\"opacity: 0.80\"> (</span><span style=\"background-color: hsl(0, 100.00%, 99.00%); opacity: 0.80\" title=\"-0.006\">a</span><span style=\"opacity: 0.80\"> </span><span style=\"background-color: hsl(0, 100.00%, 94.16%); opacity: 0.81\" title=\"-0.080\">category</span><span style=\"opacity: 0.80\"> </span><span style=\"background-color: hsl(0, 100.00%, 94.50%); opacity: 0.81\" title=\"-0.074\">no</span><span style=\"opacity: 0.80\"> </span><span style=\"background-color: hsl(120, 100.00%, 86.25%); opacity: 0.84\" title=\"0.273\">longer</span><span style=\"opacity: 0.80\"> </span><span style=\"background-color: hsl(0, 100.00%, 88.59%); opacity: 0.83\" title=\"-0.209\">used</span><span style=\"opacity: 0.80\">)--</span><span style=\"background-color: hsl(120, 100.00%, 90.32%); opacity: 0.83\" title=\"0.165\">as</span><span style=\"opacity: 0.80\"> </span><span style=\"background-color: hsl(0, 100.00%, 89.33%); opacity: 0.83\" title=\"-0.190\">speedy</span><span style=\"opacity: 0.80\"> </span><span style=\"background-color: hsl(0, 100.00%, 88.26%); opacity: 0.83\" title=\"-0.218\">was</span><span style=\"opacity: 0.80\"> a </span><span style=\"background-color: hsl(120, 100.00%, 88.84%); opacity: 0.83\" title=\"0.202\">superior</span><span style=\"opacity: 0.80\"> </span><span style=\"background-color: hsl(120, 100.00%, 94.93%); opacity: 0.81\" title=\"0.066\">film</span><span style=\"opacity: 0.80\"> </span><span style=\"background-color: hsl(0, 100.00%, 83.38%); opacity: 0.86\" title=\"-0.358\">in</span><span style=\"opacity: 0.80\"> </span><span style=\"background-color: hsl(0, 100.00%, 98.13%); opacity: 0.80\" title=\"-0.016\">most</span><span style=\"opacity: 0.80\"> </span><span style=\"background-color: hsl(0, 100.00%, 91.85%); opacity: 0.82\" title=\"-0.129\">ways</span><span style=\"opacity: 0.80\"> (</span><span style=\"background-color: hsl(120, 100.00%, 93.27%); opacity: 0.82\" title=\"0.098\">it</span><span style=\"opacity: 0.80\">&#x27;</span><span style=\"background-color: hsl(120, 100.00%, 91.45%); opacity: 0.82\" title=\"0.138\">s</span><span style=\"opacity: 0.80\"> </span><span style=\"background-color: hsl(120, 100.00%, 87.85%); opacity: 0.84\" title=\"0.229\">one</span><span style=\"opacity: 0.80\"> </span><span style=\"background-color: hsl(120, 100.00%, 83.96%); opacity: 0.85\" title=\"0.340\">of</span><span style=\"opacity: 0.80\"> </span><span style=\"background-color: hsl(120, 100.00%, 86.58%); opacity: 0.84\" title=\"0.264\">lloyd</span><span style=\"opacity: 0.80\">&#x27;</span><span style=\"background-color: hsl(120, 100.00%, 92.42%); opacity: 0.82\" title=\"0.117\">s</span><span style=\"opacity: 0.80\"> </span><span style=\"background-color: hsl(120, 100.00%, 77.81%); opacity: 0.89\" title=\"0.541\">best</span><span style=\"opacity: 0.80\"> </span><span style=\"background-color: hsl(120, 100.00%, 94.23%); opacity: 0.81\" title=\"0.079\">films</span><span style=\"opacity: 0.80\">). still, </span><span style=\"background-color: hsl(120, 100.00%, 87.89%); opacity: 0.84\" title=\"0.228\">it</span><span style=\"opacity: 0.80\">&#x27;</span><span style=\"background-color: hsl(120, 100.00%, 96.42%); opacity: 0.81\" title=\"0.040\">s</span><span style=\"opacity: 0.80\"> </span><span style=\"background-color: hsl(120, 100.00%, 63.97%); opacity: 0.97\" title=\"1.081\">well</span><span style=\"opacity: 0.80\"> </span><span style=\"background-color: hsl(120, 100.00%, 60.00%); opacity: 1.00\" title=\"1.255\">worth</span><span style=\"opacity: 0.80\"> </span><span style=\"background-color: hsl(120, 100.00%, 86.21%); opacity: 0.84\" title=\"0.274\">a</span><span style=\"opacity: 0.80\"> </span><span style=\"background-color: hsl(0, 100.00%, 88.98%); opacity: 0.83\" title=\"-0.199\">look</span><span style=\"opacity: 0.80\"> </span><span style=\"background-color: hsl(120, 100.00%, 96.32%); opacity: 0.81\" title=\"0.042\">especially</span><span style=\"opacity: 0.80\"> </span><span style=\"background-color: hsl(0, 100.00%, 87.53%); opacity: 0.84\" title=\"-0.237\">if</span><span style=\"opacity: 0.80\"> </span><span style=\"background-color: hsl(0, 100.00%, 88.79%); opacity: 0.83\" title=\"-0.204\">you</span><span style=\"opacity: 0.80\"> </span><span style=\"background-color: hsl(120, 100.00%, 82.88%); opacity: 0.86\" title=\"0.373\">love</span><span style=\"opacity: 0.80\"> </span><span style=\"background-color: hsl(120, 100.00%, 95.07%); opacity: 0.81\" title=\"0.063\">silent</span><span style=\"opacity: 0.80\"> </span><span style=\"background-color: hsl(120, 100.00%, 87.03%); opacity: 0.84\" title=\"0.251\">films</span><span style=\"opacity: 0.80\">. </span><span style=\"background-color: hsl(120, 100.00%, 92.77%); opacity: 0.82\" title=\"0.109\">by</span><span style=\"opacity: 0.80\"> </span><span style=\"background-color: hsl(0, 100.00%, 92.59%); opacity: 0.82\" title=\"-0.113\">the</span><span style=\"opacity: 0.80\"> </span><span style=\"background-color: hsl(120, 100.00%, 84.77%); opacity: 0.85\" title=\"0.316\">way</span><span style=\"opacity: 0.80\">, </span><span style=\"background-color: hsl(120, 100.00%, 80.09%); opacity: 0.87\" title=\"0.463\">director</span><span style=\"opacity: 0.80\"> </span><span style=\"background-color: hsl(0, 100.00%, 88.71%); opacity: 0.83\" title=\"-0.206\">milestone</span><span style=\"opacity: 0.80\"> </span><span style=\"background-color: hsl(0, 100.00%, 89.42%); opacity: 0.83\" title=\"-0.188\">and</span><span style=\"opacity: 0.80\"> </span><span style=\"background-color: hsl(0, 100.00%, 93.43%); opacity: 0.82\" title=\"-0.095\">louis</span><span style=\"opacity: 0.80\"> </span><span style=\"background-color: hsl(0, 100.00%, 86.90%); opacity: 0.84\" title=\"-0.255\">walheim</span><span style=\"opacity: 0.80\"> </span><span style=\"background-color: hsl(0, 100.00%, 94.69%); opacity: 0.81\" title=\"-0.070\">would</span><span style=\"opacity: 0.80\"> </span><span style=\"background-color: hsl(0, 100.00%, 98.90%); opacity: 0.80\" title=\"-0.007\">team</span><span style=\"opacity: 0.80\"> </span><span style=\"background-color: hsl(120, 100.00%, 96.30%); opacity: 0.81\" title=\"0.042\">up</span><span style=\"opacity: 0.80\"> </span><span style=\"background-color: hsl(120, 100.00%, 98.07%); opacity: 0.80\" title=\"0.017\">just</span><span style=\"opacity: 0.80\"> </span><span style=\"background-color: hsl(120, 100.00%, 93.54%); opacity: 0.81\" title=\"0.093\">a</span><span style=\"opacity: 0.80\"> </span><span style=\"background-color: hsl(120, 100.00%, 96.82%); opacity: 0.81\" title=\"0.034\">few</span><span style=\"opacity: 0.80\"> </span><span style=\"background-color: hsl(120, 100.00%, 97.67%); opacity: 0.80\" title=\"0.022\">years</span><span style=\"opacity: 0.80\"> </span><span style=\"background-color: hsl(120, 100.00%, 94.30%); opacity: 0.81\" title=\"0.078\">later</span><span style=\"opacity: 0.80\"> </span><span style=\"background-color: hsl(120, 100.00%, 90.40%); opacity: 0.83\" title=\"0.163\">for</span><span style=\"opacity: 0.80\"> </span><span style=\"background-color: hsl(120, 100.00%, 80.24%); opacity: 0.87\" title=\"0.458\">another</span><span style=\"opacity: 0.80\"> </span><span style=\"background-color: hsl(120, 100.00%, 83.91%); opacity: 0.85\" title=\"0.342\">wwi</span><span style=\"opacity: 0.80\"> </span><span style=\"background-color: hsl(0, 100.00%, 92.78%); opacity: 0.82\" title=\"-0.109\">picture</span><span style=\"opacity: 0.80\">, </span><span style=\"background-color: hsl(0, 100.00%, 84.77%); opacity: 0.85\" title=\"-0.316\">the</span><span style=\"opacity: 0.80\"> </span><span style=\"background-color: hsl(120, 100.00%, 86.02%); opacity: 0.84\" title=\"0.279\">great</span><span style=\"opacity: 0.80\"> </span><span style=\"background-color: hsl(0, 100.00%, 95.87%); opacity: 0.81\" title=\"-0.049\">all</span><span style=\"opacity: 0.80\"> </span><span style=\"background-color: hsl(0, 100.00%, 92.30%); opacity: 0.82\" title=\"-0.119\">quiet</span><span style=\"opacity: 0.80\"> </span><span style=\"background-color: hsl(0, 100.00%, 93.96%); opacity: 0.81\" title=\"-0.084\">on</span><span style=\"opacity: 0.80\"> the </span><span style=\"background-color: hsl(120, 100.00%, 89.29%); opacity: 0.83\" title=\"0.191\">western</span><span style=\"opacity: 0.80\"> front, </span><span style=\"background-color: hsl(120, 100.00%, 94.52%); opacity: 0.81\" title=\"0.073\">a</span><span style=\"opacity: 0.80\"> </span><span style=\"background-color: hsl(120, 100.00%, 79.67%); opacity: 0.88\" title=\"0.477\">film</span><span style=\"opacity: 0.80\"> </span><span style=\"background-color: hsl(120, 100.00%, 90.33%); opacity: 0.83\" title=\"0.165\">that</span><span style=\"opacity: 0.80\"> </span><span style=\"background-color: hsl(120, 100.00%, 99.47%); opacity: 0.80\" title=\"0.003\">is</span><span style=\"opacity: 0.80\"> </span><span style=\"background-color: hsl(120, 100.00%, 81.32%); opacity: 0.87\" title=\"0.423\">definitely</span><span style=\"opacity: 0.80\"> </span><span style=\"background-color: hsl(0, 100.00%, 60.99%); opacity: 0.99\" title=\"-1.210\">not</span><span style=\"opacity: 0.80\"> </span><span style=\"background-color: hsl(120, 100.00%, 97.36%); opacity: 0.80\" title=\"0.026\">a</span><span style=\"opacity: 0.80\"> </span><span style=\"background-color: hsl(120, 100.00%, 96.49%); opacity: 0.81\" title=\"0.039\">comedy</span><span style=\"opacity: 0.80\">.</span>\n",
              "    </p>\n",
              "\n",
              "\n",
              "    \n",
              "\n",
              "    \n",
              "\n",
              "    \n",
              "\n",
              "    \n",
              "\n",
              "\n",
              "    \n",
              "\n",
              "    \n",
              "\n",
              "    \n",
              "\n",
              "    \n",
              "\n",
              "    \n",
              "\n",
              "    \n",
              "\n",
              "\n",
              "    \n",
              "\n",
              "    \n",
              "\n",
              "    \n",
              "\n",
              "    \n",
              "\n",
              "    \n",
              "\n",
              "    \n",
              "\n",
              "\n",
              "\n"
            ],
            "text/plain": [
              "<IPython.core.display.HTML object>"
            ]
          },
          "metadata": {
            "tags": []
          },
          "execution_count": 39
        }
      ]
    },
    {
      "cell_type": "markdown",
      "metadata": {
        "id": "wHfAzaYXMRbV"
      },
      "source": [
        "As we can see, the model perceived positive and negative words but in an unbalanced manner. Examples of negative ones like \"not\", \"far\", \"forgotten\", and \"stupid\" seemed to influence its decision."
      ]
    },
    {
      "cell_type": "markdown",
      "metadata": {
        "id": "xNIi3Ez-NgxF"
      },
      "source": [
        "## 4. Data Augmentation\n",
        "\n",
        "Now let's compare the previous model with a new one. This time trained in an augmented dataset and check for accuracy. For this resort, we will use synonym replacement and expand the previous _Train_ subset by 50%."
      ]
    },
    {
      "cell_type": "code",
      "metadata": {
        "id": "cKsJYzBE2VbZ"
      },
      "source": [
        "!pip install textaugment"
      ],
      "execution_count": null,
      "outputs": []
    },
    {
      "cell_type": "code",
      "metadata": {
        "colab": {
          "base_uri": "https://localhost:8080/"
        },
        "id": "-Mgq8SQF2b41",
        "outputId": "64bfd0a8-fa45-4733-e9aa-630e00693780"
      },
      "source": [
        "from textaugment import EDA\n",
        "import nltk\n",
        "nltk.download(['stopwords','wordnet'])\n",
        "\n",
        "t = EDA(random_state=123)"
      ],
      "execution_count": null,
      "outputs": [
        {
          "output_type": "stream",
          "text": [
            "[nltk_data] Downloading package stopwords to /root/nltk_data...\n",
            "[nltk_data]   Unzipping corpora/stopwords.zip.\n",
            "[nltk_data] Downloading package wordnet to /root/nltk_data...\n",
            "[nltk_data]   Unzipping corpora/wordnet.zip.\n"
          ],
          "name": "stdout"
        }
      ]
    },
    {
      "cell_type": "markdown",
      "metadata": {
        "id": "4UD_we7rRrAK"
      },
      "source": [
        "Let's create a function to augment data and call it on _Train_ subset."
      ]
    },
    {
      "cell_type": "code",
      "metadata": {
        "id": "HOJEjv4P8g5N"
      },
      "source": [
        "import numpy as np\n",
        "\n",
        "# Define a function for data augmentation\n",
        "def eda(lis,arr,pct):\n",
        "  for i in range(0,int(len(lis)*pct)):\n",
        "    lis.append(t.synonym_replacement(lis[i])) # synonym replacement\n",
        "    arr = np.append(arr,arr[i])\n",
        "  return lis, arr"
      ],
      "execution_count": null,
      "outputs": []
    },
    {
      "cell_type": "code",
      "metadata": {
        "id": "YSZCGjLr6lKd"
      },
      "source": [
        "# Increase Train subset by 50% using EDA\n",
        "X_train, y_train = eda(X_train,y_train,0.5)"
      ],
      "execution_count": null,
      "outputs": []
    },
    {
      "cell_type": "code",
      "metadata": {
        "colab": {
          "base_uri": "https://localhost:8080/"
        },
        "id": "bP5xkc_YOUA0",
        "outputId": "55e1950a-e82c-4b49-f065-bcff17ee368d"
      },
      "source": [
        "# Check size of Train and Test subsets\n",
        "len(X_train), len(X_test)"
      ],
      "execution_count": null,
      "outputs": [
        {
          "output_type": "execute_result",
          "data": {
            "text/plain": [
              "(18000, 12000)"
            ]
          },
          "metadata": {
            "tags": []
          },
          "execution_count": 28
        }
      ]
    },
    {
      "cell_type": "markdown",
      "metadata": {
        "id": "13Pa9-3dR5QC"
      },
      "source": [
        "Again, let's shuffle rows."
      ]
    },
    {
      "cell_type": "code",
      "metadata": {
        "id": "YDMPMrBGOqNs"
      },
      "source": [
        "# Shuffle rows\n",
        "df_train = shuffle(df_train)\n",
        "df_test = shuffle(df_test)"
      ],
      "execution_count": null,
      "outputs": []
    },
    {
      "cell_type": "markdown",
      "metadata": {
        "id": "kxfHurmtSDGv"
      },
      "source": [
        "Time to build the model and train the new model."
      ]
    },
    {
      "cell_type": "code",
      "metadata": {
        "colab": {
          "base_uri": "https://localhost:8080/",
          "height": 419,
          "referenced_widgets": [
            "3ea4929f3c3a45cdb3ec7da249dd19a7",
            "7c23b234b9014fd89ef2a1793dd6a920",
            "0bfe6030c10149259501c638812efd4a",
            "3696ef2a56bb4c11863529aeee6e2f11",
            "00fbc866dc784c04847dbe055b66bf6f",
            "1da5acd85f3f4070b034eade954de463",
            "8f1a1d193a404dd786a3c8e4619d20a5",
            "bf7405c6623344e4b9a241133ce13cc1",
            "82c93fdecb774011895c3fb862b0a786",
            "d729bb33de6049d5b74a59b4cbfd0bbd",
            "238af0df4c11418ab48b083f4c10f68f",
            "e48ca53a31f14659b87c5fb796c308c5",
            "7df2fb2d7682452888217c81093b0dca",
            "739af079a9284fd4b6beea4cb9fa26d8",
            "bc82de3352f6451092b3a134044c5cca",
            "5ce7e4470e0e47bdba9f75dd9027b07d",
            "944819f9a2334733874ac95c66fc9ac8",
            "307a462e98764908ac5a323557de26b6",
            "45e800bc4dc0483fbb774d4676ee3246",
            "f114a81f718a49cbbf747c1e5f74dec8",
            "e6529c544b314077bdf9a45b94ec5c68",
            "cd378b2e4fca4774ab831ebba39ad3ad",
            "dcd2ae8838c7457a9cda1aa5dc54853b",
            "e892fc141e58488ca43c4fe70f7df270"
          ]
        },
        "id": "PCuGs-Sj3dvi",
        "outputId": "fce0dfc7-587f-489d-f0fe-97867fe73a8f"
      },
      "source": [
        "# Create new Transformer model\n",
        "MODEL_NAME = 'xlnet-base-cased'\n",
        "t = text.Transformer(MODEL_NAME, maxlen=500, classes=['positive','negative'])\n",
        "trn = t.preprocess_train(X_train, y_train)\n",
        "val = t.preprocess_test(X_test, y_test)\n",
        "model = t.get_classifier()\n",
        "learner = ktrain.get_learner(model, train_data=trn, val_data=val, batch_size=6)"
      ],
      "execution_count": null,
      "outputs": [
        {
          "output_type": "stream",
          "text": [
            "/usr/local/lib/python3.6/dist-packages/ktrain/text/preprocessor.py:414: UserWarning: The class_names argument is replacing the classes argument. Please update your code.\n",
            "  warnings.warn('The class_names argument is replacing the classes argument. Please update your code.')\n"
          ],
          "name": "stderr"
        },
        {
          "output_type": "display_data",
          "data": {
            "application/vnd.jupyter.widget-view+json": {
              "model_id": "3ea4929f3c3a45cdb3ec7da249dd19a7",
              "version_minor": 0,
              "version_major": 2
            },
            "text/plain": [
              "HBox(children=(FloatProgress(value=0.0, description='Downloading', max=760.0, style=ProgressStyle(description_…"
            ]
          },
          "metadata": {
            "tags": []
          }
        },
        {
          "output_type": "stream",
          "text": [
            "\n",
            "preprocessing train...\n",
            "language: en\n",
            "train sequence lengths:\n",
            "\tmean : 232\n",
            "\t95percentile : 596\n",
            "\t99percentile : 900\n"
          ],
          "name": "stdout"
        },
        {
          "output_type": "display_data",
          "data": {
            "application/vnd.jupyter.widget-view+json": {
              "model_id": "82c93fdecb774011895c3fb862b0a786",
              "version_minor": 0,
              "version_major": 2
            },
            "text/plain": [
              "HBox(children=(FloatProgress(value=0.0, description='Downloading', max=798011.0, style=ProgressStyle(descripti…"
            ]
          },
          "metadata": {
            "tags": []
          }
        },
        {
          "output_type": "stream",
          "text": [
            "\n"
          ],
          "name": "stdout"
        },
        {
          "output_type": "display_data",
          "data": {
            "text/html": [
              ""
            ],
            "text/plain": [
              "<IPython.core.display.HTML object>"
            ]
          },
          "metadata": {
            "tags": []
          }
        },
        {
          "output_type": "stream",
          "text": [
            "Is Multi-Label? False\n",
            "preprocessing test...\n",
            "language: en\n",
            "test sequence lengths:\n",
            "\tmean : 230\n",
            "\t95percentile : 588\n",
            "\t99percentile : 890\n"
          ],
          "name": "stdout"
        },
        {
          "output_type": "display_data",
          "data": {
            "text/html": [
              ""
            ],
            "text/plain": [
              "<IPython.core.display.HTML object>"
            ]
          },
          "metadata": {
            "tags": []
          }
        },
        {
          "output_type": "display_data",
          "data": {
            "application/vnd.jupyter.widget-view+json": {
              "model_id": "944819f9a2334733874ac95c66fc9ac8",
              "version_minor": 0,
              "version_major": 2
            },
            "text/plain": [
              "HBox(children=(FloatProgress(value=0.0, description='Downloading', max=565485600.0, style=ProgressStyle(descri…"
            ]
          },
          "metadata": {
            "tags": []
          }
        },
        {
          "output_type": "stream",
          "text": [
            "\n"
          ],
          "name": "stdout"
        }
      ]
    },
    {
      "cell_type": "code",
      "metadata": {
        "colab": {
          "base_uri": "https://localhost:8080/"
        },
        "id": "8IucbmwgyEDW",
        "outputId": "c11cb4d8-69d4-478a-bb84-3772ff1d75eb"
      },
      "source": [
        "# Train the new model\n",
        "learner.fit_onecycle(5e-5, 4)"
      ],
      "execution_count": null,
      "outputs": [
        {
          "output_type": "stream",
          "text": [
            "\n",
            "\n",
            "begin training using onecycle policy with max lr of 5e-05...\n",
            "Epoch 1/4\n",
            "3000/3000 [==============================] - 6204s 2s/step - loss: 0.2137 - accuracy: 0.9175 - val_loss: 0.2045 - val_accuracy: 0.9245\n",
            "Epoch 2/4\n",
            "3000/3000 [==============================] - 6207s 2s/step - loss: 0.1580 - accuracy: 0.9451 - val_loss: 0.1954 - val_accuracy: 0.9287\n",
            "Epoch 3/4\n",
            "3000/3000 [==============================] - 6208s 2s/step - loss: 0.1095 - accuracy: 0.9628 - val_loss: 0.2296 - val_accuracy: 0.9352\n",
            "Epoch 4/4\n",
            "3000/3000 [==============================] - 6210s 2s/step - loss: 0.0295 - accuracy: 0.9918 - val_loss: 0.2458 - val_accuracy: 0.9376\n"
          ],
          "name": "stdout"
        },
        {
          "output_type": "execute_result",
          "data": {
            "text/plain": [
              "<tensorflow.python.keras.callbacks.History at 0x7f96b8e76f98>"
            ]
          },
          "metadata": {
            "tags": []
          },
          "execution_count": 31
        }
      ]
    },
    {
      "cell_type": "markdown",
      "metadata": {
        "id": "kL1V6wKYKQHt"
      },
      "source": [
        "### 4.1 Evaluate the Model\n",
        "\n",
        "Now let's evaluate the new model on _Test_ subset."
      ]
    },
    {
      "cell_type": "code",
      "metadata": {
        "id": "RRYJMmWDKQH7",
        "colab": {
          "base_uri": "https://localhost:8080/"
        },
        "outputId": "aacbdc9d-ced1-4bba-fdd7-3c9314405879"
      },
      "source": [
        "learner.validate(class_names=t.get_classes())"
      ],
      "execution_count": null,
      "outputs": [
        {
          "output_type": "stream",
          "text": [
            "              precision    recall  f1-score   support\n",
            "\n",
            "    positive       0.94      0.94      0.94      6044\n",
            "    negative       0.94      0.94      0.94      5956\n",
            "\n",
            "    accuracy                           0.94     12000\n",
            "   macro avg       0.94      0.94      0.94     12000\n",
            "weighted avg       0.94      0.94      0.94     12000\n",
            "\n"
          ],
          "name": "stdout"
        },
        {
          "output_type": "execute_result",
          "data": {
            "text/plain": [
              "array([[5665,  379],\n",
              "       [ 370, 5586]])"
            ]
          },
          "metadata": {
            "tags": []
          },
          "execution_count": 32
        }
      ]
    },
    {
      "cell_type": "markdown",
      "metadata": {
        "id": "8cs5T51RSstZ"
      },
      "source": [
        "As we can see from previous result, accuracy did not change."
      ]
    },
    {
      "cell_type": "markdown",
      "metadata": {
        "id": "pKn6ArRUXxf2"
      },
      "source": [
        "## 5. Conclusion\n",
        "\n",
        "In this mini-project, we dealt with a classification task to capture sentiment on movie text reviews. For such, It was used a known dataset made available by Standford AI Lab composed by labeled _Train_ and _Test_ subsets with 25,000 observations each.\n",
        "\n",
        "After performing some wrangling with the data we reduced it by half to save computational resources during training and testing. After, we augmented such data with an EDA technique, namely synonym substitution.\n",
        "\n",
        "In end, the performance of the model did not improve (or worsened). The accuracy value itself was not too far from what are best results achieved with the same dataset and goal."
      ]
    }
  ]
}