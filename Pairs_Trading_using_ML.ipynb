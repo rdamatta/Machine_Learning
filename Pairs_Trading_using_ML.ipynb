{
  "nbformat": 4,
  "nbformat_minor": 0,
  "metadata": {
    "kernelspec": {
      "display_name": "Python 3",
      "language": "python",
      "name": "python3"
    },
    "language_info": {
      "codemirror_mode": {
        "name": "ipython",
        "version": 3
      },
      "file_extension": ".py",
      "mimetype": "text/x-python",
      "name": "python",
      "nbconvert_exporter": "python",
      "pygments_lexer": "ipython3",
      "version": "3.7.3"
    },
    "varInspector": {
      "cols": {
        "lenName": 16,
        "lenType": 16,
        "lenVar": 40
      },
      "kernels_config": {
        "python": {
          "delete_cmd_postfix": "",
          "delete_cmd_prefix": "del ",
          "library": "var_list.py",
          "varRefreshCmd": "print(var_dic_list())"
        },
        "r": {
          "delete_cmd_postfix": ") ",
          "delete_cmd_prefix": "rm(",
          "library": "var_list.r",
          "varRefreshCmd": "cat(var_dic_list()) "
        }
      },
      "types_to_exclude": [
        "module",
        "function",
        "builtin_function_or_method",
        "instance",
        "_Feature"
      ],
      "window_display": false
    },
    "colab": {
      "name": "Cópia de Pairs Trading using ML-11c.ipynb",
      "provenance": [],
      "collapsed_sections": []
    }
  },
  "cells": [
    {
      "cell_type": "markdown",
      "metadata": {
        "id": "43qoHNlpRTvs",
        "colab_type": "text"
      },
      "source": [
        "# Pairs Trading, a Machine Learning approach "
      ]
    },
    {
      "cell_type": "markdown",
      "metadata": {
        "id": "vT0i7qITRTvu",
        "colab_type": "text"
      },
      "source": [
        "Pairs Trading is an arbitrage strategy involving two equities which prices have comoved in the past and is expected to do so in the future. The rationale behind is simple: at the entry point, short the stock which outperforms and long the underperforming stock. Afterward, liquidate the position at the exit point.\n",
        "\n",
        "Here we use two Machine Learning algorithms namely, Recurrent Neural Networks (RNN) and Reinforcement Learning (RL) to support a Pairs Trading strategy on High-Frequency Data (HFD) from a set of 2365 stocks from 3 different US exchanges. "
      ]
    },
    {
      "cell_type": "markdown",
      "metadata": {
        "id": "WQIijxPERTvv",
        "colab_type": "text"
      },
      "source": [
        "## 1. Data pre-processing"
      ]
    },
    {
      "cell_type": "markdown",
      "metadata": {
        "id": "a545ltxtRTvx",
        "colab_type": "text"
      },
      "source": [
        "### 1.1 Check on memory available"
      ]
    },
    {
      "cell_type": "markdown",
      "metadata": {
        "id": "QXrtm13CRTvy",
        "colab_type": "text"
      },
      "source": [
        "Since the raw data file is very large, we start by checking the amount of RAM available."
      ]
    },
    {
      "cell_type": "code",
      "metadata": {
        "id": "_sf-CGVnRTvz",
        "colab_type": "code",
        "colab": {
          "base_uri": "https://localhost:8080/",
          "height": 34
        },
        "outputId": "f3321177-582b-40ca-bcad-5d4bdd7bf9bf"
      },
      "source": [
        "# Finding the amount of RAM available\n",
        "import psutil\n",
        "\n",
        "svmem = psutil.virtual_memory()\n",
        "print (svmem.available)"
      ],
      "execution_count": null,
      "outputs": [
        {
          "output_type": "stream",
          "text": [
            "12785934336\n"
          ],
          "name": "stdout"
        }
      ]
    },
    {
      "cell_type": "markdown",
      "metadata": {
        "id": "XzomCy3VRTv5",
        "colab_type": "text"
      },
      "source": [
        "### 1.2 Read the data"
      ]
    },
    {
      "cell_type": "markdown",
      "metadata": {
        "id": "mnupMG6ERTv7",
        "colab_type": "text"
      },
      "source": [
        "Decided to divide the raw data file in chucks while reading it, we define the size of each chunk and filter the raw data by trading days. In the end, we have 21 data frames, one for each trading day (saved in pickle format).\n",
        "\n"
      ]
    },
    {
      "cell_type": "code",
      "metadata": {
        "id": "dbKyAFhmRTv7",
        "colab_type": "code",
        "colab": {}
      },
      "source": [
        "# Getting the size of csv file\n",
        "import os \n",
        "\n",
        "os.path.getsize('./data/TAQ-Jan2018.csv')\n",
        "\n",
        "# Processing csv files in chunks\n",
        "import pandas as pd\n",
        "\n",
        "df_sample = pd.read_csv('./data/TAQ-Jan2018.csv', nrows=10)\n",
        "\n",
        "# Getting the size of sample dataframe\n",
        "df_sample_size = df_sample.memory_usage(index=True).sum()\n",
        "print(df_sample_size)\n",
        "\n",
        "\n",
        "# Define a chunksize that would occupy a maximum of 1Gb\n",
        "# we divide by 10 because we have selected 10 lines in our df_sample\n",
        "my_chunk = (1000000000 / df_sample_size)/10\n",
        "my_chunk = int(my_chunk//1) # we get the integer part\n",
        "print (my_chunk)\n",
        "\n",
        "# Create the iterator\n",
        "iter_csv = pd.read_csv('./data/TAQ-Jan2018.csv',iterator=True,chunksize=my_chunk)\n",
        "\n",
        "# Concatenate according to a filter into result dataframe\n",
        "trading_days = ['02jan2018','03jan2018','04jan2018','05jan2018','08jan2018','09jan2018','10jan2018',\n",
        "                '11jan2018','12jan2018','16jan2018','17jan2018','18jan2018','19jan2018','22jan2018',\n",
        "                '23jan2018','24jan2018','25jan2018','26jan2018','29jan2018','30jan2018','31jan2018']\n",
        "\n",
        "\n",
        "for tday in trading_days:\n",
        "    iter_csv = pd.read_csv('./data/TAQ-Jan2018.csv',iterator=True,chunksize=my_chunk)\n",
        "    df_result = pd.concat([chunk[chunk[\"date\"]=='{}'.format(tday)]\n",
        "    for chunk in iter_csv])\n",
        "    SRC_DATA_FILENAME='./data/{}.pkl'.format(tday)\n",
        "    df_result.to_pickle(SRC_DATA_FILENAME)"
      ],
      "execution_count": null,
      "outputs": []
    },
    {
      "cell_type": "markdown",
      "metadata": {
        "id": "_m7a_x4SRTwB",
        "colab_type": "text"
      },
      "source": [
        "### 1.3 Check the data"
      ]
    },
    {
      "cell_type": "markdown",
      "metadata": {
        "id": "f09zJD9iRTwC",
        "colab_type": "text"
      },
      "source": [
        "Now, we load the data frame regarding the fifth trading day (08.01.2018) and display the first five observations."
      ]
    },
    {
      "cell_type": "code",
      "metadata": {
        "id": "Cr859izjRTwD",
        "colab_type": "code",
        "colab": {
          "base_uri": "https://localhost:8080/",
          "height": 204
        },
        "outputId": "e3c68144-5eb1-49e3-9f5f-89f66d133315"
      },
      "source": [
        "# Load data into dataframe\n",
        "input_file = './data/08jan2018.pkl' \n",
        "df = pd.read_pickle(input_file)\n",
        "\n",
        "# Set the display sizes\n",
        "pd.set_option('display.max_rows', 500)\n",
        "pd.set_option('display.max_columns', 500)\n",
        "pd.set_option('display.width', 1000)\n",
        "\n",
        "# Print the first 5 observations\n",
        "df.head()"
      ],
      "execution_count": null,
      "outputs": [
        {
          "output_type": "execute_result",
          "data": {
            "text/html": [
              "<div>\n",
              "<style scoped>\n",
              "    .dataframe tbody tr th:only-of-type {\n",
              "        vertical-align: middle;\n",
              "    }\n",
              "\n",
              "    .dataframe tbody tr th {\n",
              "        vertical-align: top;\n",
              "    }\n",
              "\n",
              "    .dataframe thead th {\n",
              "        text-align: right;\n",
              "    }\n",
              "</style>\n",
              "<table border=\"1\" class=\"dataframe\">\n",
              "  <thead>\n",
              "    <tr style=\"text-align: right;\">\n",
              "      <th></th>\n",
              "      <th>date</th>\n",
              "      <th>time_m</th>\n",
              "      <th>ex</th>\n",
              "      <th>sym_root</th>\n",
              "      <th>sym_suffix</th>\n",
              "      <th>tr_scond</th>\n",
              "      <th>size</th>\n",
              "      <th>price</th>\n",
              "      <th>tickerID</th>\n",
              "      <th>exchcd</th>\n",
              "    </tr>\n",
              "  </thead>\n",
              "  <tbody>\n",
              "    <tr>\n",
              "      <th>18820885</th>\n",
              "      <td>08jan2018</td>\n",
              "      <td>10:14:28</td>\n",
              "      <td>A</td>\n",
              "      <td>A</td>\n",
              "      <td>NaN</td>\n",
              "      <td>F I</td>\n",
              "      <td>48</td>\n",
              "      <td>69.79</td>\n",
              "      <td>1</td>\n",
              "      <td>1</td>\n",
              "    </tr>\n",
              "    <tr>\n",
              "      <th>18820886</th>\n",
              "      <td>08jan2018</td>\n",
              "      <td>14:34:33</td>\n",
              "      <td>A</td>\n",
              "      <td>A</td>\n",
              "      <td>NaN</td>\n",
              "      <td>F</td>\n",
              "      <td>100</td>\n",
              "      <td>70.22</td>\n",
              "      <td>1</td>\n",
              "      <td>1</td>\n",
              "    </tr>\n",
              "    <tr>\n",
              "      <th>18820887</th>\n",
              "      <td>08jan2018</td>\n",
              "      <td>14:34:27</td>\n",
              "      <td>A</td>\n",
              "      <td>A</td>\n",
              "      <td>NaN</td>\n",
              "      <td>F I</td>\n",
              "      <td>10</td>\n",
              "      <td>70.21</td>\n",
              "      <td>1</td>\n",
              "      <td>1</td>\n",
              "    </tr>\n",
              "    <tr>\n",
              "      <th>18820888</th>\n",
              "      <td>08jan2018</td>\n",
              "      <td>14:10:57</td>\n",
              "      <td>A</td>\n",
              "      <td>A</td>\n",
              "      <td>NaN</td>\n",
              "      <td>NaN</td>\n",
              "      <td>100</td>\n",
              "      <td>70.28</td>\n",
              "      <td>1</td>\n",
              "      <td>1</td>\n",
              "    </tr>\n",
              "    <tr>\n",
              "      <th>18820889</th>\n",
              "      <td>08jan2018</td>\n",
              "      <td>14:17:37</td>\n",
              "      <td>A</td>\n",
              "      <td>A</td>\n",
              "      <td>NaN</td>\n",
              "      <td>F</td>\n",
              "      <td>100</td>\n",
              "      <td>70.24</td>\n",
              "      <td>1</td>\n",
              "      <td>1</td>\n",
              "    </tr>\n",
              "  </tbody>\n",
              "</table>\n",
              "</div>"
            ],
            "text/plain": [
              "               date    time_m ex sym_root sym_suffix tr_scond  size  price  tickerID  exchcd\n",
              "18820885  08jan2018  10:14:28  A        A        NaN      F I    48  69.79         1       1\n",
              "18820886  08jan2018  14:34:33  A        A        NaN        F   100  70.22         1       1\n",
              "18820887  08jan2018  14:34:27  A        A        NaN      F I    10  70.21         1       1\n",
              "18820888  08jan2018  14:10:57  A        A        NaN      NaN   100  70.28         1       1\n",
              "18820889  08jan2018  14:17:37  A        A        NaN        F   100  70.24         1       1"
            ]
          },
          "metadata": {
            "tags": []
          },
          "execution_count": 5
        }
      ]
    },
    {
      "cell_type": "code",
      "metadata": {
        "id": "tlEgr6qHpRpq",
        "colab_type": "code",
        "colab": {}
      },
      "source": [
        "df.to_excel(\"./data/df.xlsx\", sheet_name='08jan2018')"
      ],
      "execution_count": null,
      "outputs": []
    },
    {
      "cell_type": "markdown",
      "metadata": {
        "id": "yHtqXaFKRTwI",
        "colab_type": "text"
      },
      "source": [
        "From the previous data frame, we are interested in the **date** and **time** of each trade, the stock symbol (**sym_root**) and **price**."
      ]
    },
    {
      "cell_type": "markdown",
      "metadata": {
        "id": "AwTVL1YpRTwJ",
        "colab_type": "text"
      },
      "source": [
        "### 1.4 Keep observations within trading session"
      ]
    },
    {
      "cell_type": "markdown",
      "metadata": {
        "id": "W99QRhtxRTwK",
        "colab_type": "text"
      },
      "source": [
        "We will deal only with the trades that occurred within the core trading session, i.e., from 09:30:00 to 16:00:00."
      ]
    },
    {
      "cell_type": "code",
      "metadata": {
        "id": "wuAkWRBZRTwL",
        "colab_type": "code",
        "colab": {}
      },
      "source": [
        "import datetime as dt\n",
        "\n",
        "trading_days = ['02jan2018','03jan2018','04jan2018','05jan2018','08jan2018','09jan2018','10jan2018',\n",
        "                '11jan2018','12jan2018','16jan2018','17jan2018','18jan2018','19jan2018','22jan2018',\n",
        "                '23jan2018','24jan2018','25jan2018','26jan2018','29jan2018','30jan2018','31jan2018']\n",
        "\n",
        "for tday in trading_days:\n",
        "    # Load data into dataframe\n",
        "    input_file = './data/{}.pkl'.format(tday)\n",
        "    ts1 = pd.read_pickle(input_file)\n",
        "\n",
        "    # Merge columns\n",
        "    ts1['time_m'] = ts1['date'] + ts1['time_m']\n",
        "    \n",
        "    # Convert trade time series\n",
        "    ts1['time_m'] = pd.to_datetime(ts1.time_m,format=\"%d%b%Y%H:%M:%S\") \n",
        "    \n",
        "    # Read date info and create start and end times\n",
        "    yr = pd.to_datetime(ts1.time_m).iloc[0].year\n",
        "    mo = pd.to_datetime(ts1.time_m).iloc[0].month\n",
        "    dy = pd.to_datetime(ts1.time_m).iloc[0].day\n",
        "    t_start = dt.datetime(yr,mo,dy,9,30,0) # session opeming time 09:30:00\n",
        "    t_end = dt.datetime(yr,mo,dy,16,00,0)  # session closing time 16:00:00\n",
        " \n",
        "    # Create a boolean expression for the core trading session\n",
        "    bool = (ts1['time_m'] >= t_start) & (ts1['time_m'] <= t_end)\n",
        "    \n",
        "    # Remove ticks out of the core trading session\n",
        "    ts1 = ts1[bool]\n",
        "\n",
        "    # save the result to a pickle file\n",
        "    RES_DATA_FILENAME='./data/trd_{}.pkl'.format(tday)\n",
        "    ts1.to_pickle(RES_DATA_FILENAME) "
      ],
      "execution_count": null,
      "outputs": []
    },
    {
      "cell_type": "markdown",
      "metadata": {
        "id": "nqw3tjlPRTwQ",
        "colab_type": "text"
      },
      "source": [
        "### 1.5 Convert data frame from tick data to frequency bars"
      ]
    },
    {
      "cell_type": "markdown",
      "metadata": {
        "id": "qaCB-ViLRTwQ",
        "colab_type": "text"
      },
      "source": [
        "Most traditional models require regularly spaced data. So we convert our HFD to regular intervals, that means, _bars_ of 6 seconds."
      ]
    },
    {
      "cell_type": "code",
      "metadata": {
        "id": "s4teemTFRTwR",
        "colab_type": "code",
        "colab": {}
      },
      "source": [
        "import numpy as np\n",
        "\n",
        "\n",
        "def pop_with_prices(df,tspan):\n",
        "    \n",
        "    #symbols = df['sym_root'].unique() # extract stocks' symbols\n",
        "    symbols = ['A']\n",
        "    # trading day timespan\n",
        "    yr = pd.to_datetime(df.date).iloc[0].year\n",
        "    mo = pd.to_datetime(df.date).iloc[0].month\n",
        "    dy = pd.to_datetime(df.date).iloc[0].day\n",
        "    t_start = dt.datetime(yr,mo,dy,9,30,0) # session opeming time 09:30:00\n",
        "    t_end = dt.datetime(yr,mo,dy,16,00,0)  # session closing time 16:00:00\n",
        "    if tspan == 1:\n",
        "        date_rng = pd.date_range(start=t_start, end=t_end, freq='T') #by minute\n",
        "    elif tspan == 2:\n",
        "        date_rng = pd.date_range(start=t_start, end=t_end, freq='30T') #by 1/2 hour\n",
        "    elif tspan == 3:\n",
        "        date_rng = pd.date_range(start=t_end, end=t_end, freq='D') #by day (close price)\n",
        "    elif tspan == 4:\n",
        "        date_rng = pd.date_range(start=t_start, end=t_end, freq='6S') #by 6 seconds\n",
        "            \n",
        "    # Create data frame w/ the same dimension as date_rng\n",
        "    ds = pd.DataFrame(index=date_rng)\n",
        "    \n",
        "    for sym in symbols:\n",
        "        ts1 = df.loc[df['sym_root']==sym] # select stock\n",
        "\n",
        "        ts1 = ts1.sort_values(by=['time_m'])\n",
        "            \n",
        "        ds[sym] = np.nan\n",
        "\n",
        "        for time in date_rng:\n",
        "            for trade in ts1['time_m']:\n",
        "                if time.hour==trade.hour and time.minute==trade.minute and time.second==trade.second:\n",
        "                    sel = ts1.loc[ts1['time_m']==trade]\n",
        "                    ds[sym].loc[time]=sel.price.median() # keep median\n",
        "                                     \n",
        "                \n",
        "    return ds        \n",
        "\n",
        "   \n",
        "trading_days = ['02jan2018','03jan2018','04jan2018','05jan2018','08jan2018','09jan2018','10jan2018',\n",
        "                '11jan2018','12jan2018','16jan2018','17jan2018','18jan2018','19jan2018','22jan2018',\n",
        "                '23jan2018','24jan2018','25jan2018','26jan2018','29jan2018','30jan2018','31jan2018']\n",
        "\n",
        "for tday in trading_days:\n",
        "  # Load data into dataframe\n",
        "  input_file = './data/trd_{}.pkl'.format(tday)\n",
        "  ts1 = pd.read_pickle(input_file)\n",
        "  \n",
        "  # Call pop_with_prices function  \n",
        "  df = pop_with_prices(ts1,4) \n",
        "\n",
        "  # save the result to a pickle file\n",
        "  RES_DATA_FILENAME='./data/trd_median6s_{}.pkl'.format(tday)\n",
        "  ts1.to_pickle(RES_DATA_FILENAME) \n"
      ],
      "execution_count": null,
      "outputs": []
    },
    {
      "cell_type": "markdown",
      "metadata": {
        "id": "HOyY2P9eRTwX",
        "colab_type": "text"
      },
      "source": [
        "### 1.6 Selection of stocks regarding liquidity"
      ]
    },
    {
      "cell_type": "markdown",
      "metadata": {
        "id": "ZvlXRo-uRTwY",
        "colab_type": "text"
      },
      "source": [
        "Some stocks trade more frequently (more liquid) than others. We can verify that by plotting a Null Matrix of the first 5 stocks in our DataFrame where light shades represent the absence of observations (or null values)."
      ]
    },
    {
      "cell_type": "code",
      "metadata": {
        "id": "hzyHLm-ERTwZ",
        "colab_type": "code",
        "colab": {
          "base_uri": "https://localhost:8080/",
          "height": 863
        },
        "outputId": "40778f16-7d59-4853-e791-75d036fabd42"
      },
      "source": [
        "import seaborn as sns\n",
        "import matplotlib.pyplot as plt\n",
        "\n",
        "# Define a function to plot the Null matrix\n",
        "def plot_null_matrix(df, figsize=(18,15)):\n",
        "    # initiate the figure\n",
        "    plt.figure(figsize=figsize)\n",
        "    # create a boolean dataframe based on whether values are NaN\n",
        "    df_null = df.isnull()\n",
        "    # create a jeatmap of the boolean dataframe\n",
        "    sns.heatmap(~df_null, cbar=False, yticklabels=False)\n",
        "    plt.show()\n",
        "\n",
        "# Load data into dataframe\n",
        "input_file = './data/trd_median6s_08jan2018.pkl'\n",
        "df = pd.read_pickle(input_file)\n",
        "\n",
        "# Call the function\n",
        "plot_null_matrix(df.iloc[:,:5])"
      ],
      "execution_count": 8,
      "outputs": [
        {
          "output_type": "display_data",
          "data": {
            "image/png": "[encoded data removed]",
            "text/plain": [
              "<Figure size 1296x1080 with 1 Axes>"
            ]
          },
          "metadata": {
            "tags": [],
            "needs_background": "light"
          }
        }
      ]
    },
    {
      "cell_type": "markdown",
      "metadata": {
        "id": "qBCERBKxRTwe",
        "colab_type": "text"
      },
      "source": [
        "For this analysis, we will keep the more liquid stocks based on a threshold: at least 45% of the maximum number of trades per day."
      ]
    },
    {
      "cell_type": "code",
      "metadata": {
        "id": "d5aw5kusRTwf",
        "colab_type": "code",
        "colab": {}
      },
      "source": [
        "# Extract index from dataframe\n",
        "symbols = df.columns\n",
        "\n",
        "# Create data frame using columns names as index\n",
        "ds = pd.DataFrame(index=symbols)\n",
        "ds['count'] = np.nan\n",
        "\n",
        "\n",
        "# Build tick frequency series\n",
        "for sym in df:\n",
        "    freq = df[sym].value_counts().sum()    \n",
        "    ds.loc[sym] = freq\n",
        "\n",
        "# Create a conditional vector for stocks with ticks 45% (or above) maximum \n",
        "bool = ds['count'] >= ds['count'].max()*0.45\n",
        "\n",
        "# Selection of most liquid stocks\n",
        "liq = ds[bool]\n",
        "\n",
        "# Build a data frame with selected stocks\n",
        "sample = df[liq.index]"
      ],
      "execution_count": null,
      "outputs": []
    },
    {
      "cell_type": "markdown",
      "metadata": {
        "id": "pAiNqf2aRTwj",
        "colab_type": "text"
      },
      "source": [
        "### 1.7 Filling the bar gaps"
      ]
    },
    {
      "cell_type": "markdown",
      "metadata": {
        "id": "Y4H6iRqtRTwk",
        "colab_type": "text"
      },
      "source": [
        "From the result above, we now fill the missing observations with the _last_ bar value."
      ]
    },
    {
      "cell_type": "code",
      "metadata": {
        "id": "5vSwNDB9RTwl",
        "colab_type": "code",
        "colab": {
          "base_uri": "https://localhost:8080/",
          "height": 949
        },
        "outputId": "32ac4e12-8473-430e-a77b-52e384dfdf32"
      },
      "source": [
        "import math\n",
        "\n",
        "# Define a function to fill the missing observations with the last bar value\n",
        "def filling_bars(ds):\n",
        "    symbols = ds.keys() # extract stocks' symbols                      \n",
        "    #fill missing values with last bar\n",
        "    for sym in symbols:   \n",
        "        for k in range(len(ds)):          \n",
        "            if math.isnan(ds[sym].iloc[k]) and k==0:\n",
        "                j = ds[sym].index.get_loc(ds[sym].first_valid_index())\n",
        "                ds[sym].iloc[k] = ds[sym].iloc[j]           \n",
        "    \n",
        "            elif  math.isnan(ds[sym].iloc[k]):\n",
        "                ds[sym].iloc[k] = ds[sym].iloc[k-1]          \n",
        "    return ds\n",
        "\n",
        "# Call the function\n",
        "filling_bars(sample)"
      ],
      "execution_count": null,
      "outputs": [
        {
          "output_type": "stream",
          "text": [
            "/usr/local/lib/python3.6/dist-packages/ipykernel_launcher.py:14: SettingWithCopyWarning: \n",
            "A value is trying to be set on a copy of a slice from a DataFrame\n",
            "\n",
            "See the caveats in the documentation: https://pandas.pydata.org/pandas-docs/stable/user_guide/indexing.html#returning-a-view-versus-a-copy\n",
            "  \n",
            "/usr/local/lib/python3.6/dist-packages/ipykernel_launcher.py:11: SettingWithCopyWarning: \n",
            "A value is trying to be set on a copy of a slice from a DataFrame\n",
            "\n",
            "See the caveats in the documentation: https://pandas.pydata.org/pandas-docs/stable/user_guide/indexing.html#returning-a-view-versus-a-copy\n",
            "  # This is added back by InteractiveShellApp.init_path()\n"
          ],
          "name": "stderr"
        },
        {
          "output_type": "execute_result",
          "data": {
            "text/html": [
              "<div>\n",
              "<style scoped>\n",
              "    .dataframe tbody tr th:only-of-type {\n",
              "        vertical-align: middle;\n",
              "    }\n",
              "\n",
              "    .dataframe tbody tr th {\n",
              "        vertical-align: top;\n",
              "    }\n",
              "\n",
              "    .dataframe thead th {\n",
              "        text-align: right;\n",
              "    }\n",
              "</style>\n",
              "<table border=\"1\" class=\"dataframe\">\n",
              "  <thead>\n",
              "    <tr style=\"text-align: right;\">\n",
              "      <th></th>\n",
              "      <th>V</th>\n",
              "      <th>DAL</th>\n",
              "      <th>IBM</th>\n",
              "      <th>VIPS</th>\n",
              "      <th>SQ</th>\n",
              "      <th>LB</th>\n",
              "      <th>D</th>\n",
              "      <th>WU</th>\n",
              "      <th>HD</th>\n",
              "      <th>JPM</th>\n",
              "      <th>CAT</th>\n",
              "      <th>BAC</th>\n",
              "      <th>CVX</th>\n",
              "      <th>CVS</th>\n",
              "      <th>XOM</th>\n",
              "      <th>STZ</th>\n",
              "      <th>GS</th>\n",
              "      <th>M</th>\n",
              "      <th>GE</th>\n",
              "      <th>UTX</th>\n",
              "      <th>SNAP</th>\n",
              "      <th>WFC</th>\n",
              "      <th>WMT</th>\n",
              "      <th>TWTR</th>\n",
              "      <th>NKE</th>\n",
              "      <th>BABA</th>\n",
              "      <th>TGT</th>\n",
              "      <th>BA</th>\n",
              "      <th>X</th>\n",
              "      <th>HAL</th>\n",
              "      <th>KSS</th>\n",
              "      <th>SM</th>\n",
              "      <th>T</th>\n",
              "      <th>C</th>\n",
              "      <th>DIS</th>\n",
              "      <th>SLB</th>\n",
              "    </tr>\n",
              "  </thead>\n",
              "  <tbody>\n",
              "    <tr>\n",
              "      <th>2018-01-08 09:30:00</th>\n",
              "      <td>118.5400</td>\n",
              "      <td>55.930</td>\n",
              "      <td>162.790</td>\n",
              "      <td>12.745</td>\n",
              "      <td>41.0600</td>\n",
              "      <td>50.08</td>\n",
              "      <td>77.140</td>\n",
              "      <td>21.7750</td>\n",
              "      <td>191.72</td>\n",
              "      <td>26.600</td>\n",
              "      <td>164.050</td>\n",
              "      <td>30.220</td>\n",
              "      <td>127.88</td>\n",
              "      <td>78.3600</td>\n",
              "      <td>86.700</td>\n",
              "      <td>219.750</td>\n",
              "      <td>26.945</td>\n",
              "      <td>24.660</td>\n",
              "      <td>18.670</td>\n",
              "      <td>135.380</td>\n",
              "      <td>14.190</td>\n",
              "      <td>62.67</td>\n",
              "      <td>100.30</td>\n",
              "      <td>24.350</td>\n",
              "      <td>64.2325</td>\n",
              "      <td>190.38</td>\n",
              "      <td>67.470</td>\n",
              "      <td>308.600</td>\n",
              "      <td>38.85</td>\n",
              "      <td>51.70</td>\n",
              "      <td>58.62</td>\n",
              "      <td>24.000</td>\n",
              "      <td>38.155</td>\n",
              "      <td>75.15</td>\n",
              "      <td>111.040</td>\n",
              "      <td>73.3200</td>\n",
              "    </tr>\n",
              "    <tr>\n",
              "      <th>2018-01-08 09:30:06</th>\n",
              "      <td>118.5300</td>\n",
              "      <td>55.930</td>\n",
              "      <td>162.790</td>\n",
              "      <td>12.745</td>\n",
              "      <td>41.0600</td>\n",
              "      <td>50.08</td>\n",
              "      <td>77.100</td>\n",
              "      <td>21.7750</td>\n",
              "      <td>191.72</td>\n",
              "      <td>26.865</td>\n",
              "      <td>164.050</td>\n",
              "      <td>30.220</td>\n",
              "      <td>127.88</td>\n",
              "      <td>78.4300</td>\n",
              "      <td>86.700</td>\n",
              "      <td>222.720</td>\n",
              "      <td>254.530</td>\n",
              "      <td>24.660</td>\n",
              "      <td>18.640</td>\n",
              "      <td>135.380</td>\n",
              "      <td>14.190</td>\n",
              "      <td>62.67</td>\n",
              "      <td>100.30</td>\n",
              "      <td>24.350</td>\n",
              "      <td>64.2325</td>\n",
              "      <td>190.38</td>\n",
              "      <td>67.470</td>\n",
              "      <td>308.600</td>\n",
              "      <td>38.85</td>\n",
              "      <td>51.70</td>\n",
              "      <td>58.62</td>\n",
              "      <td>24.000</td>\n",
              "      <td>38.155</td>\n",
              "      <td>75.15</td>\n",
              "      <td>111.040</td>\n",
              "      <td>73.3200</td>\n",
              "    </tr>\n",
              "    <tr>\n",
              "      <th>2018-01-08 09:30:12</th>\n",
              "      <td>118.6600</td>\n",
              "      <td>55.930</td>\n",
              "      <td>162.790</td>\n",
              "      <td>12.780</td>\n",
              "      <td>41.0600</td>\n",
              "      <td>50.08</td>\n",
              "      <td>77.100</td>\n",
              "      <td>21.7750</td>\n",
              "      <td>191.72</td>\n",
              "      <td>26.865</td>\n",
              "      <td>164.050</td>\n",
              "      <td>30.230</td>\n",
              "      <td>127.88</td>\n",
              "      <td>78.4300</td>\n",
              "      <td>86.700</td>\n",
              "      <td>222.720</td>\n",
              "      <td>254.530</td>\n",
              "      <td>24.720</td>\n",
              "      <td>18.670</td>\n",
              "      <td>135.380</td>\n",
              "      <td>14.200</td>\n",
              "      <td>62.67</td>\n",
              "      <td>100.30</td>\n",
              "      <td>24.350</td>\n",
              "      <td>64.2325</td>\n",
              "      <td>190.38</td>\n",
              "      <td>67.470</td>\n",
              "      <td>308.120</td>\n",
              "      <td>38.85</td>\n",
              "      <td>51.70</td>\n",
              "      <td>58.46</td>\n",
              "      <td>24.000</td>\n",
              "      <td>38.155</td>\n",
              "      <td>75.15</td>\n",
              "      <td>111.040</td>\n",
              "      <td>73.3200</td>\n",
              "    </tr>\n",
              "    <tr>\n",
              "      <th>2018-01-08 09:30:18</th>\n",
              "      <td>118.5700</td>\n",
              "      <td>55.930</td>\n",
              "      <td>162.790</td>\n",
              "      <td>12.740</td>\n",
              "      <td>41.0600</td>\n",
              "      <td>50.08</td>\n",
              "      <td>77.095</td>\n",
              "      <td>21.7750</td>\n",
              "      <td>191.72</td>\n",
              "      <td>26.865</td>\n",
              "      <td>164.050</td>\n",
              "      <td>30.220</td>\n",
              "      <td>127.88</td>\n",
              "      <td>78.4300</td>\n",
              "      <td>86.700</td>\n",
              "      <td>219.745</td>\n",
              "      <td>254.530</td>\n",
              "      <td>24.720</td>\n",
              "      <td>18.680</td>\n",
              "      <td>135.380</td>\n",
              "      <td>14.200</td>\n",
              "      <td>62.67</td>\n",
              "      <td>100.24</td>\n",
              "      <td>24.350</td>\n",
              "      <td>64.2325</td>\n",
              "      <td>190.38</td>\n",
              "      <td>67.470</td>\n",
              "      <td>308.120</td>\n",
              "      <td>38.85</td>\n",
              "      <td>51.70</td>\n",
              "      <td>58.46</td>\n",
              "      <td>24.000</td>\n",
              "      <td>38.155</td>\n",
              "      <td>75.15</td>\n",
              "      <td>111.040</td>\n",
              "      <td>73.3200</td>\n",
              "    </tr>\n",
              "    <tr>\n",
              "      <th>2018-01-08 09:30:24</th>\n",
              "      <td>118.5700</td>\n",
              "      <td>55.930</td>\n",
              "      <td>162.790</td>\n",
              "      <td>12.800</td>\n",
              "      <td>41.0600</td>\n",
              "      <td>50.08</td>\n",
              "      <td>77.020</td>\n",
              "      <td>21.7750</td>\n",
              "      <td>191.72</td>\n",
              "      <td>26.865</td>\n",
              "      <td>164.050</td>\n",
              "      <td>30.210</td>\n",
              "      <td>127.88</td>\n",
              "      <td>78.4300</td>\n",
              "      <td>86.700</td>\n",
              "      <td>219.745</td>\n",
              "      <td>254.530</td>\n",
              "      <td>24.720</td>\n",
              "      <td>18.680</td>\n",
              "      <td>135.475</td>\n",
              "      <td>14.200</td>\n",
              "      <td>62.67</td>\n",
              "      <td>100.24</td>\n",
              "      <td>24.350</td>\n",
              "      <td>64.2325</td>\n",
              "      <td>190.38</td>\n",
              "      <td>67.470</td>\n",
              "      <td>308.120</td>\n",
              "      <td>38.85</td>\n",
              "      <td>51.70</td>\n",
              "      <td>58.46</td>\n",
              "      <td>24.000</td>\n",
              "      <td>38.155</td>\n",
              "      <td>75.15</td>\n",
              "      <td>111.040</td>\n",
              "      <td>73.3200</td>\n",
              "    </tr>\n",
              "    <tr>\n",
              "      <th>...</th>\n",
              "      <td>...</td>\n",
              "      <td>...</td>\n",
              "      <td>...</td>\n",
              "      <td>...</td>\n",
              "      <td>...</td>\n",
              "      <td>...</td>\n",
              "      <td>...</td>\n",
              "      <td>...</td>\n",
              "      <td>...</td>\n",
              "      <td>...</td>\n",
              "      <td>...</td>\n",
              "      <td>...</td>\n",
              "      <td>...</td>\n",
              "      <td>...</td>\n",
              "      <td>...</td>\n",
              "      <td>...</td>\n",
              "      <td>...</td>\n",
              "      <td>...</td>\n",
              "      <td>...</td>\n",
              "      <td>...</td>\n",
              "      <td>...</td>\n",
              "      <td>...</td>\n",
              "      <td>...</td>\n",
              "      <td>...</td>\n",
              "      <td>...</td>\n",
              "      <td>...</td>\n",
              "      <td>...</td>\n",
              "      <td>...</td>\n",
              "      <td>...</td>\n",
              "      <td>...</td>\n",
              "      <td>...</td>\n",
              "      <td>...</td>\n",
              "      <td>...</td>\n",
              "      <td>...</td>\n",
              "      <td>...</td>\n",
              "      <td>...</td>\n",
              "    </tr>\n",
              "    <tr>\n",
              "      <th>2018-01-08 15:59:36</th>\n",
              "      <td>119.3700</td>\n",
              "      <td>54.645</td>\n",
              "      <td>163.500</td>\n",
              "      <td>13.590</td>\n",
              "      <td>40.7000</td>\n",
              "      <td>48.66</td>\n",
              "      <td>78.030</td>\n",
              "      <td>21.4875</td>\n",
              "      <td>192.06</td>\n",
              "      <td>108.530</td>\n",
              "      <td>166.160</td>\n",
              "      <td>30.110</td>\n",
              "      <td>128.57</td>\n",
              "      <td>77.8000</td>\n",
              "      <td>87.125</td>\n",
              "      <td>216.900</td>\n",
              "      <td>251.830</td>\n",
              "      <td>24.410</td>\n",
              "      <td>18.275</td>\n",
              "      <td>132.840</td>\n",
              "      <td>14.055</td>\n",
              "      <td>61.99</td>\n",
              "      <td>101.61</td>\n",
              "      <td>24.600</td>\n",
              "      <td>64.5700</td>\n",
              "      <td>190.28</td>\n",
              "      <td>67.175</td>\n",
              "      <td>310.230</td>\n",
              "      <td>39.45</td>\n",
              "      <td>52.32</td>\n",
              "      <td>56.88</td>\n",
              "      <td>25.125</td>\n",
              "      <td>38.250</td>\n",
              "      <td>74.55</td>\n",
              "      <td>110.020</td>\n",
              "      <td>74.8725</td>\n",
              "    </tr>\n",
              "    <tr>\n",
              "      <th>2018-01-08 15:59:42</th>\n",
              "      <td>119.3700</td>\n",
              "      <td>54.645</td>\n",
              "      <td>163.500</td>\n",
              "      <td>13.585</td>\n",
              "      <td>40.6900</td>\n",
              "      <td>48.66</td>\n",
              "      <td>78.020</td>\n",
              "      <td>21.4950</td>\n",
              "      <td>192.07</td>\n",
              "      <td>108.540</td>\n",
              "      <td>166.105</td>\n",
              "      <td>30.115</td>\n",
              "      <td>128.57</td>\n",
              "      <td>77.7800</td>\n",
              "      <td>87.130</td>\n",
              "      <td>216.980</td>\n",
              "      <td>251.750</td>\n",
              "      <td>24.425</td>\n",
              "      <td>18.275</td>\n",
              "      <td>132.805</td>\n",
              "      <td>14.060</td>\n",
              "      <td>62.03</td>\n",
              "      <td>101.59</td>\n",
              "      <td>24.590</td>\n",
              "      <td>64.5800</td>\n",
              "      <td>190.21</td>\n",
              "      <td>67.155</td>\n",
              "      <td>310.235</td>\n",
              "      <td>39.46</td>\n",
              "      <td>52.32</td>\n",
              "      <td>56.90</td>\n",
              "      <td>25.125</td>\n",
              "      <td>38.240</td>\n",
              "      <td>74.55</td>\n",
              "      <td>110.020</td>\n",
              "      <td>74.8200</td>\n",
              "    </tr>\n",
              "    <tr>\n",
              "      <th>2018-01-08 15:59:48</th>\n",
              "      <td>119.4175</td>\n",
              "      <td>54.680</td>\n",
              "      <td>163.470</td>\n",
              "      <td>13.590</td>\n",
              "      <td>40.6905</td>\n",
              "      <td>48.66</td>\n",
              "      <td>78.030</td>\n",
              "      <td>21.4950</td>\n",
              "      <td>192.14</td>\n",
              "      <td>108.550</td>\n",
              "      <td>166.140</td>\n",
              "      <td>30.115</td>\n",
              "      <td>128.62</td>\n",
              "      <td>77.7925</td>\n",
              "      <td>87.120</td>\n",
              "      <td>216.880</td>\n",
              "      <td>251.800</td>\n",
              "      <td>24.430</td>\n",
              "      <td>18.280</td>\n",
              "      <td>132.840</td>\n",
              "      <td>14.050</td>\n",
              "      <td>62.02</td>\n",
              "      <td>101.62</td>\n",
              "      <td>24.610</td>\n",
              "      <td>64.5900</td>\n",
              "      <td>190.30</td>\n",
              "      <td>67.175</td>\n",
              "      <td>310.310</td>\n",
              "      <td>39.42</td>\n",
              "      <td>52.31</td>\n",
              "      <td>56.92</td>\n",
              "      <td>25.125</td>\n",
              "      <td>38.230</td>\n",
              "      <td>74.56</td>\n",
              "      <td>110.030</td>\n",
              "      <td>74.8300</td>\n",
              "    </tr>\n",
              "    <tr>\n",
              "      <th>2018-01-08 15:59:54</th>\n",
              "      <td>119.4050</td>\n",
              "      <td>54.675</td>\n",
              "      <td>163.445</td>\n",
              "      <td>13.580</td>\n",
              "      <td>40.7500</td>\n",
              "      <td>48.65</td>\n",
              "      <td>78.050</td>\n",
              "      <td>21.5000</td>\n",
              "      <td>192.14</td>\n",
              "      <td>108.550</td>\n",
              "      <td>166.095</td>\n",
              "      <td>30.115</td>\n",
              "      <td>128.62</td>\n",
              "      <td>77.7925</td>\n",
              "      <td>87.120</td>\n",
              "      <td>216.880</td>\n",
              "      <td>251.800</td>\n",
              "      <td>24.450</td>\n",
              "      <td>18.280</td>\n",
              "      <td>132.830</td>\n",
              "      <td>14.050</td>\n",
              "      <td>62.03</td>\n",
              "      <td>101.64</td>\n",
              "      <td>24.610</td>\n",
              "      <td>64.5800</td>\n",
              "      <td>190.34</td>\n",
              "      <td>67.175</td>\n",
              "      <td>310.120</td>\n",
              "      <td>39.42</td>\n",
              "      <td>52.31</td>\n",
              "      <td>56.92</td>\n",
              "      <td>25.110</td>\n",
              "      <td>38.230</td>\n",
              "      <td>74.53</td>\n",
              "      <td>110.025</td>\n",
              "      <td>74.8300</td>\n",
              "    </tr>\n",
              "    <tr>\n",
              "      <th>2018-01-08 16:00:00</th>\n",
              "      <td>119.3200</td>\n",
              "      <td>54.660</td>\n",
              "      <td>163.400</td>\n",
              "      <td>13.560</td>\n",
              "      <td>40.7700</td>\n",
              "      <td>48.65</td>\n",
              "      <td>78.010</td>\n",
              "      <td>21.4750</td>\n",
              "      <td>191.99</td>\n",
              "      <td>108.460</td>\n",
              "      <td>166.045</td>\n",
              "      <td>30.100</td>\n",
              "      <td>128.50</td>\n",
              "      <td>77.7700</td>\n",
              "      <td>87.070</td>\n",
              "      <td>216.760</td>\n",
              "      <td>251.810</td>\n",
              "      <td>24.430</td>\n",
              "      <td>18.270</td>\n",
              "      <td>132.820</td>\n",
              "      <td>14.065</td>\n",
              "      <td>28.80</td>\n",
              "      <td>101.58</td>\n",
              "      <td>24.605</td>\n",
              "      <td>64.5400</td>\n",
              "      <td>190.27</td>\n",
              "      <td>67.170</td>\n",
              "      <td>309.960</td>\n",
              "      <td>39.41</td>\n",
              "      <td>52.29</td>\n",
              "      <td>56.90</td>\n",
              "      <td>25.110</td>\n",
              "      <td>38.230</td>\n",
              "      <td>74.51</td>\n",
              "      <td>110.000</td>\n",
              "      <td>74.7900</td>\n",
              "    </tr>\n",
              "  </tbody>\n",
              "</table>\n",
              "<p>3901 rows × 36 columns</p>\n",
              "</div>"
            ],
            "text/plain": [
              "                            V     DAL      IBM    VIPS       SQ     LB       D       WU      HD      JPM      CAT     BAC     CVX      CVS     XOM      STZ       GS       M      GE      UTX    SNAP    WFC     WMT    TWTR      NKE    BABA     TGT       BA      X    HAL    KSS      SM       T      C      DIS      SLB\n",
              "2018-01-08 09:30:00  118.5400  55.930  162.790  12.745  41.0600  50.08  77.140  21.7750  191.72   26.600  164.050  30.220  127.88  78.3600  86.700  219.750   26.945  24.660  18.670  135.380  14.190  62.67  100.30  24.350  64.2325  190.38  67.470  308.600  38.85  51.70  58.62  24.000  38.155  75.15  111.040  73.3200\n",
              "2018-01-08 09:30:06  118.5300  55.930  162.790  12.745  41.0600  50.08  77.100  21.7750  191.72   26.865  164.050  30.220  127.88  78.4300  86.700  222.720  254.530  24.660  18.640  135.380  14.190  62.67  100.30  24.350  64.2325  190.38  67.470  308.600  38.85  51.70  58.62  24.000  38.155  75.15  111.040  73.3200\n",
              "2018-01-08 09:30:12  118.6600  55.930  162.790  12.780  41.0600  50.08  77.100  21.7750  191.72   26.865  164.050  30.230  127.88  78.4300  86.700  222.720  254.530  24.720  18.670  135.380  14.200  62.67  100.30  24.350  64.2325  190.38  67.470  308.120  38.85  51.70  58.46  24.000  38.155  75.15  111.040  73.3200\n",
              "2018-01-08 09:30:18  118.5700  55.930  162.790  12.740  41.0600  50.08  77.095  21.7750  191.72   26.865  164.050  30.220  127.88  78.4300  86.700  219.745  254.530  24.720  18.680  135.380  14.200  62.67  100.24  24.350  64.2325  190.38  67.470  308.120  38.85  51.70  58.46  24.000  38.155  75.15  111.040  73.3200\n",
              "2018-01-08 09:30:24  118.5700  55.930  162.790  12.800  41.0600  50.08  77.020  21.7750  191.72   26.865  164.050  30.210  127.88  78.4300  86.700  219.745  254.530  24.720  18.680  135.475  14.200  62.67  100.24  24.350  64.2325  190.38  67.470  308.120  38.85  51.70  58.46  24.000  38.155  75.15  111.040  73.3200\n",
              "...                       ...     ...      ...     ...      ...    ...     ...      ...     ...      ...      ...     ...     ...      ...     ...      ...      ...     ...     ...      ...     ...    ...     ...     ...      ...     ...     ...      ...    ...    ...    ...     ...     ...    ...      ...      ...\n",
              "2018-01-08 15:59:36  119.3700  54.645  163.500  13.590  40.7000  48.66  78.030  21.4875  192.06  108.530  166.160  30.110  128.57  77.8000  87.125  216.900  251.830  24.410  18.275  132.840  14.055  61.99  101.61  24.600  64.5700  190.28  67.175  310.230  39.45  52.32  56.88  25.125  38.250  74.55  110.020  74.8725\n",
              "2018-01-08 15:59:42  119.3700  54.645  163.500  13.585  40.6900  48.66  78.020  21.4950  192.07  108.540  166.105  30.115  128.57  77.7800  87.130  216.980  251.750  24.425  18.275  132.805  14.060  62.03  101.59  24.590  64.5800  190.21  67.155  310.235  39.46  52.32  56.90  25.125  38.240  74.55  110.020  74.8200\n",
              "2018-01-08 15:59:48  119.4175  54.680  163.470  13.590  40.6905  48.66  78.030  21.4950  192.14  108.550  166.140  30.115  128.62  77.7925  87.120  216.880  251.800  24.430  18.280  132.840  14.050  62.02  101.62  24.610  64.5900  190.30  67.175  310.310  39.42  52.31  56.92  25.125  38.230  74.56  110.030  74.8300\n",
              "2018-01-08 15:59:54  119.4050  54.675  163.445  13.580  40.7500  48.65  78.050  21.5000  192.14  108.550  166.095  30.115  128.62  77.7925  87.120  216.880  251.800  24.450  18.280  132.830  14.050  62.03  101.64  24.610  64.5800  190.34  67.175  310.120  39.42  52.31  56.92  25.110  38.230  74.53  110.025  74.8300\n",
              "2018-01-08 16:00:00  119.3200  54.660  163.400  13.560  40.7700  48.65  78.010  21.4750  191.99  108.460  166.045  30.100  128.50  77.7700  87.070  216.760  251.810  24.430  18.270  132.820  14.065  28.80  101.58  24.605  64.5400  190.27  67.170  309.960  39.41  52.29  56.90  25.110  38.230  74.51  110.000  74.7900\n",
              "\n",
              "[3901 rows x 36 columns]"
            ]
          },
          "metadata": {
            "tags": []
          },
          "execution_count": 10
        }
      ]
    },
    {
      "cell_type": "markdown",
      "metadata": {
        "id": "RzfUWdRsRTwr",
        "colab_type": "text"
      },
      "source": [
        "### 1.8 Remove the outliers"
      ]
    },
    {
      "cell_type": "markdown",
      "metadata": {
        "id": "qUx8w4Q8RTws",
        "colab_type": "text"
      },
      "source": [
        "We will delete entries for which price deviates by more than 10 mean absolute deviations from a rolling centered median of 50 observations (25 observations before and 25 after). When computing the rolling centered median we do not include the observation under consideration."
      ]
    },
    {
      "cell_type": "code",
      "metadata": {
        "id": "dqKEE-lyRTwu",
        "colab_type": "code",
        "colab": {}
      },
      "source": [
        "from datetime import timedelta\n",
        "\n",
        "# Define a function to remove outliers\n",
        "def out_remov(df):\n",
        "    # Build a list with stocks symbols\n",
        "    syms = df.columns\n",
        "    \n",
        "    time_period = 51 # number of observations over which to compute statistics\n",
        "       \n",
        "    for sym in syms:\n",
        "  \n",
        "        history = [] # create an empty list to track a history of prices\n",
        "        history2 = [] # create s second empty list to track a history of prices \n",
        "        smm = np.nan # create an empty var to track simple moving median values (w/o the 26th observation)\n",
        "        mad = np.nan # create an empty var to track mean absolute deviation (w/o the 26th observation)\n",
        "        tick = np.nan # create an empty var to track the 26th observation on every time period\n",
        " \n",
        "        for i in sample.index:\n",
        "            history.append(df[sym][i])\n",
        "            \n",
        "            if len(history) == time_period: \n",
        "                \n",
        "                history2 = history[0:len(history)] \n",
        "                tick = history2[25]\n",
        "                history2.pop(25)\n",
        "                history2=pd.Series(history2)       \n",
        "                smm = history2.median()\n",
        "                '''remove ouliers inside the time period before computing MAD'''                       \n",
        "                mad = history2.mad(skipna=True)\n",
        "                if (tick > smm+(mad*10)) or (tick < smm-(mad*10)):\n",
        "                    df[sym].loc[i-timedelta(seconds=150)]=np.nan\n",
        "                    \n",
        "                \n",
        "            elif len(history) > time_period:\n",
        "                # remove oldest price because we only average over last 'time_period' prices\n",
        "                del (history[0])     \n",
        "                history2 = history[0:len(history)] \n",
        "                tick = history2[25]\n",
        "                history2.pop(25)\n",
        "                history2=pd.Series(history2)        \n",
        "                smm = history2.median()\n",
        "                '''remove ouliers inside the time period before computing MAD'''\n",
        "                        \n",
        "                mad = history2.mad(skipna=True) \n",
        "\n",
        "                if (tick > smm+(mad*10)) or (tick < smm-(mad*10)):\n",
        "                    df[sym].loc[i-timedelta(seconds=150)]=np.nan\n",
        "                    \n",
        "    return df\n",
        "\n",
        "\n"
      ],
      "execution_count": null,
      "outputs": []
    },
    {
      "cell_type": "code",
      "metadata": {
        "id": "8QraiLRoePJH",
        "colab_type": "code",
        "colab": {
          "base_uri": "https://localhost:8080/",
          "height": 85
        },
        "outputId": "132b8d8a-984f-4448-d3c0-11f080e98239"
      },
      "source": [
        "# Call function\n",
        "sample = out_remov(sample)"
      ],
      "execution_count": null,
      "outputs": [
        {
          "output_type": "stream",
          "text": [
            "/usr/local/lib/python3.6/dist-packages/ipykernel_launcher.py:47: SettingWithCopyWarning: \n",
            "A value is trying to be set on a copy of a slice from a DataFrame\n",
            "\n",
            "See the caveats in the documentation: https://pandas.pydata.org/pandas-docs/stable/user_guide/indexing.html#returning-a-view-versus-a-copy\n"
          ],
          "name": "stderr"
        }
      ]
    },
    {
      "cell_type": "code",
      "metadata": {
        "id": "wD-I11pWRTwy",
        "colab_type": "code",
        "colab": {
          "base_uri": "https://localhost:8080/",
          "height": 297
        },
        "outputId": "a0732fd1-fe7f-466f-946e-386dbebbde81"
      },
      "source": [
        "# Check the result\n",
        "nulls = sample.isnull().sum()\n",
        "nans = nulls.index[np.where(nulls!=0)]\n",
        "\n",
        "sample[nans].describe()"
      ],
      "execution_count": null,
      "outputs": [
        {
          "output_type": "execute_result",
          "data": {
            "text/html": [
              "<div>\n",
              "<style scoped>\n",
              "    .dataframe tbody tr th:only-of-type {\n",
              "        vertical-align: middle;\n",
              "    }\n",
              "\n",
              "    .dataframe tbody tr th {\n",
              "        vertical-align: top;\n",
              "    }\n",
              "\n",
              "    .dataframe thead th {\n",
              "        text-align: right;\n",
              "    }\n",
              "</style>\n",
              "<table border=\"1\" class=\"dataframe\">\n",
              "  <thead>\n",
              "    <tr style=\"text-align: right;\">\n",
              "      <th></th>\n",
              "      <th>DAL</th>\n",
              "      <th>VIPS</th>\n",
              "      <th>HD</th>\n",
              "      <th>JPM</th>\n",
              "      <th>BAC</th>\n",
              "      <th>CVX</th>\n",
              "      <th>GS</th>\n",
              "      <th>M</th>\n",
              "      <th>GE</th>\n",
              "      <th>WFC</th>\n",
              "      <th>HAL</th>\n",
              "      <th>C</th>\n",
              "    </tr>\n",
              "  </thead>\n",
              "  <tbody>\n",
              "    <tr>\n",
              "      <th>count</th>\n",
              "      <td>3900.000000</td>\n",
              "      <td>3899.000000</td>\n",
              "      <td>3900.000000</td>\n",
              "      <td>3881.000000</td>\n",
              "      <td>3870.000000</td>\n",
              "      <td>3898.000000</td>\n",
              "      <td>3890.000000</td>\n",
              "      <td>3900.000000</td>\n",
              "      <td>3894.000000</td>\n",
              "      <td>3882.000000</td>\n",
              "      <td>3898.000000</td>\n",
              "      <td>3873.000000</td>\n",
              "    </tr>\n",
              "    <tr>\n",
              "      <th>mean</th>\n",
              "      <td>54.748747</td>\n",
              "      <td>13.380432</td>\n",
              "      <td>192.542617</td>\n",
              "      <td>106.096100</td>\n",
              "      <td>60.056999</td>\n",
              "      <td>128.087979</td>\n",
              "      <td>225.512801</td>\n",
              "      <td>24.274618</td>\n",
              "      <td>18.235630</td>\n",
              "      <td>96.293008</td>\n",
              "      <td>51.818211</td>\n",
              "      <td>71.429561</td>\n",
              "    </tr>\n",
              "    <tr>\n",
              "      <th>std</th>\n",
              "      <td>0.215013</td>\n",
              "      <td>0.229471</td>\n",
              "      <td>0.415315</td>\n",
              "      <td>12.905324</td>\n",
              "      <td>189.305342</td>\n",
              "      <td>0.162417</td>\n",
              "      <td>74.298115</td>\n",
              "      <td>0.260283</td>\n",
              "      <td>0.107873</td>\n",
              "      <td>221.337790</td>\n",
              "      <td>0.247351</td>\n",
              "      <td>11.822080</td>\n",
              "    </tr>\n",
              "    <tr>\n",
              "      <th>min</th>\n",
              "      <td>54.510000</td>\n",
              "      <td>12.740000</td>\n",
              "      <td>191.680000</td>\n",
              "      <td>25.300000</td>\n",
              "      <td>2.280000</td>\n",
              "      <td>127.660000</td>\n",
              "      <td>22.230000</td>\n",
              "      <td>23.700000</td>\n",
              "      <td>18.110000</td>\n",
              "      <td>25.010000</td>\n",
              "      <td>51.400000</td>\n",
              "      <td>25.430000</td>\n",
              "    </tr>\n",
              "    <tr>\n",
              "      <th>25%</th>\n",
              "      <td>54.630000</td>\n",
              "      <td>13.140000</td>\n",
              "      <td>192.220000</td>\n",
              "      <td>108.290000</td>\n",
              "      <td>30.105000</td>\n",
              "      <td>127.960000</td>\n",
              "      <td>252.660000</td>\n",
              "      <td>24.100000</td>\n",
              "      <td>18.175000</td>\n",
              "      <td>62.020000</td>\n",
              "      <td>51.630000</td>\n",
              "      <td>74.515000</td>\n",
              "    </tr>\n",
              "    <tr>\n",
              "      <th>50%</th>\n",
              "      <td>54.700000</td>\n",
              "      <td>13.500000</td>\n",
              "      <td>192.440000</td>\n",
              "      <td>108.360000</td>\n",
              "      <td>30.125000</td>\n",
              "      <td>128.080000</td>\n",
              "      <td>252.960000</td>\n",
              "      <td>24.360000</td>\n",
              "      <td>18.200000</td>\n",
              "      <td>62.150000</td>\n",
              "      <td>51.720000</td>\n",
              "      <td>74.580000</td>\n",
              "    </tr>\n",
              "    <tr>\n",
              "      <th>75%</th>\n",
              "      <td>54.775000</td>\n",
              "      <td>13.580000</td>\n",
              "      <td>192.750000</td>\n",
              "      <td>108.435000</td>\n",
              "      <td>30.145000</td>\n",
              "      <td>128.180000</td>\n",
              "      <td>253.270000</td>\n",
              "      <td>24.440000</td>\n",
              "      <td>18.275000</td>\n",
              "      <td>62.290000</td>\n",
              "      <td>51.980000</td>\n",
              "      <td>74.630000</td>\n",
              "    </tr>\n",
              "    <tr>\n",
              "      <th>max</th>\n",
              "      <td>55.980000</td>\n",
              "      <td>13.675000</td>\n",
              "      <td>193.710000</td>\n",
              "      <td>108.680000</td>\n",
              "      <td>1314.400000</td>\n",
              "      <td>128.620000</td>\n",
              "      <td>255.175000</td>\n",
              "      <td>25.070000</td>\n",
              "      <td>18.700000</td>\n",
              "      <td>1281.600000</td>\n",
              "      <td>52.350000</td>\n",
              "      <td>75.200000</td>\n",
              "    </tr>\n",
              "  </tbody>\n",
              "</table>\n",
              "</div>"
            ],
            "text/plain": [
              "               DAL         VIPS           HD          JPM          BAC          CVX           GS            M           GE          WFC          HAL            C\n",
              "count  3900.000000  3899.000000  3900.000000  3881.000000  3870.000000  3898.000000  3890.000000  3900.000000  3894.000000  3882.000000  3898.000000  3873.000000\n",
              "mean     54.748747    13.380432   192.542617   106.096100    60.056999   128.087979   225.512801    24.274618    18.235630    96.293008    51.818211    71.429561\n",
              "std       0.215013     0.229471     0.415315    12.905324   189.305342     0.162417    74.298115     0.260283     0.107873   221.337790     0.247351    11.822080\n",
              "min      54.510000    12.740000   191.680000    25.300000     2.280000   127.660000    22.230000    23.700000    18.110000    25.010000    51.400000    25.430000\n",
              "25%      54.630000    13.140000   192.220000   108.290000    30.105000   127.960000   252.660000    24.100000    18.175000    62.020000    51.630000    74.515000\n",
              "50%      54.700000    13.500000   192.440000   108.360000    30.125000   128.080000   252.960000    24.360000    18.200000    62.150000    51.720000    74.580000\n",
              "75%      54.775000    13.580000   192.750000   108.435000    30.145000   128.180000   253.270000    24.440000    18.275000    62.290000    51.980000    74.630000\n",
              "max      55.980000    13.675000   193.710000   108.680000  1314.400000   128.620000   255.175000    25.070000    18.700000  1281.600000    52.350000    75.200000"
            ]
          },
          "metadata": {
            "tags": []
          },
          "execution_count": 13
        }
      ]
    },
    {
      "cell_type": "markdown",
      "metadata": {
        "id": "FyRqmlvCRTw3",
        "colab_type": "text"
      },
      "source": [
        "The result above shows the descriptive statistics of stocks with outliers. We can notice that some of them still have problems (like WFC with the maximum value of 1281.60 where the mean is 96.29). This is due to the great variance inside the sample period to compute the MAD. Trying to change the size of the sampling period doesn't help much. So, we simply drop these stocks."
      ]
    },
    {
      "cell_type": "code",
      "metadata": {
        "id": "DCk7adaXRTw4",
        "colab_type": "code",
        "colab": {}
      },
      "source": [
        "# Select stocks with issues\n",
        "rid = ['JPM','BAC','GS','WFC','C']\n",
        "\n",
        "# Keep stocks without issues regarding outliers removal\n",
        "sample = sample.drop(columns=rid)"
      ],
      "execution_count": null,
      "outputs": []
    },
    {
      "cell_type": "markdown",
      "metadata": {
        "id": "evSx753ERTw9",
        "colab_type": "text"
      },
      "source": [
        "Finally, we can replace the missing observations (previously treated as outliers) with the _last_ bar value."
      ]
    },
    {
      "cell_type": "code",
      "metadata": {
        "id": "wD7_pWJuRTw_",
        "colab_type": "code",
        "colab": {
          "base_uri": "https://localhost:8080/",
          "height": 796
        },
        "outputId": "0f0d423d-94d4-4882-df81-a6068a24018f"
      },
      "source": [
        "# count number of NAN's\n",
        "nulls = sample.isnull().sum() \n",
        "\n",
        "# check which stock has NAN's\n",
        "nans = nulls.index[np.where(nulls!=0)]\n",
        "print(nans)\n",
        "\n",
        "# Fill missing values with last bar value\n",
        "filling_bars(sample)"
      ],
      "execution_count": null,
      "outputs": [
        {
          "output_type": "stream",
          "text": [
            "Index(['DAL', 'VIPS', 'HD', 'CVX', 'M', 'GE', 'HAL'], dtype='object')\n"
          ],
          "name": "stdout"
        },
        {
          "output_type": "execute_result",
          "data": {
            "text/html": [
              "<div>\n",
              "<style scoped>\n",
              "    .dataframe tbody tr th:only-of-type {\n",
              "        vertical-align: middle;\n",
              "    }\n",
              "\n",
              "    .dataframe tbody tr th {\n",
              "        vertical-align: top;\n",
              "    }\n",
              "\n",
              "    .dataframe thead th {\n",
              "        text-align: right;\n",
              "    }\n",
              "</style>\n",
              "<table border=\"1\" class=\"dataframe\">\n",
              "  <thead>\n",
              "    <tr style=\"text-align: right;\">\n",
              "      <th></th>\n",
              "      <th>V</th>\n",
              "      <th>DAL</th>\n",
              "      <th>IBM</th>\n",
              "      <th>VIPS</th>\n",
              "      <th>SQ</th>\n",
              "      <th>LB</th>\n",
              "      <th>D</th>\n",
              "      <th>WU</th>\n",
              "      <th>HD</th>\n",
              "      <th>CAT</th>\n",
              "      <th>CVX</th>\n",
              "      <th>CVS</th>\n",
              "      <th>XOM</th>\n",
              "      <th>STZ</th>\n",
              "      <th>M</th>\n",
              "      <th>GE</th>\n",
              "      <th>UTX</th>\n",
              "      <th>SNAP</th>\n",
              "      <th>WMT</th>\n",
              "      <th>TWTR</th>\n",
              "      <th>NKE</th>\n",
              "      <th>BABA</th>\n",
              "      <th>TGT</th>\n",
              "      <th>BA</th>\n",
              "      <th>X</th>\n",
              "      <th>HAL</th>\n",
              "      <th>KSS</th>\n",
              "      <th>SM</th>\n",
              "      <th>T</th>\n",
              "      <th>DIS</th>\n",
              "      <th>SLB</th>\n",
              "    </tr>\n",
              "  </thead>\n",
              "  <tbody>\n",
              "    <tr>\n",
              "      <th>2018-01-08 09:30:00</th>\n",
              "      <td>118.5400</td>\n",
              "      <td>55.930</td>\n",
              "      <td>162.790</td>\n",
              "      <td>12.745</td>\n",
              "      <td>41.0600</td>\n",
              "      <td>50.08</td>\n",
              "      <td>77.140</td>\n",
              "      <td>21.7750</td>\n",
              "      <td>191.72</td>\n",
              "      <td>164.050</td>\n",
              "      <td>127.88</td>\n",
              "      <td>78.3600</td>\n",
              "      <td>86.700</td>\n",
              "      <td>219.750</td>\n",
              "      <td>24.660</td>\n",
              "      <td>18.670</td>\n",
              "      <td>135.380</td>\n",
              "      <td>14.190</td>\n",
              "      <td>100.30</td>\n",
              "      <td>24.350</td>\n",
              "      <td>64.2325</td>\n",
              "      <td>190.38</td>\n",
              "      <td>67.470</td>\n",
              "      <td>308.600</td>\n",
              "      <td>38.85</td>\n",
              "      <td>51.70</td>\n",
              "      <td>58.62</td>\n",
              "      <td>24.000</td>\n",
              "      <td>38.155</td>\n",
              "      <td>111.040</td>\n",
              "      <td>73.3200</td>\n",
              "    </tr>\n",
              "    <tr>\n",
              "      <th>2018-01-08 09:30:06</th>\n",
              "      <td>118.5300</td>\n",
              "      <td>55.930</td>\n",
              "      <td>162.790</td>\n",
              "      <td>12.745</td>\n",
              "      <td>41.0600</td>\n",
              "      <td>50.08</td>\n",
              "      <td>77.100</td>\n",
              "      <td>21.7750</td>\n",
              "      <td>191.72</td>\n",
              "      <td>164.050</td>\n",
              "      <td>127.88</td>\n",
              "      <td>78.4300</td>\n",
              "      <td>86.700</td>\n",
              "      <td>222.720</td>\n",
              "      <td>24.660</td>\n",
              "      <td>18.640</td>\n",
              "      <td>135.380</td>\n",
              "      <td>14.190</td>\n",
              "      <td>100.30</td>\n",
              "      <td>24.350</td>\n",
              "      <td>64.2325</td>\n",
              "      <td>190.38</td>\n",
              "      <td>67.470</td>\n",
              "      <td>308.600</td>\n",
              "      <td>38.85</td>\n",
              "      <td>51.70</td>\n",
              "      <td>58.62</td>\n",
              "      <td>24.000</td>\n",
              "      <td>38.155</td>\n",
              "      <td>111.040</td>\n",
              "      <td>73.3200</td>\n",
              "    </tr>\n",
              "    <tr>\n",
              "      <th>2018-01-08 09:30:12</th>\n",
              "      <td>118.6600</td>\n",
              "      <td>55.930</td>\n",
              "      <td>162.790</td>\n",
              "      <td>12.780</td>\n",
              "      <td>41.0600</td>\n",
              "      <td>50.08</td>\n",
              "      <td>77.100</td>\n",
              "      <td>21.7750</td>\n",
              "      <td>191.72</td>\n",
              "      <td>164.050</td>\n",
              "      <td>127.88</td>\n",
              "      <td>78.4300</td>\n",
              "      <td>86.700</td>\n",
              "      <td>222.720</td>\n",
              "      <td>24.720</td>\n",
              "      <td>18.670</td>\n",
              "      <td>135.380</td>\n",
              "      <td>14.200</td>\n",
              "      <td>100.30</td>\n",
              "      <td>24.350</td>\n",
              "      <td>64.2325</td>\n",
              "      <td>190.38</td>\n",
              "      <td>67.470</td>\n",
              "      <td>308.120</td>\n",
              "      <td>38.85</td>\n",
              "      <td>51.70</td>\n",
              "      <td>58.46</td>\n",
              "      <td>24.000</td>\n",
              "      <td>38.155</td>\n",
              "      <td>111.040</td>\n",
              "      <td>73.3200</td>\n",
              "    </tr>\n",
              "    <tr>\n",
              "      <th>2018-01-08 09:30:18</th>\n",
              "      <td>118.5700</td>\n",
              "      <td>55.930</td>\n",
              "      <td>162.790</td>\n",
              "      <td>12.740</td>\n",
              "      <td>41.0600</td>\n",
              "      <td>50.08</td>\n",
              "      <td>77.095</td>\n",
              "      <td>21.7750</td>\n",
              "      <td>191.72</td>\n",
              "      <td>164.050</td>\n",
              "      <td>127.88</td>\n",
              "      <td>78.4300</td>\n",
              "      <td>86.700</td>\n",
              "      <td>219.745</td>\n",
              "      <td>24.720</td>\n",
              "      <td>18.680</td>\n",
              "      <td>135.380</td>\n",
              "      <td>14.200</td>\n",
              "      <td>100.24</td>\n",
              "      <td>24.350</td>\n",
              "      <td>64.2325</td>\n",
              "      <td>190.38</td>\n",
              "      <td>67.470</td>\n",
              "      <td>308.120</td>\n",
              "      <td>38.85</td>\n",
              "      <td>51.70</td>\n",
              "      <td>58.46</td>\n",
              "      <td>24.000</td>\n",
              "      <td>38.155</td>\n",
              "      <td>111.040</td>\n",
              "      <td>73.3200</td>\n",
              "    </tr>\n",
              "    <tr>\n",
              "      <th>2018-01-08 09:30:24</th>\n",
              "      <td>118.5700</td>\n",
              "      <td>55.930</td>\n",
              "      <td>162.790</td>\n",
              "      <td>12.800</td>\n",
              "      <td>41.0600</td>\n",
              "      <td>50.08</td>\n",
              "      <td>77.020</td>\n",
              "      <td>21.7750</td>\n",
              "      <td>191.72</td>\n",
              "      <td>164.050</td>\n",
              "      <td>127.88</td>\n",
              "      <td>78.4300</td>\n",
              "      <td>86.700</td>\n",
              "      <td>219.745</td>\n",
              "      <td>24.720</td>\n",
              "      <td>18.680</td>\n",
              "      <td>135.475</td>\n",
              "      <td>14.200</td>\n",
              "      <td>100.24</td>\n",
              "      <td>24.350</td>\n",
              "      <td>64.2325</td>\n",
              "      <td>190.38</td>\n",
              "      <td>67.470</td>\n",
              "      <td>308.120</td>\n",
              "      <td>38.85</td>\n",
              "      <td>51.70</td>\n",
              "      <td>58.46</td>\n",
              "      <td>24.000</td>\n",
              "      <td>38.155</td>\n",
              "      <td>111.040</td>\n",
              "      <td>73.3200</td>\n",
              "    </tr>\n",
              "    <tr>\n",
              "      <th>...</th>\n",
              "      <td>...</td>\n",
              "      <td>...</td>\n",
              "      <td>...</td>\n",
              "      <td>...</td>\n",
              "      <td>...</td>\n",
              "      <td>...</td>\n",
              "      <td>...</td>\n",
              "      <td>...</td>\n",
              "      <td>...</td>\n",
              "      <td>...</td>\n",
              "      <td>...</td>\n",
              "      <td>...</td>\n",
              "      <td>...</td>\n",
              "      <td>...</td>\n",
              "      <td>...</td>\n",
              "      <td>...</td>\n",
              "      <td>...</td>\n",
              "      <td>...</td>\n",
              "      <td>...</td>\n",
              "      <td>...</td>\n",
              "      <td>...</td>\n",
              "      <td>...</td>\n",
              "      <td>...</td>\n",
              "      <td>...</td>\n",
              "      <td>...</td>\n",
              "      <td>...</td>\n",
              "      <td>...</td>\n",
              "      <td>...</td>\n",
              "      <td>...</td>\n",
              "      <td>...</td>\n",
              "      <td>...</td>\n",
              "    </tr>\n",
              "    <tr>\n",
              "      <th>2018-01-08 15:59:36</th>\n",
              "      <td>119.3700</td>\n",
              "      <td>54.645</td>\n",
              "      <td>163.500</td>\n",
              "      <td>13.590</td>\n",
              "      <td>40.7000</td>\n",
              "      <td>48.66</td>\n",
              "      <td>78.030</td>\n",
              "      <td>21.4875</td>\n",
              "      <td>192.06</td>\n",
              "      <td>166.160</td>\n",
              "      <td>128.57</td>\n",
              "      <td>77.8000</td>\n",
              "      <td>87.125</td>\n",
              "      <td>216.900</td>\n",
              "      <td>24.410</td>\n",
              "      <td>18.275</td>\n",
              "      <td>132.840</td>\n",
              "      <td>14.055</td>\n",
              "      <td>101.61</td>\n",
              "      <td>24.600</td>\n",
              "      <td>64.5700</td>\n",
              "      <td>190.28</td>\n",
              "      <td>67.175</td>\n",
              "      <td>310.230</td>\n",
              "      <td>39.45</td>\n",
              "      <td>52.32</td>\n",
              "      <td>56.88</td>\n",
              "      <td>25.125</td>\n",
              "      <td>38.250</td>\n",
              "      <td>110.020</td>\n",
              "      <td>74.8725</td>\n",
              "    </tr>\n",
              "    <tr>\n",
              "      <th>2018-01-08 15:59:42</th>\n",
              "      <td>119.3700</td>\n",
              "      <td>54.645</td>\n",
              "      <td>163.500</td>\n",
              "      <td>13.585</td>\n",
              "      <td>40.6900</td>\n",
              "      <td>48.66</td>\n",
              "      <td>78.020</td>\n",
              "      <td>21.4950</td>\n",
              "      <td>192.07</td>\n",
              "      <td>166.105</td>\n",
              "      <td>128.57</td>\n",
              "      <td>77.7800</td>\n",
              "      <td>87.130</td>\n",
              "      <td>216.980</td>\n",
              "      <td>24.425</td>\n",
              "      <td>18.275</td>\n",
              "      <td>132.805</td>\n",
              "      <td>14.060</td>\n",
              "      <td>101.59</td>\n",
              "      <td>24.590</td>\n",
              "      <td>64.5800</td>\n",
              "      <td>190.21</td>\n",
              "      <td>67.155</td>\n",
              "      <td>310.235</td>\n",
              "      <td>39.46</td>\n",
              "      <td>52.32</td>\n",
              "      <td>56.90</td>\n",
              "      <td>25.125</td>\n",
              "      <td>38.240</td>\n",
              "      <td>110.020</td>\n",
              "      <td>74.8200</td>\n",
              "    </tr>\n",
              "    <tr>\n",
              "      <th>2018-01-08 15:59:48</th>\n",
              "      <td>119.4175</td>\n",
              "      <td>54.680</td>\n",
              "      <td>163.470</td>\n",
              "      <td>13.590</td>\n",
              "      <td>40.6905</td>\n",
              "      <td>48.66</td>\n",
              "      <td>78.030</td>\n",
              "      <td>21.4950</td>\n",
              "      <td>192.14</td>\n",
              "      <td>166.140</td>\n",
              "      <td>128.62</td>\n",
              "      <td>77.7925</td>\n",
              "      <td>87.120</td>\n",
              "      <td>216.880</td>\n",
              "      <td>24.430</td>\n",
              "      <td>18.280</td>\n",
              "      <td>132.840</td>\n",
              "      <td>14.050</td>\n",
              "      <td>101.62</td>\n",
              "      <td>24.610</td>\n",
              "      <td>64.5900</td>\n",
              "      <td>190.30</td>\n",
              "      <td>67.175</td>\n",
              "      <td>310.310</td>\n",
              "      <td>39.42</td>\n",
              "      <td>52.31</td>\n",
              "      <td>56.92</td>\n",
              "      <td>25.125</td>\n",
              "      <td>38.230</td>\n",
              "      <td>110.030</td>\n",
              "      <td>74.8300</td>\n",
              "    </tr>\n",
              "    <tr>\n",
              "      <th>2018-01-08 15:59:54</th>\n",
              "      <td>119.4050</td>\n",
              "      <td>54.675</td>\n",
              "      <td>163.445</td>\n",
              "      <td>13.580</td>\n",
              "      <td>40.7500</td>\n",
              "      <td>48.65</td>\n",
              "      <td>78.050</td>\n",
              "      <td>21.5000</td>\n",
              "      <td>192.14</td>\n",
              "      <td>166.095</td>\n",
              "      <td>128.62</td>\n",
              "      <td>77.7925</td>\n",
              "      <td>87.120</td>\n",
              "      <td>216.880</td>\n",
              "      <td>24.450</td>\n",
              "      <td>18.280</td>\n",
              "      <td>132.830</td>\n",
              "      <td>14.050</td>\n",
              "      <td>101.64</td>\n",
              "      <td>24.610</td>\n",
              "      <td>64.5800</td>\n",
              "      <td>190.34</td>\n",
              "      <td>67.175</td>\n",
              "      <td>310.120</td>\n",
              "      <td>39.42</td>\n",
              "      <td>52.31</td>\n",
              "      <td>56.92</td>\n",
              "      <td>25.110</td>\n",
              "      <td>38.230</td>\n",
              "      <td>110.025</td>\n",
              "      <td>74.8300</td>\n",
              "    </tr>\n",
              "    <tr>\n",
              "      <th>2018-01-08 16:00:00</th>\n",
              "      <td>119.3200</td>\n",
              "      <td>54.660</td>\n",
              "      <td>163.400</td>\n",
              "      <td>13.560</td>\n",
              "      <td>40.7700</td>\n",
              "      <td>48.65</td>\n",
              "      <td>78.010</td>\n",
              "      <td>21.4750</td>\n",
              "      <td>191.99</td>\n",
              "      <td>166.045</td>\n",
              "      <td>128.50</td>\n",
              "      <td>77.7700</td>\n",
              "      <td>87.070</td>\n",
              "      <td>216.760</td>\n",
              "      <td>24.430</td>\n",
              "      <td>18.270</td>\n",
              "      <td>132.820</td>\n",
              "      <td>14.065</td>\n",
              "      <td>101.58</td>\n",
              "      <td>24.605</td>\n",
              "      <td>64.5400</td>\n",
              "      <td>190.27</td>\n",
              "      <td>67.170</td>\n",
              "      <td>309.960</td>\n",
              "      <td>39.41</td>\n",
              "      <td>52.29</td>\n",
              "      <td>56.90</td>\n",
              "      <td>25.110</td>\n",
              "      <td>38.230</td>\n",
              "      <td>110.000</td>\n",
              "      <td>74.7900</td>\n",
              "    </tr>\n",
              "  </tbody>\n",
              "</table>\n",
              "<p>3901 rows × 31 columns</p>\n",
              "</div>"
            ],
            "text/plain": [
              "                            V     DAL      IBM    VIPS       SQ     LB       D       WU      HD      CAT     CVX      CVS     XOM      STZ       M      GE      UTX    SNAP     WMT    TWTR      NKE    BABA     TGT       BA      X    HAL    KSS      SM       T      DIS      SLB\n",
              "2018-01-08 09:30:00  118.5400  55.930  162.790  12.745  41.0600  50.08  77.140  21.7750  191.72  164.050  127.88  78.3600  86.700  219.750  24.660  18.670  135.380  14.190  100.30  24.350  64.2325  190.38  67.470  308.600  38.85  51.70  58.62  24.000  38.155  111.040  73.3200\n",
              "2018-01-08 09:30:06  118.5300  55.930  162.790  12.745  41.0600  50.08  77.100  21.7750  191.72  164.050  127.88  78.4300  86.700  222.720  24.660  18.640  135.380  14.190  100.30  24.350  64.2325  190.38  67.470  308.600  38.85  51.70  58.62  24.000  38.155  111.040  73.3200\n",
              "2018-01-08 09:30:12  118.6600  55.930  162.790  12.780  41.0600  50.08  77.100  21.7750  191.72  164.050  127.88  78.4300  86.700  222.720  24.720  18.670  135.380  14.200  100.30  24.350  64.2325  190.38  67.470  308.120  38.85  51.70  58.46  24.000  38.155  111.040  73.3200\n",
              "2018-01-08 09:30:18  118.5700  55.930  162.790  12.740  41.0600  50.08  77.095  21.7750  191.72  164.050  127.88  78.4300  86.700  219.745  24.720  18.680  135.380  14.200  100.24  24.350  64.2325  190.38  67.470  308.120  38.85  51.70  58.46  24.000  38.155  111.040  73.3200\n",
              "2018-01-08 09:30:24  118.5700  55.930  162.790  12.800  41.0600  50.08  77.020  21.7750  191.72  164.050  127.88  78.4300  86.700  219.745  24.720  18.680  135.475  14.200  100.24  24.350  64.2325  190.38  67.470  308.120  38.85  51.70  58.46  24.000  38.155  111.040  73.3200\n",
              "...                       ...     ...      ...     ...      ...    ...     ...      ...     ...      ...     ...      ...     ...      ...     ...     ...      ...     ...     ...     ...      ...     ...     ...      ...    ...    ...    ...     ...     ...      ...      ...\n",
              "2018-01-08 15:59:36  119.3700  54.645  163.500  13.590  40.7000  48.66  78.030  21.4875  192.06  166.160  128.57  77.8000  87.125  216.900  24.410  18.275  132.840  14.055  101.61  24.600  64.5700  190.28  67.175  310.230  39.45  52.32  56.88  25.125  38.250  110.020  74.8725\n",
              "2018-01-08 15:59:42  119.3700  54.645  163.500  13.585  40.6900  48.66  78.020  21.4950  192.07  166.105  128.57  77.7800  87.130  216.980  24.425  18.275  132.805  14.060  101.59  24.590  64.5800  190.21  67.155  310.235  39.46  52.32  56.90  25.125  38.240  110.020  74.8200\n",
              "2018-01-08 15:59:48  119.4175  54.680  163.470  13.590  40.6905  48.66  78.030  21.4950  192.14  166.140  128.62  77.7925  87.120  216.880  24.430  18.280  132.840  14.050  101.62  24.610  64.5900  190.30  67.175  310.310  39.42  52.31  56.92  25.125  38.230  110.030  74.8300\n",
              "2018-01-08 15:59:54  119.4050  54.675  163.445  13.580  40.7500  48.65  78.050  21.5000  192.14  166.095  128.62  77.7925  87.120  216.880  24.450  18.280  132.830  14.050  101.64  24.610  64.5800  190.34  67.175  310.120  39.42  52.31  56.92  25.110  38.230  110.025  74.8300\n",
              "2018-01-08 16:00:00  119.3200  54.660  163.400  13.560  40.7700  48.65  78.010  21.4750  191.99  166.045  128.50  77.7700  87.070  216.760  24.430  18.270  132.820  14.065  101.58  24.605  64.5400  190.27  67.170  309.960  39.41  52.29  56.90  25.110  38.230  110.000  74.7900\n",
              "\n",
              "[3901 rows x 31 columns]"
            ]
          },
          "metadata": {
            "tags": []
          },
          "execution_count": 15
        }
      ]
    },
    {
      "cell_type": "markdown",
      "metadata": {
        "id": "lUYHoj3nh9eX",
        "colab_type": "text"
      },
      "source": [
        "Let's save the result as a pickle file for later use."
      ]
    },
    {
      "cell_type": "code",
      "metadata": {
        "id": "7V-sKQiys9G5",
        "colab_type": "code",
        "colab": {}
      },
      "source": [
        "  # save the result to a pickle file\n",
        "  RES_DATA_FILENAME='./data/bars_6s_08jan2018.pkl'\n",
        "  sample.to_pickle(RES_DATA_FILENAME) "
      ],
      "execution_count": null,
      "outputs": []
    },
    {
      "cell_type": "markdown",
      "metadata": {
        "id": "p9YiOI19RTxD",
        "colab_type": "text"
      },
      "source": [
        "## 2. Finding trading pairs"
      ]
    },
    {
      "cell_type": "markdown",
      "metadata": {
        "id": "hiv8GQBWRTxE",
        "colab_type": "text"
      },
      "source": [
        "### 2.1 Cointegration test"
      ]
    },
    {
      "cell_type": "markdown",
      "metadata": {
        "id": "-UYgi7yoRTxF",
        "colab_type": "text"
      },
      "source": [
        "We are now interested in screening pairs of stocks to use in the trading phase. There are two methods: (1) the Metric approach, and (2) the Cointegration approach.\n",
        "\n",
        "Here we will use the Cointegration approach. The idea is to apply the augmented Engle-Granger two-step cointegration test on the stocks into consideration to screen the most promising co-movers. The Null hypothesis is that there is no cointegration."
      ]
    },
    {
      "cell_type": "code",
      "metadata": {
        "id": "XlqT6d2MRTxG",
        "colab_type": "code",
        "colab": {
          "base_uri": "https://localhost:8080/",
          "height": 51
        },
        "outputId": "4a8df248-865e-4ee3-ea92-4d885d15fd7d"
      },
      "source": [
        "from statsmodels.tsa.stattools import coint\n",
        "\n",
        "# Define a function to find cointegrated pairs\n",
        "def find_cointegrated_pairs(data):\n",
        "    n = data.shape[1]\n",
        "    pvalue_matrix = np.ones((n, n))\n",
        "    keys = data.keys()\n",
        "    pairs = []\n",
        "    for i in range(n):\n",
        "        for j in range(i+1, n):\n",
        "            result = coint(data[keys[i]], data[keys[j]])\n",
        "            pvalue_matrix[i, j] = result[1]\n",
        "            if result[1] < 0.02: # only p-values lower than 0.02\n",
        "                pairs.append((keys[i], keys[j]))\n",
        "    return pvalue_matrix, pairs\n"
      ],
      "execution_count": 1,
      "outputs": [
        {
          "output_type": "stream",
          "text": [
            "/usr/local/lib/python3.6/dist-packages/statsmodels/tools/_testing.py:19: FutureWarning: pandas.util.testing is deprecated. Use the functions in the public API at pandas.testing instead.\n",
            "  import pandas.util.testing as tm\n"
          ],
          "name": "stderr"
        }
      ]
    },
    {
      "cell_type": "markdown",
      "metadata": {
        "id": "DGbt_MCRRTxK",
        "colab_type": "text"
      },
      "source": [
        "Before calling the function to find cointegrated pairs, we concatenate bars of 2 trading days. The stocks that are not present on both trading days will be dropped."
      ]
    },
    {
      "cell_type": "code",
      "metadata": {
        "id": "LTPCFQC-RTxP",
        "colab_type": "code",
        "colab": {}
      },
      "source": [
        "import numpy as np\n",
        "\n",
        "# Load data into dataframe\n",
        "input_file = './data/bars_6s_04jan2018.pkl'\n",
        "df1 = pd.read_pickle(input_file)\n",
        "\n",
        "input_file2 = './data/bars_6s_05jan2018.pkl'\n",
        "df2 = pd.read_pickle(input_file2)\n",
        "\n",
        "# Concatenate dataframes\n",
        "df = pd.concat([df1,df2],ignore_index=False)\n",
        "\n",
        "# Count number of NAN's\n",
        "nulls = df.isnull().sum()\n",
        "\n",
        "# Check which stock has NAN's\n",
        "nans = nulls.index[np.where(nulls!=0)]\n",
        "\n",
        "# Keep stocks without NAN's\n",
        "df = df.drop(columns=nans)"
      ],
      "execution_count": 10,
      "outputs": []
    },
    {
      "cell_type": "code",
      "metadata": {
        "id": "jLmT9Si9RTxT",
        "colab_type": "code",
        "colab": {
          "base_uri": "https://localhost:8080/",
          "height": 428
        },
        "outputId": "c6b3625b-c0e3-4c4d-e609-7f71c3a1f1be"
      },
      "source": [
        "# Call the function\n",
        "pvalues, pairs = find_cointegrated_pairs(df)\n",
        "\n",
        "# extract stocks' symbols\n",
        "symbolsIds = list(df.columns)\n",
        "\n",
        "# Create a heatmap to visualize pairs p-values\n",
        "sns.heatmap(pvalues, xticklabels=symbolsIds,yticklabels=symbolsIds, cmap='RdYlGn_r',mask = (pvalues >= 0.98))\n",
        "# plt.title('Cointegration HeatGraph',pad=10)\n",
        "plt.rcParams[\"figure.figsize\"] = (8,7)\n",
        "plt.show()"
      ],
      "execution_count": 12,
      "outputs": [
        {
          "output_type": "display_data",
          "data": {
            "image/png": "[encoded data removed]",
            "text/plain": [
              "<Figure size 576x504 with 2 Axes>"
            ]
          },
          "metadata": {
            "tags": [],
            "needs_background": "light"
          }
        }
      ]
    },
    {
      "cell_type": "markdown",
      "metadata": {
        "id": "oslj7JPlib_0",
        "colab_type": "text"
      },
      "source": [
        "The Heat Graph above classifies pairs according to the Cointegration test p-value. We are interested in p-values lower than 0.02, which means, the greener the better.\n",
        "\n",
        "We can also check how many pairs there are and the number of unique tickers."
      ]
    },
    {
      "cell_type": "code",
      "metadata": {
        "id": "zzVOW8gBRTxX",
        "colab_type": "code",
        "colab": {
          "base_uri": "https://localhost:8080/",
          "height": 34
        },
        "outputId": "e16109c0-34cc-4b9b-d548-64c447f82780"
      },
      "source": [
        "print(\"There are {0} pairs with {1} unique tickers. Let's check the plot of one of those pairs.\".format(len(pairs), \n",
        "len(np.unique(pairs))))"
      ],
      "execution_count": null,
      "outputs": [
        {
          "output_type": "stream",
          "text": [
            "There are 17 pairs with 28 unique tickers. Let's check the plot of one of those pairs.\n"
          ],
          "name": "stdout"
        }
      ]
    },
    {
      "cell_type": "code",
      "metadata": {
        "id": "u2b2mpwP5V4x",
        "colab_type": "code",
        "colab": {
          "base_uri": "https://localhost:8080/",
          "height": 306
        },
        "outputId": "25e98213-554b-4cca-eabc-f992803669ce"
      },
      "source": [
        "pairs"
      ],
      "execution_count": 13,
      "outputs": [
        {
          "output_type": "execute_result",
          "data": {
            "text/plain": [
              "[('D', 'HD'),\n",
              " ('DIS', 'HD'),\n",
              " ('DIS', 'IBM'),\n",
              " ('DIS', 'JNJ'),\n",
              " ('DIS', 'MRK'),\n",
              " ('DIS', 'SLB'),\n",
              " ('DIS', 'SQ'),\n",
              " ('DIS', 'WMT'),\n",
              " ('DIS', 'XOM'),\n",
              " ('IBM', 'JNJ'),\n",
              " ('IBM', 'MRK'),\n",
              " ('IBM', 'SLB'),\n",
              " ('IBM', 'SQ'),\n",
              " ('IBM', 'T'),\n",
              " ('IBM', 'WMT'),\n",
              " ('IBM', 'XOM'),\n",
              " ('MRK', 'SQ')]"
            ]
          },
          "metadata": {
            "tags": []
          },
          "execution_count": 13
        }
      ]
    },
    {
      "cell_type": "markdown",
      "metadata": {
        "id": "xJcHS5sKivdt",
        "colab_type": "text"
      },
      "source": [
        "DIS and SQ stocks seem to be good candidates for a pair. Let's check them out."
      ]
    },
    {
      "cell_type": "code",
      "metadata": {
        "id": "jy5N57JbRTxb",
        "colab_type": "code",
        "colab": {
          "base_uri": "https://localhost:8080/",
          "height": 374
        },
        "outputId": "0d57bfc3-70b8-4dbe-80ac-7007be403f9d"
      },
      "source": [
        "from matplotlib.dates import DateFormatter\n",
        "\n",
        "pair = ['DIS', 'SQ']\n",
        "data=(df[pair]-df[pair].min())/(df[pair].max()-df[pair].min())\n",
        "\n",
        "fig, ax = plt.subplots(figsize=(9, 6))\n",
        "ax.plot(data[58:1558])\n",
        "ax.legend(pair,loc=0)\n",
        "ax.xaxis.set_major_formatter(DateFormatter(\"%H:%M\"))\n",
        "# plt.ylabel('Normalized prices')"
      ],
      "execution_count": 16,
      "outputs": [
        {
          "output_type": "display_data",
          "data": {
            "image/png": "[encoded data removed]",
            "text/plain": [
              "<Figure size 648x432 with 1 Axes>"
            ]
          },
          "metadata": {
            "tags": [],
            "needs_background": "light"
          }
        }
      ]
    },
    {
      "cell_type": "markdown",
      "metadata": {
        "id": "Lpdr9T7AjFqC",
        "colab_type": "text"
      },
      "source": [
        "At there very beginning of the first trading day, the two stocks look like to be positively correlated. The situation then changes for a negative correlation, but overall they seem to comove during the first 2.5 trading hours."
      ]
    },
    {
      "cell_type": "markdown",
      "metadata": {
        "id": "sveB7SEMRTxg",
        "colab_type": "text"
      },
      "source": [
        "### 2.2 Synthetic Asset"
      ]
    },
    {
      "cell_type": "markdown",
      "metadata": {
        "id": "HbdvaM4JRTxg",
        "colab_type": "text"
      },
      "source": [
        "Synthetic is the term given to financial instruments designed to mimic other instruments with key features. Here we will use the spread between pair's stocks. Instead of using the plain difference between stock prices, we will use a linear regression model to accommodate the distinction in magnitude between prices. We will also use rolling statistics to avoid _Look Ahead_ bias."
      ]
    },
    {
      "cell_type": "code",
      "metadata": {
        "id": "k5cmJyVLRTxh",
        "colab_type": "code",
        "colab": {
          "base_uri": "https://localhost:8080/",
          "height": 34
        },
        "outputId": "167ddeaa-b537-4d2c-df70-e3a7161db04d"
      },
      "source": [
        "S1 = df[pair[0]]\n",
        "S2 = df[pair[1]]\n",
        "\n",
        "score, pvalue, _ = coint(S1, S2)\n",
        "pvalue"
      ],
      "execution_count": null,
      "outputs": [
        {
          "output_type": "execute_result",
          "data": {
            "text/plain": [
              "0.0033154423636365866"
            ]
          },
          "metadata": {
            "tags": []
          },
          "execution_count": 99
        }
      ]
    },
    {
      "cell_type": "markdown",
      "metadata": {
        "id": "PDsBr2ajRTxn",
        "colab_type": "text"
      },
      "source": [
        "As we can see above, the p-value is low enough and indicate that those stocks may be cointegrated."
      ]
    },
    {
      "cell_type": "code",
      "metadata": {
        "id": "S2TNQTH0RTxo",
        "colab_type": "code",
        "colab": {
          "base_uri": "https://localhost:8080/",
          "height": 374
        },
        "outputId": "e40ba5dd-0d0c-48f3-8212-e49cec954c1b"
      },
      "source": [
        "# Get the spread between the 2 stocks\n",
        "from pyfinance import ols\n",
        "\n",
        "# Calculate rolling beta coefficient\n",
        "rolling = ols.PandasRollingOLS(y=S1, x=S2, window=30)\n",
        "spread = S2 - rolling.beta['feature1'] * S1\n",
        "spread.name = 'spread'\n",
        "\n",
        "# Get the 1 day moving average of the price spread\n",
        "spread_mavg1 = spread.rolling(1).mean()\n",
        "spread_mavg1.name = 'spread 1b mavg'\n",
        "\n",
        "# Get the 30 day moving average\n",
        "spread_mavg30 = spread.rolling(30).mean()\n",
        "spread_mavg30.name = 'spread 30b mavg'\n",
        "\n",
        "fig, ax = plt.subplots(figsize=(10, 6))\n",
        "ax.plot(spread_mavg1[58:858].index, spread_mavg1[58:858].values)\n",
        "ax.plot(spread_mavg30[58:858].index, spread_mavg30[58:858].values)\n",
        "ax.legend(['1 bar Spread MAVG', '30 bar Spread MAVG'])\n",
        "ax.xaxis.set_major_formatter(DateFormatter(\"%H:%M\"))"
      ],
      "execution_count": null,
      "outputs": [
        {
          "output_type": "display_data",
          "data": {
            "image/png": "[encoded data removed]",
            "text/plain": [
              "<Figure size 720x432 with 1 Axes>"
            ]
          },
          "metadata": {
            "tags": [],
            "needs_background": "light"
          }
        }
      ]
    },
    {
      "cell_type": "markdown",
      "metadata": {
        "id": "4ivIpgqiRTxu",
        "colab_type": "text"
      },
      "source": [
        "Now we will compute the Z-Score for the spread. The Z-Score shows how far a piece of data is from the population mean. This will help us to choose the direction of trading. If the Z-Score value is positive, this means that the spread is higher than the average value. In a mean reversion process (our case), the spread is expected to go down after going up."
      ]
    },
    {
      "cell_type": "code",
      "metadata": {
        "id": "ZCC-D9peRTxv",
        "colab_type": "code",
        "colab": {
          "base_uri": "https://localhost:8080/",
          "height": 376
        },
        "outputId": "a151d54a-66eb-43c5-c727-ab08b4fb42c0"
      },
      "source": [
        "# Take a rolling 30 day standard deviation\n",
        "std_30 = spread.rolling(30).std()\n",
        "std_30.name = 'std 30b'\n",
        "\n",
        "# Compute the z score for each bar\n",
        "zscore_30_1 = (spread_mavg1 - spread_mavg30)/std_30\n",
        "zscore_30_1.name = 'z-score'\n",
        "\n",
        "# Plot the results\n",
        "fig, ax = plt.subplots(figsize=(10,6))\n",
        "ax.plot(zscore_30_1[58:858].index,zscore_30_1[58:858].values,label='Z-Score')\n",
        "ax.axhline(0, color='black')\n",
        "ax.axhline(1, color='tab:green', linestyle='-.',label='+1',lw=1.5);\n",
        "ax.axhline(-1, color='tab:red', linestyle='-.',label='-1',lw=1.5);\n",
        "ax.legend(loc=0)\n",
        "ax.xaxis.set_major_formatter(DateFormatter(\"%H:%M\"))"
      ],
      "execution_count": null,
      "outputs": [
        {
          "output_type": "display_data",
          "data": {
            "image/png": "[encoded data removed]",
            "text/plain": [
              "<Figure size 720x432 with 1 Axes>"
            ]
          },
          "metadata": {
            "tags": [],
            "needs_background": "light"
          }
        }
      ]
    },
    {
      "cell_type": "markdown",
      "metadata": {
        "id": "TfQZiR4HlwO2",
        "colab_type": "text"
      },
      "source": [
        "The graph above shows a stationary behavior of the Z-Score during the first 2.5 hours of the first trading day which is an indication of a mean-reverting process."
      ]
    },
    {
      "cell_type": "markdown",
      "metadata": {
        "id": "4DULinSxRTx2",
        "colab_type": "text"
      },
      "source": [
        "## 3. Forecasting"
      ]
    },
    {
      "cell_type": "markdown",
      "metadata": {
        "id": "HfH-kZyXRTx3",
        "colab_type": "text"
      },
      "source": [
        "Forecasting is a tool that uses historical data as input to predict the course of future patterns in an informed way.\n",
        "\n",
        "Here, we are interested in predict 15 timesteps ahead, that means, fifteen 6-sec bars, or the movement of the spread in the next 1.5 minutes.\n",
        "\n",
        "For this regard, we will use a Recurrent Neural Network (RNN), but first, we need to deal with the missing bars (due to the previous rolling statistics computations) and also scale the data appropriately."
      ]
    },
    {
      "cell_type": "code",
      "metadata": {
        "id": "usleVu7ORTx4",
        "colab_type": "code",
        "colab": {}
      },
      "source": [
        "from sklearn import preprocessing\n",
        "\n",
        "# Remove NaN values\n",
        "zscore_30_1 = zscore_30_1[~np.isnan(zscore_30_1)]\n",
        "\n",
        "# Scaling features to a range [0, 1]\n",
        "min_max_scaler = preprocessing.MinMaxScaler(feature_range=(-1, 1))\n",
        "zscore_30_1_norm = min_max_scaler.fit_transform(np.expand_dims(zscore_30_1, axis=1))\n",
        "\n",
        "# Create a function to get time series data into RNN format\n",
        "def create_univariate_rnn_data(data,window_size):\n",
        "    data = data.reshape(-1,1) # transform data into 2D\n",
        "    n = data.shape[0]\n",
        "    ts = np.hstack(tuple([data[i:n-j,:] for i,j in enumerate(range(window_size,0,-1))]))\n",
        "    ts = ts[...,np.newaxis].astype(np.float32)\n",
        "    return ts"
      ],
      "execution_count": null,
      "outputs": []
    },
    {
      "cell_type": "markdown",
      "metadata": {
        "id": "StJMK5kLRTx9",
        "colab_type": "text"
      },
      "source": [
        "Now we split the data into 3 subsets: _Train_, _Validation_, and _Test_. We also define a function to compute the Mean Square Error (MSE) at each time step."
      ]
    },
    {
      "cell_type": "code",
      "metadata": {
        "id": "9HoNqIjDRTx-",
        "colab_type": "code",
        "colab": {}
      },
      "source": [
        "# Create an RNN that predicts the next 15 steps at each time step\n",
        "\n",
        "n_steps = 50\n",
        "ts = create_univariate_rnn_data(zscore_30_1_norm, n_steps +15)\n",
        "\n",
        "# Split dataset\n",
        "n_train = int(ts.shape[0] * 0.7)\n",
        "n_valid = int(ts.shape[0] * 0.9)\n",
        "n_test = int(ts.shape[0] * 1.0)\n",
        "\n",
        "# Split series into 'train' ,'valid' and 'test' sub-series\n",
        "X_train = ts[:n_train, :n_steps]\n",
        "X_valid = ts[n_train:n_valid, :n_steps]\n",
        "X_test = ts[n_valid:, :n_steps]\n",
        "\n",
        "Y = np.empty((n_test, n_steps, 15))\n",
        "for step_ahead in range(1, 15 + 1):\n",
        "    Y[..., step_ahead - 1] = ts[..., step_ahead:step_ahead + n_steps, 0]\n",
        "\n",
        "Y_train = Y[:n_train]\n",
        "Y_valid = Y[n_train:n_valid]\n",
        "Y_test = Y[n_valid:]\n",
        "\n",
        "# Create a function to compute the MSE at each time step\n",
        "def last_time_step_mse(Y_true, Y_pred):\n",
        "    return keras.metrics.mean_squared_error(Y_true[:, -1], Y_pred[:, -1])"
      ],
      "execution_count": null,
      "outputs": []
    },
    {
      "cell_type": "markdown",
      "metadata": {
        "id": "eKTrQgiIRTyC",
        "colab_type": "text"
      },
      "source": [
        "Finally, we define an RNN using 4 LSTM layers (50 neurons each) and run the model."
      ]
    },
    {
      "cell_type": "code",
      "metadata": {
        "id": "wRARAHNNRTyD",
        "colab_type": "code",
        "colab": {
          "base_uri": "https://localhost:8080/",
          "height": 697
        },
        "outputId": "3ac0eeb6-279b-4058-f94c-50d06cbb7a51"
      },
      "source": [
        "from tensorflow import keras\n",
        "\n",
        "# Create a model using LSTM\n",
        "model = keras.models.Sequential([\n",
        "    keras.layers.LSTM(50, return_sequences=True, input_shape=[None, 1]),\n",
        "    keras.layers.LSTM(50, return_sequences=True),\n",
        "    keras.layers.LSTM(50, return_sequences=True),\n",
        "    keras.layers.LSTM(50, return_sequences=True),\n",
        "    keras.layers.TimeDistributed(keras.layers.Dense(15))\n",
        "])\n",
        "\n",
        "# Call the model\n",
        "model.compile(loss=\"mse\", optimizer=\"adam\", metrics=[last_time_step_mse])\n",
        "history = model.fit(X_train, Y_train, epochs=20,\n",
        "                    validation_data=(X_valid, Y_valid))"
      ],
      "execution_count": null,
      "outputs": [
        {
          "output_type": "stream",
          "text": [
            "Epoch 1/20\n",
            "168/168 [==============================] - 18s 106ms/step - loss: 0.0610 - last_time_step_mse: 0.0595 - val_loss: 0.0643 - val_last_time_step_mse: 0.0638\n",
            "Epoch 2/20\n",
            "168/168 [==============================] - 16s 97ms/step - loss: 0.0497 - last_time_step_mse: 0.0488 - val_loss: 0.0596 - val_last_time_step_mse: 0.0589\n",
            "Epoch 3/20\n",
            "168/168 [==============================] - 16s 98ms/step - loss: 0.0465 - last_time_step_mse: 0.0456 - val_loss: 0.0571 - val_last_time_step_mse: 0.0559\n",
            "Epoch 4/20\n",
            "168/168 [==============================] - 17s 100ms/step - loss: 0.0448 - last_time_step_mse: 0.0433 - val_loss: 0.0565 - val_last_time_step_mse: 0.0556\n",
            "Epoch 5/20\n",
            "168/168 [==============================] - 17s 100ms/step - loss: 0.0438 - last_time_step_mse: 0.0416 - val_loss: 0.0589 - val_last_time_step_mse: 0.0587\n",
            "Epoch 6/20\n",
            "168/168 [==============================] - 17s 102ms/step - loss: 0.0420 - last_time_step_mse: 0.0386 - val_loss: 0.0588 - val_last_time_step_mse: 0.0584\n",
            "Epoch 7/20\n",
            "168/168 [==============================] - 17s 101ms/step - loss: 0.0398 - last_time_step_mse: 0.0343 - val_loss: 0.0633 - val_last_time_step_mse: 0.0647\n",
            "Epoch 8/20\n",
            "168/168 [==============================] - 17s 101ms/step - loss: 0.0374 - last_time_step_mse: 0.0302 - val_loss: 0.0649 - val_last_time_step_mse: 0.0648\n",
            "Epoch 9/20\n",
            "168/168 [==============================] - 17s 101ms/step - loss: 0.0351 - last_time_step_mse: 0.0263 - val_loss: 0.0649 - val_last_time_step_mse: 0.0670\n",
            "Epoch 10/20\n",
            "168/168 [==============================] - 17s 101ms/step - loss: 0.0326 - last_time_step_mse: 0.0226 - val_loss: 0.0641 - val_last_time_step_mse: 0.0696\n",
            "Epoch 11/20\n",
            "168/168 [==============================] - 17s 102ms/step - loss: 0.0304 - last_time_step_mse: 0.0192 - val_loss: 0.0694 - val_last_time_step_mse: 0.0778\n",
            "Epoch 12/20\n",
            "168/168 [==============================] - 17s 101ms/step - loss: 0.0285 - last_time_step_mse: 0.0164 - val_loss: 0.0708 - val_last_time_step_mse: 0.0790\n",
            "Epoch 13/20\n",
            "168/168 [==============================] - 17s 101ms/step - loss: 0.0265 - last_time_step_mse: 0.0139 - val_loss: 0.0766 - val_last_time_step_mse: 0.0876\n",
            "Epoch 14/20\n",
            "168/168 [==============================] - 17s 103ms/step - loss: 0.0252 - last_time_step_mse: 0.0123 - val_loss: 0.0740 - val_last_time_step_mse: 0.0861\n",
            "Epoch 15/20\n",
            "168/168 [==============================] - 17s 101ms/step - loss: 0.0239 - last_time_step_mse: 0.0109 - val_loss: 0.0717 - val_last_time_step_mse: 0.0795\n",
            "Epoch 16/20\n",
            "168/168 [==============================] - 17s 101ms/step - loss: 0.0229 - last_time_step_mse: 0.0099 - val_loss: 0.0745 - val_last_time_step_mse: 0.0866\n",
            "Epoch 17/20\n",
            "168/168 [==============================] - 17s 101ms/step - loss: 0.0220 - last_time_step_mse: 0.0091 - val_loss: 0.0755 - val_last_time_step_mse: 0.0873\n",
            "Epoch 18/20\n",
            "168/168 [==============================] - 17s 103ms/step - loss: 0.0211 - last_time_step_mse: 0.0084 - val_loss: 0.0740 - val_last_time_step_mse: 0.0837\n",
            "Epoch 19/20\n",
            "168/168 [==============================] - 17s 102ms/step - loss: 0.0205 - last_time_step_mse: 0.0077 - val_loss: 0.0750 - val_last_time_step_mse: 0.0845\n",
            "Epoch 20/20\n",
            "168/168 [==============================] - 17s 99ms/step - loss: 0.0198 - last_time_step_mse: 0.0071 - val_loss: 0.0763 - val_last_time_step_mse: 0.0853\n"
          ],
          "name": "stdout"
        }
      ]
    },
    {
      "cell_type": "code",
      "metadata": {
        "id": "29EC-aFyRTyK",
        "colab_type": "code",
        "colab": {
          "base_uri": "https://localhost:8080/",
          "height": 51
        },
        "outputId": "de7cb983-dd24-4dc3-d812-8835350e839d"
      },
      "source": [
        "model.evaluate(X_valid, Y_valid)"
      ],
      "execution_count": null,
      "outputs": [
        {
          "output_type": "stream",
          "text": [
            "48/48 [==============================] - 1s 23ms/step - loss: 0.0763 - last_time_step_mse: 0.0853\n"
          ],
          "name": "stdout"
        },
        {
          "output_type": "execute_result",
          "data": {
            "text/plain": [
              "[0.07625771313905716, 0.08534184098243713]"
            ]
          },
          "metadata": {
            "tags": []
          },
          "execution_count": 14
        }
      ]
    },
    {
      "cell_type": "markdown",
      "metadata": {
        "id": "6zjSor71RTyO",
        "colab_type": "text"
      },
      "source": [
        "The validation loss varies from 0.0571 to 0.0766 depending on the episode. Overall loss is 0.0763.\n",
        "\n",
        "Now let's plot some forecasted points."
      ]
    },
    {
      "cell_type": "code",
      "metadata": {
        "id": "Ec5uwuBHRTyP",
        "colab_type": "code",
        "colab": {
          "base_uri": "https://localhost:8080/",
          "height": 378
        },
        "outputId": "bd47c35f-ea8c-4185-c789-918b05a4eabd"
      },
      "source": [
        "import matplotlib as mpl\n",
        "\n",
        "def plot_series(series, y=None, y_pred=None, x_label=\"\", y_label=\"\"):\n",
        "    plt.plot(series, \".-\")\n",
        "    if y is not None:\n",
        "        plt.plot(n_steps, y, \"bx\", markersize=10)\n",
        "    if y_pred is not None:\n",
        "        plt.plot(n_steps, y_pred, \"ro\")\n",
        "    plt.grid(True)\n",
        "    if x_label:\n",
        "        plt.xlabel(x_label, fontsize=16)\n",
        "    if y_label:\n",
        "        plt.ylabel(y_label, fontsize=16, rotation=90)\n",
        "    plt.hlines(0, 0, 100, linewidth=1)\n",
        "    plt.axis([0, n_steps + 1, -1, 1])\n",
        "\n",
        "\n",
        "\n",
        "def plot_multiple_forecasts(X, Y, Y_pred):\n",
        "    n_steps = X.shape[1]\n",
        "    ahead = Y.shape[1]\n",
        "    plot_series(X[0, :, 0])\n",
        "    plt.plot(np.arange(n_steps, n_steps + ahead), Y[0, :, 0], \"ro-\", label=\"Actual\")\n",
        "    plt.plot(np.arange(n_steps, n_steps + ahead), Y_pred[0, :, 0], \"bx-\", label=\"Forecast\", markersize=10)\n",
        "    plt.axis([0, n_steps + ahead, -1, 1])\n",
        "    plt.legend(fontsize=14)\n",
        "\n",
        "# Predict using model    \n",
        "X_New, Y_New = ts[:, :50, :], ts[:, 50:, :]\n",
        "Y_Pred = model.predict(X_New)[:, -1][..., np.newaxis]\n",
        "    \n",
        "plot_multiple_forecasts(X_New, Y_New, Y_Pred)\n",
        "plt.rcParams[\"figure.figsize\"] = (10,6)\n",
        "plt.show()"
      ],
      "execution_count": null,
      "outputs": [
        {
          "output_type": "display_data",
          "data": {
            "image/png": "[encoded data removed]",
            "text/plain": [
              "<Figure size 720x432 with 1 Axes>"
            ]
          },
          "metadata": {
            "tags": [],
            "needs_background": "light"
          }
        }
      ]
    },
    {
      "cell_type": "markdown",
      "metadata": {
        "id": "kfWD249drJqG",
        "colab_type": "text"
      },
      "source": [
        "As we can check see graphically model is quite accurate when predicting the next 15 data points. Let's plot more points."
      ]
    },
    {
      "cell_type": "code",
      "metadata": {
        "id": "vmDFGf-62r0P",
        "colab_type": "code",
        "colab": {
          "base_uri": "https://localhost:8080/",
          "height": 374
        },
        "outputId": "433b60ff-c309-4260-c6ec-a65916083a9e"
      },
      "source": [
        "X_new = Y_New[0,:,:]\n",
        "\n",
        "for i in range(1,len(Y_New)):\n",
        "    X_new = np.vstack((X_new,Y_New[i,-1,:]))\n",
        "    \n",
        "X_pred = Y_Pred[0,:,:]\n",
        "\n",
        "for i in range(1,len(Y_Pred)):\n",
        "    X_pred = np.vstack((X_pred,Y_Pred[i,-1,:]))\n",
        "    \n",
        "    \n",
        "fig, ax = plt.subplots(figsize=(10, 6))\n",
        "ax.plot(X_new[1158:1558])\n",
        "ax.plot(X_pred[1158:1558])\n",
        "ax.legend(['Actual','Forecast'],loc=0)\n",
        "# plt.xlabel('Bars')\n",
        "# plt.ylabel('Z-Score')\n",
        "plt.show()"
      ],
      "execution_count": null,
      "outputs": [
        {
          "output_type": "display_data",
          "data": {
            "image/png": "[encoded data removed]",
            "text/plain": [
              "<Figure size 720x432 with 1 Axes>"
            ]
          },
          "metadata": {
            "tags": [],
            "needs_background": "light"
          }
        }
      ]
    },
    {
      "cell_type": "code",
      "metadata": {
        "id": "EABryiWJf_zp",
        "colab_type": "code",
        "colab": {
          "base_uri": "https://localhost:8080/",
          "height": 34
        },
        "outputId": "6c1feddb-3e9e-4fe4-9b98-d654d3a38e85"
      },
      "source": [
        "np.mean(X_pred), np.min(X_pred),np.max(X_pred)"
      ],
      "execution_count": null,
      "outputs": [
        {
          "output_type": "execute_result",
          "data": {
            "text/plain": [
              "(-0.05677247, -0.89882576, 0.67457175)"
            ]
          },
          "metadata": {
            "tags": []
          },
          "execution_count": 18
        }
      ]
    },
    {
      "cell_type": "markdown",
      "metadata": {
        "id": "siRi23w47yZB",
        "colab_type": "text"
      },
      "source": [
        "## 4. Trade phase"
      ]
    },
    {
      "cell_type": "markdown",
      "metadata": {
        "id": "Db-gO3kfRTyU",
        "colab_type": "text"
      },
      "source": [
        "This is the second part of Pairs Trading. Primarily we define a trading strategy based on the Z-Score of the spread previously computed. We will enter in a short position for the first stock of the pair (and long the second one) when the spread deviates +2 standards deviations from the mean and liquidate the position when the spread is +0.5 standard deviation from the mean. In the same sense, we enter a long position for the first stock of the pair (and short the second one) when the spread is -2 standards deviations from the mean, and exit the position when the spread reaches -0.5 standard deviations from the mean. The stop-loss limits for the short and long positions are respectively +3.0 and -3.0 standard deviations from the mean."
      ]
    },
    {
      "cell_type": "code",
      "metadata": {
        "id": "zHWAaMQiRTyW",
        "colab_type": "code",
        "colab": {
          "base_uri": "https://localhost:8080/",
          "height": 393
        },
        "outputId": "2fe07bba-b47b-400b-9c56-44a6b1ad6f50"
      },
      "source": [
        "fig, ax = plt.subplots(figsize=(10, 6))\n",
        "ax.plot(zscore_30_1[58:858].index,zscore_30_1[58:858].values,label='Z-Score')\n",
        "ax.axhspan(-0.5, 0.5, alpha=0.15, color='grey', label='exit zone')\n",
        "ax.axhline(0, color='black')\n",
        "ax.axhline(2, color='tab:purple', linestyle='-.',label='entry threshold',lw=1.5);\n",
        "ax.axhline(-2, color='tab:purple', linestyle='-.',lw=1.5);\n",
        "ax.axhline(-3, color='red', linestyle=':',lw=1.7);\n",
        "ax.axhline(3, color='red', linestyle=':',label='stop-loss boundary',lw=1.7);\n",
        "ax.xaxis.set_major_formatter(DateFormatter(\"%H:%M\"))\n",
        "ax.legend(loc=0)"
      ],
      "execution_count": null,
      "outputs": [
        {
          "output_type": "execute_result",
          "data": {
            "text/plain": [
              "<matplotlib.legend.Legend at 0x7fd669a65eb8>"
            ]
          },
          "metadata": {
            "tags": []
          },
          "execution_count": 19
        },
        {
          "output_type": "display_data",
          "data": {
            "image/png": "[encoded data removed]",
            "text/plain": [
              "<Figure size 720x432 with 1 Axes>"
            ]
          },
          "metadata": {
            "tags": [],
            "needs_background": "light"
          }
        }
      ]
    },
    {
      "cell_type": "markdown",
      "metadata": {
        "id": "zYjvnXMzRTya",
        "colab_type": "text"
      },
      "source": [
        "### 4.1 Reinforcement Learning"
      ]
    },
    {
      "cell_type": "markdown",
      "metadata": {
        "id": "Zxvx3W56ue2g",
        "colab_type": "text"
      },
      "source": [
        "Reinforcement Learning (RL) is today one of the most exciting areas of Machine Learning. In RL there is a software agent that makes observations, performs actions, and receives awards in return. Its goal is to learn how to act so that its expected rewards can be maximized over time.\n",
        "\n",
        "In order to use RL, we need to prepare our dataset accordingly. First, we take care of NANs entries and generate a response variable y using the trading strategy mentioned before: enter in a short position for the first stock of the pair (and long the second one) when the spread deviates +2 standards deviations from the mean, liquidate the position when the spread is +0.5 standard deviation from the mean, and so on. Response variable assumes value 1 for a long position, -1 for a short position, and 0 for a hold position."
      ]
    },
    {
      "cell_type": "code",
      "metadata": {
        "id": "h74tvDbhRTyb",
        "colab_type": "code",
        "colab": {}
      },
      "source": [
        "def prepare_dataset(zscore_30_1):\n",
        "    \"\"\"\n",
        "    Function prepare_dataset to generate input data and trading strategy from stock prices\n",
        "    \"\"\"\n",
        " \n",
        "    zscore_30_1 = zscore_30_1[~np.isnan(zscore_30_1)]\n",
        "\n",
        "    # Scaling features to a range [0, 1]\n",
        "    min_max_scaler = preprocessing.MinMaxScaler(feature_range=(-1, 1))\n",
        "    zscore_30_1_norm = min_max_scaler.fit_transform(np.expand_dims(zscore_30_1, axis=1))\n",
        "\n",
        "\n",
        "    # Implement strategy\n",
        "    start_short = 0.5\n",
        "    stop_short = 0.1\n",
        "    start_long = -0.5\n",
        "    stop_long = -0.1\n",
        "    lower_bound = -0.75\n",
        "    upper_bound = 0.75\n",
        "\n",
        "    y = np.full(len(zscore_30_1_norm), np.nan)\n",
        "    y[0] = 0\n",
        "\n",
        "    for i in range(1, len(zscore_30_1_norm)):\n",
        "\n",
        "        if y[i-1] == 0:\n",
        "            if (zscore_30_1_norm[i] >= start_short) and (zscore_30_1_norm[i] < upper_bound):\n",
        "                # Enter short position\n",
        "                y[i] = -1\n",
        "            elif (zscore_30_1_norm[i] <= start_long) and (zscore_30_1_norm[i] > lower_bound):\n",
        "                # Enter long position\n",
        "                y[i] = 1\n",
        "            else:\n",
        "                y[i] = 0\n",
        "        elif y[i-1] == -1:\n",
        "            if (zscore_30_1_norm[i] > stop_short) and (zscore_30_1_norm[i] < upper_bound):\n",
        "                # Stay in short position\n",
        "                y[i] = -1\n",
        "            else:\n",
        "                y[i] = 0\n",
        "        elif y[i-1] == 1:\n",
        "            if (zscore_30_1_norm[i] < stop_long) and (zscore_30_1_norm[i] > lower_bound):\n",
        "                # Stay in long position\n",
        "                y[i] = 1\n",
        "            else:\n",
        "                y[i] = 0\n",
        "\n",
        "    # Plot strategy\n",
        "\n",
        "    fig, ax = plt.subplots()\n",
        "    dates = np.arange(len(zscore_30_1_norm))\n",
        "    ax.axhspan(-0.1, 0.1, alpha=0.1, color='purple', label='exit zone')\n",
        "    plt.rcParams[\"figure.figsize\"] = (10,6)\n",
        "    ax.plot(dates, y,'g', label='Strategy Positions')\n",
        "    ax.plot(dates, zscore_30_1_norm, color='tab:blue', label='Z-Score')\n",
        "    ax.plot(dates, upper_bound * np.ones(len(zscore_30_1_norm)), color='red', linestyle=':', lw=1.5,label='stop-loss boundary')\n",
        "    ax.plot(dates, lower_bound * np.ones(len(zscore_30_1_norm)), color='red', linestyle=':', lw=1.5)\n",
        "    ax.plot(dates, start_short * np.ones(len(zscore_30_1_norm)), color='tab:purple', linestyle='-.', lw=1.5,label='entry threshold')\n",
        "    ax.plot(dates, start_long * np.ones(len(zscore_30_1_norm)), color='tab:purple', linestyle='-.', lw=1.5)\n",
        "    plt.xlabel('Bars')\n",
        "    plt.xlim((300, 600))\n",
        "    ax.set_yticklabels(['','long',-3.0,-2.0,-1.0,0.0,1.0,2.0,3.0,'short'])\n",
        "    plt.legend(loc='best',bbox_to_anchor=(0, 0.51, 0.74, 0.5))\n",
        "    plt.savefig('./images/spread.png', bbox_inches='tight')\n",
        "    plt.show()\n",
        "    \n",
        "\n",
        "    x = zscore_30_1_norm\n",
        "\n",
        "\n",
        "    return x, y"
      ],
      "execution_count": 27,
      "outputs": []
    },
    {
      "cell_type": "code",
      "metadata": {
        "id": "pFAl2SxmRTye",
        "colab_type": "code",
        "colab": {
          "base_uri": "https://localhost:8080/",
          "height": 388
        },
        "outputId": "0211dcd4-24a7-49dc-f181-00599bbc0982"
      },
      "source": [
        "#Implement trading strategy\n",
        "X, y = prepare_dataset(X_pred)"
      ],
      "execution_count": null,
      "outputs": [
        {
          "output_type": "display_data",
          "data": {
            "image/png": "[encoded data removed]",
            "text/plain": [
              "<Figure size 720x432 with 1 Axes>"
            ]
          },
          "metadata": {
            "tags": [],
            "needs_background": "light"
          }
        }
      ]
    },
    {
      "cell_type": "code",
      "metadata": {
        "id": "GuII11vNRTyi",
        "colab_type": "code",
        "colab": {
          "base_uri": "https://localhost:8080/",
          "height": 34
        },
        "outputId": "08341825-c942-4acb-f102-b89ede8c65d8"
      },
      "source": [
        "print(\"There are {0} \\\"long\\\" signals and {1} \\\"short\\\" signals within the period. The rest of time is to stay put.\".format(np.count_nonzero(y == 1), np.count_nonzero(y == -1)))"
      ],
      "execution_count": null,
      "outputs": [
        {
          "output_type": "stream",
          "text": [
            "There are 489 \"long\" signals and 1666 \"short\" signals within the period. The rest of time is to stay put.\n"
          ],
          "name": "stdout"
        }
      ]
    },
    {
      "cell_type": "markdown",
      "metadata": {
        "id": "Bk0eokB3zWfL",
        "colab_type": "text"
      },
      "source": [
        "From the previous graph, we can check that using our strategy, we enter a short position 3 times and a long position 6 times during the depicted timeframe.\n",
        "\n",
        "Now we split the dataset into train subset (80%), test subset (20%), and also center the data."
      ]
    },
    {
      "cell_type": "code",
      "metadata": {
        "id": "hqVU_k5lRTys",
        "colab_type": "code",
        "colab": {
          "base_uri": "https://localhost:8080/",
          "height": 34
        },
        "outputId": "69f6eee4-e48c-4778-d0cf-38f4735c3f23"
      },
      "source": [
        "# Split dataset\n",
        "n_train = int(X.shape[0] * 0.8)\n",
        "\n",
        "X_train, y_train = X[:n_train], y[:n_train]\n",
        "X_test, y_test = X[n_train:], y[n_train:]\n",
        "\n",
        "# Normalize data\n",
        "scaler = preprocessing.MinMaxScaler()\n",
        "\n",
        "X_train = scaler.fit_transform(X_train)\n",
        "X_test = scaler.transform(X_test)\n",
        "\n",
        "# Encode trading signal with integers between 0 and n-1 classes\n",
        "le = preprocessing.LabelEncoder()\n",
        "\n",
        "y_train = le.fit_transform(y_train)\n",
        "y_test = le.transform(y_test)\n",
        "\n",
        "print(le.classes_)"
      ],
      "execution_count": null,
      "outputs": [
        {
          "output_type": "stream",
          "text": [
            "[-1.  0.  1.]\n"
          ],
          "name": "stdout"
        }
      ]
    },
    {
      "cell_type": "markdown",
      "metadata": {
        "id": "q6iozpeKRTyv",
        "colab_type": "text"
      },
      "source": [
        "### 4.2 Create and train the Agent"
      ]
    },
    {
      "cell_type": "markdown",
      "metadata": {
        "id": "-vW1fGSpoPKt",
        "colab_type": "text"
      },
      "source": [
        "The agent is a learning component that decides what to do to maximize the reward. The following are the steps of RL:\n",
        "\n",
        "1.   The agent observes the environment's state.\n",
        "2.   The agent takes a policy-based action.\n",
        "3.   The agent receives the corresponding reward and the next environmental state.\n",
        "4.   Information on the reward is recorded for the given state/action and used to update the policy.\n",
        "\n",
        "Deep Q-learning is a widely used method among the available RL algorithms. The purpose is to learn a policy to model the selection of the agent through trial and error.\n",
        "\n",
        "While a purely random policy ensures that all state/action dual will ultimately be visited several times, this will take an incredibly long time. We will use the ε-greedy policy here: at each step, the agent acts randomly with probability ε, or greedily with probability 1–ε, that means, it chooses the action with the highest one.\n",
        "\n",
        "Let's create a class for the agent."
      ]
    },
    {
      "cell_type": "code",
      "metadata": {
        "id": "fZ5GtXeGRTyw",
        "colab_type": "code",
        "colab": {
          "base_uri": "https://localhost:8080/",
          "height": 34
        },
        "outputId": "0b574579-6cbf-49c0-ceb8-596fe884be5d"
      },
      "source": [
        "import random\n",
        "\n",
        "from collections import deque\n",
        "\n",
        "from keras.models import Sequential\n",
        "from keras.layers import Dense, Flatten\n",
        "\n",
        "\n",
        "# Deep Q-learning Agent\n",
        "class Agent:\n",
        "\n",
        "    def __init__(self, look_back, action_size, n_features):\n",
        "\n",
        "        self.look_back = look_back          # fixed window of historical prices\n",
        "        self.action_size = action_size      # buy, sell, hold\n",
        "        self.n_features = n_features\n",
        "        \n",
        "        self.memory = deque(maxlen=3000)    # list of experiences\n",
        "\n",
        "        self.gamma = 0.95                   # discount rate\n",
        "        self.epsilon = 1.0                  # exploration rate\n",
        "        self.epsilon_min = 0.01\n",
        "        self.epsilon_decay = 0.995\n",
        "        \n",
        "        self.model = self.create_DQN()\n",
        "\n",
        "\n",
        "    def create_DQN(self):\n",
        "        \"\"\"\n",
        "        Function create_DQN to implement the deep Q-network as a MLP\n",
        "        \"\"\"\n",
        "\n",
        "        # input: stock price\n",
        "        # output: decision\n",
        "\n",
        "        model = Sequential()\n",
        "        model.add(Dense(30, input_shape=(self.look_back, self.n_features), activation='relu'))\n",
        "        model.add(Dense(15, activation='relu'))\n",
        "        model.add(Dense(5, activation='relu'))\n",
        "        model.add(Flatten())\n",
        "        model.add(Dense(self.action_size, activation='linear'))\n",
        "\n",
        "        model.compile(optimizer='adam', loss='mse', metrics=['accuracy'])\n",
        "\n",
        "        return model\n",
        "\n",
        "\n",
        "    def remember(self, state, action, reward, next_state, done):\n",
        "        \"\"\"\n",
        "        Function remember to store states, actions ad rewards by appending elements to the memory list\n",
        "        \"\"\"\n",
        "        self.memory.append((state, action, reward, next_state, done))\n",
        "\n",
        "\n",
        "    def replay(self, batch_size):\n",
        "        \"\"\"\n",
        "        Function replay to train the deep Q-network according to the experience replay strategy\n",
        "        \"\"\"\n",
        "        \n",
        "        # Random minibatch of experiences\n",
        "        mini_batch = random.sample(self.memory, batch_size)\n",
        "\n",
        "        # Information from each experience\n",
        "        for state, action, reward, next_state, done in mini_batch:\n",
        "\n",
        "            if done:\n",
        "                # End of episode, make our target reward\n",
        "                target = reward\n",
        "\n",
        "            else:\n",
        "                # estimate the future discounted reward\n",
        "                target = reward + self.gamma * np.amax(self.model.predict(next_state)[0])\n",
        "\n",
        "            # Calculate the target associated to the current state\n",
        "            target_f = self.model.predict(state)\n",
        "            # Update the Q-value for the action according to Belmann equation\n",
        "            target_f[0][action] = target\n",
        "\n",
        "            # Train the DQN with the state and target_t\n",
        "            self.model.fit(state, target_f, epochs=1, verbose=0)\n",
        "\n",
        "        if self.epsilon > self.epsilon_min:\n",
        "            self.epsilon *= self.epsilon_decay\n",
        "\n",
        "\n",
        "    def act(self, state):\n",
        "        \"\"\"\n",
        "        Function act to decide which action to take according to the epsilon-greedy policy\n",
        "        \"\"\"\n",
        "\n",
        "        if np.random.rand() <= self.epsilon:\n",
        "            # The agent acts at random\n",
        "            return np.random.randint(self.action_size)\n",
        "\n",
        "        # Predict the Q-values based on the current state\n",
        "        act_values = self.model.predict(state)\n",
        "\n",
        "        # The agent take the action with higher Q-value\n",
        "        return np.argmax(act_values[0])\n",
        "\n",
        "# Variable definiton\n",
        "episodes = 10\n",
        "look_back = 15\n",
        "batch_size = 32\n",
        "action_size = len(le.classes_)\n",
        "n_features = X_train.shape[1]\n",
        "\n",
        "# Create Agent\n",
        "agent = Agent(look_back, action_size, n_features)"
      ],
      "execution_count": null,
      "outputs": [
        {
          "output_type": "stream",
          "text": [
            "Using TensorFlow backend.\n"
          ],
          "name": "stderr"
        }
      ]
    },
    {
      "cell_type": "markdown",
      "metadata": {
        "id": "xH7O_QE9ostQ",
        "colab_type": "text"
      },
      "source": [
        "We must implement a function to train the agent. The reward system works as follows: if the agent's action matches the previously computed one (according with our Z-Score strategy), reward will be +1. If not, reward will be -1."
      ]
    },
    {
      "cell_type": "code",
      "metadata": {
        "id": "8mrJrD6KRTy0",
        "colab_type": "code",
        "colab": {}
      },
      "source": [
        "def run(agent, dataX, dataY, episodes, look_back):\n",
        "    \"\"\"\n",
        "    Function run to train the agent\n",
        "    \"\"\"\n",
        "    \n",
        "    # Length of dataset\n",
        "    times = len(dataX)\n",
        "\n",
        "    # List of total rewards\n",
        "    total_reward_list = []\n",
        "\n",
        "    for ep in range(episodes):\n",
        "\n",
        "        # print('Episode: ' + str(ep))\n",
        "        \n",
        "        # Initial state and position\n",
        "        state = dataX[:look_back, :][np.newaxis, :, :]\n",
        "        pos = dataY[look_back - 1]\n",
        "\n",
        "        done = False\n",
        "        total_reward = 0\n",
        "\n",
        "        for t in range(1, times - look_back + 1):\n",
        "\n",
        "            # Predict action based on the current state\n",
        "            action = agent.act(state)\n",
        "\n",
        "            # Calculate reward\n",
        "            if action == pos:   # 0:-1      1:0     2:1\n",
        "                reward = +1\n",
        "\n",
        "            else:\n",
        "                reward = -1\n",
        "\n",
        "            total_reward += reward\n",
        "\n",
        "            # Final state\n",
        "            if t == times - look_back:\n",
        "                done = True\n",
        "\n",
        "            # Receive next state and position\n",
        "            next_state = dataX[t:t + look_back, :][np.newaxis, :, :]\n",
        "            next_pos = dataY[t + look_back - 1]\n",
        "            \n",
        "            # Remember current experience\n",
        "            agent.remember(state, action, reward, next_state, done)\n",
        "            \n",
        "            # Make next_state the new current state; the same for pos\n",
        "            state = next_state\n",
        "            pos = next_pos\n",
        "\n",
        "            if done:\n",
        "                print('Episode: %i ---> Total Reward: %i' %(ep, total_reward))\n",
        "                total_reward_list.append(total_reward)\n",
        "\n",
        "            # Train the agent with previous experiences\n",
        "            if len(agent.memory) > batch_size:\n",
        "                agent.replay(batch_size)\n",
        "\n",
        "        if (ep + 1) % 5 == 0 and ep > 0:\n",
        "            file = './checkpoints/spread_robot_checkpoint' + str(ep + 1)\n",
        "            # Serialize weights to HDF5\n",
        "            agent.model.save_weights(file + \".h5\")\n",
        "            # Save epsilon\n",
        "            pickle.dump(agent.epsilon, open(file + \"_epsilon.pickle\", \"wb\"))\n",
        "\n",
        "    # Save list of rewards along the epochs\n",
        "    np.savetxt(file + '_total_reward.txt', total_reward_list)\n",
        "\n",
        "    return"
      ],
      "execution_count": null,
      "outputs": []
    },
    {
      "cell_type": "markdown",
      "metadata": {
        "id": "7Hi2SvJHo2rn",
        "colab_type": "text"
      },
      "source": [
        "Now we are ready to run the model. Note that we are using predicted data points by the previously implemented RNN."
      ]
    },
    {
      "cell_type": "code",
      "metadata": {
        "id": "vW4mXPBXRTy8",
        "colab_type": "code",
        "colab": {
          "base_uri": "https://localhost:8080/",
          "height": 204
        },
        "outputId": "6d2114fe-92d4-450f-812d-47b91d3031b1"
      },
      "source": [
        "# Train Agent\n",
        "import time as tm\n",
        "import pickle\n",
        "\n",
        "start = tm.time()\n",
        "\n",
        "run(agent, X_train, y_train, episodes, look_back)\n",
        "\n",
        "print('It took', tm.time()-start, 'seconds.')"
      ],
      "execution_count": null,
      "outputs": [
        {
          "output_type": "stream",
          "text": [
            "Episode: 0 ---> Total Reward: 3817\n",
            "Episode: 1 ---> Total Reward: 4559\n",
            "Episode: 2 ---> Total Reward: 4695\n",
            "Episode: 3 ---> Total Reward: 4707\n",
            "Episode: 4 ---> Total Reward: 4943\n",
            "Episode: 5 ---> Total Reward: 4641\n",
            "Episode: 6 ---> Total Reward: 4677\n",
            "Episode: 7 ---> Total Reward: 4709\n",
            "Episode: 8 ---> Total Reward: 4813\n",
            "Episode: 9 ---> Total Reward: 4775\n",
            "It took 6154.616380691528 seconds.\n"
          ],
          "name": "stdout"
        }
      ]
    },
    {
      "cell_type": "code",
      "metadata": {
        "id": "LS93cAemRTzF",
        "colab_type": "code",
        "colab": {
          "base_uri": "https://localhost:8080/",
          "height": 388
        },
        "outputId": "5a5cce81-bb0b-432d-e9a2-929a5ba1ed51"
      },
      "source": [
        "# Load rewards\n",
        "total_reward_list = np.loadtxt('./checkpoints/spread_robot_checkpoint' + str(episodes) + '_total_reward.txt')\n",
        "# Plot\n",
        "plt.figure()\n",
        "plt.plot(np.arange(1, episodes+1), total_reward_list)\n",
        "plt.xlabel('Episodes')\n",
        "plt.ylabel('Total Reward')\n",
        "plt.show()"
      ],
      "execution_count": null,
      "outputs": [
        {
          "output_type": "display_data",
          "data": {
            "image/png": "[encoded data removed]",
            "text/plain": [
              "<Figure size 720x432 with 1 Axes>"
            ]
          },
          "metadata": {
            "tags": [],
            "needs_background": "light"
          }
        }
      ]
    },
    {
      "cell_type": "markdown",
      "metadata": {
        "id": "VFG8Gpz7pBWE",
        "colab_type": "text"
      },
      "source": [
        "As we can see from the previous graph, starting from the first episode the overall reward increases dramatically and oscillates gradually and shows a bouncing pattern until the final episode.\n",
        "\n",
        "We are ready to assess the agent's performance after training our model. The ability to reproduce the trading strategy is calculated in line with the agent's action against strategy computed position.\n",
        "\n",
        "Let's build and call a function for this purpose."
      ]
    },
    {
      "cell_type": "code",
      "metadata": {
        "id": "awye6uIRRTzJ",
        "colab_type": "code",
        "colab": {}
      },
      "source": [
        "def evaluate(agent, dataX, dataY, look_back):\n",
        "    \"\"\"\n",
        "    Function run to evaluate the trained agent\n",
        "    \"\"\"\n",
        "    \n",
        "    # Length of dataset\n",
        "    times = len(dataX)\n",
        "\n",
        "    # Initial state and position\n",
        "    state = dataX[:look_back, :][np.newaxis, :, :]\n",
        "    pos = dataY[look_back - 1]\n",
        "\n",
        "    # List of predicted positions\n",
        "    pos_list = []\n",
        "    \n",
        "    done = False\n",
        "    total_reward = 0\n",
        "    \n",
        "    for t in range(1, times - look_back + 1):\n",
        "\n",
        "        # Predict action based on the current state\n",
        "        action = agent.act(state)\n",
        "\n",
        "        # Calculate reward\n",
        "        if action == pos:   # 0:-1      1:0     2:1\n",
        "            reward = +1\n",
        "\n",
        "        else:\n",
        "            reward = -1\n",
        "\n",
        "        pos_list.append(action)\n",
        "        total_reward += reward\n",
        "\n",
        "        # Final state\n",
        "        if t == times - look_back:\n",
        "            done = True\n",
        "\n",
        "        # Receive next state and position\n",
        "        next_state = dataX[t:t + look_back, :][np.newaxis, :, :]\n",
        "        next_pos = dataY[t + look_back - 1]\n",
        "\n",
        "        # Remember current experience\n",
        "        agent.remember(state, action, reward, next_state, done)\n",
        "\n",
        "        # Make next_state the new current state; the same for pos\n",
        "        state = next_state\n",
        "        pos = next_pos\n",
        "\n",
        "        if done:\n",
        "            print('Total Reward: %i' % total_reward)\n",
        "\n",
        "    return np.array(pos_list)"
      ],
      "execution_count": null,
      "outputs": []
    },
    {
      "cell_type": "code",
      "metadata": {
        "id": "IxOI0OqJRTzO",
        "colab_type": "code",
        "colab": {
          "base_uri": "https://localhost:8080/",
          "height": 51
        },
        "outputId": "22ad1a43-2302-4999-b232-6fa5a6c21118"
      },
      "source": [
        "from sklearn.metrics import accuracy_score\n",
        "\n",
        "# Evaluate the model\n",
        "# Make predictions\n",
        "y_pred_test = evaluate(agent, X_test, y_test, look_back)\n",
        "\n",
        "# Calculate and print accuracy\n",
        "acc = accuracy_score(y_test[look_back-1:-1], y_pred_test)\n",
        "\n",
        "print('Accuracy: %.2f %%' % (acc*100))"
      ],
      "execution_count": null,
      "outputs": [
        {
          "output_type": "stream",
          "text": [
            "Total Reward: 1326\n",
            "Accuracy: 93.50 %\n"
          ],
          "name": "stdout"
        }
      ]
    },
    {
      "cell_type": "markdown",
      "metadata": {
        "id": "jPlfZs2QpriB",
        "colab_type": "text"
      },
      "source": [
        "This means that our agent provides around 93.5% of trade decisions that match with our strategy.\n",
        "\n",
        "It is also interesting to calculate the precision and sensitivity of the model. Let's do that."
      ]
    },
    {
      "cell_type": "code",
      "metadata": {
        "id": "b7QzDsR5RTzV",
        "colab_type": "code",
        "colab": {
          "base_uri": "https://localhost:8080/",
          "height": 85
        },
        "outputId": "77e7450b-e655-482b-da5c-fa0f04bf1d80"
      },
      "source": [
        "from sklearn.metrics import precision_recall_fscore_support\n",
        "\n",
        "# Calculate and print precision, recall, f1 score and support\n",
        "p, r, f1, s = precision_recall_fscore_support(y_test[look_back-1:-1], y_pred_test, average=None)\n",
        "results = pd.DataFrame({'1-Precision': p, '2-Recall': r, '3-F1 score': f1, '4-Support': s}, index=le.classes_)\n",
        "\n",
        "print(results.round(decimals=3))"
      ],
      "execution_count": null,
      "outputs": [
        {
          "output_type": "stream",
          "text": [
            "      1-Precision  2-Recall  3-F1 score  4-Support\n",
            "-1.0        0.843     0.804       0.823        194\n",
            " 0.0        0.968     0.954       0.961       1282\n",
            " 1.0        0.605     0.958       0.742         48\n"
          ],
          "name": "stdout"
        }
      ]
    },
    {
      "cell_type": "markdown",
      "metadata": {
        "id": "illE-ic1p2dS",
        "colab_type": "text"
      },
      "source": [
        "The following information is derived from the result above:\n",
        " \n",
        "\n",
        "*   The high precision for the 0 value tells us that, in almost all cases, the model generates the hold position correctly.\n",
        "*   Model is more precise and sensitive(recall) when predicting short positions. Sensitivity measures the ability of a model to predict the true positive values of each category available.\n",
        "*    The support is the number of occurrences in the test subset for each class.\n",
        "\n",
        "\n",
        "\n"
      ]
    },
    {
      "cell_type": "code",
      "metadata": {
        "id": "aMUG-NBPRTzb",
        "colab_type": "code",
        "colab": {}
      },
      "source": [
        "# Decodificate labels\n",
        "y_true_test = le.inverse_transform(y_test[look_back-1:-1])\n",
        "y_pred_test = le.inverse_transform(y_pred_test)"
      ],
      "execution_count": null,
      "outputs": []
    },
    {
      "cell_type": "code",
      "metadata": {
        "id": "Twdho-q_RTzf",
        "colab_type": "code",
        "colab": {
          "base_uri": "https://localhost:8080/",
          "height": 374
        },
        "outputId": "bf115bbb-03df-4e70-ac68-feb8813e2e11"
      },
      "source": [
        "# Plot strategy\n",
        "plt.figure()\n",
        "plt.plot(y_true_test, label='true')\n",
        "plt.plot(y_pred_test, label='pred')\n",
        "plt.legend()\n",
        "plt.show()"
      ],
      "execution_count": null,
      "outputs": [
        {
          "output_type": "display_data",
          "data": {
            "image/png": "[encoded data removed]",
            "text/plain": [
              "<Figure size 720x432 with 1 Axes>"
            ]
          },
          "metadata": {
            "tags": [],
            "needs_background": "light"
          }
        }
      ]
    },
    {
      "cell_type": "markdown",
      "metadata": {
        "id": "tRVtW1__ruh4",
        "colab_type": "text"
      },
      "source": [
        "The previous chart shows that prediction errors are primarily due to the short (-1) positions that the model predicts as hold (0)."
      ]
    },
    {
      "cell_type": "markdown",
      "metadata": {
        "id": "xEIW2U3OHeqW",
        "colab_type": "text"
      },
      "source": [
        "## 5. Backtesting"
      ]
    },
    {
      "cell_type": "markdown",
      "metadata": {
        "id": "cRdXPm8Pr1H1",
        "colab_type": "text"
      },
      "source": [
        "Backtesting is the general way to see how well a strategy or model would perform. Backtesting assesses the viability of a trading strategy by finding out how it works with historical data. When backtesting works, traders and analysts can be more confident to deploy an strategy.\n",
        "\n",
        "For the purpose of backtesting we will use the trading day immediately after."
      ]
    },
    {
      "cell_type": "code",
      "metadata": {
        "id": "wY_O3RN9mK9G",
        "colab_type": "code",
        "colab": {}
      },
      "source": [
        "# Load data into dataframe\n",
        "input_file = './data/bars_6s_08jan2018.pkl'\n",
        "df3 = pd.read_pickle(input_file)"
      ],
      "execution_count": 14,
      "outputs": []
    },
    {
      "cell_type": "markdown",
      "metadata": {
        "id": "m-pjZGXgr8m-",
        "colab_type": "text"
      },
      "source": [
        "Let's plot the normalized prices of our pair of stocks."
      ]
    },
    {
      "cell_type": "code",
      "metadata": {
        "colab_type": "code",
        "id": "liGZdEGcp01L",
        "colab": {
          "base_uri": "https://localhost:8080/",
          "height": 391
        },
        "outputId": "c5c7eca3-1873-4da8-bcfe-333986254568"
      },
      "source": [
        "from matplotlib.dates import DateFormatter\n",
        "\n",
        "data=(df3[pair]-df3[pair].min())/(df3[pair].max()-df3[pair].min())\n",
        "\n",
        "fig, ax = plt.subplots(figsize=(9, 6))\n",
        "ax.plot(data[58:1558])\n",
        "ax.legend(pair,loc=0)\n",
        "ax.xaxis.set_major_formatter(DateFormatter(\"%H:%M\"))\n",
        "plt.ylabel('Normalized prices')"
      ],
      "execution_count": 17,
      "outputs": [
        {
          "output_type": "execute_result",
          "data": {
            "text/plain": [
              "Text(0, 0.5, 'Normalized prices')"
            ]
          },
          "metadata": {
            "tags": []
          },
          "execution_count": 17
        },
        {
          "output_type": "display_data",
          "data": {
            "image/png": "[encoded data removed]",
            "text/plain": [
              "<Figure size 648x432 with 1 Axes>"
            ]
          },
          "metadata": {
            "tags": [],
            "needs_background": "light"
          }
        }
      ]
    },
    {
      "cell_type": "code",
      "metadata": {
        "colab_type": "code",
        "id": "IC_dtu6eIO6S",
        "colab": {
          "base_uri": "https://localhost:8080/",
          "height": 34
        },
        "outputId": "93a073ef-3ff2-4c9a-ba21-c20f8c90d38c"
      },
      "source": [
        "S1b = df3[pair[0]]\n",
        "S2b = df3[pair[1]]\n",
        "\n",
        "score, pvalue, _ = coint(S1b, S2b)\n",
        "pvalue"
      ],
      "execution_count": 18,
      "outputs": [
        {
          "output_type": "execute_result",
          "data": {
            "text/plain": [
              "4.753416049095904e-11"
            ]
          },
          "metadata": {
            "tags": []
          },
          "execution_count": 18
        }
      ]
    },
    {
      "cell_type": "markdown",
      "metadata": {
        "id": "cRDFXKiLsD_5",
        "colab_type": "text"
      },
      "source": [
        "From the Cointeration test's p-value, stocks are still expected to be cointegrated.\n",
        "\n",
        "We will perform the same computations made previously: compute the spread, its Z-Score, and prepare dataset"
      ]
    },
    {
      "cell_type": "code",
      "metadata": {
        "colab_type": "code",
        "id": "TfZ1NnzRJGL9",
        "colab": {
          "base_uri": "https://localhost:8080/",
          "height": 374
        },
        "outputId": "53b79f87-a792-44e7-e77f-dd1a431f0c40"
      },
      "source": [
        "# Get the spread between the 2 stocks\n",
        "\n",
        "# Calculate rolling beta coefficient\n",
        "rollingb = ols.PandasRollingOLS(y=S1b, x=S2b, window=30)\n",
        "spreadb = S2b - rollingb.beta['feature1'] * S1b\n",
        "spreadb.name = 'spread'\n",
        "\n",
        "# Get the 1 day moving average of the price spread\n",
        "spread_mavg1b = spreadb.rolling(1).mean()\n",
        "spread_mavg1b.name = 'spread 1b mavg'\n",
        "\n",
        "# Get the 30 day moving average\n",
        "spread_mavg30b = spreadb.rolling(30).mean()\n",
        "spread_mavg30b.name = 'spread 30b mavg'\n",
        "\n",
        "fig, ax = plt.subplots(figsize=(10, 6))\n",
        "ax.plot(spread_mavg1b[58:1558].index, spread_mavg1b[58:1558].values)\n",
        "ax.plot(spread_mavg30b[58:1558].index, spread_mavg30b[58:1558].values)\n",
        "ax.legend(['1 bar Spread MAVG', '30 bar Spread MAVG'])\n",
        "ax.xaxis.set_major_formatter(DateFormatter(\"%H:%M\"))"
      ],
      "execution_count": 23,
      "outputs": [
        {
          "output_type": "display_data",
          "data": {
            "image/png": "[encoded data removed]",
            "text/plain": [
              "<Figure size 720x432 with 1 Axes>"
            ]
          },
          "metadata": {
            "tags": [],
            "needs_background": "light"
          }
        }
      ]
    },
    {
      "cell_type": "code",
      "metadata": {
        "colab_type": "code",
        "id": "DIFkgDz3Jnva",
        "colab": {
          "base_uri": "https://localhost:8080/",
          "height": 374
        },
        "outputId": "840ea2b0-4378-4d78-9916-bb35ac104f35"
      },
      "source": [
        "# Take a rolling 30 day standard deviation\n",
        "std_30b = spreadb.rolling(30).std()\n",
        "std_30b.name = 'std 30b'\n",
        "\n",
        "# Compute the z score for each bar\n",
        "zscore_30_1b = (spread_mavg1b - spread_mavg30b)/std_30b\n",
        "zscore_30_1b.name = 'z-score'\n",
        "\n",
        "# Plot the results\n",
        "fig, ax = plt.subplots(figsize=(10,6))\n",
        "ax.plot(zscore_30_1b[58:1558].index,zscore_30_1b[58:1558].values,label='Z-Score')\n",
        "ax.axhline(0, color='black')\n",
        "ax.axhline(1, color='tab:green', linestyle='-.',label='+1',lw=1.5);\n",
        "ax.axhline(-1, color='tab:red', linestyle='-.',label='-1',lw=1.5);\n",
        "ax.legend(loc=0)\n",
        "ax.xaxis.set_major_formatter(DateFormatter(\"%H:%M\"))"
      ],
      "execution_count": 25,
      "outputs": [
        {
          "output_type": "display_data",
          "data": {
            "image/png": "[encoded data removed]",
            "text/plain": [
              "<Figure size 720x432 with 1 Axes>"
            ]
          },
          "metadata": {
            "tags": [],
            "needs_background": "light"
          }
        }
      ]
    },
    {
      "cell_type": "code",
      "metadata": {
        "colab_type": "code",
        "id": "w3g8y2IZPH1U",
        "colab": {
          "base_uri": "https://localhost:8080/",
          "height": 388
        },
        "outputId": "7642e3d7-79dd-4f2c-b866-e7c561541d46"
      },
      "source": [
        "#Implement trading strategy\n",
        "Xb, yb = prepare_dataset(zscore_30_1b)"
      ],
      "execution_count": 31,
      "outputs": [
        {
          "output_type": "display_data",
          "data": {
            "image/png": "[encoded data removed]",
            "text/plain": [
              "<Figure size 720x432 with 1 Axes>"
            ]
          },
          "metadata": {
            "tags": [],
            "needs_background": "light"
          }
        }
      ]
    },
    {
      "cell_type": "markdown",
      "metadata": {
        "id": "oK079m4c2eoa",
        "colab_type": "text"
      },
      "source": [
        "Now let's create a ledger to keep stocks' prices, trading signals, orders, costs, and cash available."
      ]
    },
    {
      "cell_type": "code",
      "metadata": {
        "id": "O0Dl8EAUPOJe",
        "colab_type": "code",
        "colab": {}
      },
      "source": [
        "# Create ledger\n",
        "tsb = df3[pair]\n",
        "\n",
        "# Remove NAN entries\n",
        "tsb = tsb[tsb.index.isin(zscore_30_1b[~np.isnan(zscore_30_1b)].index)]\n",
        "\n",
        "# Populate columns\n",
        "tsb['Zscore'] = Xb\n",
        "tsb['signal'] = np.nan # initialization only\n",
        "tsb['order'] = 0       # initialization only\n"
      ],
      "execution_count": null,
      "outputs": []
    },
    {
      "cell_type": "code",
      "metadata": {
        "id": "0ntx5iZTPX2k",
        "colab_type": "code",
        "colab": {}
      },
      "source": [
        "# Create trade signals\n",
        "\n",
        "times = len(Xb) # length of dataset\n",
        "\n",
        "signals = np.array([],dtype='int64')\n",
        "\n",
        "# Initial state and position\n",
        "state = Xb[:look_back, :][np.newaxis, :, :]\n",
        "\n",
        "for t in range(1, times - look_back + 1):\n",
        "  # Predict action based on the current state\n",
        "  action = agent.act(state)\n",
        "  signals = np.append(signals,action)\n",
        "\n",
        "  # Receive next state and position\n",
        "  next_state = Xb[t:t + look_back, :][np.newaxis, :, :]\n",
        "                     \n",
        "  # Make next_state the new current state; the same for pos\n",
        "  state = next_state\n",
        "\n",
        "# Decodificate labels\n",
        "signals = le.inverse_transform(signals)"
      ],
      "execution_count": null,
      "outputs": []
    },
    {
      "cell_type": "markdown",
      "metadata": {
        "id": "-Ip2pwSH2m5w",
        "colab_type": "text"
      },
      "source": [
        "To create trading signals we will use our pre-trained agent."
      ]
    },
    {
      "cell_type": "code",
      "metadata": {
        "id": "Zf6huJxraRWf",
        "colab_type": "code",
        "colab": {}
      },
      "source": [
        "# Remove lookback entries\n",
        "tsb = tsb[look_back:]\n",
        "\n",
        "# Create signals column\n",
        "tsb['signal'] = signals\n",
        "\n",
        "# Populate order column\n",
        "position=0\n",
        "\n",
        "for k in range(len(tsb)):\n",
        "  if tsb['signal'][k] == 1 and position==0:\n",
        "    tsb.order.values[k] = 1\n",
        "    position +=1\n",
        "  elif tsb['signal'][k] == -1 and position==0:\n",
        "    tsb.order.values[k] = -1\n",
        "    position -=1\n",
        "  elif tsb['signal'][k] == 0 and position < 0:\n",
        "    tsb.order.values[k] = 1\n",
        "    position +=1\n",
        "  elif tsb['signal'][k] == 0 and position > 0:\n",
        "    tsb.order.values[k] = -1\n",
        "    position -=1\n",
        "  elif tsb['signal'][k] == -1 and position > 0:\n",
        "    tsb.order.values[k] = -2\n",
        "    position -=2\n",
        "  elif tsb['signal'][k] == 1 and position < 0:\n",
        "    tsb.order.values[k] = 2\n",
        "    position +=2"
      ],
      "execution_count": null,
      "outputs": []
    },
    {
      "cell_type": "markdown",
      "metadata": {
        "id": "UOJARlyM2sRp",
        "colab_type": "text"
      },
      "source": [
        "We are set to perform the backtesting, this time without considering trading costs and with 0.00 initial capital. \n",
        "\n",
        "Our portfolio is formed by computing the rounded mean of one stock price during the formation phase and use the result as the number of shares for the other stock. "
      ]
    },
    {
      "cell_type": "code",
      "metadata": {
        "id": "2oLXpqht-PtF",
        "colab_type": "code",
        "colab": {
          "base_uri": "https://localhost:8080/",
          "height": 419
        },
        "outputId": "5b7293a7-d520-490a-b20b-3779d9f2dc32"
      },
      "source": [
        "# pd.set_option('display.max_rows', 5000)\n",
        "\n",
        "# Backtesting (without trading costs)\n",
        "\n",
        "# Define initial value\n",
        "initial_capital = float(0.0)\n",
        "\n",
        "N1 = pair[0]\n",
        "N2 = pair[1]\n",
        "\n",
        "# Define number of shares for each stock\n",
        "qS1 = np.round(np.mean(S2))\n",
        "qS2 = np.round(np.mean(S1))\n",
        "\n",
        "# Setup cost to zero\n",
        "tsb['cost_{}'.format(N1)] = float(0.0)\n",
        "tsb['cost_{}'.format(N2)] = float(0.0)\n",
        "\n",
        "# Store the amount of positions for the portfolio\n",
        "tsb['dis_{}'.format(N1)] = (tsb['order'].multiply(tsb[N1]*-qS1, axis=0))\n",
        "tsb['dis_{}'.format(N2)] = (tsb['order'].multiply(tsb[N2]*qS2, axis=0))\n",
        "\n",
        "# Calculate the non-invested money (cash)\n",
        "tsb['cash'] = initial_capital + (tsb['dis_{}'.format(N1)]+tsb['dis_{}'.format(N2)]).cumsum()\n",
        "\n",
        "# Print the ledger\n",
        "tsb"
      ],
      "execution_count": null,
      "outputs": [
        {
          "output_type": "execute_result",
          "data": {
            "text/html": [
              "<div>\n",
              "<style scoped>\n",
              "    .dataframe tbody tr th:only-of-type {\n",
              "        vertical-align: middle;\n",
              "    }\n",
              "\n",
              "    .dataframe tbody tr th {\n",
              "        vertical-align: top;\n",
              "    }\n",
              "\n",
              "    .dataframe thead th {\n",
              "        text-align: right;\n",
              "    }\n",
              "</style>\n",
              "<table border=\"1\" class=\"dataframe\">\n",
              "  <thead>\n",
              "    <tr style=\"text-align: right;\">\n",
              "      <th></th>\n",
              "      <th>DIS</th>\n",
              "      <th>SQ</th>\n",
              "      <th>Zscore</th>\n",
              "      <th>signal</th>\n",
              "      <th>order</th>\n",
              "      <th>cost_DIS</th>\n",
              "      <th>cost_SQ</th>\n",
              "      <th>dis_DIS</th>\n",
              "      <th>dis_SQ</th>\n",
              "      <th>cash</th>\n",
              "    </tr>\n",
              "  </thead>\n",
              "  <tbody>\n",
              "    <tr>\n",
              "      <th>2018-01-08 09:37:18</th>\n",
              "      <td>110.185</td>\n",
              "      <td>40.2500</td>\n",
              "      <td>0.400476</td>\n",
              "      <td>1.0</td>\n",
              "      <td>1</td>\n",
              "      <td>0.0</td>\n",
              "      <td>0.0</td>\n",
              "      <td>-4297.215</td>\n",
              "      <td>4508.0</td>\n",
              "      <td>210.785</td>\n",
              "    </tr>\n",
              "    <tr>\n",
              "      <th>2018-01-08 09:37:24</th>\n",
              "      <td>110.185</td>\n",
              "      <td>40.2100</td>\n",
              "      <td>0.433836</td>\n",
              "      <td>1.0</td>\n",
              "      <td>0</td>\n",
              "      <td>0.0</td>\n",
              "      <td>0.0</td>\n",
              "      <td>-0.000</td>\n",
              "      <td>0.0</td>\n",
              "      <td>210.785</td>\n",
              "    </tr>\n",
              "    <tr>\n",
              "      <th>2018-01-08 09:37:30</th>\n",
              "      <td>110.185</td>\n",
              "      <td>40.2250</td>\n",
              "      <td>0.422939</td>\n",
              "      <td>1.0</td>\n",
              "      <td>0</td>\n",
              "      <td>0.0</td>\n",
              "      <td>0.0</td>\n",
              "      <td>-0.000</td>\n",
              "      <td>0.0</td>\n",
              "      <td>210.785</td>\n",
              "    </tr>\n",
              "    <tr>\n",
              "      <th>2018-01-08 09:37:36</th>\n",
              "      <td>110.180</td>\n",
              "      <td>40.2000</td>\n",
              "      <td>0.397516</td>\n",
              "      <td>1.0</td>\n",
              "      <td>0</td>\n",
              "      <td>0.0</td>\n",
              "      <td>0.0</td>\n",
              "      <td>-0.000</td>\n",
              "      <td>0.0</td>\n",
              "      <td>210.785</td>\n",
              "    </tr>\n",
              "    <tr>\n",
              "      <th>2018-01-08 09:37:42</th>\n",
              "      <td>110.180</td>\n",
              "      <td>40.2000</td>\n",
              "      <td>0.381835</td>\n",
              "      <td>1.0</td>\n",
              "      <td>0</td>\n",
              "      <td>0.0</td>\n",
              "      <td>0.0</td>\n",
              "      <td>-0.000</td>\n",
              "      <td>0.0</td>\n",
              "      <td>210.785</td>\n",
              "    </tr>\n",
              "    <tr>\n",
              "      <th>...</th>\n",
              "      <td>...</td>\n",
              "      <td>...</td>\n",
              "      <td>...</td>\n",
              "      <td>...</td>\n",
              "      <td>...</td>\n",
              "      <td>...</td>\n",
              "      <td>...</td>\n",
              "      <td>...</td>\n",
              "      <td>...</td>\n",
              "      <td>...</td>\n",
              "    </tr>\n",
              "    <tr>\n",
              "      <th>2018-01-08 15:59:36</th>\n",
              "      <td>110.020</td>\n",
              "      <td>40.7000</td>\n",
              "      <td>0.008879</td>\n",
              "      <td>1.0</td>\n",
              "      <td>0</td>\n",
              "      <td>0.0</td>\n",
              "      <td>0.0</td>\n",
              "      <td>-0.000</td>\n",
              "      <td>0.0</td>\n",
              "      <td>174.941</td>\n",
              "    </tr>\n",
              "    <tr>\n",
              "      <th>2018-01-08 15:59:42</th>\n",
              "      <td>110.020</td>\n",
              "      <td>40.6900</td>\n",
              "      <td>0.031622</td>\n",
              "      <td>1.0</td>\n",
              "      <td>0</td>\n",
              "      <td>0.0</td>\n",
              "      <td>0.0</td>\n",
              "      <td>-0.000</td>\n",
              "      <td>0.0</td>\n",
              "      <td>174.941</td>\n",
              "    </tr>\n",
              "    <tr>\n",
              "      <th>2018-01-08 15:59:48</th>\n",
              "      <td>110.030</td>\n",
              "      <td>40.6905</td>\n",
              "      <td>0.045329</td>\n",
              "      <td>1.0</td>\n",
              "      <td>0</td>\n",
              "      <td>0.0</td>\n",
              "      <td>0.0</td>\n",
              "      <td>-0.000</td>\n",
              "      <td>0.0</td>\n",
              "      <td>174.941</td>\n",
              "    </tr>\n",
              "    <tr>\n",
              "      <th>2018-01-08 15:59:54</th>\n",
              "      <td>110.025</td>\n",
              "      <td>40.7500</td>\n",
              "      <td>0.027294</td>\n",
              "      <td>1.0</td>\n",
              "      <td>0</td>\n",
              "      <td>0.0</td>\n",
              "      <td>0.0</td>\n",
              "      <td>-0.000</td>\n",
              "      <td>0.0</td>\n",
              "      <td>174.941</td>\n",
              "    </tr>\n",
              "    <tr>\n",
              "      <th>2018-01-08 16:00:00</th>\n",
              "      <td>110.000</td>\n",
              "      <td>40.7700</td>\n",
              "      <td>-0.010227</td>\n",
              "      <td>1.0</td>\n",
              "      <td>0</td>\n",
              "      <td>0.0</td>\n",
              "      <td>0.0</td>\n",
              "      <td>-0.000</td>\n",
              "      <td>0.0</td>\n",
              "      <td>174.941</td>\n",
              "    </tr>\n",
              "  </tbody>\n",
              "</table>\n",
              "<p>3828 rows × 10 columns</p>\n",
              "</div>"
            ],
            "text/plain": [
              "                         DIS       SQ    Zscore  ...   dis_DIS  dis_SQ     cash\n",
              "2018-01-08 09:37:18  110.185  40.2500  0.400476  ... -4297.215  4508.0  210.785\n",
              "2018-01-08 09:37:24  110.185  40.2100  0.433836  ...    -0.000     0.0  210.785\n",
              "2018-01-08 09:37:30  110.185  40.2250  0.422939  ...    -0.000     0.0  210.785\n",
              "2018-01-08 09:37:36  110.180  40.2000  0.397516  ...    -0.000     0.0  210.785\n",
              "2018-01-08 09:37:42  110.180  40.2000  0.381835  ...    -0.000     0.0  210.785\n",
              "...                      ...      ...       ...  ...       ...     ...      ...\n",
              "2018-01-08 15:59:36  110.020  40.7000  0.008879  ...    -0.000     0.0  174.941\n",
              "2018-01-08 15:59:42  110.020  40.6900  0.031622  ...    -0.000     0.0  174.941\n",
              "2018-01-08 15:59:48  110.030  40.6905  0.045329  ...    -0.000     0.0  174.941\n",
              "2018-01-08 15:59:54  110.025  40.7500  0.027294  ...    -0.000     0.0  174.941\n",
              "2018-01-08 16:00:00  110.000  40.7700 -0.010227  ...    -0.000     0.0  174.941\n",
              "\n",
              "[3828 rows x 10 columns]"
            ]
          },
          "metadata": {
            "tags": []
          },
          "execution_count": 111
        }
      ]
    },
    {
      "cell_type": "markdown",
      "metadata": {
        "id": "_O3j7EwO4oPR",
        "colab_type": "text"
      },
      "source": [
        "From the previous results, we can check that without considering trading costs, the strategy learned by the agent is p´rofitable: we started with 0.00 capital and ended up with 174.94.\n",
        "\n",
        "Now let's consider costs. We believe that 50 bps per transaction would cover transaction costs in developed markets"
      ]
    },
    {
      "cell_type": "code",
      "metadata": {
        "id": "Yr4o4dbL9zPA",
        "colab_type": "code",
        "colab": {
          "base_uri": "https://localhost:8080/",
          "height": 34
        },
        "outputId": "c3339e6c-5d40-4562-e037-117f1e77dcca"
      },
      "source": [
        "tsb['cash'].max()"
      ],
      "execution_count": null,
      "outputs": [
        {
          "output_type": "execute_result",
          "data": {
            "text/plain": [
              "238.08299999999144"
            ]
          },
          "metadata": {
            "tags": []
          },
          "execution_count": 112
        }
      ]
    },
    {
      "cell_type": "code",
      "metadata": {
        "id": "FsWJ-x2Clv5i",
        "colab_type": "code",
        "colab": {}
      },
      "source": [
        " # save the result to a pickle file\n",
        "RES_DATA_FILENAME='./data/cpyML-11c_tsb.pkl'\n",
        "tsb.to_pickle(RES_DATA_FILENAME) "
      ],
      "execution_count": null,
      "outputs": []
    },
    {
      "cell_type": "code",
      "metadata": {
        "id": "_QeP9Gu36Oa5",
        "colab_type": "code",
        "colab": {
          "base_uri": "https://localhost:8080/",
          "height": 691
        },
        "outputId": "bd46a23b-a824-4803-b13f-3e9886bc427f"
      },
      "source": [
        "# Backtesting (with trading costs)\n",
        "\n",
        "# Define initial value\n",
        "initial_capital = float(0.0)\n",
        "\n",
        "N1 = pair[0]\n",
        "N2 = pair[1]\n",
        "\n",
        "# Define number of shares for each stock\n",
        "qS1 = np.round(np.mean(S2))\n",
        "qS2 = np.round(np.mean(S1))\n",
        "\n",
        "# Store the amount of positions for the portfolio\n",
        "tsb['dis_{}'.format(N1)] = (tsb['order'].multiply(tsb[N1]*-qS1, axis=0))\n",
        "tsb['dis_{}'.format(N2)] = (tsb['order'].multiply(tsb[N2]*qS2, axis=0))\n",
        "\n",
        "# Compute cost\n",
        "cost = 50*0.0001 # 50bps per transaction\n",
        "tsb['cost_{}'.format(N1)] = float(0.0)\n",
        "tsb['cost_{}'.format(N2)] = float(0.0)\n",
        "\n",
        "for i in range(len(tsb)):\n",
        "  if tsb['order'][i] > 0:\n",
        "    tsb['cost_{}'.format(N1)][i] = tsb['order'][i]*tsb[N1][i]*-qS1*(cost)\n",
        "    tsb['cost_{}'.format(N2)][i] = tsb['order'][i]*tsb[N2][i]*qS2*(-cost) \n",
        "  elif tsb['order'][i] < 0:\n",
        "    tsb['cost_{}'.format(N1)][i] = tsb['order'][i]*tsb[N1][i]*-qS1*(-cost)\n",
        "    tsb['cost_{}'.format(N2)][i] = tsb['order'][i]*tsb[N2][i]*qS2*(cost)\n",
        "\n",
        "# Calculate the non-invested money (cash)\n",
        "tsb['cash'] = initial_capital + (tsb['dis_{}'.format(N1)]+tsb['dis_{}'.format(N2)]+tsb['cost_{}'.format(N1)]+tsb['cost_{}'.format(N2)]).cumsum()\n",
        "\n",
        "\n",
        "# Print the ledger\n",
        "tsb"
      ],
      "execution_count": null,
      "outputs": [
        {
          "output_type": "stream",
          "text": [
            "/usr/local/lib/python3.6/dist-packages/ipykernel_launcher.py:24: SettingWithCopyWarning: \n",
            "A value is trying to be set on a copy of a slice from a DataFrame\n",
            "\n",
            "See the caveats in the documentation: https://pandas.pydata.org/pandas-docs/stable/user_guide/indexing.html#returning-a-view-versus-a-copy\n",
            "/usr/local/lib/python3.6/dist-packages/ipykernel_launcher.py:25: SettingWithCopyWarning: \n",
            "A value is trying to be set on a copy of a slice from a DataFrame\n",
            "\n",
            "See the caveats in the documentation: https://pandas.pydata.org/pandas-docs/stable/user_guide/indexing.html#returning-a-view-versus-a-copy\n",
            "/usr/local/lib/python3.6/dist-packages/ipykernel_launcher.py:27: SettingWithCopyWarning: \n",
            "A value is trying to be set on a copy of a slice from a DataFrame\n",
            "\n",
            "See the caveats in the documentation: https://pandas.pydata.org/pandas-docs/stable/user_guide/indexing.html#returning-a-view-versus-a-copy\n",
            "/usr/local/lib/python3.6/dist-packages/ipykernel_launcher.py:28: SettingWithCopyWarning: \n",
            "A value is trying to be set on a copy of a slice from a DataFrame\n",
            "\n",
            "See the caveats in the documentation: https://pandas.pydata.org/pandas-docs/stable/user_guide/indexing.html#returning-a-view-versus-a-copy\n"
          ],
          "name": "stderr"
        },
        {
          "output_type": "execute_result",
          "data": {
            "text/html": [
              "<div>\n",
              "<style scoped>\n",
              "    .dataframe tbody tr th:only-of-type {\n",
              "        vertical-align: middle;\n",
              "    }\n",
              "\n",
              "    .dataframe tbody tr th {\n",
              "        vertical-align: top;\n",
              "    }\n",
              "\n",
              "    .dataframe thead th {\n",
              "        text-align: right;\n",
              "    }\n",
              "</style>\n",
              "<table border=\"1\" class=\"dataframe\">\n",
              "  <thead>\n",
              "    <tr style=\"text-align: right;\">\n",
              "      <th></th>\n",
              "      <th>DIS</th>\n",
              "      <th>SQ</th>\n",
              "      <th>Zscore</th>\n",
              "      <th>signal</th>\n",
              "      <th>order</th>\n",
              "      <th>cost_DIS</th>\n",
              "      <th>cost_SQ</th>\n",
              "      <th>dis_DIS</th>\n",
              "      <th>dis_SQ</th>\n",
              "      <th>cash</th>\n",
              "    </tr>\n",
              "  </thead>\n",
              "  <tbody>\n",
              "    <tr>\n",
              "      <th>2018-01-08 09:37:18</th>\n",
              "      <td>110.185</td>\n",
              "      <td>40.2500</td>\n",
              "      <td>0.400476</td>\n",
              "      <td>1.0</td>\n",
              "      <td>1</td>\n",
              "      <td>-21.486075</td>\n",
              "      <td>-22.54</td>\n",
              "      <td>-4297.215</td>\n",
              "      <td>4508.0</td>\n",
              "      <td>166.758925</td>\n",
              "    </tr>\n",
              "    <tr>\n",
              "      <th>2018-01-08 09:37:24</th>\n",
              "      <td>110.185</td>\n",
              "      <td>40.2100</td>\n",
              "      <td>0.433836</td>\n",
              "      <td>1.0</td>\n",
              "      <td>0</td>\n",
              "      <td>0.000000</td>\n",
              "      <td>0.00</td>\n",
              "      <td>-0.000</td>\n",
              "      <td>0.0</td>\n",
              "      <td>166.758925</td>\n",
              "    </tr>\n",
              "    <tr>\n",
              "      <th>2018-01-08 09:37:30</th>\n",
              "      <td>110.185</td>\n",
              "      <td>40.2250</td>\n",
              "      <td>0.422939</td>\n",
              "      <td>1.0</td>\n",
              "      <td>0</td>\n",
              "      <td>0.000000</td>\n",
              "      <td>0.00</td>\n",
              "      <td>-0.000</td>\n",
              "      <td>0.0</td>\n",
              "      <td>166.758925</td>\n",
              "    </tr>\n",
              "    <tr>\n",
              "      <th>2018-01-08 09:37:36</th>\n",
              "      <td>110.180</td>\n",
              "      <td>40.2000</td>\n",
              "      <td>0.397516</td>\n",
              "      <td>1.0</td>\n",
              "      <td>0</td>\n",
              "      <td>0.000000</td>\n",
              "      <td>0.00</td>\n",
              "      <td>-0.000</td>\n",
              "      <td>0.0</td>\n",
              "      <td>166.758925</td>\n",
              "    </tr>\n",
              "    <tr>\n",
              "      <th>2018-01-08 09:37:42</th>\n",
              "      <td>110.180</td>\n",
              "      <td>40.2000</td>\n",
              "      <td>0.381835</td>\n",
              "      <td>1.0</td>\n",
              "      <td>0</td>\n",
              "      <td>0.000000</td>\n",
              "      <td>0.00</td>\n",
              "      <td>-0.000</td>\n",
              "      <td>0.0</td>\n",
              "      <td>166.758925</td>\n",
              "    </tr>\n",
              "    <tr>\n",
              "      <th>...</th>\n",
              "      <td>...</td>\n",
              "      <td>...</td>\n",
              "      <td>...</td>\n",
              "      <td>...</td>\n",
              "      <td>...</td>\n",
              "      <td>...</td>\n",
              "      <td>...</td>\n",
              "      <td>...</td>\n",
              "      <td>...</td>\n",
              "      <td>...</td>\n",
              "    </tr>\n",
              "    <tr>\n",
              "      <th>2018-01-08 15:59:36</th>\n",
              "      <td>110.020</td>\n",
              "      <td>40.7000</td>\n",
              "      <td>0.008879</td>\n",
              "      <td>1.0</td>\n",
              "      <td>0</td>\n",
              "      <td>0.000000</td>\n",
              "      <td>0.00</td>\n",
              "      <td>-0.000</td>\n",
              "      <td>0.0</td>\n",
              "      <td>-24432.890910</td>\n",
              "    </tr>\n",
              "    <tr>\n",
              "      <th>2018-01-08 15:59:42</th>\n",
              "      <td>110.020</td>\n",
              "      <td>40.6900</td>\n",
              "      <td>0.031622</td>\n",
              "      <td>1.0</td>\n",
              "      <td>0</td>\n",
              "      <td>0.000000</td>\n",
              "      <td>0.00</td>\n",
              "      <td>-0.000</td>\n",
              "      <td>0.0</td>\n",
              "      <td>-24432.890910</td>\n",
              "    </tr>\n",
              "    <tr>\n",
              "      <th>2018-01-08 15:59:48</th>\n",
              "      <td>110.030</td>\n",
              "      <td>40.6905</td>\n",
              "      <td>0.045329</td>\n",
              "      <td>1.0</td>\n",
              "      <td>0</td>\n",
              "      <td>0.000000</td>\n",
              "      <td>0.00</td>\n",
              "      <td>-0.000</td>\n",
              "      <td>0.0</td>\n",
              "      <td>-24432.890910</td>\n",
              "    </tr>\n",
              "    <tr>\n",
              "      <th>2018-01-08 15:59:54</th>\n",
              "      <td>110.025</td>\n",
              "      <td>40.7500</td>\n",
              "      <td>0.027294</td>\n",
              "      <td>1.0</td>\n",
              "      <td>0</td>\n",
              "      <td>0.000000</td>\n",
              "      <td>0.00</td>\n",
              "      <td>-0.000</td>\n",
              "      <td>0.0</td>\n",
              "      <td>-24432.890910</td>\n",
              "    </tr>\n",
              "    <tr>\n",
              "      <th>2018-01-08 16:00:00</th>\n",
              "      <td>110.000</td>\n",
              "      <td>40.7700</td>\n",
              "      <td>-0.010227</td>\n",
              "      <td>1.0</td>\n",
              "      <td>0</td>\n",
              "      <td>0.000000</td>\n",
              "      <td>0.00</td>\n",
              "      <td>-0.000</td>\n",
              "      <td>0.0</td>\n",
              "      <td>-24432.890910</td>\n",
              "    </tr>\n",
              "  </tbody>\n",
              "</table>\n",
              "<p>3828 rows × 10 columns</p>\n",
              "</div>"
            ],
            "text/plain": [
              "                         DIS       SQ    Zscore  ...   dis_DIS  dis_SQ          cash\n",
              "2018-01-08 09:37:18  110.185  40.2500  0.400476  ... -4297.215  4508.0    166.758925\n",
              "2018-01-08 09:37:24  110.185  40.2100  0.433836  ...    -0.000     0.0    166.758925\n",
              "2018-01-08 09:37:30  110.185  40.2250  0.422939  ...    -0.000     0.0    166.758925\n",
              "2018-01-08 09:37:36  110.180  40.2000  0.397516  ...    -0.000     0.0    166.758925\n",
              "2018-01-08 09:37:42  110.180  40.2000  0.381835  ...    -0.000     0.0    166.758925\n",
              "...                      ...      ...       ...  ...       ...     ...           ...\n",
              "2018-01-08 15:59:36  110.020  40.7000  0.008879  ...    -0.000     0.0 -24432.890910\n",
              "2018-01-08 15:59:42  110.020  40.6900  0.031622  ...    -0.000     0.0 -24432.890910\n",
              "2018-01-08 15:59:48  110.030  40.6905  0.045329  ...    -0.000     0.0 -24432.890910\n",
              "2018-01-08 15:59:54  110.025  40.7500  0.027294  ...    -0.000     0.0 -24432.890910\n",
              "2018-01-08 16:00:00  110.000  40.7700 -0.010227  ...    -0.000     0.0 -24432.890910\n",
              "\n",
              "[3828 rows x 10 columns]"
            ]
          },
          "metadata": {
            "tags": []
          },
          "execution_count": 109
        }
      ]
    },
    {
      "cell_type": "code",
      "metadata": {
        "id": "cs7bAxYG_HgC",
        "colab_type": "code",
        "colab": {
          "base_uri": "https://localhost:8080/",
          "height": 34
        },
        "outputId": "9b689229-722f-4b06-8c15-855da721f59e"
      },
      "source": [
        "tsb['cash'].max()"
      ],
      "execution_count": null,
      "outputs": [
        {
          "output_type": "execute_result",
          "data": {
            "text/plain": [
              "201.97978499999985"
            ]
          },
          "metadata": {
            "tags": []
          },
          "execution_count": 107
        }
      ]
    },
    {
      "cell_type": "markdown",
      "metadata": {
        "id": "adZAN1Zg5MTO",
        "colab_type": "text"
      },
      "source": [
        "From the previous results, it is clear that the strategy is far from profitable when considering trading costs. However, we can also check that if an exit trigger exists, the strategy could be profitable by ending up sooner."
      ]
    },
    {
      "cell_type": "markdown",
      "metadata": {
        "id": "P8gb_BcV5kbd",
        "colab_type": "text"
      },
      "source": [
        "## 6. Conclusion"
      ]
    },
    {
      "cell_type": "markdown",
      "metadata": {
        "id": "mNoFCJuQ5oEp",
        "colab_type": "text"
      },
      "source": [
        "In this analysis, we deployed two Machine Learning algorithms to approach a very known trade strategy, Pairs Trading. First, we use an RNN to predict 15 timesteps ahead of the pair's spread. Then we trained an RL agent to learn our trading strategy which was based on the Z-Score behavior of the spread.\n",
        "\n",
        "In the end, we realized that the agent learned quite well our trading strategy, but the same strategy is not profitable without a return-driven signal when accounting trading costs."
      ]
    }
  ]
}